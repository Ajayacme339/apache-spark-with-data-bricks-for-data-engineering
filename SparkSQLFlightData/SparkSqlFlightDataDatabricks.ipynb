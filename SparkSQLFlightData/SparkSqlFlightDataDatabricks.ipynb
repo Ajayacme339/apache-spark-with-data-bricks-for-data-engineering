{
 "cells": [
  {
   "cell_type": "markdown",
   "metadata": {
    "application/vnd.databricks.v1+cell": {
     "cellMetadata": {
      "byteLimit": 2048000,
      "rowLimit": 10000
     },
     "inputWidgets": {},
     "nuid": "55fa156a-d786-4d46-91d4-2258a9edf3ba",
     "showTitle": false,
     "title": ""
    }
   },
   "source": [
    "<span style=\"color:blue\">\n",
    "Initialize sparkSession and import pyspark.sql library,import pyspark.sql functions.Read 2015_summart.csv file and store it in dataframe. Display first 5 records from Dataframe"
   ]
  },
  {
   "cell_type": "code",
   "execution_count": 0,
   "metadata": {
    "application/vnd.databricks.v1+cell": {
     "cellMetadata": {
      "byteLimit": 2048000,
      "implicitDf": true,
      "rowLimit": 10000
     },
     "inputWidgets": {},
     "nuid": "67fe8939-c648-4ae5-acb6-5230e08f560f",
     "showTitle": false,
     "title": ""
    }
   },
   "outputs": [
    {
     "output_type": "stream",
     "name": "stdout",
     "output_type": "stream",
     "text": [
      "+-----------------+-------------------+-----+\n|DEST_COUNTRY_NAME|ORIGIN_COUNTRY_NAME|count|\n+-----------------+-------------------+-----+\n|    United States|            Romania|   15|\n|    United States|            Croatia|    1|\n|    United States|            Ireland|  344|\n|            Egypt|      United States|   15|\n|    United States|              India|   62|\n+-----------------+-------------------+-----+\nonly showing top 5 rows\n\n"
     ]
    }
   ],
   "source": [
    "from pyspark.sql import SparkSession\n",
    "from pyspark.sql.types import *\n",
    "from pyspark.sql import functions as F\n",
    "flight = spark.read.format(\"CSV\").option(\"header\",\"true\").load(\"dbfs:/FileStore/shared_uploads/ajayacme04@gmail.com/2015_summary.csv\")\n",
    "flight.show(5)\n",
    "#flight.describe().show()"
   ]
  },
  {
   "cell_type": "markdown",
   "metadata": {
    "application/vnd.databricks.v1+cell": {
     "cellMetadata": {
      "byteLimit": 2048000,
      "rowLimit": 10000
     },
     "inputWidgets": {},
     "nuid": "28734a61-430d-44d8-abe8-3330555ccd39",
     "showTitle": false,
     "title": ""
    }
   },
   "source": [
    "<span style=\"color:blue\">\n",
    "Use Describe function to display information on stats(Min,Max,Count,stddev) on flight dataframe "
   ]
  },
  {
   "cell_type": "code",
   "execution_count": 0,
   "metadata": {
    "application/vnd.databricks.v1+cell": {
     "cellMetadata": {
      "byteLimit": 2048000,
      "rowLimit": 10000
     },
     "inputWidgets": {},
     "nuid": "6569bf8f-4d3d-4bff-8a27-c85b60515145",
     "showTitle": false,
     "title": ""
    }
   },
   "outputs": [
    {
     "output_type": "stream",
     "name": "stdout",
     "output_type": "stream",
     "text": [
      "+-------+-----------------+-------------------+------------------+\n|summary|DEST_COUNTRY_NAME|ORIGIN_COUNTRY_NAME|             count|\n+-------+-----------------+-------------------+------------------+\n|  count|              256|                256|               256|\n|   mean|             null|               null|       1770.765625|\n| stddev|             null|               null|23126.516918551915|\n|    min|          Algeria|             Angola|                 1|\n|    max|           Zambia|            Vietnam|               986|\n+-------+-----------------+-------------------+------------------+\n\n"
     ]
    }
   ],
   "source": [
    "flight.describe().show()"
   ]
  },
  {
   "cell_type": "markdown",
   "metadata": {
    "application/vnd.databricks.v1+cell": {
     "cellMetadata": {
      "byteLimit": 2048000,
      "rowLimit": 10000
     },
     "inputWidgets": {},
     "nuid": "294a389f-de7c-4635-962b-9877c6b9448a",
     "showTitle": false,
     "title": ""
    }
   },
   "source": [
    "<span style=\"color:blue\">\n",
    "Register Dataframe as Views and use spark sql to run sql queries on flight_view"
   ]
  },
  {
   "cell_type": "code",
   "execution_count": 0,
   "metadata": {
    "application/vnd.databricks.v1+cell": {
     "cellMetadata": {
      "byteLimit": 2048000,
      "rowLimit": 10000
     },
     "inputWidgets": {},
     "nuid": "cc0996a4-21f4-4f08-9505-b41b0f5ecd52",
     "showTitle": false,
     "title": ""
    }
   },
   "outputs": [
    {
     "output_type": "stream",
     "name": "stdout",
     "output_type": "stream",
     "text": [
      "+-----------------+-------------------+-----+\n|DEST_COUNTRY_NAME|ORIGIN_COUNTRY_NAME|count|\n+-----------------+-------------------+-----+\n|    United States|              India|   62|\n+-----------------+-------------------+-----+\n\n"
     ]
    }
   ],
   "source": [
    "flight.createOrReplaceTempView(\"flight_view\")\n",
    "spark.sql(\"select * from flight_view where DEST_COUNTRY_NAME = 'United States' AND ORIGIN_COUNTRY_NAME = 'India';\" ).show()"
   ]
  },
  {
   "cell_type": "markdown",
   "metadata": {
    "application/vnd.databricks.v1+cell": {
     "cellMetadata": {
      "byteLimit": 2048000,
      "rowLimit": 10000
     },
     "inputWidgets": {},
     "nuid": "15b379e7-4f83-47f6-b770-3c42f51cb4f6",
     "showTitle": false,
     "title": ""
    }
   },
   "source": [
    "<span style=\"color:blue\">\n",
    "Read 2015_summary.json file and load it to flight_json dataframe .Register flight_json dataframe as view and run spark sql Query"
   ]
  },
  {
   "cell_type": "code",
   "execution_count": 0,
   "metadata": {
    "application/vnd.databricks.v1+cell": {
     "cellMetadata": {
      "byteLimit": 2048000,
      "rowLimit": 10000
     },
     "inputWidgets": {},
     "nuid": "11a02d02-eb46-408e-9244-03bb3a4f17ee",
     "showTitle": false,
     "title": ""
    }
   },
   "outputs": [
    {
     "output_type": "stream",
     "name": "stdout",
     "output_type": "stream",
     "text": [
      "+-----------------+-------------------+-----+\n|DEST_COUNTRY_NAME|ORIGIN_COUNTRY_NAME|count|\n+-----------------+-------------------+-----+\n|    United States|            Romania|   15|\n|    United States|            Croatia|    1|\n|    United States|            Ireland|  344|\n|            Egypt|      United States|   15|\n|    United States|              India|   62|\n+-----------------+-------------------+-----+\nonly showing top 5 rows\n\n+-----------------+-------------------+-----+\n|DEST_COUNTRY_NAME|ORIGIN_COUNTRY_NAME|count|\n+-----------------+-------------------+-----+\n|    United States|              India|   62|\n+-----------------+-------------------+-----+\n\n"
     ]
    }
   ],
   "source": [
    "flight_json = spark.read.format(\"json\").load(\"dbfs:/FileStore/shared_uploads/ajayacme04@gmail.com/2015_summary.json\")\n",
    "flight_json.show(5)\n",
    "flight_json.createOrReplaceTempView(\"Flight_JSON_View\")\n",
    "spark.sql(\"select * from Flight_JSON_View where DEST_COUNTRY_NAME = 'United States' AND ORIGIN_COUNTRY_NAME = 'India';\" ).show()"
   ]
  },
  {
   "cell_type": "markdown",
   "metadata": {
    "application/vnd.databricks.v1+cell": {
     "cellMetadata": {
      "byteLimit": 2048000,
      "rowLimit": 10000
     },
     "inputWidgets": {},
     "nuid": "dec3d028-57d1-488b-90cd-e40abe5eaf1c",
     "showTitle": false,
     "title": ""
    }
   },
   "source": [
    "<span style=\"color:blue\">\n",
    "Reading a Parquet File and storing it in datafarame .Find datatype of flight_parquet dataframe"
   ]
  },
  {
   "cell_type": "code",
   "execution_count": 0,
   "metadata": {
    "application/vnd.databricks.v1+cell": {
     "cellMetadata": {
      "byteLimit": 2048000,
      "rowLimit": 10000
     },
     "inputWidgets": {},
     "nuid": "a7333c01-5003-4c70-8ab8-a56a8b0a3964",
     "showTitle": false,
     "title": ""
    }
   },
   "outputs": [
    {
     "output_type": "stream",
     "name": "stdout",
     "output_type": "stream",
     "text": [
      "+-----------------+-------------------+-----+\n|DEST_COUNTRY_NAME|ORIGIN_COUNTRY_NAME|count|\n+-----------------+-------------------+-----+\n|    United States|            Romania|    1|\n|    United States|            Ireland|  264|\n|    United States|              India|   69|\n|            Egypt|      United States|   24|\n|Equatorial Guinea|      United States|    1|\n+-----------------+-------------------+-----+\nonly showing top 5 rows\n\nOut[54]: [('DEST_COUNTRY_NAME', 'string'),\n ('ORIGIN_COUNTRY_NAME', 'string'),\n ('count', 'bigint')]"
     ]
    }
   ],
   "source": [
    "flight_parquet = spark.read.parquet(\"dbfs:/FileStore/shared_uploads/ajayacme04@gmail.com/part_r_00000_1a9822ba_b8fb_4d8e_844a_ea30d0801b9e_gz__1_.parquet\")\n",
    "flight_parquet.show(5)\n",
    "flight_parquet.dtypes"
   ]
  },
  {
   "cell_type": "markdown",
   "metadata": {
    "application/vnd.databricks.v1+cell": {
     "cellMetadata": {
      "byteLimit": 2048000,
      "rowLimit": 10000
     },
     "inputWidgets": {},
     "nuid": "8ee3f64f-54fe-4949-ba43-e5b3b27a9d3b",
     "showTitle": false,
     "title": ""
    }
   },
   "source": [
    "<span style=\"color:blue\">\n",
    "Filter and transform data in sparksql."
   ]
  },
  {
   "cell_type": "code",
   "execution_count": 0,
   "metadata": {
    "application/vnd.databricks.v1+cell": {
     "cellMetadata": {
      "byteLimit": 2048000,
      "rowLimit": 10000
     },
     "inputWidgets": {},
     "nuid": "ce4c0d2b-d823-47be-9c39-c36e1c567224",
     "showTitle": false,
     "title": ""
    }
   },
   "outputs": [
    {
     "output_type": "stream",
     "name": "stdout",
     "output_type": "stream",
     "text": [
      "Out[55]: 12"
     ]
    }
   ],
   "source": [
    "#spark.sql(\"select * from flight_view;\").where(\"DEST_COUNTRY_NAME like 'U%';\").where(\"SUM(count) > 5;\").show()\n",
    "spark.sql(\"\"\"\n",
    "SELECT DEST_COUNTRY_NAME, sum(count)\n",
    "FROM flight_view GROUP BY DEST_COUNTRY_NAME\n",
    "\"\"\")\\\n",
    ".where(\"DEST_COUNTRY_NAME like 'S%'\").where(\"`sum(count)` > 10\")\\\n",
    ".count()"
   ]
  },
  {
   "cell_type": "code",
   "execution_count": 0,
   "metadata": {
    "application/vnd.databricks.v1+cell": {
     "cellMetadata": {
      "byteLimit": 2048000,
      "rowLimit": 10000
     },
     "inputWidgets": {},
     "nuid": "887c4b7d-a7f0-4679-acd2-7bc8222c5a3d",
     "showTitle": false,
     "title": ""
    }
   },
   "outputs": [
    {
     "output_type": "stream",
     "name": "stdout",
     "output_type": "stream",
     "text": [
      "+--------------------+----------+\n|   DEST_COUNTRY_NAME|sum(count)|\n+--------------------+----------+\n|             Senegal|      40.0|\n|              Sweden|     118.0|\n|               Spain|     420.0|\n|    Saint Barthelemy|      39.0|\n|Saint Kitts and N...|     139.0|\n|         South Korea|    1048.0|\n|        Sint Maarten|     325.0|\n|        Saudi Arabia|      83.0|\n|         Switzerland|     294.0|\n|         Saint Lucia|     123.0|\n|               Samoa|      25.0|\n|        South Africa|      36.0|\n+--------------------+----------+\n\n"
     ]
    }
   ],
   "source": [
    "spark.sql(\"\"\"\n",
    "SELECT DEST_COUNTRY_NAME, sum(count)\n",
    "FROM flight_view GROUP BY DEST_COUNTRY_NAME\n",
    "\"\"\")\\\n",
    ".where(\"DEST_COUNTRY_NAME like 'S%'\").where(\"`sum(count)` > 10\")\\\n",
    ".show()"
   ]
  },
  {
   "cell_type": "code",
   "execution_count": 0,
   "metadata": {
    "application/vnd.databricks.v1+cell": {
     "cellMetadata": {
      "byteLimit": 2048000,
      "rowLimit": 10000
     },
     "inputWidgets": {},
     "nuid": "6cefacf7-6dc3-476a-9471-419c386fa04b",
     "showTitle": false,
     "title": ""
    }
   },
   "outputs": [
    {
     "output_type": "stream",
     "name": "stdout",
     "output_type": "stream",
     "text": [
      "+-----------------+----------+\n|DEST_COUNTRY_NAME|sum(count)|\n+-----------------+----------+\n|            India|      61.0|\n|            Italy|     382.0|\n|          Ireland|     335.0|\n|          Iceland|     181.0|\n|           Israel|     134.0|\n+-----------------+----------+\n\n"
     ]
    }
   ],
   "source": [
    "spark.sql(\"\"\"\n",
    "SELECT DEST_COUNTRY_NAME, sum(count)\n",
    "FROM flight_view GROUP BY DEST_COUNTRY_NAME\n",
    "\"\"\")\\\n",
    ".where(\"DEST_COUNTRY_NAME like 'I%'\").where(\"`sum(count)` > 10\")\\\n",
    ".show()"
   ]
  },
  {
   "cell_type": "markdown",
   "metadata": {
    "application/vnd.databricks.v1+cell": {
     "cellMetadata": {
      "byteLimit": 2048000,
      "rowLimit": 10000
     },
     "inputWidgets": {},
     "nuid": "26de4ff2-0fb7-4f55-b4c2-d6ad6dac88a9",
     "showTitle": false,
     "title": ""
    }
   },
   "source": [
    "<span style=\"color:blue\">\n",
    "Creating a Unmanaged Spark SQL table using CSV file."
   ]
  },
  {
   "cell_type": "code",
   "execution_count": 0,
   "metadata": {
    "application/vnd.databricks.v1+cell": {
     "cellMetadata": {
      "byteLimit": 2048000,
      "implicitDf": true,
      "rowLimit": 10000
     },
     "inputWidgets": {},
     "nuid": "0b70ee4b-d199-4108-a3ff-e6cb1cdfe4e4",
     "showTitle": false,
     "title": ""
    }
   },
   "outputs": [
    {
     "output_type": "display_data",
     "data": {
      "text/html": [
       "<style scoped>\n",
       "  .table-result-container {\n",
       "    max-height: 300px;\n",
       "    overflow: auto;\n",
       "  }\n",
       "  table, th, td {\n",
       "    border: 1px solid black;\n",
       "    border-collapse: collapse;\n",
       "  }\n",
       "  th, td {\n",
       "    padding: 5px;\n",
       "  }\n",
       "  th {\n",
       "    text-align: left;\n",
       "  }\n",
       "</style><div class='table-result-container'><table class='table-result'><thead style='background-color: white'><tr></tr></thead><tbody></tbody></table></div>"
      ]
     },
     "metadata": {
      "application/vnd.databricks.v1+output": {
       "addedWidgets": {},
       "aggData": [],
       "aggError": "",
       "aggOverflow": false,
       "aggSchema": [],
       "aggSeriesLimitReached": false,
       "aggType": "",
       "arguments": {},
       "columnCustomDisplayInfos": {},
       "data": [],
       "datasetInfos": [],
       "dbfsResultPath": null,
       "isJsonSchema": true,
       "metadata": {},
       "overflow": false,
       "plotOptions": {
        "customPlotOptions": {},
        "displayType": "table",
        "pivotAggregation": null,
        "pivotColumns": null,
        "xColumns": null,
        "yColumns": null
       },
       "removedWidgets": [],
       "schema": [],
       "type": "table"
      }
     },
     "output_type": "display_data"
    }
   ],
   "source": [
    "%sql\n",
    "CREATE TABLE flights_csv2 (\n",
    "  DEST_COUNTRY_NAME STRING,\n",
    "  ORIGIN_COUNTRY_NAME STRING COMMENT \"remember, the US will be most prevalent\",\n",
    "  count LONG\n",
    ") USING csv OPTIONS (\n",
    "  header true,\n",
    "  path \"dbfs:/FileStore/shared_uploads/ajayacme04@gmail.com/2015_summary.csv\"\n",
    ")"
   ]
  },
  {
   "cell_type": "code",
   "execution_count": 0,
   "metadata": {
    "application/vnd.databricks.v1+cell": {
     "cellMetadata": {
      "byteLimit": 2048000,
      "implicitDf": true,
      "rowLimit": 10000
     },
     "inputWidgets": {},
     "nuid": "8623e2b2-f243-435a-9e59-969f588667ee",
     "showTitle": false,
     "title": ""
    }
   },
   "outputs": [
    {
     "output_type": "display_data",
     "data": {
      "text/html": [
       "<style scoped>\n",
       "  .table-result-container {\n",
       "    max-height: 300px;\n",
       "    overflow: auto;\n",
       "  }\n",
       "  table, th, td {\n",
       "    border: 1px solid black;\n",
       "    border-collapse: collapse;\n",
       "  }\n",
       "  th, td {\n",
       "    padding: 5px;\n",
       "  }\n",
       "  th {\n",
       "    text-align: left;\n",
       "  }\n",
       "</style><div class='table-result-container'><table class='table-result'><thead style='background-color: white'><tr><th>DEST_COUNTRY_NAME</th><th>ORIGIN_COUNTRY_NAME</th><th>count</th></tr></thead><tbody><tr><td>United States</td><td>Romania</td><td>15</td></tr><tr><td>United States</td><td>Croatia</td><td>1</td></tr><tr><td>United States</td><td>Ireland</td><td>344</td></tr><tr><td>Egypt</td><td>United States</td><td>15</td></tr><tr><td>United States</td><td>India</td><td>62</td></tr><tr><td>United States</td><td>Singapore</td><td>1</td></tr><tr><td>United States</td><td>Grenada</td><td>62</td></tr><tr><td>Costa Rica</td><td>United States</td><td>588</td></tr><tr><td>Senegal</td><td>United States</td><td>40</td></tr><tr><td>Moldova</td><td>United States</td><td>1</td></tr><tr><td>United States</td><td>Sint Maarten</td><td>325</td></tr><tr><td>United States</td><td>Marshall Islands</td><td>39</td></tr><tr><td>Guyana</td><td>United States</td><td>64</td></tr><tr><td>Malta</td><td>United States</td><td>1</td></tr><tr><td>Anguilla</td><td>United States</td><td>41</td></tr><tr><td>Bolivia</td><td>United States</td><td>30</td></tr><tr><td>United States</td><td>Paraguay</td><td>6</td></tr><tr><td>Algeria</td><td>United States</td><td>4</td></tr><tr><td>Turks and Caicos Islands</td><td>United States</td><td>230</td></tr><tr><td>United States</td><td>Gibraltar</td><td>1</td></tr><tr><td>Saint Vincent and the Grenadines</td><td>United States</td><td>1</td></tr><tr><td>Italy</td><td>United States</td><td>382</td></tr><tr><td>United States</td><td>Federated States of Micronesia</td><td>69</td></tr><tr><td>United States</td><td>Russia</td><td>161</td></tr><tr><td>Pakistan</td><td>United States</td><td>12</td></tr><tr><td>United States</td><td>Netherlands</td><td>660</td></tr><tr><td>Iceland</td><td>United States</td><td>181</td></tr><tr><td>Marshall Islands</td><td>United States</td><td>42</td></tr><tr><td>Luxembourg</td><td>United States</td><td>155</td></tr><tr><td>Honduras</td><td>United States</td><td>362</td></tr><tr><td>The Bahamas</td><td>United States</td><td>955</td></tr><tr><td>United States</td><td>Senegal</td><td>42</td></tr><tr><td>El Salvador</td><td>United States</td><td>561</td></tr><tr><td>Samoa</td><td>United States</td><td>25</td></tr><tr><td>United States</td><td>Angola</td><td>13</td></tr><tr><td>Switzerland</td><td>United States</td><td>294</td></tr><tr><td>United States</td><td>Anguilla</td><td>38</td></tr><tr><td>Sint Maarten</td><td>United States</td><td>325</td></tr><tr><td>Hong Kong</td><td>United States</td><td>332</td></tr><tr><td>Trinidad and Tobago</td><td>United States</td><td>211</td></tr><tr><td>Latvia</td><td>United States</td><td>19</td></tr><tr><td>United States</td><td>Ecuador</td><td>300</td></tr><tr><td>Suriname</td><td>United States</td><td>1</td></tr><tr><td>Mexico</td><td>United States</td><td>7140</td></tr><tr><td>United States</td><td>Cyprus</td><td>1</td></tr><tr><td>Ecuador</td><td>United States</td><td>268</td></tr><tr><td>United States</td><td>Portugal</td><td>134</td></tr><tr><td>United States</td><td>Costa Rica</td><td>608</td></tr><tr><td>United States</td><td>Guatemala</td><td>318</td></tr><tr><td>United States</td><td>Suriname</td><td>34</td></tr><tr><td>Colombia</td><td>United States</td><td>873</td></tr><tr><td>United States</td><td>Cape Verde</td><td>14</td></tr><tr><td>United States</td><td>Jamaica</td><td>712</td></tr><tr><td>Norway</td><td>United States</td><td>121</td></tr><tr><td>United States</td><td>Malaysia</td><td>3</td></tr><tr><td>United States</td><td>Morocco</td><td>19</td></tr><tr><td>Thailand</td><td>United States</td><td>3</td></tr><tr><td>United States</td><td>Samoa</td><td>25</td></tr><tr><td>Venezuela</td><td>United States</td><td>290</td></tr><tr><td>United States</td><td>Palau</td><td>31</td></tr><tr><td>United States</td><td>Venezuela</td><td>246</td></tr><tr><td>Panama</td><td>United States</td><td>510</td></tr><tr><td>Antigua and Barbuda</td><td>United States</td><td>126</td></tr><tr><td>United States</td><td>Chile</td><td>185</td></tr><tr><td>Morocco</td><td>United States</td><td>15</td></tr><tr><td>United States</td><td>Finland</td><td>28</td></tr><tr><td>Azerbaijan</td><td>United States</td><td>21</td></tr><tr><td>United States</td><td>Greece</td><td>23</td></tr><tr><td>United States</td><td>The Bahamas</td><td>986</td></tr><tr><td>New Zealand</td><td>United States</td><td>111</td></tr><tr><td>Liberia</td><td>United States</td><td>2</td></tr><tr><td>United States</td><td>Hong Kong</td><td>414</td></tr><tr><td>Hungary</td><td>United States</td><td>2</td></tr><tr><td>United States</td><td>China</td><td>920</td></tr><tr><td>United States</td><td>Vietnam</td><td>2</td></tr><tr><td>Burkina Faso</td><td>United States</td><td>1</td></tr><tr><td>Sweden</td><td>United States</td><td>118</td></tr><tr><td>United States</td><td>Kuwait</td><td>28</td></tr><tr><td>United States</td><td>Dominican Republic</td><td>1420</td></tr><tr><td>United States</td><td>Egypt</td><td>12</td></tr><tr><td>Israel</td><td>United States</td><td>134</td></tr><tr><td>United States</td><td>United States</td><td>370002</td></tr><tr><td>Ethiopia</td><td>United States</td><td>13</td></tr><tr><td>United States</td><td>Luxembourg</td><td>134</td></tr><tr><td>United States</td><td>Poland</td><td>33</td></tr><tr><td>Martinique</td><td>United States</td><td>44</td></tr><tr><td>United States</td><td>Saint Barthelemy</td><td>41</td></tr><tr><td>Saint Barthelemy</td><td>United States</td><td>39</td></tr><tr><td>Barbados</td><td>United States</td><td>154</td></tr><tr><td>United States</td><td>Turkey</td><td>129</td></tr><tr><td>Djibouti</td><td>United States</td><td>1</td></tr><tr><td>United States</td><td>Azerbaijan</td><td>21</td></tr><tr><td>United States</td><td>Estonia</td><td>1</td></tr><tr><td>Germany</td><td>United States</td><td>1468</td></tr><tr><td>United States</td><td>South Korea</td><td>827</td></tr><tr><td>United States</td><td>El Salvador</td><td>508</td></tr><tr><td>Ireland</td><td>United States</td><td>335</td></tr><tr><td>United States</td><td>Hungary</td><td>3</td></tr><tr><td>Zambia</td><td>United States</td><td>1</td></tr><tr><td>Malaysia</td><td>United States</td><td>2</td></tr><tr><td>United States</td><td>Ethiopia</td><td>12</td></tr><tr><td>United States</td><td>Panama</td><td>465</td></tr><tr><td>United States</td><td>Aruba</td><td>342</td></tr><tr><td>United States</td><td>Thailand</td><td>4</td></tr><tr><td>United States</td><td>Turks and Caicos Islands</td><td>236</td></tr><tr><td>Croatia</td><td>United States</td><td>2</td></tr><tr><td>United States</td><td>Pakistan</td><td>12</td></tr><tr><td>Cyprus</td><td>United States</td><td>1</td></tr><tr><td>United States</td><td>Honduras</td><td>407</td></tr><tr><td>Fiji</td><td>United States</td><td>24</td></tr><tr><td>Qatar</td><td>United States</td><td>108</td></tr><tr><td>Saint Kitts and Nevis</td><td>United States</td><td>139</td></tr><tr><td>Kuwait</td><td>United States</td><td>32</td></tr><tr><td>Taiwan</td><td>United States</td><td>266</td></tr><tr><td>Haiti</td><td>United States</td><td>226</td></tr><tr><td>Canada</td><td>United States</td><td>8399</td></tr><tr><td>Federated States of Micronesia</td><td>United States</td><td>69</td></tr><tr><td>United States</td><td>Liberia</td><td>2</td></tr><tr><td>Jamaica</td><td>United States</td><td>666</td></tr><tr><td>United States</td><td>Malta</td><td>2</td></tr><tr><td>Dominican Republic</td><td>United States</td><td>1353</td></tr><tr><td>Japan</td><td>United States</td><td>1548</td></tr><tr><td>United States</td><td>Lithuania</td><td>1</td></tr><tr><td>Finland</td><td>United States</td><td>26</td></tr><tr><td>United States</td><td>Guadeloupe</td><td>59</td></tr><tr><td>United States</td><td>Ukraine</td><td>13</td></tr><tr><td>United States</td><td>France</td><td>952</td></tr><tr><td>United States</td><td>Norway</td><td>115</td></tr><tr><td>Aruba</td><td>United States</td><td>346</td></tr><tr><td>French Guiana</td><td>United States</td><td>5</td></tr><tr><td>United States</td><td>Kiribati</td><td>35</td></tr><tr><td>India</td><td>United States</td><td>61</td></tr><tr><td>British Virgin Islands</td><td>United States</td><td>107</td></tr><tr><td>Brazil</td><td>United States</td><td>853</td></tr><tr><td>United States</td><td>Germany</td><td>1336</td></tr><tr><td>United States</td><td>New Zealand</td><td>74</td></tr><tr><td>French Polynesia</td><td>United States</td><td>43</td></tr><tr><td>United Arab Emirates</td><td>United States</td><td>320</td></tr><tr><td>Singapore</td><td>United States</td><td>3</td></tr><tr><td>United States</td><td>Mexico</td><td>7187</td></tr><tr><td>United States</td><td>Sweden</td><td>119</td></tr><tr><td>Netherlands</td><td>United States</td><td>776</td></tr><tr><td>United States</td><td>Martinique</td><td>43</td></tr><tr><td>United States</td><td>United Arab Emirates</td><td>313</td></tr><tr><td>United States</td><td>Bulgaria</td><td>1</td></tr><tr><td>Denmark</td><td>United States</td><td>153</td></tr><tr><td>China</td><td>United States</td><td>772</td></tr><tr><td>United States</td><td>Nicaragua</td><td>201</td></tr><tr><td>United States</td><td>Philippines</td><td>126</td></tr><tr><td>United States</td><td>Georgia</td><td>1</td></tr><tr><td>United States</td><td>Belgium</td><td>228</td></tr><tr><td>Cayman Islands</td><td>United States</td><td>314</td></tr><tr><td>Argentina</td><td>United States</td><td>180</td></tr><tr><td>Peru</td><td>United States</td><td>279</td></tr><tr><td>South Africa</td><td>United States</td><td>36</td></tr><tr><td>United States</td><td>Iceland</td><td>202</td></tr><tr><td>United States</td><td>Argentina</td><td>141</td></tr><tr><td>Spain</td><td>United States</td><td>420</td></tr><tr><td>Bermuda</td><td>United States</td><td>183</td></tr><tr><td>United States</td><td>Nigeria</td><td>50</td></tr><tr><td>United States</td><td>Austria</td><td>63</td></tr><tr><td>United States</td><td>Bonaire, Sint Eustatius, and Saba</td><td>59</td></tr><tr><td>Kiribati</td><td>United States</td><td>26</td></tr><tr><td>Saudi Arabia</td><td>United States</td><td>83</td></tr><tr><td>Czech Republic</td><td>United States</td><td>13</td></tr><tr><td>United States</td><td>Israel</td><td>127</td></tr><tr><td>Belgium</td><td>United States</td><td>259</td></tr><tr><td>United States</td><td>Saint Lucia</td><td>136</td></tr><tr><td>United States</td><td>Bahrain</td><td>1</td></tr><tr><td>United States</td><td>British Virgin Islands</td><td>80</td></tr><tr><td>Curacao</td><td>United States</td><td>90</td></tr><tr><td>Georgia</td><td>United States</td><td>2</td></tr><tr><td>United States</td><td>Denmark</td><td>152</td></tr><tr><td>United States</td><td>Guyana</td><td>63</td></tr><tr><td>Philippines</td><td>United States</td><td>134</td></tr><tr><td>Grenada</td><td>United States</td><td>53</td></tr><tr><td>Cape Verde</td><td>United States</td><td>20</td></tr><tr><td>Cote d'Ivoire</td><td>United States</td><td>1</td></tr><tr><td>Ukraine</td><td>United States</td><td>14</td></tr><tr><td>United States</td><td>Papua New Guinea</td><td>1</td></tr><tr><td>Russia</td><td>United States</td><td>176</td></tr><tr><td>United States</td><td>Saudi Arabia</td><td>70</td></tr><tr><td>Guatemala</td><td>United States</td><td>397</td></tr><tr><td>Saint Lucia</td><td>United States</td><td>123</td></tr><tr><td>Paraguay</td><td>United States</td><td>60</td></tr><tr><td>United States</td><td>Curacao</td><td>83</td></tr><tr><td>Kosovo</td><td>United States</td><td>1</td></tr><tr><td>United States</td><td>Taiwan</td><td>235</td></tr><tr><td>Tunisia</td><td>United States</td><td>3</td></tr><tr><td>United States</td><td>South Africa</td><td>40</td></tr><tr><td>Niger</td><td>United States</td><td>2</td></tr><tr><td>Turkey</td><td>United States</td><td>138</td></tr><tr><td>United Kingdom</td><td>United States</td><td>2025</td></tr><tr><td>Romania</td><td>United States</td><td>14</td></tr><tr><td>United States</td><td>Greenland</td><td>4</td></tr><tr><td>Papua New Guinea</td><td>United States</td><td>3</td></tr><tr><td>United States</td><td>Spain</td><td>442</td></tr><tr><td>Iraq</td><td>United States</td><td>1</td></tr><tr><td>United States</td><td>Italy</td><td>438</td></tr><tr><td>Cuba</td><td>United States</td><td>466</td></tr><tr><td>United States</td><td>Switzerland</td><td>305</td></tr><tr><td>Dominica</td><td>United States</td><td>20</td></tr><tr><td>United States</td><td>Japan</td><td>1496</td></tr><tr><td>Portugal</td><td>United States</td><td>127</td></tr><tr><td>United States</td><td>Brazil</td><td>619</td></tr><tr><td>Bahrain</td><td>United States</td><td>19</td></tr><tr><td>United States</td><td>Peru</td><td>337</td></tr><tr><td>Indonesia</td><td>United States</td><td>1</td></tr><tr><td>United States</td><td>Belize</td><td>193</td></tr><tr><td>United States</td><td>United Kingdom</td><td>1970</td></tr><tr><td>Belize</td><td>United States</td><td>188</td></tr><tr><td>United States</td><td>Ghana</td><td>20</td></tr><tr><td>United States</td><td>Indonesia</td><td>2</td></tr><tr><td>United States</td><td>Fiji</td><td>25</td></tr><tr><td>United States</td><td>Canada</td><td>8483</td></tr><tr><td>United States</td><td>Antigua and Barbuda</td><td>117</td></tr><tr><td>United States</td><td>French Polynesia</td><td>40</td></tr><tr><td>Nicaragua</td><td>United States</td><td>179</td></tr><tr><td>United States</td><td>Latvia</td><td>15</td></tr><tr><td>United States</td><td>Dominica</td><td>27</td></tr><tr><td>United States</td><td>Czech Republic</td><td>12</td></tr><tr><td>United States</td><td>Australia</td><td>258</td></tr><tr><td>United States</td><td>Cook Islands</td><td>13</td></tr><tr><td>Austria</td><td>United States</td><td>62</td></tr><tr><td>Jordan</td><td>United States</td><td>44</td></tr><tr><td>Palau</td><td>United States</td><td>30</td></tr><tr><td>South Korea</td><td>United States</td><td>1048</td></tr><tr><td>Angola</td><td>United States</td><td>15</td></tr><tr><td>Ghana</td><td>United States</td><td>18</td></tr><tr><td>New Caledonia</td><td>United States</td><td>1</td></tr><tr><td>Guadeloupe</td><td>United States</td><td>56</td></tr><tr><td>France</td><td>United States</td><td>935</td></tr><tr><td>Poland</td><td>United States</td><td>32</td></tr><tr><td>Nigeria</td><td>United States</td><td>59</td></tr><tr><td>United States</td><td>Uruguay</td><td>13</td></tr><tr><td>Greenland</td><td>United States</td><td>2</td></tr><tr><td>United States</td><td>Bermuda</td><td>193</td></tr><tr><td>Chile</td><td>United States</td><td>174</td></tr><tr><td>United States</td><td>Cuba</td><td>478</td></tr><tr><td>United States</td><td>Montenegro</td><td>1</td></tr><tr><td>United States</td><td>Colombia</td><td>867</td></tr><tr><td>United States</td><td>Barbados</td><td>130</td></tr><tr><td>United States</td><td>Qatar</td><td>109</td></tr><tr><td>Australia</td><td>United States</td><td>329</td></tr><tr><td>United States</td><td>Cayman Islands</td><td>310</td></tr><tr><td>United States</td><td>Jordan</td><td>44</td></tr><tr><td>United States</td><td>Namibia</td><td>1</td></tr><tr><td>United States</td><td>Trinidad and Tobago</td><td>217</td></tr><tr><td>United States</td><td>Bolivia</td><td>13</td></tr><tr><td>Cook Islands</td><td>United States</td><td>13</td></tr><tr><td>Bulgaria</td><td>United States</td><td>3</td></tr><tr><td>United States</td><td>Saint Kitts and Nevis</td><td>145</td></tr><tr><td>Uruguay</td><td>United States</td><td>43</td></tr><tr><td>United States</td><td>Haiti</td><td>225</td></tr><tr><td>Bonaire, Sint Eustatius, and Saba</td><td>United States</td><td>58</td></tr><tr><td>Greece</td><td>United States</td><td>30</td></tr></tbody></table></div>"
      ]
     },
     "metadata": {
      "application/vnd.databricks.v1+output": {
       "addedWidgets": {},
       "aggData": [],
       "aggError": "",
       "aggOverflow": false,
       "aggSchema": [],
       "aggSeriesLimitReached": false,
       "aggType": "",
       "arguments": {},
       "columnCustomDisplayInfos": {},
       "data": [
        [
         "United States",
         "Romania",
         15
        ],
        [
         "United States",
         "Croatia",
         1
        ],
        [
         "United States",
         "Ireland",
         344
        ],
        [
         "Egypt",
         "United States",
         15
        ],
        [
         "United States",
         "India",
         62
        ],
        [
         "United States",
         "Singapore",
         1
        ],
        [
         "United States",
         "Grenada",
         62
        ],
        [
         "Costa Rica",
         "United States",
         588
        ],
        [
         "Senegal",
         "United States",
         40
        ],
        [
         "Moldova",
         "United States",
         1
        ],
        [
         "United States",
         "Sint Maarten",
         325
        ],
        [
         "United States",
         "Marshall Islands",
         39
        ],
        [
         "Guyana",
         "United States",
         64
        ],
        [
         "Malta",
         "United States",
         1
        ],
        [
         "Anguilla",
         "United States",
         41
        ],
        [
         "Bolivia",
         "United States",
         30
        ],
        [
         "United States",
         "Paraguay",
         6
        ],
        [
         "Algeria",
         "United States",
         4
        ],
        [
         "Turks and Caicos Islands",
         "United States",
         230
        ],
        [
         "United States",
         "Gibraltar",
         1
        ],
        [
         "Saint Vincent and the Grenadines",
         "United States",
         1
        ],
        [
         "Italy",
         "United States",
         382
        ],
        [
         "United States",
         "Federated States of Micronesia",
         69
        ],
        [
         "United States",
         "Russia",
         161
        ],
        [
         "Pakistan",
         "United States",
         12
        ],
        [
         "United States",
         "Netherlands",
         660
        ],
        [
         "Iceland",
         "United States",
         181
        ],
        [
         "Marshall Islands",
         "United States",
         42
        ],
        [
         "Luxembourg",
         "United States",
         155
        ],
        [
         "Honduras",
         "United States",
         362
        ],
        [
         "The Bahamas",
         "United States",
         955
        ],
        [
         "United States",
         "Senegal",
         42
        ],
        [
         "El Salvador",
         "United States",
         561
        ],
        [
         "Samoa",
         "United States",
         25
        ],
        [
         "United States",
         "Angola",
         13
        ],
        [
         "Switzerland",
         "United States",
         294
        ],
        [
         "United States",
         "Anguilla",
         38
        ],
        [
         "Sint Maarten",
         "United States",
         325
        ],
        [
         "Hong Kong",
         "United States",
         332
        ],
        [
         "Trinidad and Tobago",
         "United States",
         211
        ],
        [
         "Latvia",
         "United States",
         19
        ],
        [
         "United States",
         "Ecuador",
         300
        ],
        [
         "Suriname",
         "United States",
         1
        ],
        [
         "Mexico",
         "United States",
         7140
        ],
        [
         "United States",
         "Cyprus",
         1
        ],
        [
         "Ecuador",
         "United States",
         268
        ],
        [
         "United States",
         "Portugal",
         134
        ],
        [
         "United States",
         "Costa Rica",
         608
        ],
        [
         "United States",
         "Guatemala",
         318
        ],
        [
         "United States",
         "Suriname",
         34
        ],
        [
         "Colombia",
         "United States",
         873
        ],
        [
         "United States",
         "Cape Verde",
         14
        ],
        [
         "United States",
         "Jamaica",
         712
        ],
        [
         "Norway",
         "United States",
         121
        ],
        [
         "United States",
         "Malaysia",
         3
        ],
        [
         "United States",
         "Morocco",
         19
        ],
        [
         "Thailand",
         "United States",
         3
        ],
        [
         "United States",
         "Samoa",
         25
        ],
        [
         "Venezuela",
         "United States",
         290
        ],
        [
         "United States",
         "Palau",
         31
        ],
        [
         "United States",
         "Venezuela",
         246
        ],
        [
         "Panama",
         "United States",
         510
        ],
        [
         "Antigua and Barbuda",
         "United States",
         126
        ],
        [
         "United States",
         "Chile",
         185
        ],
        [
         "Morocco",
         "United States",
         15
        ],
        [
         "United States",
         "Finland",
         28
        ],
        [
         "Azerbaijan",
         "United States",
         21
        ],
        [
         "United States",
         "Greece",
         23
        ],
        [
         "United States",
         "The Bahamas",
         986
        ],
        [
         "New Zealand",
         "United States",
         111
        ],
        [
         "Liberia",
         "United States",
         2
        ],
        [
         "United States",
         "Hong Kong",
         414
        ],
        [
         "Hungary",
         "United States",
         2
        ],
        [
         "United States",
         "China",
         920
        ],
        [
         "United States",
         "Vietnam",
         2
        ],
        [
         "Burkina Faso",
         "United States",
         1
        ],
        [
         "Sweden",
         "United States",
         118
        ],
        [
         "United States",
         "Kuwait",
         28
        ],
        [
         "United States",
         "Dominican Republic",
         1420
        ],
        [
         "United States",
         "Egypt",
         12
        ],
        [
         "Israel",
         "United States",
         134
        ],
        [
         "United States",
         "United States",
         370002
        ],
        [
         "Ethiopia",
         "United States",
         13
        ],
        [
         "United States",
         "Luxembourg",
         134
        ],
        [
         "United States",
         "Poland",
         33
        ],
        [
         "Martinique",
         "United States",
         44
        ],
        [
         "United States",
         "Saint Barthelemy",
         41
        ],
        [
         "Saint Barthelemy",
         "United States",
         39
        ],
        [
         "Barbados",
         "United States",
         154
        ],
        [
         "United States",
         "Turkey",
         129
        ],
        [
         "Djibouti",
         "United States",
         1
        ],
        [
         "United States",
         "Azerbaijan",
         21
        ],
        [
         "United States",
         "Estonia",
         1
        ],
        [
         "Germany",
         "United States",
         1468
        ],
        [
         "United States",
         "South Korea",
         827
        ],
        [
         "United States",
         "El Salvador",
         508
        ],
        [
         "Ireland",
         "United States",
         335
        ],
        [
         "United States",
         "Hungary",
         3
        ],
        [
         "Zambia",
         "United States",
         1
        ],
        [
         "Malaysia",
         "United States",
         2
        ],
        [
         "United States",
         "Ethiopia",
         12
        ],
        [
         "United States",
         "Panama",
         465
        ],
        [
         "United States",
         "Aruba",
         342
        ],
        [
         "United States",
         "Thailand",
         4
        ],
        [
         "United States",
         "Turks and Caicos Islands",
         236
        ],
        [
         "Croatia",
         "United States",
         2
        ],
        [
         "United States",
         "Pakistan",
         12
        ],
        [
         "Cyprus",
         "United States",
         1
        ],
        [
         "United States",
         "Honduras",
         407
        ],
        [
         "Fiji",
         "United States",
         24
        ],
        [
         "Qatar",
         "United States",
         108
        ],
        [
         "Saint Kitts and Nevis",
         "United States",
         139
        ],
        [
         "Kuwait",
         "United States",
         32
        ],
        [
         "Taiwan",
         "United States",
         266
        ],
        [
         "Haiti",
         "United States",
         226
        ],
        [
         "Canada",
         "United States",
         8399
        ],
        [
         "Federated States of Micronesia",
         "United States",
         69
        ],
        [
         "United States",
         "Liberia",
         2
        ],
        [
         "Jamaica",
         "United States",
         666
        ],
        [
         "United States",
         "Malta",
         2
        ],
        [
         "Dominican Republic",
         "United States",
         1353
        ],
        [
         "Japan",
         "United States",
         1548
        ],
        [
         "United States",
         "Lithuania",
         1
        ],
        [
         "Finland",
         "United States",
         26
        ],
        [
         "United States",
         "Guadeloupe",
         59
        ],
        [
         "United States",
         "Ukraine",
         13
        ],
        [
         "United States",
         "France",
         952
        ],
        [
         "United States",
         "Norway",
         115
        ],
        [
         "Aruba",
         "United States",
         346
        ],
        [
         "French Guiana",
         "United States",
         5
        ],
        [
         "United States",
         "Kiribati",
         35
        ],
        [
         "India",
         "United States",
         61
        ],
        [
         "British Virgin Islands",
         "United States",
         107
        ],
        [
         "Brazil",
         "United States",
         853
        ],
        [
         "United States",
         "Germany",
         1336
        ],
        [
         "United States",
         "New Zealand",
         74
        ],
        [
         "French Polynesia",
         "United States",
         43
        ],
        [
         "United Arab Emirates",
         "United States",
         320
        ],
        [
         "Singapore",
         "United States",
         3
        ],
        [
         "United States",
         "Mexico",
         7187
        ],
        [
         "United States",
         "Sweden",
         119
        ],
        [
         "Netherlands",
         "United States",
         776
        ],
        [
         "United States",
         "Martinique",
         43
        ],
        [
         "United States",
         "United Arab Emirates",
         313
        ],
        [
         "United States",
         "Bulgaria",
         1
        ],
        [
         "Denmark",
         "United States",
         153
        ],
        [
         "China",
         "United States",
         772
        ],
        [
         "United States",
         "Nicaragua",
         201
        ],
        [
         "United States",
         "Philippines",
         126
        ],
        [
         "United States",
         "Georgia",
         1
        ],
        [
         "United States",
         "Belgium",
         228
        ],
        [
         "Cayman Islands",
         "United States",
         314
        ],
        [
         "Argentina",
         "United States",
         180
        ],
        [
         "Peru",
         "United States",
         279
        ],
        [
         "South Africa",
         "United States",
         36
        ],
        [
         "United States",
         "Iceland",
         202
        ],
        [
         "United States",
         "Argentina",
         141
        ],
        [
         "Spain",
         "United States",
         420
        ],
        [
         "Bermuda",
         "United States",
         183
        ],
        [
         "United States",
         "Nigeria",
         50
        ],
        [
         "United States",
         "Austria",
         63
        ],
        [
         "United States",
         "Bonaire, Sint Eustatius, and Saba",
         59
        ],
        [
         "Kiribati",
         "United States",
         26
        ],
        [
         "Saudi Arabia",
         "United States",
         83
        ],
        [
         "Czech Republic",
         "United States",
         13
        ],
        [
         "United States",
         "Israel",
         127
        ],
        [
         "Belgium",
         "United States",
         259
        ],
        [
         "United States",
         "Saint Lucia",
         136
        ],
        [
         "United States",
         "Bahrain",
         1
        ],
        [
         "United States",
         "British Virgin Islands",
         80
        ],
        [
         "Curacao",
         "United States",
         90
        ],
        [
         "Georgia",
         "United States",
         2
        ],
        [
         "United States",
         "Denmark",
         152
        ],
        [
         "United States",
         "Guyana",
         63
        ],
        [
         "Philippines",
         "United States",
         134
        ],
        [
         "Grenada",
         "United States",
         53
        ],
        [
         "Cape Verde",
         "United States",
         20
        ],
        [
         "Cote d'Ivoire",
         "United States",
         1
        ],
        [
         "Ukraine",
         "United States",
         14
        ],
        [
         "United States",
         "Papua New Guinea",
         1
        ],
        [
         "Russia",
         "United States",
         176
        ],
        [
         "United States",
         "Saudi Arabia",
         70
        ],
        [
         "Guatemala",
         "United States",
         397
        ],
        [
         "Saint Lucia",
         "United States",
         123
        ],
        [
         "Paraguay",
         "United States",
         60
        ],
        [
         "United States",
         "Curacao",
         83
        ],
        [
         "Kosovo",
         "United States",
         1
        ],
        [
         "United States",
         "Taiwan",
         235
        ],
        [
         "Tunisia",
         "United States",
         3
        ],
        [
         "United States",
         "South Africa",
         40
        ],
        [
         "Niger",
         "United States",
         2
        ],
        [
         "Turkey",
         "United States",
         138
        ],
        [
         "United Kingdom",
         "United States",
         2025
        ],
        [
         "Romania",
         "United States",
         14
        ],
        [
         "United States",
         "Greenland",
         4
        ],
        [
         "Papua New Guinea",
         "United States",
         3
        ],
        [
         "United States",
         "Spain",
         442
        ],
        [
         "Iraq",
         "United States",
         1
        ],
        [
         "United States",
         "Italy",
         438
        ],
        [
         "Cuba",
         "United States",
         466
        ],
        [
         "United States",
         "Switzerland",
         305
        ],
        [
         "Dominica",
         "United States",
         20
        ],
        [
         "United States",
         "Japan",
         1496
        ],
        [
         "Portugal",
         "United States",
         127
        ],
        [
         "United States",
         "Brazil",
         619
        ],
        [
         "Bahrain",
         "United States",
         19
        ],
        [
         "United States",
         "Peru",
         337
        ],
        [
         "Indonesia",
         "United States",
         1
        ],
        [
         "United States",
         "Belize",
         193
        ],
        [
         "United States",
         "United Kingdom",
         1970
        ],
        [
         "Belize",
         "United States",
         188
        ],
        [
         "United States",
         "Ghana",
         20
        ],
        [
         "United States",
         "Indonesia",
         2
        ],
        [
         "United States",
         "Fiji",
         25
        ],
        [
         "United States",
         "Canada",
         8483
        ],
        [
         "United States",
         "Antigua and Barbuda",
         117
        ],
        [
         "United States",
         "French Polynesia",
         40
        ],
        [
         "Nicaragua",
         "United States",
         179
        ],
        [
         "United States",
         "Latvia",
         15
        ],
        [
         "United States",
         "Dominica",
         27
        ],
        [
         "United States",
         "Czech Republic",
         12
        ],
        [
         "United States",
         "Australia",
         258
        ],
        [
         "United States",
         "Cook Islands",
         13
        ],
        [
         "Austria",
         "United States",
         62
        ],
        [
         "Jordan",
         "United States",
         44
        ],
        [
         "Palau",
         "United States",
         30
        ],
        [
         "South Korea",
         "United States",
         1048
        ],
        [
         "Angola",
         "United States",
         15
        ],
        [
         "Ghana",
         "United States",
         18
        ],
        [
         "New Caledonia",
         "United States",
         1
        ],
        [
         "Guadeloupe",
         "United States",
         56
        ],
        [
         "France",
         "United States",
         935
        ],
        [
         "Poland",
         "United States",
         32
        ],
        [
         "Nigeria",
         "United States",
         59
        ],
        [
         "United States",
         "Uruguay",
         13
        ],
        [
         "Greenland",
         "United States",
         2
        ],
        [
         "United States",
         "Bermuda",
         193
        ],
        [
         "Chile",
         "United States",
         174
        ],
        [
         "United States",
         "Cuba",
         478
        ],
        [
         "United States",
         "Montenegro",
         1
        ],
        [
         "United States",
         "Colombia",
         867
        ],
        [
         "United States",
         "Barbados",
         130
        ],
        [
         "United States",
         "Qatar",
         109
        ],
        [
         "Australia",
         "United States",
         329
        ],
        [
         "United States",
         "Cayman Islands",
         310
        ],
        [
         "United States",
         "Jordan",
         44
        ],
        [
         "United States",
         "Namibia",
         1
        ],
        [
         "United States",
         "Trinidad and Tobago",
         217
        ],
        [
         "United States",
         "Bolivia",
         13
        ],
        [
         "Cook Islands",
         "United States",
         13
        ],
        [
         "Bulgaria",
         "United States",
         3
        ],
        [
         "United States",
         "Saint Kitts and Nevis",
         145
        ],
        [
         "Uruguay",
         "United States",
         43
        ],
        [
         "United States",
         "Haiti",
         225
        ],
        [
         "Bonaire, Sint Eustatius, and Saba",
         "United States",
         58
        ],
        [
         "Greece",
         "United States",
         30
        ]
       ],
       "datasetInfos": [],
       "dbfsResultPath": null,
       "isJsonSchema": true,
       "metadata": {},
       "overflow": false,
       "plotOptions": {
        "customPlotOptions": {},
        "displayType": "table",
        "pivotAggregation": null,
        "pivotColumns": null,
        "xColumns": null,
        "yColumns": null
       },
       "removedWidgets": [],
       "schema": [
        {
         "metadata": "{}",
         "name": "DEST_COUNTRY_NAME",
         "type": "\"string\""
        },
        {
         "metadata": "{\"comment\":\"remember, the US will be most prevalent\"}",
         "name": "ORIGIN_COUNTRY_NAME",
         "type": "\"string\""
        },
        {
         "metadata": "{}",
         "name": "count",
         "type": "\"long\""
        }
       ],
       "type": "table"
      }
     },
     "output_type": "display_data"
    }
   ],
   "source": [
    "%sql\n",
    "select\n",
    "  *\n",
    "from\n",
    "  flights_csv2"
   ]
  },
  {
   "cell_type": "markdown",
   "metadata": {
    "application/vnd.databricks.v1+cell": {
     "cellMetadata": {
      "byteLimit": 2048000,
      "rowLimit": 10000
     },
     "inputWidgets": {},
     "nuid": "45086187-3593-46de-b3d7-222a8c59ff13",
     "showTitle": false,
     "title": ""
    }
   },
   "source": [
    "<span style=\"color:blue\">\n",
    "Creating a Unmanaged Spark SQL table using JSON file."
   ]
  },
  {
   "cell_type": "code",
   "execution_count": 0,
   "metadata": {
    "application/vnd.databricks.v1+cell": {
     "cellMetadata": {
      "byteLimit": 2048000,
      "implicitDf": true,
      "rowLimit": 10000
     },
     "inputWidgets": {},
     "nuid": "a5f841d2-6b26-49bb-a380-67ac2e678917",
     "showTitle": false,
     "title": ""
    }
   },
   "outputs": [
    {
     "output_type": "display_data",
     "data": {
      "text/html": [
       "<style scoped>\n",
       "  .table-result-container {\n",
       "    max-height: 300px;\n",
       "    overflow: auto;\n",
       "  }\n",
       "  table, th, td {\n",
       "    border: 1px solid black;\n",
       "    border-collapse: collapse;\n",
       "  }\n",
       "  th, td {\n",
       "    padding: 5px;\n",
       "  }\n",
       "  th {\n",
       "    text-align: left;\n",
       "  }\n",
       "</style><div class='table-result-container'><table class='table-result'><thead style='background-color: white'><tr></tr></thead><tbody></tbody></table></div>"
      ]
     },
     "metadata": {
      "application/vnd.databricks.v1+output": {
       "addedWidgets": {},
       "aggData": [],
       "aggError": "",
       "aggOverflow": false,
       "aggSchema": [],
       "aggSeriesLimitReached": false,
       "aggType": "",
       "arguments": {},
       "columnCustomDisplayInfos": {},
       "data": [],
       "datasetInfos": [],
       "dbfsResultPath": null,
       "isJsonSchema": true,
       "metadata": {},
       "overflow": false,
       "plotOptions": {
        "customPlotOptions": {},
        "displayType": "table",
        "pivotAggregation": null,
        "pivotColumns": null,
        "xColumns": null,
        "yColumns": null
       },
       "removedWidgets": [],
       "schema": [],
       "type": "table"
      }
     },
     "output_type": "display_data"
    }
   ],
   "source": [
    "%sql\n",
    "CREATE TABLE flights_json1 (\n",
    "  DEST_COUNTRY_NAME STRING,\n",
    "  ORIGIN_COUNTRY_NAME STRING,\n",
    "  count LONG\n",
    ") USING JSON OPTIONS (\n",
    "  path \"dbfs:/FileStore/shared_uploads/ajayacme04@gmail.com/2015_summary.json\"\n",
    ")"
   ]
  },
  {
   "cell_type": "code",
   "execution_count": 0,
   "metadata": {
    "application/vnd.databricks.v1+cell": {
     "cellMetadata": {
      "byteLimit": 2048000,
      "implicitDf": true,
      "rowLimit": 10000
     },
     "inputWidgets": {},
     "nuid": "90e271ed-8a50-4d61-a1f1-8a5464e2cf6e",
     "showTitle": false,
     "title": ""
    }
   },
   "outputs": [
    {
     "output_type": "display_data",
     "data": {
      "text/html": [
       "<style scoped>\n",
       "  .table-result-container {\n",
       "    max-height: 300px;\n",
       "    overflow: auto;\n",
       "  }\n",
       "  table, th, td {\n",
       "    border: 1px solid black;\n",
       "    border-collapse: collapse;\n",
       "  }\n",
       "  th, td {\n",
       "    padding: 5px;\n",
       "  }\n",
       "  th {\n",
       "    text-align: left;\n",
       "  }\n",
       "</style><div class='table-result-container'><table class='table-result'><thead style='background-color: white'><tr><th>DEST_COUNTRY_NAME</th><th>ORIGIN_COUNTRY_NAME</th><th>count</th></tr></thead><tbody><tr><td>United States</td><td>Romania</td><td>15</td></tr><tr><td>United States</td><td>Croatia</td><td>1</td></tr><tr><td>United States</td><td>Ireland</td><td>344</td></tr><tr><td>Egypt</td><td>United States</td><td>15</td></tr><tr><td>United States</td><td>India</td><td>62</td></tr><tr><td>United States</td><td>Singapore</td><td>1</td></tr><tr><td>United States</td><td>Grenada</td><td>62</td></tr><tr><td>Costa Rica</td><td>United States</td><td>588</td></tr><tr><td>Senegal</td><td>United States</td><td>40</td></tr><tr><td>Moldova</td><td>United States</td><td>1</td></tr><tr><td>United States</td><td>Sint Maarten</td><td>325</td></tr><tr><td>United States</td><td>Marshall Islands</td><td>39</td></tr><tr><td>Guyana</td><td>United States</td><td>64</td></tr><tr><td>Malta</td><td>United States</td><td>1</td></tr><tr><td>Anguilla</td><td>United States</td><td>41</td></tr><tr><td>Bolivia</td><td>United States</td><td>30</td></tr><tr><td>United States</td><td>Paraguay</td><td>6</td></tr><tr><td>Algeria</td><td>United States</td><td>4</td></tr><tr><td>Turks and Caicos Islands</td><td>United States</td><td>230</td></tr><tr><td>United States</td><td>Gibraltar</td><td>1</td></tr><tr><td>Saint Vincent and the Grenadines</td><td>United States</td><td>1</td></tr><tr><td>Italy</td><td>United States</td><td>382</td></tr><tr><td>United States</td><td>Federated States of Micronesia</td><td>69</td></tr><tr><td>United States</td><td>Russia</td><td>161</td></tr><tr><td>Pakistan</td><td>United States</td><td>12</td></tr><tr><td>United States</td><td>Netherlands</td><td>660</td></tr><tr><td>Iceland</td><td>United States</td><td>181</td></tr><tr><td>Marshall Islands</td><td>United States</td><td>42</td></tr><tr><td>Luxembourg</td><td>United States</td><td>155</td></tr><tr><td>Honduras</td><td>United States</td><td>362</td></tr><tr><td>The Bahamas</td><td>United States</td><td>955</td></tr><tr><td>United States</td><td>Senegal</td><td>42</td></tr><tr><td>El Salvador</td><td>United States</td><td>561</td></tr><tr><td>Samoa</td><td>United States</td><td>25</td></tr><tr><td>United States</td><td>Angola</td><td>13</td></tr><tr><td>Switzerland</td><td>United States</td><td>294</td></tr><tr><td>United States</td><td>Anguilla</td><td>38</td></tr><tr><td>Sint Maarten</td><td>United States</td><td>325</td></tr><tr><td>Hong Kong</td><td>United States</td><td>332</td></tr><tr><td>Trinidad and Tobago</td><td>United States</td><td>211</td></tr><tr><td>Latvia</td><td>United States</td><td>19</td></tr><tr><td>United States</td><td>Ecuador</td><td>300</td></tr><tr><td>Suriname</td><td>United States</td><td>1</td></tr><tr><td>Mexico</td><td>United States</td><td>7140</td></tr><tr><td>United States</td><td>Cyprus</td><td>1</td></tr><tr><td>Ecuador</td><td>United States</td><td>268</td></tr><tr><td>United States</td><td>Portugal</td><td>134</td></tr><tr><td>United States</td><td>Costa Rica</td><td>608</td></tr><tr><td>United States</td><td>Guatemala</td><td>318</td></tr><tr><td>United States</td><td>Suriname</td><td>34</td></tr><tr><td>Colombia</td><td>United States</td><td>873</td></tr><tr><td>United States</td><td>Cape Verde</td><td>14</td></tr><tr><td>United States</td><td>Jamaica</td><td>712</td></tr><tr><td>Norway</td><td>United States</td><td>121</td></tr><tr><td>United States</td><td>Malaysia</td><td>3</td></tr><tr><td>United States</td><td>Morocco</td><td>19</td></tr><tr><td>Thailand</td><td>United States</td><td>3</td></tr><tr><td>United States</td><td>Samoa</td><td>25</td></tr><tr><td>Venezuela</td><td>United States</td><td>290</td></tr><tr><td>United States</td><td>Palau</td><td>31</td></tr><tr><td>United States</td><td>Venezuela</td><td>246</td></tr><tr><td>Panama</td><td>United States</td><td>510</td></tr><tr><td>Antigua and Barbuda</td><td>United States</td><td>126</td></tr><tr><td>United States</td><td>Chile</td><td>185</td></tr><tr><td>Morocco</td><td>United States</td><td>15</td></tr><tr><td>United States</td><td>Finland</td><td>28</td></tr><tr><td>Azerbaijan</td><td>United States</td><td>21</td></tr><tr><td>United States</td><td>Greece</td><td>23</td></tr><tr><td>United States</td><td>The Bahamas</td><td>986</td></tr><tr><td>New Zealand</td><td>United States</td><td>111</td></tr><tr><td>Liberia</td><td>United States</td><td>2</td></tr><tr><td>United States</td><td>Hong Kong</td><td>414</td></tr><tr><td>Hungary</td><td>United States</td><td>2</td></tr><tr><td>United States</td><td>China</td><td>920</td></tr><tr><td>United States</td><td>Vietnam</td><td>2</td></tr><tr><td>Burkina Faso</td><td>United States</td><td>1</td></tr><tr><td>Sweden</td><td>United States</td><td>118</td></tr><tr><td>United States</td><td>Kuwait</td><td>28</td></tr><tr><td>United States</td><td>Dominican Republic</td><td>1420</td></tr><tr><td>United States</td><td>Egypt</td><td>12</td></tr><tr><td>Israel</td><td>United States</td><td>134</td></tr><tr><td>United States</td><td>United States</td><td>370002</td></tr><tr><td>Ethiopia</td><td>United States</td><td>13</td></tr><tr><td>United States</td><td>Luxembourg</td><td>134</td></tr><tr><td>United States</td><td>Poland</td><td>33</td></tr><tr><td>Martinique</td><td>United States</td><td>44</td></tr><tr><td>United States</td><td>Saint Barthelemy</td><td>41</td></tr><tr><td>Saint Barthelemy</td><td>United States</td><td>39</td></tr><tr><td>Barbados</td><td>United States</td><td>154</td></tr><tr><td>United States</td><td>Turkey</td><td>129</td></tr><tr><td>Djibouti</td><td>United States</td><td>1</td></tr><tr><td>United States</td><td>Azerbaijan</td><td>21</td></tr><tr><td>United States</td><td>Estonia</td><td>1</td></tr><tr><td>Germany</td><td>United States</td><td>1468</td></tr><tr><td>United States</td><td>South Korea</td><td>827</td></tr><tr><td>United States</td><td>El Salvador</td><td>508</td></tr><tr><td>Ireland</td><td>United States</td><td>335</td></tr><tr><td>United States</td><td>Hungary</td><td>3</td></tr><tr><td>Zambia</td><td>United States</td><td>1</td></tr><tr><td>Malaysia</td><td>United States</td><td>2</td></tr><tr><td>United States</td><td>Ethiopia</td><td>12</td></tr><tr><td>United States</td><td>Panama</td><td>465</td></tr><tr><td>United States</td><td>Aruba</td><td>342</td></tr><tr><td>United States</td><td>Thailand</td><td>4</td></tr><tr><td>United States</td><td>Turks and Caicos Islands</td><td>236</td></tr><tr><td>Croatia</td><td>United States</td><td>2</td></tr><tr><td>United States</td><td>Pakistan</td><td>12</td></tr><tr><td>Cyprus</td><td>United States</td><td>1</td></tr><tr><td>United States</td><td>Honduras</td><td>407</td></tr><tr><td>Fiji</td><td>United States</td><td>24</td></tr><tr><td>Qatar</td><td>United States</td><td>108</td></tr><tr><td>Saint Kitts and Nevis</td><td>United States</td><td>139</td></tr><tr><td>Kuwait</td><td>United States</td><td>32</td></tr><tr><td>Taiwan</td><td>United States</td><td>266</td></tr><tr><td>Haiti</td><td>United States</td><td>226</td></tr><tr><td>Canada</td><td>United States</td><td>8399</td></tr><tr><td>Federated States of Micronesia</td><td>United States</td><td>69</td></tr><tr><td>United States</td><td>Liberia</td><td>2</td></tr><tr><td>Jamaica</td><td>United States</td><td>666</td></tr><tr><td>United States</td><td>Malta</td><td>2</td></tr><tr><td>Dominican Republic</td><td>United States</td><td>1353</td></tr><tr><td>Japan</td><td>United States</td><td>1548</td></tr><tr><td>United States</td><td>Lithuania</td><td>1</td></tr><tr><td>Finland</td><td>United States</td><td>26</td></tr><tr><td>United States</td><td>Guadeloupe</td><td>59</td></tr><tr><td>United States</td><td>Ukraine</td><td>13</td></tr><tr><td>United States</td><td>France</td><td>952</td></tr><tr><td>United States</td><td>Norway</td><td>115</td></tr><tr><td>Aruba</td><td>United States</td><td>346</td></tr><tr><td>French Guiana</td><td>United States</td><td>5</td></tr><tr><td>United States</td><td>Kiribati</td><td>35</td></tr><tr><td>India</td><td>United States</td><td>61</td></tr><tr><td>British Virgin Islands</td><td>United States</td><td>107</td></tr><tr><td>Brazil</td><td>United States</td><td>853</td></tr><tr><td>United States</td><td>Germany</td><td>1336</td></tr><tr><td>United States</td><td>New Zealand</td><td>74</td></tr><tr><td>French Polynesia</td><td>United States</td><td>43</td></tr><tr><td>United Arab Emirates</td><td>United States</td><td>320</td></tr><tr><td>Singapore</td><td>United States</td><td>3</td></tr><tr><td>United States</td><td>Mexico</td><td>7187</td></tr><tr><td>United States</td><td>Sweden</td><td>119</td></tr><tr><td>Netherlands</td><td>United States</td><td>776</td></tr><tr><td>United States</td><td>Martinique</td><td>43</td></tr><tr><td>United States</td><td>United Arab Emirates</td><td>313</td></tr><tr><td>United States</td><td>Bulgaria</td><td>1</td></tr><tr><td>Denmark</td><td>United States</td><td>153</td></tr><tr><td>China</td><td>United States</td><td>772</td></tr><tr><td>United States</td><td>Nicaragua</td><td>201</td></tr><tr><td>United States</td><td>Philippines</td><td>126</td></tr><tr><td>United States</td><td>Georgia</td><td>1</td></tr><tr><td>United States</td><td>Belgium</td><td>228</td></tr><tr><td>Cayman Islands</td><td>United States</td><td>314</td></tr><tr><td>Argentina</td><td>United States</td><td>180</td></tr><tr><td>Peru</td><td>United States</td><td>279</td></tr><tr><td>South Africa</td><td>United States</td><td>36</td></tr><tr><td>United States</td><td>Iceland</td><td>202</td></tr><tr><td>United States</td><td>Argentina</td><td>141</td></tr><tr><td>Spain</td><td>United States</td><td>420</td></tr><tr><td>Bermuda</td><td>United States</td><td>183</td></tr><tr><td>United States</td><td>Nigeria</td><td>50</td></tr><tr><td>United States</td><td>Austria</td><td>63</td></tr><tr><td>United States</td><td>Bonaire, Sint Eustatius, and Saba</td><td>59</td></tr><tr><td>Kiribati</td><td>United States</td><td>26</td></tr><tr><td>Saudi Arabia</td><td>United States</td><td>83</td></tr><tr><td>Czech Republic</td><td>United States</td><td>13</td></tr><tr><td>United States</td><td>Israel</td><td>127</td></tr><tr><td>Belgium</td><td>United States</td><td>259</td></tr><tr><td>United States</td><td>Saint Lucia</td><td>136</td></tr><tr><td>United States</td><td>Bahrain</td><td>1</td></tr><tr><td>United States</td><td>British Virgin Islands</td><td>80</td></tr><tr><td>Curacao</td><td>United States</td><td>90</td></tr><tr><td>Georgia</td><td>United States</td><td>2</td></tr><tr><td>United States</td><td>Denmark</td><td>152</td></tr><tr><td>United States</td><td>Guyana</td><td>63</td></tr><tr><td>Philippines</td><td>United States</td><td>134</td></tr><tr><td>Grenada</td><td>United States</td><td>53</td></tr><tr><td>Cape Verde</td><td>United States</td><td>20</td></tr><tr><td>Cote d'Ivoire</td><td>United States</td><td>1</td></tr><tr><td>Ukraine</td><td>United States</td><td>14</td></tr><tr><td>United States</td><td>Papua New Guinea</td><td>1</td></tr><tr><td>Russia</td><td>United States</td><td>176</td></tr><tr><td>United States</td><td>Saudi Arabia</td><td>70</td></tr><tr><td>Guatemala</td><td>United States</td><td>397</td></tr><tr><td>Saint Lucia</td><td>United States</td><td>123</td></tr><tr><td>Paraguay</td><td>United States</td><td>60</td></tr><tr><td>United States</td><td>Curacao</td><td>83</td></tr><tr><td>Kosovo</td><td>United States</td><td>1</td></tr><tr><td>United States</td><td>Taiwan</td><td>235</td></tr><tr><td>Tunisia</td><td>United States</td><td>3</td></tr><tr><td>United States</td><td>South Africa</td><td>40</td></tr><tr><td>Niger</td><td>United States</td><td>2</td></tr><tr><td>Turkey</td><td>United States</td><td>138</td></tr><tr><td>United Kingdom</td><td>United States</td><td>2025</td></tr><tr><td>Romania</td><td>United States</td><td>14</td></tr><tr><td>United States</td><td>Greenland</td><td>4</td></tr><tr><td>Papua New Guinea</td><td>United States</td><td>3</td></tr><tr><td>United States</td><td>Spain</td><td>442</td></tr><tr><td>Iraq</td><td>United States</td><td>1</td></tr><tr><td>United States</td><td>Italy</td><td>438</td></tr><tr><td>Cuba</td><td>United States</td><td>466</td></tr><tr><td>United States</td><td>Switzerland</td><td>305</td></tr><tr><td>Dominica</td><td>United States</td><td>20</td></tr><tr><td>United States</td><td>Japan</td><td>1496</td></tr><tr><td>Portugal</td><td>United States</td><td>127</td></tr><tr><td>United States</td><td>Brazil</td><td>619</td></tr><tr><td>Bahrain</td><td>United States</td><td>19</td></tr><tr><td>United States</td><td>Peru</td><td>337</td></tr><tr><td>Indonesia</td><td>United States</td><td>1</td></tr><tr><td>United States</td><td>Belize</td><td>193</td></tr><tr><td>United States</td><td>United Kingdom</td><td>1970</td></tr><tr><td>Belize</td><td>United States</td><td>188</td></tr><tr><td>United States</td><td>Ghana</td><td>20</td></tr><tr><td>United States</td><td>Indonesia</td><td>2</td></tr><tr><td>United States</td><td>Fiji</td><td>25</td></tr><tr><td>United States</td><td>Canada</td><td>8483</td></tr><tr><td>United States</td><td>Antigua and Barbuda</td><td>117</td></tr><tr><td>United States</td><td>French Polynesia</td><td>40</td></tr><tr><td>Nicaragua</td><td>United States</td><td>179</td></tr><tr><td>United States</td><td>Latvia</td><td>15</td></tr><tr><td>United States</td><td>Dominica</td><td>27</td></tr><tr><td>United States</td><td>Czech Republic</td><td>12</td></tr><tr><td>United States</td><td>Australia</td><td>258</td></tr><tr><td>United States</td><td>Cook Islands</td><td>13</td></tr><tr><td>Austria</td><td>United States</td><td>62</td></tr><tr><td>Jordan</td><td>United States</td><td>44</td></tr><tr><td>Palau</td><td>United States</td><td>30</td></tr><tr><td>South Korea</td><td>United States</td><td>1048</td></tr><tr><td>Angola</td><td>United States</td><td>15</td></tr><tr><td>Ghana</td><td>United States</td><td>18</td></tr><tr><td>New Caledonia</td><td>United States</td><td>1</td></tr><tr><td>Guadeloupe</td><td>United States</td><td>56</td></tr><tr><td>France</td><td>United States</td><td>935</td></tr><tr><td>Poland</td><td>United States</td><td>32</td></tr><tr><td>Nigeria</td><td>United States</td><td>59</td></tr><tr><td>United States</td><td>Uruguay</td><td>13</td></tr><tr><td>Greenland</td><td>United States</td><td>2</td></tr><tr><td>United States</td><td>Bermuda</td><td>193</td></tr><tr><td>Chile</td><td>United States</td><td>174</td></tr><tr><td>United States</td><td>Cuba</td><td>478</td></tr><tr><td>United States</td><td>Montenegro</td><td>1</td></tr><tr><td>United States</td><td>Colombia</td><td>867</td></tr><tr><td>United States</td><td>Barbados</td><td>130</td></tr><tr><td>United States</td><td>Qatar</td><td>109</td></tr><tr><td>Australia</td><td>United States</td><td>329</td></tr><tr><td>United States</td><td>Cayman Islands</td><td>310</td></tr><tr><td>United States</td><td>Jordan</td><td>44</td></tr><tr><td>United States</td><td>Namibia</td><td>1</td></tr><tr><td>United States</td><td>Trinidad and Tobago</td><td>217</td></tr><tr><td>United States</td><td>Bolivia</td><td>13</td></tr><tr><td>Cook Islands</td><td>United States</td><td>13</td></tr><tr><td>Bulgaria</td><td>United States</td><td>3</td></tr><tr><td>United States</td><td>Saint Kitts and Nevis</td><td>145</td></tr><tr><td>Uruguay</td><td>United States</td><td>43</td></tr><tr><td>United States</td><td>Haiti</td><td>225</td></tr><tr><td>Bonaire, Sint Eustatius, and Saba</td><td>United States</td><td>58</td></tr><tr><td>Greece</td><td>United States</td><td>30</td></tr></tbody></table></div>"
      ]
     },
     "metadata": {
      "application/vnd.databricks.v1+output": {
       "addedWidgets": {},
       "aggData": [],
       "aggError": "",
       "aggOverflow": false,
       "aggSchema": [],
       "aggSeriesLimitReached": false,
       "aggType": "",
       "arguments": {},
       "columnCustomDisplayInfos": {},
       "data": [
        [
         "United States",
         "Romania",
         15
        ],
        [
         "United States",
         "Croatia",
         1
        ],
        [
         "United States",
         "Ireland",
         344
        ],
        [
         "Egypt",
         "United States",
         15
        ],
        [
         "United States",
         "India",
         62
        ],
        [
         "United States",
         "Singapore",
         1
        ],
        [
         "United States",
         "Grenada",
         62
        ],
        [
         "Costa Rica",
         "United States",
         588
        ],
        [
         "Senegal",
         "United States",
         40
        ],
        [
         "Moldova",
         "United States",
         1
        ],
        [
         "United States",
         "Sint Maarten",
         325
        ],
        [
         "United States",
         "Marshall Islands",
         39
        ],
        [
         "Guyana",
         "United States",
         64
        ],
        [
         "Malta",
         "United States",
         1
        ],
        [
         "Anguilla",
         "United States",
         41
        ],
        [
         "Bolivia",
         "United States",
         30
        ],
        [
         "United States",
         "Paraguay",
         6
        ],
        [
         "Algeria",
         "United States",
         4
        ],
        [
         "Turks and Caicos Islands",
         "United States",
         230
        ],
        [
         "United States",
         "Gibraltar",
         1
        ],
        [
         "Saint Vincent and the Grenadines",
         "United States",
         1
        ],
        [
         "Italy",
         "United States",
         382
        ],
        [
         "United States",
         "Federated States of Micronesia",
         69
        ],
        [
         "United States",
         "Russia",
         161
        ],
        [
         "Pakistan",
         "United States",
         12
        ],
        [
         "United States",
         "Netherlands",
         660
        ],
        [
         "Iceland",
         "United States",
         181
        ],
        [
         "Marshall Islands",
         "United States",
         42
        ],
        [
         "Luxembourg",
         "United States",
         155
        ],
        [
         "Honduras",
         "United States",
         362
        ],
        [
         "The Bahamas",
         "United States",
         955
        ],
        [
         "United States",
         "Senegal",
         42
        ],
        [
         "El Salvador",
         "United States",
         561
        ],
        [
         "Samoa",
         "United States",
         25
        ],
        [
         "United States",
         "Angola",
         13
        ],
        [
         "Switzerland",
         "United States",
         294
        ],
        [
         "United States",
         "Anguilla",
         38
        ],
        [
         "Sint Maarten",
         "United States",
         325
        ],
        [
         "Hong Kong",
         "United States",
         332
        ],
        [
         "Trinidad and Tobago",
         "United States",
         211
        ],
        [
         "Latvia",
         "United States",
         19
        ],
        [
         "United States",
         "Ecuador",
         300
        ],
        [
         "Suriname",
         "United States",
         1
        ],
        [
         "Mexico",
         "United States",
         7140
        ],
        [
         "United States",
         "Cyprus",
         1
        ],
        [
         "Ecuador",
         "United States",
         268
        ],
        [
         "United States",
         "Portugal",
         134
        ],
        [
         "United States",
         "Costa Rica",
         608
        ],
        [
         "United States",
         "Guatemala",
         318
        ],
        [
         "United States",
         "Suriname",
         34
        ],
        [
         "Colombia",
         "United States",
         873
        ],
        [
         "United States",
         "Cape Verde",
         14
        ],
        [
         "United States",
         "Jamaica",
         712
        ],
        [
         "Norway",
         "United States",
         121
        ],
        [
         "United States",
         "Malaysia",
         3
        ],
        [
         "United States",
         "Morocco",
         19
        ],
        [
         "Thailand",
         "United States",
         3
        ],
        [
         "United States",
         "Samoa",
         25
        ],
        [
         "Venezuela",
         "United States",
         290
        ],
        [
         "United States",
         "Palau",
         31
        ],
        [
         "United States",
         "Venezuela",
         246
        ],
        [
         "Panama",
         "United States",
         510
        ],
        [
         "Antigua and Barbuda",
         "United States",
         126
        ],
        [
         "United States",
         "Chile",
         185
        ],
        [
         "Morocco",
         "United States",
         15
        ],
        [
         "United States",
         "Finland",
         28
        ],
        [
         "Azerbaijan",
         "United States",
         21
        ],
        [
         "United States",
         "Greece",
         23
        ],
        [
         "United States",
         "The Bahamas",
         986
        ],
        [
         "New Zealand",
         "United States",
         111
        ],
        [
         "Liberia",
         "United States",
         2
        ],
        [
         "United States",
         "Hong Kong",
         414
        ],
        [
         "Hungary",
         "United States",
         2
        ],
        [
         "United States",
         "China",
         920
        ],
        [
         "United States",
         "Vietnam",
         2
        ],
        [
         "Burkina Faso",
         "United States",
         1
        ],
        [
         "Sweden",
         "United States",
         118
        ],
        [
         "United States",
         "Kuwait",
         28
        ],
        [
         "United States",
         "Dominican Republic",
         1420
        ],
        [
         "United States",
         "Egypt",
         12
        ],
        [
         "Israel",
         "United States",
         134
        ],
        [
         "United States",
         "United States",
         370002
        ],
        [
         "Ethiopia",
         "United States",
         13
        ],
        [
         "United States",
         "Luxembourg",
         134
        ],
        [
         "United States",
         "Poland",
         33
        ],
        [
         "Martinique",
         "United States",
         44
        ],
        [
         "United States",
         "Saint Barthelemy",
         41
        ],
        [
         "Saint Barthelemy",
         "United States",
         39
        ],
        [
         "Barbados",
         "United States",
         154
        ],
        [
         "United States",
         "Turkey",
         129
        ],
        [
         "Djibouti",
         "United States",
         1
        ],
        [
         "United States",
         "Azerbaijan",
         21
        ],
        [
         "United States",
         "Estonia",
         1
        ],
        [
         "Germany",
         "United States",
         1468
        ],
        [
         "United States",
         "South Korea",
         827
        ],
        [
         "United States",
         "El Salvador",
         508
        ],
        [
         "Ireland",
         "United States",
         335
        ],
        [
         "United States",
         "Hungary",
         3
        ],
        [
         "Zambia",
         "United States",
         1
        ],
        [
         "Malaysia",
         "United States",
         2
        ],
        [
         "United States",
         "Ethiopia",
         12
        ],
        [
         "United States",
         "Panama",
         465
        ],
        [
         "United States",
         "Aruba",
         342
        ],
        [
         "United States",
         "Thailand",
         4
        ],
        [
         "United States",
         "Turks and Caicos Islands",
         236
        ],
        [
         "Croatia",
         "United States",
         2
        ],
        [
         "United States",
         "Pakistan",
         12
        ],
        [
         "Cyprus",
         "United States",
         1
        ],
        [
         "United States",
         "Honduras",
         407
        ],
        [
         "Fiji",
         "United States",
         24
        ],
        [
         "Qatar",
         "United States",
         108
        ],
        [
         "Saint Kitts and Nevis",
         "United States",
         139
        ],
        [
         "Kuwait",
         "United States",
         32
        ],
        [
         "Taiwan",
         "United States",
         266
        ],
        [
         "Haiti",
         "United States",
         226
        ],
        [
         "Canada",
         "United States",
         8399
        ],
        [
         "Federated States of Micronesia",
         "United States",
         69
        ],
        [
         "United States",
         "Liberia",
         2
        ],
        [
         "Jamaica",
         "United States",
         666
        ],
        [
         "United States",
         "Malta",
         2
        ],
        [
         "Dominican Republic",
         "United States",
         1353
        ],
        [
         "Japan",
         "United States",
         1548
        ],
        [
         "United States",
         "Lithuania",
         1
        ],
        [
         "Finland",
         "United States",
         26
        ],
        [
         "United States",
         "Guadeloupe",
         59
        ],
        [
         "United States",
         "Ukraine",
         13
        ],
        [
         "United States",
         "France",
         952
        ],
        [
         "United States",
         "Norway",
         115
        ],
        [
         "Aruba",
         "United States",
         346
        ],
        [
         "French Guiana",
         "United States",
         5
        ],
        [
         "United States",
         "Kiribati",
         35
        ],
        [
         "India",
         "United States",
         61
        ],
        [
         "British Virgin Islands",
         "United States",
         107
        ],
        [
         "Brazil",
         "United States",
         853
        ],
        [
         "United States",
         "Germany",
         1336
        ],
        [
         "United States",
         "New Zealand",
         74
        ],
        [
         "French Polynesia",
         "United States",
         43
        ],
        [
         "United Arab Emirates",
         "United States",
         320
        ],
        [
         "Singapore",
         "United States",
         3
        ],
        [
         "United States",
         "Mexico",
         7187
        ],
        [
         "United States",
         "Sweden",
         119
        ],
        [
         "Netherlands",
         "United States",
         776
        ],
        [
         "United States",
         "Martinique",
         43
        ],
        [
         "United States",
         "United Arab Emirates",
         313
        ],
        [
         "United States",
         "Bulgaria",
         1
        ],
        [
         "Denmark",
         "United States",
         153
        ],
        [
         "China",
         "United States",
         772
        ],
        [
         "United States",
         "Nicaragua",
         201
        ],
        [
         "United States",
         "Philippines",
         126
        ],
        [
         "United States",
         "Georgia",
         1
        ],
        [
         "United States",
         "Belgium",
         228
        ],
        [
         "Cayman Islands",
         "United States",
         314
        ],
        [
         "Argentina",
         "United States",
         180
        ],
        [
         "Peru",
         "United States",
         279
        ],
        [
         "South Africa",
         "United States",
         36
        ],
        [
         "United States",
         "Iceland",
         202
        ],
        [
         "United States",
         "Argentina",
         141
        ],
        [
         "Spain",
         "United States",
         420
        ],
        [
         "Bermuda",
         "United States",
         183
        ],
        [
         "United States",
         "Nigeria",
         50
        ],
        [
         "United States",
         "Austria",
         63
        ],
        [
         "United States",
         "Bonaire, Sint Eustatius, and Saba",
         59
        ],
        [
         "Kiribati",
         "United States",
         26
        ],
        [
         "Saudi Arabia",
         "United States",
         83
        ],
        [
         "Czech Republic",
         "United States",
         13
        ],
        [
         "United States",
         "Israel",
         127
        ],
        [
         "Belgium",
         "United States",
         259
        ],
        [
         "United States",
         "Saint Lucia",
         136
        ],
        [
         "United States",
         "Bahrain",
         1
        ],
        [
         "United States",
         "British Virgin Islands",
         80
        ],
        [
         "Curacao",
         "United States",
         90
        ],
        [
         "Georgia",
         "United States",
         2
        ],
        [
         "United States",
         "Denmark",
         152
        ],
        [
         "United States",
         "Guyana",
         63
        ],
        [
         "Philippines",
         "United States",
         134
        ],
        [
         "Grenada",
         "United States",
         53
        ],
        [
         "Cape Verde",
         "United States",
         20
        ],
        [
         "Cote d'Ivoire",
         "United States",
         1
        ],
        [
         "Ukraine",
         "United States",
         14
        ],
        [
         "United States",
         "Papua New Guinea",
         1
        ],
        [
         "Russia",
         "United States",
         176
        ],
        [
         "United States",
         "Saudi Arabia",
         70
        ],
        [
         "Guatemala",
         "United States",
         397
        ],
        [
         "Saint Lucia",
         "United States",
         123
        ],
        [
         "Paraguay",
         "United States",
         60
        ],
        [
         "United States",
         "Curacao",
         83
        ],
        [
         "Kosovo",
         "United States",
         1
        ],
        [
         "United States",
         "Taiwan",
         235
        ],
        [
         "Tunisia",
         "United States",
         3
        ],
        [
         "United States",
         "South Africa",
         40
        ],
        [
         "Niger",
         "United States",
         2
        ],
        [
         "Turkey",
         "United States",
         138
        ],
        [
         "United Kingdom",
         "United States",
         2025
        ],
        [
         "Romania",
         "United States",
         14
        ],
        [
         "United States",
         "Greenland",
         4
        ],
        [
         "Papua New Guinea",
         "United States",
         3
        ],
        [
         "United States",
         "Spain",
         442
        ],
        [
         "Iraq",
         "United States",
         1
        ],
        [
         "United States",
         "Italy",
         438
        ],
        [
         "Cuba",
         "United States",
         466
        ],
        [
         "United States",
         "Switzerland",
         305
        ],
        [
         "Dominica",
         "United States",
         20
        ],
        [
         "United States",
         "Japan",
         1496
        ],
        [
         "Portugal",
         "United States",
         127
        ],
        [
         "United States",
         "Brazil",
         619
        ],
        [
         "Bahrain",
         "United States",
         19
        ],
        [
         "United States",
         "Peru",
         337
        ],
        [
         "Indonesia",
         "United States",
         1
        ],
        [
         "United States",
         "Belize",
         193
        ],
        [
         "United States",
         "United Kingdom",
         1970
        ],
        [
         "Belize",
         "United States",
         188
        ],
        [
         "United States",
         "Ghana",
         20
        ],
        [
         "United States",
         "Indonesia",
         2
        ],
        [
         "United States",
         "Fiji",
         25
        ],
        [
         "United States",
         "Canada",
         8483
        ],
        [
         "United States",
         "Antigua and Barbuda",
         117
        ],
        [
         "United States",
         "French Polynesia",
         40
        ],
        [
         "Nicaragua",
         "United States",
         179
        ],
        [
         "United States",
         "Latvia",
         15
        ],
        [
         "United States",
         "Dominica",
         27
        ],
        [
         "United States",
         "Czech Republic",
         12
        ],
        [
         "United States",
         "Australia",
         258
        ],
        [
         "United States",
         "Cook Islands",
         13
        ],
        [
         "Austria",
         "United States",
         62
        ],
        [
         "Jordan",
         "United States",
         44
        ],
        [
         "Palau",
         "United States",
         30
        ],
        [
         "South Korea",
         "United States",
         1048
        ],
        [
         "Angola",
         "United States",
         15
        ],
        [
         "Ghana",
         "United States",
         18
        ],
        [
         "New Caledonia",
         "United States",
         1
        ],
        [
         "Guadeloupe",
         "United States",
         56
        ],
        [
         "France",
         "United States",
         935
        ],
        [
         "Poland",
         "United States",
         32
        ],
        [
         "Nigeria",
         "United States",
         59
        ],
        [
         "United States",
         "Uruguay",
         13
        ],
        [
         "Greenland",
         "United States",
         2
        ],
        [
         "United States",
         "Bermuda",
         193
        ],
        [
         "Chile",
         "United States",
         174
        ],
        [
         "United States",
         "Cuba",
         478
        ],
        [
         "United States",
         "Montenegro",
         1
        ],
        [
         "United States",
         "Colombia",
         867
        ],
        [
         "United States",
         "Barbados",
         130
        ],
        [
         "United States",
         "Qatar",
         109
        ],
        [
         "Australia",
         "United States",
         329
        ],
        [
         "United States",
         "Cayman Islands",
         310
        ],
        [
         "United States",
         "Jordan",
         44
        ],
        [
         "United States",
         "Namibia",
         1
        ],
        [
         "United States",
         "Trinidad and Tobago",
         217
        ],
        [
         "United States",
         "Bolivia",
         13
        ],
        [
         "Cook Islands",
         "United States",
         13
        ],
        [
         "Bulgaria",
         "United States",
         3
        ],
        [
         "United States",
         "Saint Kitts and Nevis",
         145
        ],
        [
         "Uruguay",
         "United States",
         43
        ],
        [
         "United States",
         "Haiti",
         225
        ],
        [
         "Bonaire, Sint Eustatius, and Saba",
         "United States",
         58
        ],
        [
         "Greece",
         "United States",
         30
        ]
       ],
       "datasetInfos": [],
       "dbfsResultPath": null,
       "isJsonSchema": true,
       "metadata": {},
       "overflow": false,
       "plotOptions": {
        "customPlotOptions": {},
        "displayType": "table",
        "pivotAggregation": null,
        "pivotColumns": null,
        "xColumns": null,
        "yColumns": null
       },
       "removedWidgets": [],
       "schema": [
        {
         "metadata": "{}",
         "name": "DEST_COUNTRY_NAME",
         "type": "\"string\""
        },
        {
         "metadata": "{}",
         "name": "ORIGIN_COUNTRY_NAME",
         "type": "\"string\""
        },
        {
         "metadata": "{}",
         "name": "count",
         "type": "\"long\""
        }
       ],
       "type": "table"
      }
     },
     "output_type": "display_data"
    }
   ],
   "source": [
    "%sql\n",
    "select\n",
    "  *\n",
    "from\n",
    "  flights_json1"
   ]
  },
  {
   "cell_type": "markdown",
   "metadata": {
    "application/vnd.databricks.v1+cell": {
     "cellMetadata": {
      "byteLimit": 2048000,
      "rowLimit": 10000
     },
     "inputWidgets": {},
     "nuid": "33828a3c-b5a5-4e9a-8bd5-739ac1b6eab4",
     "showTitle": false,
     "title": ""
    }
   },
   "source": [
    "<span style=\"color:blue\">\n",
    "Creating Spark Table using selecting results from another table."
   ]
  },
  {
   "cell_type": "code",
   "execution_count": 0,
   "metadata": {
    "application/vnd.databricks.v1+cell": {
     "cellMetadata": {
      "byteLimit": 2048000,
      "rowLimit": 10000
     },
     "inputWidgets": {},
     "nuid": "9d2bafe4-06b0-429b-8fae-a4cda01760f5",
     "showTitle": false,
     "title": ""
    }
   },
   "outputs": [
    {
     "output_type": "stream",
     "name": "stdout",
     "output_type": "stream",
     "text": [
      "Out[64]: DataFrame[]"
     ]
    }
   ],
   "source": [
    "spark.sql(\"CREATE TABLE flights_from_select1 USING parquet AS SELECT * FROM flights_csv2;\")"
   ]
  },
  {
   "cell_type": "markdown",
   "metadata": {
    "application/vnd.databricks.v1+cell": {
     "cellMetadata": {
      "byteLimit": 2048000,
      "rowLimit": 10000
     },
     "inputWidgets": {},
     "nuid": "afc3b743-ae36-4dd8-9d18-2814692cfe6f",
     "showTitle": false,
     "title": ""
    }
   },
   "source": [
    "<span style=\"color:blue\">\n",
    "Getting Metadata details of Unmanged table in sparksql"
   ]
  },
  {
   "cell_type": "code",
   "execution_count": 0,
   "metadata": {
    "application/vnd.databricks.v1+cell": {
     "cellMetadata": {
      "byteLimit": 2048000,
      "implicitDf": true,
      "rowLimit": 10000
     },
     "inputWidgets": {},
     "nuid": "0878f4c0-ef7d-44ad-8bc7-5999bc1f5fb4",
     "showTitle": false,
     "title": ""
    }
   },
   "outputs": [
    {
     "output_type": "display_data",
     "data": {
      "text/html": [
       "<style scoped>\n",
       "  .table-result-container {\n",
       "    max-height: 300px;\n",
       "    overflow: auto;\n",
       "  }\n",
       "  table, th, td {\n",
       "    border: 1px solid black;\n",
       "    border-collapse: collapse;\n",
       "  }\n",
       "  th, td {\n",
       "    padding: 5px;\n",
       "  }\n",
       "  th {\n",
       "    text-align: left;\n",
       "  }\n",
       "</style><div class='table-result-container'><table class='table-result'><thead style='background-color: white'><tr><th>col_name</th><th>data_type</th><th>comment</th></tr></thead><tbody><tr><td>DEST_COUNTRY_NAME</td><td>string</td><td>null</td></tr><tr><td>ORIGIN_COUNTRY_NAME</td><td>string</td><td>remember, the US will be most prevalent</td></tr><tr><td>count</td><td>bigint</td><td>null</td></tr></tbody></table></div>"
      ]
     },
     "metadata": {
      "application/vnd.databricks.v1+output": {
       "addedWidgets": {},
       "aggData": [],
       "aggError": "",
       "aggOverflow": false,
       "aggSchema": [],
       "aggSeriesLimitReached": false,
       "aggType": "",
       "arguments": {},
       "columnCustomDisplayInfos": {},
       "data": [
        [
         "DEST_COUNTRY_NAME",
         "string",
         null
        ],
        [
         "ORIGIN_COUNTRY_NAME",
         "string",
         "remember, the US will be most prevalent"
        ],
        [
         "count",
         "bigint",
         null
        ]
       ],
       "datasetInfos": [],
       "dbfsResultPath": null,
       "isJsonSchema": true,
       "metadata": {},
       "overflow": false,
       "plotOptions": {
        "customPlotOptions": {},
        "displayType": "table",
        "pivotAggregation": null,
        "pivotColumns": null,
        "xColumns": null,
        "yColumns": null
       },
       "removedWidgets": [],
       "schema": [
        {
         "metadata": "{\"comment\":\"name of the column\"}",
         "name": "col_name",
         "type": "\"string\""
        },
        {
         "metadata": "{\"comment\":\"data type of the column\"}",
         "name": "data_type",
         "type": "\"string\""
        },
        {
         "metadata": "{\"comment\":\"comment of the column\"}",
         "name": "comment",
         "type": "\"string\""
        }
       ],
       "type": "table"
      }
     },
     "output_type": "display_data"
    }
   ],
   "source": [
    "%sql\n",
    "select\n",
    "  *\n",
    "from\n",
    "  flights_from_select1;\n",
    "DESCRIBE TABLE flights_from_select1"
   ]
  },
  {
   "cell_type": "markdown",
   "metadata": {
    "application/vnd.databricks.v1+cell": {
     "cellMetadata": {
      "byteLimit": 2048000,
      "rowLimit": 10000
     },
     "inputWidgets": {},
     "nuid": "d9aef566-be02-4943-a230-f49be5a500fd",
     "showTitle": false,
     "title": ""
    }
   },
   "source": [
    "<span style=\"color:blue\">\n",
    "Reading text file in Spark ,Store it in a data frame and show top 20 records"
   ]
  },
  {
   "cell_type": "code",
   "execution_count": 0,
   "metadata": {
    "application/vnd.databricks.v1+cell": {
     "cellMetadata": {
      "byteLimit": 2048000,
      "rowLimit": 10000
     },
     "inputWidgets": {},
     "nuid": "b01e9304-e036-4491-bed3-4a38bd8fbfe0",
     "showTitle": false,
     "title": ""
    }
   },
   "outputs": [
    {
     "output_type": "stream",
     "name": "stdout",
     "output_type": "stream",
     "text": [
      "+--------------------+\n|               value|\n+--------------------+\n|CREATE OR TABLE A...|\n|                    |\n|CREATE OR REPLACE...|\n|TOTAL VARCHAR(200...|\n|                    |\n|CREATE TABLE COAC...|\n|                    |\n|CREATE TABLE TEAM...|\n|                  );|\n|                    |\n|CREATE OR REPLACE...|\n|                    |\n|                    |\n|CREATE STORAGE IN...|\n|  TYPE = EXTERNAL...|\n|  STORAGE_PROVIDE...|\n|      ENABLED = TRUE|\n|  AZURE_TENANT_ID...|\n|  STORAGE_ALLOWED...|\n|                    |\n+--------------------+\nonly showing top 20 rows\n\n"
     ]
    }
   ],
   "source": [
    "snowflake_query_df = spark.read.text(\"dbfs:/FileStore/shared_uploads/ajayacme04@gmail.com/QUERYSNOWFLAKE_MEDAL.txt\")\n",
    "snowflake_query_df.show()"
   ]
  },
  {
   "cell_type": "code",
   "execution_count": 0,
   "metadata": {
    "application/vnd.databricks.v1+cell": {
     "cellMetadata": {
      "byteLimit": 2048000,
      "implicitDf": true,
      "rowLimit": 10000
     },
     "inputWidgets": {},
     "nuid": "d6c32973-7210-4090-b06a-5bf16228a1b6",
     "showTitle": false,
     "title": ""
    }
   },
   "outputs": [
    {
     "output_type": "display_data",
     "data": {
      "text/html": [
       "<style scoped>\n",
       "  .table-result-container {\n",
       "    max-height: 300px;\n",
       "    overflow: auto;\n",
       "  }\n",
       "  table, th, td {\n",
       "    border: 1px solid black;\n",
       "    border-collapse: collapse;\n",
       "  }\n",
       "  th, td {\n",
       "    padding: 5px;\n",
       "  }\n",
       "  th {\n",
       "    text-align: left;\n",
       "  }\n",
       "</style><div class='table-result-container'><table class='table-result'><thead style='background-color: white'><tr><th>DEST_COUNTRY_NAME</th><th>ORIGIN_COUNTRY_NAME</th><th>count</th></tr></thead><tbody><tr><td>United States</td><td>Romania</td><td>15</td></tr><tr><td>United States</td><td>Croatia</td><td>1</td></tr><tr><td>United States</td><td>Ireland</td><td>344</td></tr><tr><td>Egypt</td><td>United States</td><td>15</td></tr><tr><td>United States</td><td>India</td><td>62</td></tr><tr><td>United States</td><td>Singapore</td><td>1</td></tr><tr><td>United States</td><td>Grenada</td><td>62</td></tr><tr><td>Costa Rica</td><td>United States</td><td>588</td></tr><tr><td>Senegal</td><td>United States</td><td>40</td></tr><tr><td>Moldova</td><td>United States</td><td>1</td></tr></tbody></table></div>"
      ]
     },
     "metadata": {
      "application/vnd.databricks.v1+output": {
       "addedWidgets": {},
       "aggData": [],
       "aggError": "",
       "aggOverflow": false,
       "aggSchema": [],
       "aggSeriesLimitReached": false,
       "aggType": "",
       "arguments": {},
       "columnCustomDisplayInfos": {},
       "data": [
        [
         "United States",
         "Romania",
         15
        ],
        [
         "United States",
         "Croatia",
         1
        ],
        [
         "United States",
         "Ireland",
         344
        ],
        [
         "Egypt",
         "United States",
         15
        ],
        [
         "United States",
         "India",
         62
        ],
        [
         "United States",
         "Singapore",
         1
        ],
        [
         "United States",
         "Grenada",
         62
        ],
        [
         "Costa Rica",
         "United States",
         588
        ],
        [
         "Senegal",
         "United States",
         40
        ],
        [
         "Moldova",
         "United States",
         1
        ]
       ],
       "datasetInfos": [],
       "dbfsResultPath": null,
       "isJsonSchema": true,
       "metadata": {},
       "overflow": false,
       "plotOptions": {
        "customPlotOptions": {},
        "displayType": "table",
        "pivotAggregation": null,
        "pivotColumns": null,
        "xColumns": null,
        "yColumns": null
       },
       "removedWidgets": [],
       "schema": [
        {
         "metadata": "{}",
         "name": "DEST_COUNTRY_NAME",
         "type": "\"string\""
        },
        {
         "metadata": "{\"comment\":\"remember, the US will be most prevalent\"}",
         "name": "ORIGIN_COUNTRY_NAME",
         "type": "\"string\""
        },
        {
         "metadata": "{}",
         "name": "count",
         "type": "\"long\""
        }
       ],
       "type": "table"
      }
     },
     "output_type": "display_data"
    }
   ],
   "source": [
    "%sql\n",
    "select\n",
    "  *\n",
    "from\n",
    "  flights_csv1\n",
    "LIMIT\n",
    "  10;"
   ]
  },
  {
   "cell_type": "markdown",
   "metadata": {
    "application/vnd.databricks.v1+cell": {
     "cellMetadata": {
      "byteLimit": 2048000,
      "rowLimit": 10000
     },
     "inputWidgets": {},
     "nuid": "07096dba-6070-4c18-8786-a9824eb41455",
     "showTitle": false,
     "title": ""
    }
   },
   "source": [
    "<span style=\"color:blue\">\n",
    "Creating External Table in Sparksql using file location path"
   ]
  },
  {
   "cell_type": "code",
   "execution_count": 0,
   "metadata": {
    "application/vnd.databricks.v1+cell": {
     "cellMetadata": {
      "byteLimit": 2048000,
      "implicitDf": true,
      "rowLimit": 10000
     },
     "inputWidgets": {},
     "nuid": "d4da7b75-2911-45f0-818a-b15dbaa5e995",
     "showTitle": false,
     "title": ""
    }
   },
   "outputs": [
    {
     "output_type": "display_data",
     "data": {
      "text/html": [
       "<style scoped>\n",
       "  .table-result-container {\n",
       "    max-height: 300px;\n",
       "    overflow: auto;\n",
       "  }\n",
       "  table, th, td {\n",
       "    border: 1px solid black;\n",
       "    border-collapse: collapse;\n",
       "  }\n",
       "  th, td {\n",
       "    padding: 5px;\n",
       "  }\n",
       "  th {\n",
       "    text-align: left;\n",
       "  }\n",
       "</style><div class='table-result-container'><table class='table-result'><thead style='background-color: white'><tr></tr></thead><tbody></tbody></table></div>"
      ]
     },
     "metadata": {
      "application/vnd.databricks.v1+output": {
       "addedWidgets": {},
       "aggData": [],
       "aggError": "",
       "aggOverflow": false,
       "aggSchema": [],
       "aggSeriesLimitReached": false,
       "aggType": "",
       "arguments": {},
       "columnCustomDisplayInfos": {},
       "data": [],
       "datasetInfos": [],
       "dbfsResultPath": null,
       "isJsonSchema": true,
       "metadata": {},
       "overflow": false,
       "plotOptions": {
        "customPlotOptions": {},
        "displayType": "table",
        "pivotAggregation": null,
        "pivotColumns": null,
        "xColumns": null,
        "yColumns": null
       },
       "removedWidgets": [],
       "schema": [],
       "type": "table"
      }
     },
     "output_type": "display_data"
    }
   ],
   "source": [
    "%sql\n",
    "CREATE EXTERNAL TABLE hive_flights1 (\n",
    "  DEST_COUNTRY_NAME STRING,\n",
    "  ORIGIN_COUNTRY_NAME STRING,\n",
    "  count LONG\n",
    ") ROW FORMAT DELIMITED FIELDS TERMINATED BY ',' LOCATION '/data/flight-data-hive/'"
   ]
  },
  {
   "cell_type": "markdown",
   "metadata": {
    "application/vnd.databricks.v1+cell": {
     "cellMetadata": {
      "byteLimit": 2048000,
      "rowLimit": 10000
     },
     "inputWidgets": {},
     "nuid": "799e0a2d-6ce3-4998-af74-addde74df8d6",
     "showTitle": false,
     "title": ""
    }
   },
   "source": [
    "<span style=\"color:blue\">\n",
    "Insert Data into hive table called hive_flights by using existing table called flights_csv1"
   ]
  },
  {
   "cell_type": "code",
   "execution_count": 0,
   "metadata": {
    "application/vnd.databricks.v1+cell": {
     "cellMetadata": {
      "byteLimit": 2048000,
      "implicitDf": true,
      "rowLimit": 10000
     },
     "inputWidgets": {},
     "nuid": "84da7871-841d-441d-bed2-d95b5965680f",
     "showTitle": false,
     "title": ""
    }
   },
   "outputs": [
    {
     "output_type": "display_data",
     "data": {
      "text/html": [
       "<style scoped>\n",
       "  .table-result-container {\n",
       "    max-height: 300px;\n",
       "    overflow: auto;\n",
       "  }\n",
       "  table, th, td {\n",
       "    border: 1px solid black;\n",
       "    border-collapse: collapse;\n",
       "  }\n",
       "  th, td {\n",
       "    padding: 5px;\n",
       "  }\n",
       "  th {\n",
       "    text-align: left;\n",
       "  }\n",
       "</style><div class='table-result-container'><table class='table-result'><thead style='background-color: white'><tr></tr></thead><tbody></tbody></table></div>"
      ]
     },
     "metadata": {
      "application/vnd.databricks.v1+output": {
       "addedWidgets": {},
       "aggData": [],
       "aggError": "",
       "aggOverflow": false,
       "aggSchema": [],
       "aggSeriesLimitReached": false,
       "aggType": "",
       "arguments": {},
       "columnCustomDisplayInfos": {},
       "data": [],
       "datasetInfos": [],
       "dbfsResultPath": null,
       "isJsonSchema": true,
       "metadata": {},
       "overflow": false,
       "plotOptions": {
        "customPlotOptions": {},
        "displayType": "table",
        "pivotAggregation": null,
        "pivotColumns": null,
        "xColumns": null,
        "yColumns": null
       },
       "removedWidgets": [],
       "schema": [],
       "type": "table"
      }
     },
     "output_type": "display_data"
    }
   ],
   "source": [
    "%sql\n",
    "INSERT INTO\n",
    "  hive_flights\n",
    "SELECT\n",
    "  *\n",
    "FROM\n",
    "  flights_csv2;"
   ]
  },
  {
   "cell_type": "code",
   "execution_count": 0,
   "metadata": {
    "application/vnd.databricks.v1+cell": {
     "cellMetadata": {
      "byteLimit": 2048000,
      "implicitDf": true,
      "rowLimit": 10000
     },
     "inputWidgets": {},
     "nuid": "c29fca40-8f50-45b0-8cf6-073ef24a6602",
     "showTitle": false,
     "title": ""
    }
   },
   "outputs": [
    {
     "output_type": "display_data",
     "data": {
      "text/html": [
       "<style scoped>\n",
       "  .table-result-container {\n",
       "    max-height: 300px;\n",
       "    overflow: auto;\n",
       "  }\n",
       "  table, th, td {\n",
       "    border: 1px solid black;\n",
       "    border-collapse: collapse;\n",
       "  }\n",
       "  th, td {\n",
       "    padding: 5px;\n",
       "  }\n",
       "  th {\n",
       "    text-align: left;\n",
       "  }\n",
       "</style><div class='table-result-container'><table class='table-result'><thead style='background-color: white'><tr><th>DEST_COUNTRY_NAME</th><th>ORIGIN_COUNTRY_NAME</th><th>count</th></tr></thead><tbody><tr><td>United States</td><td>Romania</td><td>15</td></tr><tr><td>United States</td><td>Croatia</td><td>1</td></tr><tr><td>United States</td><td>Ireland</td><td>344</td></tr><tr><td>Egypt</td><td>United States</td><td>15</td></tr><tr><td>United States</td><td>India</td><td>62</td></tr><tr><td>United States</td><td>Singapore</td><td>1</td></tr><tr><td>United States</td><td>Grenada</td><td>62</td></tr><tr><td>Costa Rica</td><td>United States</td><td>588</td></tr><tr><td>Senegal</td><td>United States</td><td>40</td></tr><tr><td>Moldova</td><td>United States</td><td>1</td></tr></tbody></table></div>"
      ]
     },
     "metadata": {
      "application/vnd.databricks.v1+output": {
       "addedWidgets": {},
       "aggData": [],
       "aggError": "",
       "aggOverflow": false,
       "aggSchema": [],
       "aggSeriesLimitReached": false,
       "aggType": "",
       "arguments": {},
       "columnCustomDisplayInfos": {},
       "data": [
        [
         "United States",
         "Romania",
         15
        ],
        [
         "United States",
         "Croatia",
         1
        ],
        [
         "United States",
         "Ireland",
         344
        ],
        [
         "Egypt",
         "United States",
         15
        ],
        [
         "United States",
         "India",
         62
        ],
        [
         "United States",
         "Singapore",
         1
        ],
        [
         "United States",
         "Grenada",
         62
        ],
        [
         "Costa Rica",
         "United States",
         588
        ],
        [
         "Senegal",
         "United States",
         40
        ],
        [
         "Moldova",
         "United States",
         1
        ]
       ],
       "datasetInfos": [],
       "dbfsResultPath": null,
       "isJsonSchema": true,
       "metadata": {},
       "overflow": false,
       "plotOptions": {
        "customPlotOptions": {},
        "displayType": "table",
        "pivotAggregation": null,
        "pivotColumns": null,
        "xColumns": null,
        "yColumns": null
       },
       "removedWidgets": [],
       "schema": [
        {
         "metadata": "{}",
         "name": "DEST_COUNTRY_NAME",
         "type": "\"string\""
        },
        {
         "metadata": "{}",
         "name": "ORIGIN_COUNTRY_NAME",
         "type": "\"string\""
        },
        {
         "metadata": "{}",
         "name": "count",
         "type": "\"long\""
        }
       ],
       "type": "table"
      }
     },
     "output_type": "display_data"
    }
   ],
   "source": [
    "%sql\n",
    "select\n",
    "  *\n",
    "from\n",
    "  hive_flights\n",
    "LIMIT\n",
    "  10;"
   ]
  },
  {
   "cell_type": "code",
   "execution_count": 0,
   "metadata": {
    "application/vnd.databricks.v1+cell": {
     "cellMetadata": {
      "byteLimit": 2048000,
      "implicitDf": true,
      "rowLimit": 10000
     },
     "inputWidgets": {},
     "nuid": "357cda89-644e-49d2-af9e-dc098b569d90",
     "showTitle": false,
     "title": ""
    }
   },
   "outputs": [
    {
     "output_type": "display_data",
     "data": {
      "text/html": [
       "<style scoped>\n",
       "  .table-result-container {\n",
       "    max-height: 300px;\n",
       "    overflow: auto;\n",
       "  }\n",
       "  table, th, td {\n",
       "    border: 1px solid black;\n",
       "    border-collapse: collapse;\n",
       "  }\n",
       "  th, td {\n",
       "    padding: 5px;\n",
       "  }\n",
       "  th {\n",
       "    text-align: left;\n",
       "  }\n",
       "</style><div class='table-result-container'><table class='table-result'><thead style='background-color: white'><tr></tr></thead><tbody></tbody></table></div>"
      ]
     },
     "metadata": {
      "application/vnd.databricks.v1+output": {
       "addedWidgets": {},
       "aggData": [],
       "aggError": "",
       "aggOverflow": false,
       "aggSchema": [],
       "aggSeriesLimitReached": false,
       "aggType": "",
       "arguments": {},
       "columnCustomDisplayInfos": {},
       "data": [],
       "datasetInfos": [],
       "dbfsResultPath": null,
       "isJsonSchema": true,
       "metadata": {},
       "overflow": false,
       "plotOptions": {
        "customPlotOptions": {},
        "displayType": "table",
        "pivotAggregation": null,
        "pivotColumns": null,
        "xColumns": null,
        "yColumns": null
       },
       "removedWidgets": [],
       "schema": [],
       "type": "table"
      }
     },
     "output_type": "display_data"
    }
   ],
   "source": [
    "%sql\n",
    "CREATE EXTERNAL TABLE hive_flights_2 ROW FORMAT DELIMITED FIELDS TERMINATED BY ',' LOCATION '/data/flight-data-hive2/' AS\n",
    "SELECT\n",
    "  *\n",
    "FROM\n",
    "  flights_csv2"
   ]
  },
  {
   "cell_type": "code",
   "execution_count": 0,
   "metadata": {
    "application/vnd.databricks.v1+cell": {
     "cellMetadata": {
      "byteLimit": 2048000,
      "implicitDf": true,
      "rowLimit": 10000
     },
     "inputWidgets": {},
     "nuid": "de26f99d-016e-4255-a1c9-9f83490a9023",
     "showTitle": false,
     "title": ""
    }
   },
   "outputs": [
    {
     "output_type": "display_data",
     "data": {
      "text/html": [
       "<style scoped>\n",
       "  .table-result-container {\n",
       "    max-height: 300px;\n",
       "    overflow: auto;\n",
       "  }\n",
       "  table, th, td {\n",
       "    border: 1px solid black;\n",
       "    border-collapse: collapse;\n",
       "  }\n",
       "  th, td {\n",
       "    padding: 5px;\n",
       "  }\n",
       "  th {\n",
       "    text-align: left;\n",
       "  }\n",
       "</style><div class='table-result-container'><table class='table-result'><thead style='background-color: white'><tr><th>col_name</th><th>data_type</th><th>comment</th></tr></thead><tbody><tr><td>DEST_COUNTRY_NAME</td><td>string</td><td>null</td></tr><tr><td>ORIGIN_COUNTRY_NAME</td><td>string</td><td>null</td></tr><tr><td>count</td><td>bigint</td><td>null</td></tr></tbody></table></div>"
      ]
     },
     "metadata": {
      "application/vnd.databricks.v1+output": {
       "addedWidgets": {},
       "aggData": [],
       "aggError": "",
       "aggOverflow": false,
       "aggSchema": [],
       "aggSeriesLimitReached": false,
       "aggType": "",
       "arguments": {},
       "columnCustomDisplayInfos": {},
       "data": [
        [
         "DEST_COUNTRY_NAME",
         "string",
         null
        ],
        [
         "ORIGIN_COUNTRY_NAME",
         "string",
         null
        ],
        [
         "count",
         "bigint",
         null
        ]
       ],
       "datasetInfos": [],
       "dbfsResultPath": null,
       "isJsonSchema": true,
       "metadata": {},
       "overflow": false,
       "plotOptions": {
        "customPlotOptions": {},
        "displayType": "table",
        "pivotAggregation": null,
        "pivotColumns": null,
        "xColumns": null,
        "yColumns": null
       },
       "removedWidgets": [],
       "schema": [
        {
         "metadata": "{\"comment\":\"name of the column\"}",
         "name": "col_name",
         "type": "\"string\""
        },
        {
         "metadata": "{\"comment\":\"data type of the column\"}",
         "name": "data_type",
         "type": "\"string\""
        },
        {
         "metadata": "{\"comment\":\"comment of the column\"}",
         "name": "comment",
         "type": "\"string\""
        }
       ],
       "type": "table"
      }
     },
     "output_type": "display_data"
    }
   ],
   "source": [
    "%sql\n",
    "--DESCRIBE TABLE flights_csv1\n",
    "DESCRIBE TABLE Flight_JSON_View"
   ]
  },
  {
   "cell_type": "markdown",
   "metadata": {
    "application/vnd.databricks.v1+cell": {
     "cellMetadata": {
      "byteLimit": 2048000,
      "rowLimit": 10000
     },
     "inputWidgets": {},
     "nuid": "29c093d6-3713-4672-8eb0-efcfb4291fba",
     "showTitle": false,
     "title": ""
    }
   },
   "source": [
    "<span style=\"color:blue\">\n",
    "Creating View in Sparksql from query result of a table"
   ]
  },
  {
   "cell_type": "code",
   "execution_count": 0,
   "metadata": {
    "application/vnd.databricks.v1+cell": {
     "cellMetadata": {
      "byteLimit": 2048000,
      "implicitDf": true,
      "rowLimit": 10000
     },
     "inputWidgets": {},
     "nuid": "38b974ae-4582-4ba8-8db3-e659d9d03281",
     "showTitle": false,
     "title": ""
    }
   },
   "outputs": [
    {
     "output_type": "display_data",
     "data": {
      "text/html": [
       "<style scoped>\n",
       "  .table-result-container {\n",
       "    max-height: 300px;\n",
       "    overflow: auto;\n",
       "  }\n",
       "  table, th, td {\n",
       "    border: 1px solid black;\n",
       "    border-collapse: collapse;\n",
       "  }\n",
       "  th, td {\n",
       "    padding: 5px;\n",
       "  }\n",
       "  th {\n",
       "    text-align: left;\n",
       "  }\n",
       "</style><div class='table-result-container'><table class='table-result'><thead style='background-color: white'><tr></tr></thead><tbody></tbody></table></div>"
      ]
     },
     "metadata": {
      "application/vnd.databricks.v1+output": {
       "addedWidgets": {},
       "aggData": [],
       "aggError": "",
       "aggOverflow": false,
       "aggSchema": [],
       "aggSeriesLimitReached": false,
       "aggType": "",
       "arguments": {},
       "columnCustomDisplayInfos": {},
       "data": [],
       "datasetInfos": [],
       "dbfsResultPath": null,
       "isJsonSchema": true,
       "metadata": {},
       "overflow": false,
       "plotOptions": {
        "customPlotOptions": {},
        "displayType": "table",
        "pivotAggregation": null,
        "pivotColumns": null,
        "xColumns": null,
        "yColumns": null
       },
       "removedWidgets": [],
       "schema": [],
       "type": "table"
      }
     },
     "output_type": "display_data"
    }
   ],
   "source": [
    "%sql\n",
    "CREATE VIEW just_usa_view1 AS\n",
    "SELECT\n",
    "  *\n",
    "FROM\n",
    "  flights_csv1\n",
    "WHERE\n",
    "  dest_country_name = 'United States'"
   ]
  },
  {
   "cell_type": "code",
   "execution_count": 0,
   "metadata": {
    "application/vnd.databricks.v1+cell": {
     "cellMetadata": {
      "byteLimit": 2048000,
      "implicitDf": true,
      "rowLimit": 10000
     },
     "inputWidgets": {},
     "nuid": "6c09adf2-44b0-4a9f-84a8-a0ef63d06be7",
     "showTitle": false,
     "title": ""
    }
   },
   "outputs": [
    {
     "output_type": "display_data",
     "data": {
      "text/html": [
       "<style scoped>\n",
       "  .table-result-container {\n",
       "    max-height: 300px;\n",
       "    overflow: auto;\n",
       "  }\n",
       "  table, th, td {\n",
       "    border: 1px solid black;\n",
       "    border-collapse: collapse;\n",
       "  }\n",
       "  th, td {\n",
       "    padding: 5px;\n",
       "  }\n",
       "  th {\n",
       "    text-align: left;\n",
       "  }\n",
       "</style><div class='table-result-container'><table class='table-result'><thead style='background-color: white'><tr><th>DEST_COUNTRY_NAME</th><th>ORIGIN_COUNTRY_NAME</th><th>count</th></tr></thead><tbody><tr><td>United States</td><td>Romania</td><td>15</td></tr><tr><td>United States</td><td>Croatia</td><td>1</td></tr><tr><td>United States</td><td>Ireland</td><td>344</td></tr><tr><td>United States</td><td>India</td><td>62</td></tr><tr><td>United States</td><td>Singapore</td><td>1</td></tr><tr><td>United States</td><td>Grenada</td><td>62</td></tr><tr><td>United States</td><td>Sint Maarten</td><td>325</td></tr><tr><td>United States</td><td>Marshall Islands</td><td>39</td></tr><tr><td>United States</td><td>Paraguay</td><td>6</td></tr><tr><td>United States</td><td>Gibraltar</td><td>1</td></tr><tr><td>United States</td><td>Federated States of Micronesia</td><td>69</td></tr><tr><td>United States</td><td>Russia</td><td>161</td></tr><tr><td>United States</td><td>Netherlands</td><td>660</td></tr><tr><td>United States</td><td>Senegal</td><td>42</td></tr><tr><td>United States</td><td>Angola</td><td>13</td></tr><tr><td>United States</td><td>Anguilla</td><td>38</td></tr><tr><td>United States</td><td>Ecuador</td><td>300</td></tr><tr><td>United States</td><td>Cyprus</td><td>1</td></tr><tr><td>United States</td><td>Portugal</td><td>134</td></tr><tr><td>United States</td><td>Costa Rica</td><td>608</td></tr><tr><td>United States</td><td>Guatemala</td><td>318</td></tr><tr><td>United States</td><td>Suriname</td><td>34</td></tr><tr><td>United States</td><td>Cape Verde</td><td>14</td></tr><tr><td>United States</td><td>Jamaica</td><td>712</td></tr><tr><td>United States</td><td>Malaysia</td><td>3</td></tr><tr><td>United States</td><td>Morocco</td><td>19</td></tr><tr><td>United States</td><td>Samoa</td><td>25</td></tr><tr><td>United States</td><td>Palau</td><td>31</td></tr><tr><td>United States</td><td>Venezuela</td><td>246</td></tr><tr><td>United States</td><td>Chile</td><td>185</td></tr><tr><td>United States</td><td>Finland</td><td>28</td></tr><tr><td>United States</td><td>Greece</td><td>23</td></tr><tr><td>United States</td><td>The Bahamas</td><td>986</td></tr><tr><td>United States</td><td>Hong Kong</td><td>414</td></tr><tr><td>United States</td><td>China</td><td>920</td></tr><tr><td>United States</td><td>Vietnam</td><td>2</td></tr><tr><td>United States</td><td>Kuwait</td><td>28</td></tr><tr><td>United States</td><td>Dominican Republic</td><td>1420</td></tr><tr><td>United States</td><td>Egypt</td><td>12</td></tr><tr><td>United States</td><td>United States</td><td>370002</td></tr><tr><td>United States</td><td>Luxembourg</td><td>134</td></tr><tr><td>United States</td><td>Poland</td><td>33</td></tr><tr><td>United States</td><td>Saint Barthelemy</td><td>41</td></tr><tr><td>United States</td><td>Turkey</td><td>129</td></tr><tr><td>United States</td><td>Azerbaijan</td><td>21</td></tr><tr><td>United States</td><td>Estonia</td><td>1</td></tr><tr><td>United States</td><td>South Korea</td><td>827</td></tr><tr><td>United States</td><td>El Salvador</td><td>508</td></tr><tr><td>United States</td><td>Hungary</td><td>3</td></tr><tr><td>United States</td><td>Ethiopia</td><td>12</td></tr><tr><td>United States</td><td>Panama</td><td>465</td></tr><tr><td>United States</td><td>Aruba</td><td>342</td></tr><tr><td>United States</td><td>Thailand</td><td>4</td></tr><tr><td>United States</td><td>Turks and Caicos Islands</td><td>236</td></tr><tr><td>United States</td><td>Pakistan</td><td>12</td></tr><tr><td>United States</td><td>Honduras</td><td>407</td></tr><tr><td>United States</td><td>Liberia</td><td>2</td></tr><tr><td>United States</td><td>Malta</td><td>2</td></tr><tr><td>United States</td><td>Lithuania</td><td>1</td></tr><tr><td>United States</td><td>Guadeloupe</td><td>59</td></tr><tr><td>United States</td><td>Ukraine</td><td>13</td></tr><tr><td>United States</td><td>France</td><td>952</td></tr><tr><td>United States</td><td>Norway</td><td>115</td></tr><tr><td>United States</td><td>Kiribati</td><td>35</td></tr><tr><td>United States</td><td>Germany</td><td>1336</td></tr><tr><td>United States</td><td>New Zealand</td><td>74</td></tr><tr><td>United States</td><td>Mexico</td><td>7187</td></tr><tr><td>United States</td><td>Sweden</td><td>119</td></tr><tr><td>United States</td><td>Martinique</td><td>43</td></tr><tr><td>United States</td><td>United Arab Emirates</td><td>313</td></tr><tr><td>United States</td><td>Bulgaria</td><td>1</td></tr><tr><td>United States</td><td>Nicaragua</td><td>201</td></tr><tr><td>United States</td><td>Philippines</td><td>126</td></tr><tr><td>United States</td><td>Georgia</td><td>1</td></tr><tr><td>United States</td><td>Belgium</td><td>228</td></tr><tr><td>United States</td><td>Iceland</td><td>202</td></tr><tr><td>United States</td><td>Argentina</td><td>141</td></tr><tr><td>United States</td><td>Nigeria</td><td>50</td></tr><tr><td>United States</td><td>Austria</td><td>63</td></tr><tr><td>United States</td><td>Bonaire, Sint Eustatius, and Saba</td><td>59</td></tr><tr><td>United States</td><td>Israel</td><td>127</td></tr><tr><td>United States</td><td>Saint Lucia</td><td>136</td></tr><tr><td>United States</td><td>Bahrain</td><td>1</td></tr><tr><td>United States</td><td>British Virgin Islands</td><td>80</td></tr><tr><td>United States</td><td>Denmark</td><td>152</td></tr><tr><td>United States</td><td>Guyana</td><td>63</td></tr><tr><td>United States</td><td>Papua New Guinea</td><td>1</td></tr><tr><td>United States</td><td>Saudi Arabia</td><td>70</td></tr><tr><td>United States</td><td>Curacao</td><td>83</td></tr><tr><td>United States</td><td>Taiwan</td><td>235</td></tr><tr><td>United States</td><td>South Africa</td><td>40</td></tr><tr><td>United States</td><td>Greenland</td><td>4</td></tr><tr><td>United States</td><td>Spain</td><td>442</td></tr><tr><td>United States</td><td>Italy</td><td>438</td></tr><tr><td>United States</td><td>Switzerland</td><td>305</td></tr><tr><td>United States</td><td>Japan</td><td>1496</td></tr><tr><td>United States</td><td>Brazil</td><td>619</td></tr><tr><td>United States</td><td>Peru</td><td>337</td></tr><tr><td>United States</td><td>Belize</td><td>193</td></tr><tr><td>United States</td><td>United Kingdom</td><td>1970</td></tr><tr><td>United States</td><td>Ghana</td><td>20</td></tr><tr><td>United States</td><td>Indonesia</td><td>2</td></tr><tr><td>United States</td><td>Fiji</td><td>25</td></tr><tr><td>United States</td><td>Canada</td><td>8483</td></tr><tr><td>United States</td><td>Antigua and Barbuda</td><td>117</td></tr><tr><td>United States</td><td>French Polynesia</td><td>40</td></tr><tr><td>United States</td><td>Latvia</td><td>15</td></tr><tr><td>United States</td><td>Dominica</td><td>27</td></tr><tr><td>United States</td><td>Czech Republic</td><td>12</td></tr><tr><td>United States</td><td>Australia</td><td>258</td></tr><tr><td>United States</td><td>Cook Islands</td><td>13</td></tr><tr><td>United States</td><td>Uruguay</td><td>13</td></tr><tr><td>United States</td><td>Bermuda</td><td>193</td></tr><tr><td>United States</td><td>Cuba</td><td>478</td></tr><tr><td>United States</td><td>Montenegro</td><td>1</td></tr><tr><td>United States</td><td>Colombia</td><td>867</td></tr><tr><td>United States</td><td>Barbados</td><td>130</td></tr><tr><td>United States</td><td>Qatar</td><td>109</td></tr><tr><td>United States</td><td>Cayman Islands</td><td>310</td></tr><tr><td>United States</td><td>Jordan</td><td>44</td></tr><tr><td>United States</td><td>Namibia</td><td>1</td></tr><tr><td>United States</td><td>Trinidad and Tobago</td><td>217</td></tr><tr><td>United States</td><td>Bolivia</td><td>13</td></tr><tr><td>United States</td><td>Saint Kitts and Nevis</td><td>145</td></tr><tr><td>United States</td><td>Haiti</td><td>225</td></tr></tbody></table></div>"
      ]
     },
     "metadata": {
      "application/vnd.databricks.v1+output": {
       "addedWidgets": {},
       "aggData": [],
       "aggError": "",
       "aggOverflow": false,
       "aggSchema": [],
       "aggSeriesLimitReached": false,
       "aggType": "",
       "arguments": {},
       "columnCustomDisplayInfos": {},
       "data": [
        [
         "United States",
         "Romania",
         15
        ],
        [
         "United States",
         "Croatia",
         1
        ],
        [
         "United States",
         "Ireland",
         344
        ],
        [
         "United States",
         "India",
         62
        ],
        [
         "United States",
         "Singapore",
         1
        ],
        [
         "United States",
         "Grenada",
         62
        ],
        [
         "United States",
         "Sint Maarten",
         325
        ],
        [
         "United States",
         "Marshall Islands",
         39
        ],
        [
         "United States",
         "Paraguay",
         6
        ],
        [
         "United States",
         "Gibraltar",
         1
        ],
        [
         "United States",
         "Federated States of Micronesia",
         69
        ],
        [
         "United States",
         "Russia",
         161
        ],
        [
         "United States",
         "Netherlands",
         660
        ],
        [
         "United States",
         "Senegal",
         42
        ],
        [
         "United States",
         "Angola",
         13
        ],
        [
         "United States",
         "Anguilla",
         38
        ],
        [
         "United States",
         "Ecuador",
         300
        ],
        [
         "United States",
         "Cyprus",
         1
        ],
        [
         "United States",
         "Portugal",
         134
        ],
        [
         "United States",
         "Costa Rica",
         608
        ],
        [
         "United States",
         "Guatemala",
         318
        ],
        [
         "United States",
         "Suriname",
         34
        ],
        [
         "United States",
         "Cape Verde",
         14
        ],
        [
         "United States",
         "Jamaica",
         712
        ],
        [
         "United States",
         "Malaysia",
         3
        ],
        [
         "United States",
         "Morocco",
         19
        ],
        [
         "United States",
         "Samoa",
         25
        ],
        [
         "United States",
         "Palau",
         31
        ],
        [
         "United States",
         "Venezuela",
         246
        ],
        [
         "United States",
         "Chile",
         185
        ],
        [
         "United States",
         "Finland",
         28
        ],
        [
         "United States",
         "Greece",
         23
        ],
        [
         "United States",
         "The Bahamas",
         986
        ],
        [
         "United States",
         "Hong Kong",
         414
        ],
        [
         "United States",
         "China",
         920
        ],
        [
         "United States",
         "Vietnam",
         2
        ],
        [
         "United States",
         "Kuwait",
         28
        ],
        [
         "United States",
         "Dominican Republic",
         1420
        ],
        [
         "United States",
         "Egypt",
         12
        ],
        [
         "United States",
         "United States",
         370002
        ],
        [
         "United States",
         "Luxembourg",
         134
        ],
        [
         "United States",
         "Poland",
         33
        ],
        [
         "United States",
         "Saint Barthelemy",
         41
        ],
        [
         "United States",
         "Turkey",
         129
        ],
        [
         "United States",
         "Azerbaijan",
         21
        ],
        [
         "United States",
         "Estonia",
         1
        ],
        [
         "United States",
         "South Korea",
         827
        ],
        [
         "United States",
         "El Salvador",
         508
        ],
        [
         "United States",
         "Hungary",
         3
        ],
        [
         "United States",
         "Ethiopia",
         12
        ],
        [
         "United States",
         "Panama",
         465
        ],
        [
         "United States",
         "Aruba",
         342
        ],
        [
         "United States",
         "Thailand",
         4
        ],
        [
         "United States",
         "Turks and Caicos Islands",
         236
        ],
        [
         "United States",
         "Pakistan",
         12
        ],
        [
         "United States",
         "Honduras",
         407
        ],
        [
         "United States",
         "Liberia",
         2
        ],
        [
         "United States",
         "Malta",
         2
        ],
        [
         "United States",
         "Lithuania",
         1
        ],
        [
         "United States",
         "Guadeloupe",
         59
        ],
        [
         "United States",
         "Ukraine",
         13
        ],
        [
         "United States",
         "France",
         952
        ],
        [
         "United States",
         "Norway",
         115
        ],
        [
         "United States",
         "Kiribati",
         35
        ],
        [
         "United States",
         "Germany",
         1336
        ],
        [
         "United States",
         "New Zealand",
         74
        ],
        [
         "United States",
         "Mexico",
         7187
        ],
        [
         "United States",
         "Sweden",
         119
        ],
        [
         "United States",
         "Martinique",
         43
        ],
        [
         "United States",
         "United Arab Emirates",
         313
        ],
        [
         "United States",
         "Bulgaria",
         1
        ],
        [
         "United States",
         "Nicaragua",
         201
        ],
        [
         "United States",
         "Philippines",
         126
        ],
        [
         "United States",
         "Georgia",
         1
        ],
        [
         "United States",
         "Belgium",
         228
        ],
        [
         "United States",
         "Iceland",
         202
        ],
        [
         "United States",
         "Argentina",
         141
        ],
        [
         "United States",
         "Nigeria",
         50
        ],
        [
         "United States",
         "Austria",
         63
        ],
        [
         "United States",
         "Bonaire, Sint Eustatius, and Saba",
         59
        ],
        [
         "United States",
         "Israel",
         127
        ],
        [
         "United States",
         "Saint Lucia",
         136
        ],
        [
         "United States",
         "Bahrain",
         1
        ],
        [
         "United States",
         "British Virgin Islands",
         80
        ],
        [
         "United States",
         "Denmark",
         152
        ],
        [
         "United States",
         "Guyana",
         63
        ],
        [
         "United States",
         "Papua New Guinea",
         1
        ],
        [
         "United States",
         "Saudi Arabia",
         70
        ],
        [
         "United States",
         "Curacao",
         83
        ],
        [
         "United States",
         "Taiwan",
         235
        ],
        [
         "United States",
         "South Africa",
         40
        ],
        [
         "United States",
         "Greenland",
         4
        ],
        [
         "United States",
         "Spain",
         442
        ],
        [
         "United States",
         "Italy",
         438
        ],
        [
         "United States",
         "Switzerland",
         305
        ],
        [
         "United States",
         "Japan",
         1496
        ],
        [
         "United States",
         "Brazil",
         619
        ],
        [
         "United States",
         "Peru",
         337
        ],
        [
         "United States",
         "Belize",
         193
        ],
        [
         "United States",
         "United Kingdom",
         1970
        ],
        [
         "United States",
         "Ghana",
         20
        ],
        [
         "United States",
         "Indonesia",
         2
        ],
        [
         "United States",
         "Fiji",
         25
        ],
        [
         "United States",
         "Canada",
         8483
        ],
        [
         "United States",
         "Antigua and Barbuda",
         117
        ],
        [
         "United States",
         "French Polynesia",
         40
        ],
        [
         "United States",
         "Latvia",
         15
        ],
        [
         "United States",
         "Dominica",
         27
        ],
        [
         "United States",
         "Czech Republic",
         12
        ],
        [
         "United States",
         "Australia",
         258
        ],
        [
         "United States",
         "Cook Islands",
         13
        ],
        [
         "United States",
         "Uruguay",
         13
        ],
        [
         "United States",
         "Bermuda",
         193
        ],
        [
         "United States",
         "Cuba",
         478
        ],
        [
         "United States",
         "Montenegro",
         1
        ],
        [
         "United States",
         "Colombia",
         867
        ],
        [
         "United States",
         "Barbados",
         130
        ],
        [
         "United States",
         "Qatar",
         109
        ],
        [
         "United States",
         "Cayman Islands",
         310
        ],
        [
         "United States",
         "Jordan",
         44
        ],
        [
         "United States",
         "Namibia",
         1
        ],
        [
         "United States",
         "Trinidad and Tobago",
         217
        ],
        [
         "United States",
         "Bolivia",
         13
        ],
        [
         "United States",
         "Saint Kitts and Nevis",
         145
        ],
        [
         "United States",
         "Haiti",
         225
        ]
       ],
       "datasetInfos": [],
       "dbfsResultPath": null,
       "isJsonSchema": true,
       "metadata": {},
       "overflow": false,
       "plotOptions": {
        "customPlotOptions": {},
        "displayType": "table",
        "pivotAggregation": null,
        "pivotColumns": null,
        "xColumns": null,
        "yColumns": null
       },
       "removedWidgets": [],
       "schema": [
        {
         "metadata": "{}",
         "name": "DEST_COUNTRY_NAME",
         "type": "\"string\""
        },
        {
         "metadata": "{\"comment\":\"remember, the US will be most prevalent\"}",
         "name": "ORIGIN_COUNTRY_NAME",
         "type": "\"string\""
        },
        {
         "metadata": "{}",
         "name": "count",
         "type": "\"long\""
        }
       ],
       "type": "table"
      }
     },
     "output_type": "display_data"
    }
   ],
   "source": [
    "%sql\n",
    "select\n",
    "  *\n",
    "from\n",
    "  just_usa_view"
   ]
  },
  {
   "cell_type": "markdown",
   "metadata": {
    "application/vnd.databricks.v1+cell": {
     "cellMetadata": {
      "byteLimit": 2048000,
      "rowLimit": 10000
     },
     "inputWidgets": {},
     "nuid": "ed90637e-0e4a-41b4-ac88-f01166c9f7bd",
     "showTitle": false,
     "title": ""
    }
   },
   "source": [
    "<span style=\"color:blue\">\n",
    "Creating Temporary view from results of a sql query"
   ]
  },
  {
   "cell_type": "code",
   "execution_count": 0,
   "metadata": {
    "application/vnd.databricks.v1+cell": {
     "cellMetadata": {
      "byteLimit": 2048000,
      "implicitDf": true,
      "rowLimit": 10000
     },
     "inputWidgets": {},
     "nuid": "d45bbb6d-f194-4a1b-a805-f037085e091d",
     "showTitle": false,
     "title": ""
    }
   },
   "outputs": [
    {
     "output_type": "display_data",
     "data": {
      "text/html": [
       "<style scoped>\n",
       "  .table-result-container {\n",
       "    max-height: 300px;\n",
       "    overflow: auto;\n",
       "  }\n",
       "  table, th, td {\n",
       "    border: 1px solid black;\n",
       "    border-collapse: collapse;\n",
       "  }\n",
       "  th, td {\n",
       "    padding: 5px;\n",
       "  }\n",
       "  th {\n",
       "    text-align: left;\n",
       "  }\n",
       "</style><div class='table-result-container'><table class='table-result'><thead style='background-color: white'><tr></tr></thead><tbody></tbody></table></div>"
      ]
     },
     "metadata": {
      "application/vnd.databricks.v1+output": {
       "addedWidgets": {},
       "aggData": [],
       "aggError": "",
       "aggOverflow": false,
       "aggSchema": [],
       "aggSeriesLimitReached": false,
       "aggType": "",
       "arguments": {},
       "columnCustomDisplayInfos": {},
       "data": [],
       "datasetInfos": [],
       "dbfsResultPath": null,
       "isJsonSchema": true,
       "metadata": {},
       "overflow": false,
       "plotOptions": {
        "customPlotOptions": {},
        "displayType": "table",
        "pivotAggregation": null,
        "pivotColumns": null,
        "xColumns": null,
        "yColumns": null
       },
       "removedWidgets": [],
       "schema": [],
       "type": "table"
      }
     },
     "output_type": "display_data"
    }
   ],
   "source": [
    "%sql\n",
    "CREATE TEMP VIEW just_usa_view_temp1 AS\n",
    "SELECT\n",
    "  *\n",
    "FROM\n",
    "  flights_csv1\n",
    "WHERE\n",
    "  dest_country_name = 'United States'"
   ]
  },
  {
   "cell_type": "code",
   "execution_count": 0,
   "metadata": {
    "application/vnd.databricks.v1+cell": {
     "cellMetadata": {
      "byteLimit": 2048000,
      "implicitDf": true,
      "rowLimit": 10000
     },
     "inputWidgets": {},
     "nuid": "291a69f5-6b21-488d-91d6-ea75c46ce9ec",
     "showTitle": false,
     "title": ""
    }
   },
   "outputs": [
    {
     "output_type": "display_data",
     "data": {
      "text/html": [
       "<style scoped>\n",
       "  .table-result-container {\n",
       "    max-height: 300px;\n",
       "    overflow: auto;\n",
       "  }\n",
       "  table, th, td {\n",
       "    border: 1px solid black;\n",
       "    border-collapse: collapse;\n",
       "  }\n",
       "  th, td {\n",
       "    padding: 5px;\n",
       "  }\n",
       "  th {\n",
       "    text-align: left;\n",
       "  }\n",
       "</style><div class='table-result-container'><table class='table-result'><thead style='background-color: white'><tr><th>DEST_COUNTRY_NAME</th><th>ORIGIN_COUNTRY_NAME</th><th>count</th></tr></thead><tbody><tr><td>United States</td><td>Romania</td><td>15</td></tr><tr><td>United States</td><td>Croatia</td><td>1</td></tr><tr><td>United States</td><td>Ireland</td><td>344</td></tr><tr><td>United States</td><td>India</td><td>62</td></tr><tr><td>United States</td><td>Singapore</td><td>1</td></tr><tr><td>United States</td><td>Grenada</td><td>62</td></tr><tr><td>United States</td><td>Sint Maarten</td><td>325</td></tr><tr><td>United States</td><td>Marshall Islands</td><td>39</td></tr><tr><td>United States</td><td>Paraguay</td><td>6</td></tr><tr><td>United States</td><td>Gibraltar</td><td>1</td></tr><tr><td>United States</td><td>Federated States of Micronesia</td><td>69</td></tr><tr><td>United States</td><td>Russia</td><td>161</td></tr><tr><td>United States</td><td>Netherlands</td><td>660</td></tr><tr><td>United States</td><td>Senegal</td><td>42</td></tr><tr><td>United States</td><td>Angola</td><td>13</td></tr><tr><td>United States</td><td>Anguilla</td><td>38</td></tr><tr><td>United States</td><td>Ecuador</td><td>300</td></tr><tr><td>United States</td><td>Cyprus</td><td>1</td></tr><tr><td>United States</td><td>Portugal</td><td>134</td></tr><tr><td>United States</td><td>Costa Rica</td><td>608</td></tr><tr><td>United States</td><td>Guatemala</td><td>318</td></tr><tr><td>United States</td><td>Suriname</td><td>34</td></tr><tr><td>United States</td><td>Cape Verde</td><td>14</td></tr><tr><td>United States</td><td>Jamaica</td><td>712</td></tr><tr><td>United States</td><td>Malaysia</td><td>3</td></tr><tr><td>United States</td><td>Morocco</td><td>19</td></tr><tr><td>United States</td><td>Samoa</td><td>25</td></tr><tr><td>United States</td><td>Palau</td><td>31</td></tr><tr><td>United States</td><td>Venezuela</td><td>246</td></tr><tr><td>United States</td><td>Chile</td><td>185</td></tr><tr><td>United States</td><td>Finland</td><td>28</td></tr><tr><td>United States</td><td>Greece</td><td>23</td></tr><tr><td>United States</td><td>The Bahamas</td><td>986</td></tr><tr><td>United States</td><td>Hong Kong</td><td>414</td></tr><tr><td>United States</td><td>China</td><td>920</td></tr><tr><td>United States</td><td>Vietnam</td><td>2</td></tr><tr><td>United States</td><td>Kuwait</td><td>28</td></tr><tr><td>United States</td><td>Dominican Republic</td><td>1420</td></tr><tr><td>United States</td><td>Egypt</td><td>12</td></tr><tr><td>United States</td><td>United States</td><td>370002</td></tr><tr><td>United States</td><td>Luxembourg</td><td>134</td></tr><tr><td>United States</td><td>Poland</td><td>33</td></tr><tr><td>United States</td><td>Saint Barthelemy</td><td>41</td></tr><tr><td>United States</td><td>Turkey</td><td>129</td></tr><tr><td>United States</td><td>Azerbaijan</td><td>21</td></tr><tr><td>United States</td><td>Estonia</td><td>1</td></tr><tr><td>United States</td><td>South Korea</td><td>827</td></tr><tr><td>United States</td><td>El Salvador</td><td>508</td></tr><tr><td>United States</td><td>Hungary</td><td>3</td></tr><tr><td>United States</td><td>Ethiopia</td><td>12</td></tr><tr><td>United States</td><td>Panama</td><td>465</td></tr><tr><td>United States</td><td>Aruba</td><td>342</td></tr><tr><td>United States</td><td>Thailand</td><td>4</td></tr><tr><td>United States</td><td>Turks and Caicos Islands</td><td>236</td></tr><tr><td>United States</td><td>Pakistan</td><td>12</td></tr><tr><td>United States</td><td>Honduras</td><td>407</td></tr><tr><td>United States</td><td>Liberia</td><td>2</td></tr><tr><td>United States</td><td>Malta</td><td>2</td></tr><tr><td>United States</td><td>Lithuania</td><td>1</td></tr><tr><td>United States</td><td>Guadeloupe</td><td>59</td></tr><tr><td>United States</td><td>Ukraine</td><td>13</td></tr><tr><td>United States</td><td>France</td><td>952</td></tr><tr><td>United States</td><td>Norway</td><td>115</td></tr><tr><td>United States</td><td>Kiribati</td><td>35</td></tr><tr><td>United States</td><td>Germany</td><td>1336</td></tr><tr><td>United States</td><td>New Zealand</td><td>74</td></tr><tr><td>United States</td><td>Mexico</td><td>7187</td></tr><tr><td>United States</td><td>Sweden</td><td>119</td></tr><tr><td>United States</td><td>Martinique</td><td>43</td></tr><tr><td>United States</td><td>United Arab Emirates</td><td>313</td></tr><tr><td>United States</td><td>Bulgaria</td><td>1</td></tr><tr><td>United States</td><td>Nicaragua</td><td>201</td></tr><tr><td>United States</td><td>Philippines</td><td>126</td></tr><tr><td>United States</td><td>Georgia</td><td>1</td></tr><tr><td>United States</td><td>Belgium</td><td>228</td></tr><tr><td>United States</td><td>Iceland</td><td>202</td></tr><tr><td>United States</td><td>Argentina</td><td>141</td></tr><tr><td>United States</td><td>Nigeria</td><td>50</td></tr><tr><td>United States</td><td>Austria</td><td>63</td></tr><tr><td>United States</td><td>Bonaire, Sint Eustatius, and Saba</td><td>59</td></tr><tr><td>United States</td><td>Israel</td><td>127</td></tr><tr><td>United States</td><td>Saint Lucia</td><td>136</td></tr><tr><td>United States</td><td>Bahrain</td><td>1</td></tr><tr><td>United States</td><td>British Virgin Islands</td><td>80</td></tr><tr><td>United States</td><td>Denmark</td><td>152</td></tr><tr><td>United States</td><td>Guyana</td><td>63</td></tr><tr><td>United States</td><td>Papua New Guinea</td><td>1</td></tr><tr><td>United States</td><td>Saudi Arabia</td><td>70</td></tr><tr><td>United States</td><td>Curacao</td><td>83</td></tr><tr><td>United States</td><td>Taiwan</td><td>235</td></tr><tr><td>United States</td><td>South Africa</td><td>40</td></tr><tr><td>United States</td><td>Greenland</td><td>4</td></tr><tr><td>United States</td><td>Spain</td><td>442</td></tr><tr><td>United States</td><td>Italy</td><td>438</td></tr><tr><td>United States</td><td>Switzerland</td><td>305</td></tr><tr><td>United States</td><td>Japan</td><td>1496</td></tr><tr><td>United States</td><td>Brazil</td><td>619</td></tr><tr><td>United States</td><td>Peru</td><td>337</td></tr><tr><td>United States</td><td>Belize</td><td>193</td></tr><tr><td>United States</td><td>United Kingdom</td><td>1970</td></tr><tr><td>United States</td><td>Ghana</td><td>20</td></tr><tr><td>United States</td><td>Indonesia</td><td>2</td></tr><tr><td>United States</td><td>Fiji</td><td>25</td></tr><tr><td>United States</td><td>Canada</td><td>8483</td></tr><tr><td>United States</td><td>Antigua and Barbuda</td><td>117</td></tr><tr><td>United States</td><td>French Polynesia</td><td>40</td></tr><tr><td>United States</td><td>Latvia</td><td>15</td></tr><tr><td>United States</td><td>Dominica</td><td>27</td></tr><tr><td>United States</td><td>Czech Republic</td><td>12</td></tr><tr><td>United States</td><td>Australia</td><td>258</td></tr><tr><td>United States</td><td>Cook Islands</td><td>13</td></tr><tr><td>United States</td><td>Uruguay</td><td>13</td></tr><tr><td>United States</td><td>Bermuda</td><td>193</td></tr><tr><td>United States</td><td>Cuba</td><td>478</td></tr><tr><td>United States</td><td>Montenegro</td><td>1</td></tr><tr><td>United States</td><td>Colombia</td><td>867</td></tr><tr><td>United States</td><td>Barbados</td><td>130</td></tr><tr><td>United States</td><td>Qatar</td><td>109</td></tr><tr><td>United States</td><td>Cayman Islands</td><td>310</td></tr><tr><td>United States</td><td>Jordan</td><td>44</td></tr><tr><td>United States</td><td>Namibia</td><td>1</td></tr><tr><td>United States</td><td>Trinidad and Tobago</td><td>217</td></tr><tr><td>United States</td><td>Bolivia</td><td>13</td></tr><tr><td>United States</td><td>Saint Kitts and Nevis</td><td>145</td></tr><tr><td>United States</td><td>Haiti</td><td>225</td></tr></tbody></table></div>"
      ]
     },
     "metadata": {
      "application/vnd.databricks.v1+output": {
       "addedWidgets": {},
       "aggData": [],
       "aggError": "",
       "aggOverflow": false,
       "aggSchema": [],
       "aggSeriesLimitReached": false,
       "aggType": "",
       "arguments": {},
       "columnCustomDisplayInfos": {},
       "data": [
        [
         "United States",
         "Romania",
         15
        ],
        [
         "United States",
         "Croatia",
         1
        ],
        [
         "United States",
         "Ireland",
         344
        ],
        [
         "United States",
         "India",
         62
        ],
        [
         "United States",
         "Singapore",
         1
        ],
        [
         "United States",
         "Grenada",
         62
        ],
        [
         "United States",
         "Sint Maarten",
         325
        ],
        [
         "United States",
         "Marshall Islands",
         39
        ],
        [
         "United States",
         "Paraguay",
         6
        ],
        [
         "United States",
         "Gibraltar",
         1
        ],
        [
         "United States",
         "Federated States of Micronesia",
         69
        ],
        [
         "United States",
         "Russia",
         161
        ],
        [
         "United States",
         "Netherlands",
         660
        ],
        [
         "United States",
         "Senegal",
         42
        ],
        [
         "United States",
         "Angola",
         13
        ],
        [
         "United States",
         "Anguilla",
         38
        ],
        [
         "United States",
         "Ecuador",
         300
        ],
        [
         "United States",
         "Cyprus",
         1
        ],
        [
         "United States",
         "Portugal",
         134
        ],
        [
         "United States",
         "Costa Rica",
         608
        ],
        [
         "United States",
         "Guatemala",
         318
        ],
        [
         "United States",
         "Suriname",
         34
        ],
        [
         "United States",
         "Cape Verde",
         14
        ],
        [
         "United States",
         "Jamaica",
         712
        ],
        [
         "United States",
         "Malaysia",
         3
        ],
        [
         "United States",
         "Morocco",
         19
        ],
        [
         "United States",
         "Samoa",
         25
        ],
        [
         "United States",
         "Palau",
         31
        ],
        [
         "United States",
         "Venezuela",
         246
        ],
        [
         "United States",
         "Chile",
         185
        ],
        [
         "United States",
         "Finland",
         28
        ],
        [
         "United States",
         "Greece",
         23
        ],
        [
         "United States",
         "The Bahamas",
         986
        ],
        [
         "United States",
         "Hong Kong",
         414
        ],
        [
         "United States",
         "China",
         920
        ],
        [
         "United States",
         "Vietnam",
         2
        ],
        [
         "United States",
         "Kuwait",
         28
        ],
        [
         "United States",
         "Dominican Republic",
         1420
        ],
        [
         "United States",
         "Egypt",
         12
        ],
        [
         "United States",
         "United States",
         370002
        ],
        [
         "United States",
         "Luxembourg",
         134
        ],
        [
         "United States",
         "Poland",
         33
        ],
        [
         "United States",
         "Saint Barthelemy",
         41
        ],
        [
         "United States",
         "Turkey",
         129
        ],
        [
         "United States",
         "Azerbaijan",
         21
        ],
        [
         "United States",
         "Estonia",
         1
        ],
        [
         "United States",
         "South Korea",
         827
        ],
        [
         "United States",
         "El Salvador",
         508
        ],
        [
         "United States",
         "Hungary",
         3
        ],
        [
         "United States",
         "Ethiopia",
         12
        ],
        [
         "United States",
         "Panama",
         465
        ],
        [
         "United States",
         "Aruba",
         342
        ],
        [
         "United States",
         "Thailand",
         4
        ],
        [
         "United States",
         "Turks and Caicos Islands",
         236
        ],
        [
         "United States",
         "Pakistan",
         12
        ],
        [
         "United States",
         "Honduras",
         407
        ],
        [
         "United States",
         "Liberia",
         2
        ],
        [
         "United States",
         "Malta",
         2
        ],
        [
         "United States",
         "Lithuania",
         1
        ],
        [
         "United States",
         "Guadeloupe",
         59
        ],
        [
         "United States",
         "Ukraine",
         13
        ],
        [
         "United States",
         "France",
         952
        ],
        [
         "United States",
         "Norway",
         115
        ],
        [
         "United States",
         "Kiribati",
         35
        ],
        [
         "United States",
         "Germany",
         1336
        ],
        [
         "United States",
         "New Zealand",
         74
        ],
        [
         "United States",
         "Mexico",
         7187
        ],
        [
         "United States",
         "Sweden",
         119
        ],
        [
         "United States",
         "Martinique",
         43
        ],
        [
         "United States",
         "United Arab Emirates",
         313
        ],
        [
         "United States",
         "Bulgaria",
         1
        ],
        [
         "United States",
         "Nicaragua",
         201
        ],
        [
         "United States",
         "Philippines",
         126
        ],
        [
         "United States",
         "Georgia",
         1
        ],
        [
         "United States",
         "Belgium",
         228
        ],
        [
         "United States",
         "Iceland",
         202
        ],
        [
         "United States",
         "Argentina",
         141
        ],
        [
         "United States",
         "Nigeria",
         50
        ],
        [
         "United States",
         "Austria",
         63
        ],
        [
         "United States",
         "Bonaire, Sint Eustatius, and Saba",
         59
        ],
        [
         "United States",
         "Israel",
         127
        ],
        [
         "United States",
         "Saint Lucia",
         136
        ],
        [
         "United States",
         "Bahrain",
         1
        ],
        [
         "United States",
         "British Virgin Islands",
         80
        ],
        [
         "United States",
         "Denmark",
         152
        ],
        [
         "United States",
         "Guyana",
         63
        ],
        [
         "United States",
         "Papua New Guinea",
         1
        ],
        [
         "United States",
         "Saudi Arabia",
         70
        ],
        [
         "United States",
         "Curacao",
         83
        ],
        [
         "United States",
         "Taiwan",
         235
        ],
        [
         "United States",
         "South Africa",
         40
        ],
        [
         "United States",
         "Greenland",
         4
        ],
        [
         "United States",
         "Spain",
         442
        ],
        [
         "United States",
         "Italy",
         438
        ],
        [
         "United States",
         "Switzerland",
         305
        ],
        [
         "United States",
         "Japan",
         1496
        ],
        [
         "United States",
         "Brazil",
         619
        ],
        [
         "United States",
         "Peru",
         337
        ],
        [
         "United States",
         "Belize",
         193
        ],
        [
         "United States",
         "United Kingdom",
         1970
        ],
        [
         "United States",
         "Ghana",
         20
        ],
        [
         "United States",
         "Indonesia",
         2
        ],
        [
         "United States",
         "Fiji",
         25
        ],
        [
         "United States",
         "Canada",
         8483
        ],
        [
         "United States",
         "Antigua and Barbuda",
         117
        ],
        [
         "United States",
         "French Polynesia",
         40
        ],
        [
         "United States",
         "Latvia",
         15
        ],
        [
         "United States",
         "Dominica",
         27
        ],
        [
         "United States",
         "Czech Republic",
         12
        ],
        [
         "United States",
         "Australia",
         258
        ],
        [
         "United States",
         "Cook Islands",
         13
        ],
        [
         "United States",
         "Uruguay",
         13
        ],
        [
         "United States",
         "Bermuda",
         193
        ],
        [
         "United States",
         "Cuba",
         478
        ],
        [
         "United States",
         "Montenegro",
         1
        ],
        [
         "United States",
         "Colombia",
         867
        ],
        [
         "United States",
         "Barbados",
         130
        ],
        [
         "United States",
         "Qatar",
         109
        ],
        [
         "United States",
         "Cayman Islands",
         310
        ],
        [
         "United States",
         "Jordan",
         44
        ],
        [
         "United States",
         "Namibia",
         1
        ],
        [
         "United States",
         "Trinidad and Tobago",
         217
        ],
        [
         "United States",
         "Bolivia",
         13
        ],
        [
         "United States",
         "Saint Kitts and Nevis",
         145
        ],
        [
         "United States",
         "Haiti",
         225
        ]
       ],
       "datasetInfos": [],
       "dbfsResultPath": null,
       "isJsonSchema": true,
       "metadata": {},
       "overflow": false,
       "plotOptions": {
        "customPlotOptions": {},
        "displayType": "table",
        "pivotAggregation": null,
        "pivotColumns": null,
        "xColumns": null,
        "yColumns": null
       },
       "removedWidgets": [],
       "schema": [
        {
         "metadata": "{}",
         "name": "DEST_COUNTRY_NAME",
         "type": "\"string\""
        },
        {
         "metadata": "{\"comment\":\"remember, the US will be most prevalent\"}",
         "name": "ORIGIN_COUNTRY_NAME",
         "type": "\"string\""
        },
        {
         "metadata": "{}",
         "name": "count",
         "type": "\"long\""
        }
       ],
       "type": "table"
      }
     },
     "output_type": "display_data"
    }
   ],
   "source": [
    "%sql\n",
    "select\n",
    "  *\n",
    "from\n",
    "  just_usa_view_temp1"
   ]
  },
  {
   "cell_type": "markdown",
   "metadata": {
    "application/vnd.databricks.v1+cell": {
     "cellMetadata": {
      "byteLimit": 2048000,
      "rowLimit": 10000
     },
     "inputWidgets": {},
     "nuid": "05a3546c-3d0d-4ab7-8ef7-47675943f9be",
     "showTitle": false,
     "title": ""
    }
   },
   "source": [
    "<span style=\"color:blue\">\n",
    "Create Global Temporay table from result of a select statmemt "
   ]
  },
  {
   "cell_type": "code",
   "execution_count": 0,
   "metadata": {
    "application/vnd.databricks.v1+cell": {
     "cellMetadata": {
      "byteLimit": 2048000,
      "implicitDf": true,
      "rowLimit": 10000
     },
     "inputWidgets": {},
     "nuid": "a6dc8571-0520-4f87-893a-d49eef987390",
     "showTitle": false,
     "title": ""
    }
   },
   "outputs": [
    {
     "output_type": "display_data",
     "data": {
      "text/html": [
       "<style scoped>\n",
       "  .table-result-container {\n",
       "    max-height: 300px;\n",
       "    overflow: auto;\n",
       "  }\n",
       "  table, th, td {\n",
       "    border: 1px solid black;\n",
       "    border-collapse: collapse;\n",
       "  }\n",
       "  th, td {\n",
       "    padding: 5px;\n",
       "  }\n",
       "  th {\n",
       "    text-align: left;\n",
       "  }\n",
       "</style><div class='table-result-container'><table class='table-result'><thead style='background-color: white'><tr></tr></thead><tbody></tbody></table></div>"
      ]
     },
     "metadata": {
      "application/vnd.databricks.v1+output": {
       "addedWidgets": {},
       "aggData": [],
       "aggError": "",
       "aggOverflow": false,
       "aggSchema": [],
       "aggSeriesLimitReached": false,
       "aggType": "",
       "arguments": {},
       "columnCustomDisplayInfos": {},
       "data": [],
       "datasetInfos": [],
       "dbfsResultPath": null,
       "isJsonSchema": true,
       "metadata": {},
       "overflow": false,
       "plotOptions": {
        "customPlotOptions": {},
        "displayType": "table",
        "pivotAggregation": null,
        "pivotColumns": null,
        "xColumns": null,
        "yColumns": null
       },
       "removedWidgets": [],
       "schema": [],
       "type": "table"
      }
     },
     "output_type": "display_data"
    }
   ],
   "source": [
    "%sql\n",
    "CREATE GLOBAL TEMP VIEW just_usa_global_view_temp1 AS\n",
    "SELECT\n",
    "  *\n",
    "FROM\n",
    "  flights_csv1\n",
    "WHERE\n",
    "  dest_country_name = 'United States'"
   ]
  },
  {
   "cell_type": "markdown",
   "metadata": {
    "application/vnd.databricks.v1+cell": {
     "cellMetadata": {
      "byteLimit": 2048000,
      "rowLimit": 10000
     },
     "inputWidgets": {},
     "nuid": "ddd263fb-4325-4690-a50f-854229a75cc2",
     "showTitle": false,
     "title": ""
    }
   },
   "source": [
    "<span style=\"color:blue\">\n",
    "Display all tables in default database of pyspark sql"
   ]
  },
  {
   "cell_type": "code",
   "execution_count": 0,
   "metadata": {
    "application/vnd.databricks.v1+cell": {
     "cellMetadata": {
      "byteLimit": 2048000,
      "implicitDf": true,
      "rowLimit": 10000
     },
     "inputWidgets": {},
     "nuid": "a49d4e9d-1796-41e4-bd7c-9d628a26b35b",
     "showTitle": false,
     "title": ""
    }
   },
   "outputs": [
    {
     "output_type": "display_data",
     "data": {
      "text/html": [
       "<style scoped>\n",
       "  .table-result-container {\n",
       "    max-height: 300px;\n",
       "    overflow: auto;\n",
       "  }\n",
       "  table, th, td {\n",
       "    border: 1px solid black;\n",
       "    border-collapse: collapse;\n",
       "  }\n",
       "  th, td {\n",
       "    padding: 5px;\n",
       "  }\n",
       "  th {\n",
       "    text-align: left;\n",
       "  }\n",
       "</style><div class='table-result-container'><table class='table-result'><thead style='background-color: white'><tr><th>database</th><th>tableName</th><th>isTemporary</th></tr></thead><tbody><tr><td>default</td><td>flights_csv1</td><td>false</td></tr><tr><td>default</td><td>flights_csv2</td><td>false</td></tr><tr><td>default</td><td>flights_from_select1</td><td>false</td></tr><tr><td>default</td><td>flights_json1</td><td>false</td></tr><tr><td>default</td><td>hive_flights</td><td>false</td></tr><tr><td>default</td><td>hive_flights1</td><td>false</td></tr><tr><td>default</td><td>hive_flights_2</td><td>false</td></tr><tr><td>default</td><td>just_usa_view</td><td>false</td></tr><tr><td>default</td><td>just_usa_view1</td><td>false</td></tr><tr><td>default</td><td>nested_data</td><td>false</td></tr><tr><td></td><td>flight_json_view</td><td>true</td></tr><tr><td></td><td>flight_view</td><td>true</td></tr><tr><td></td><td>just_usa_view_temp</td><td>true</td></tr><tr><td></td><td>just_usa_view_temp1</td><td>true</td></tr></tbody></table></div>"
      ]
     },
     "metadata": {
      "application/vnd.databricks.v1+output": {
       "addedWidgets": {},
       "aggData": [],
       "aggError": "",
       "aggOverflow": false,
       "aggSchema": [],
       "aggSeriesLimitReached": false,
       "aggType": "",
       "arguments": {},
       "columnCustomDisplayInfos": {},
       "data": [
        [
         "default",
         "flights_csv1",
         false
        ],
        [
         "default",
         "flights_csv2",
         false
        ],
        [
         "default",
         "flights_from_select1",
         false
        ],
        [
         "default",
         "flights_json1",
         false
        ],
        [
         "default",
         "hive_flights",
         false
        ],
        [
         "default",
         "hive_flights1",
         false
        ],
        [
         "default",
         "hive_flights_2",
         false
        ],
        [
         "default",
         "just_usa_view",
         false
        ],
        [
         "default",
         "just_usa_view1",
         false
        ],
        [
         "default",
         "nested_data",
         false
        ],
        [
         "",
         "flight_json_view",
         true
        ],
        [
         "",
         "flight_view",
         true
        ],
        [
         "",
         "just_usa_view_temp",
         true
        ],
        [
         "",
         "just_usa_view_temp1",
         true
        ]
       ],
       "datasetInfos": [],
       "dbfsResultPath": null,
       "isJsonSchema": true,
       "metadata": {},
       "overflow": false,
       "plotOptions": {
        "customPlotOptions": {},
        "displayType": "table",
        "pivotAggregation": null,
        "pivotColumns": null,
        "xColumns": null,
        "yColumns": null
       },
       "removedWidgets": [],
       "schema": [
        {
         "metadata": "{}",
         "name": "database",
         "type": "\"string\""
        },
        {
         "metadata": "{}",
         "name": "tableName",
         "type": "\"string\""
        },
        {
         "metadata": "{}",
         "name": "isTemporary",
         "type": "\"boolean\""
        }
       ],
       "type": "table"
      }
     },
     "output_type": "display_data"
    }
   ],
   "source": [
    "%sql\n",
    "SHOW TABLES"
   ]
  },
  {
   "cell_type": "markdown",
   "metadata": {
    "application/vnd.databricks.v1+cell": {
     "cellMetadata": {
      "byteLimit": 2048000,
      "rowLimit": 10000
     },
     "inputWidgets": {},
     "nuid": "c1dc9f5e-bf3b-4d0a-af07-8bc394c7c6a7",
     "showTitle": false,
     "title": ""
    }
   },
   "source": [
    "<span style=\"color:blue\">\n",
    "Physical Query plan of view in pyspark sql"
   ]
  },
  {
   "cell_type": "code",
   "execution_count": 0,
   "metadata": {
    "application/vnd.databricks.v1+cell": {
     "cellMetadata": {
      "byteLimit": 2048000,
      "implicitDf": true,
      "rowLimit": 10000
     },
     "inputWidgets": {},
     "nuid": "2ad4dee8-22ab-42bd-a342-6cd8ea97b4ae",
     "showTitle": false,
     "title": ""
    }
   },
   "outputs": [
    {
     "output_type": "display_data",
     "data": {
      "text/html": [
       "<style scoped>\n",
       "  .table-result-container {\n",
       "    max-height: 300px;\n",
       "    overflow: auto;\n",
       "  }\n",
       "  table, th, td {\n",
       "    border: 1px solid black;\n",
       "    border-collapse: collapse;\n",
       "  }\n",
       "  th, td {\n",
       "    padding: 5px;\n",
       "  }\n",
       "  th {\n",
       "    text-align: left;\n",
       "  }\n",
       "</style><div class='table-result-container'><table class='table-result'><thead style='background-color: white'><tr><th>plan</th></tr></thead><tbody><tr><td>== Physical Plan ==\n",
       "*(1) Filter (isnotnull(dest_country_name#867) AND (dest_country_name#867 = United States))\n",
       "+- FileScan csv spark_catalog.default.flights_csv1[DEST_COUNTRY_NAME#867,ORIGIN_COUNTRY_NAME#868,count#869L] Batched: false, DataFilters: [isnotnull(DEST_COUNTRY_NAME#867), (DEST_COUNTRY_NAME#867 = United States)], Format: CSV, Location: InMemoryFileIndex(1 paths)[dbfs:/FileStore/shared_uploads/ajayacme04@gmail.com/2015_summary.csv], PartitionFilters: [], PushedFilters: [IsNotNull(DEST_COUNTRY_NAME), EqualTo(DEST_COUNTRY_NAME,United States)], ReadSchema: struct<DEST_COUNTRY_NAME:string,ORIGIN_COUNTRY_NAME:string,count:bigint>\n",
       "\n",
       "</td></tr></tbody></table></div>"
      ]
     },
     "metadata": {
      "application/vnd.databricks.v1+output": {
       "addedWidgets": {},
       "aggData": [],
       "aggError": "",
       "aggOverflow": false,
       "aggSchema": [],
       "aggSeriesLimitReached": false,
       "aggType": "",
       "arguments": {},
       "columnCustomDisplayInfos": {},
       "data": [
        [
         "== Physical Plan ==\n*(1) Filter (isnotnull(dest_country_name#867) AND (dest_country_name#867 = United States))\n+- FileScan csv spark_catalog.default.flights_csv1[DEST_COUNTRY_NAME#867,ORIGIN_COUNTRY_NAME#868,count#869L] Batched: false, DataFilters: [isnotnull(DEST_COUNTRY_NAME#867), (DEST_COUNTRY_NAME#867 = United States)], Format: CSV, Location: InMemoryFileIndex(1 paths)[dbfs:/FileStore/shared_uploads/ajayacme04@gmail.com/2015_summary.csv], PartitionFilters: [], PushedFilters: [IsNotNull(DEST_COUNTRY_NAME), EqualTo(DEST_COUNTRY_NAME,United States)], ReadSchema: struct<DEST_COUNTRY_NAME:string,ORIGIN_COUNTRY_NAME:string,count:bigint>\n\n"
        ]
       ],
       "datasetInfos": [],
       "dbfsResultPath": null,
       "isJsonSchema": true,
       "metadata": {},
       "overflow": false,
       "plotOptions": {
        "customPlotOptions": {},
        "displayType": "table",
        "pivotAggregation": null,
        "pivotColumns": null,
        "xColumns": null,
        "yColumns": null
       },
       "removedWidgets": [],
       "schema": [
        {
         "metadata": "{}",
         "name": "plan",
         "type": "\"string\""
        }
       ],
       "type": "table"
      }
     },
     "output_type": "display_data"
    }
   ],
   "source": [
    "%sql\n",
    "EXPLAIN\n",
    "SELECT\n",
    "  *\n",
    "FROM\n",
    "  just_usa_view"
   ]
  },
  {
   "cell_type": "code",
   "execution_count": 0,
   "metadata": {
    "application/vnd.databricks.v1+cell": {
     "cellMetadata": {
      "byteLimit": 2048000,
      "rowLimit": 10000
     },
     "inputWidgets": {},
     "nuid": "a50873eb-df9a-408d-8819-7e354cefa3cf",
     "showTitle": false,
     "title": ""
    }
   },
   "outputs": [
    {
     "output_type": "stream",
     "name": "stdout",
     "output_type": "stream",
     "text": [
      "Out[81]: <bound method DataFrame.explain of DataFrame[DEST_COUNTRY_NAME: string, ORIGIN_COUNTRY_NAME: string, count: string]>"
     ]
    }
   ],
   "source": [
    "flight2 = flight.where(\"DEST_COUNTRY_NAME== 'United States'\")\n",
    "flight2.select('*').explain\n"
   ]
  },
  {
   "cell_type": "code",
   "execution_count": 0,
   "metadata": {
    "application/vnd.databricks.v1+cell": {
     "cellMetadata": {
      "byteLimit": 2048000,
      "rowLimit": 10000
     },
     "inputWidgets": {},
     "nuid": "d1341c13-b744-4b5c-863c-a9984fb0f705",
     "showTitle": false,
     "title": ""
    }
   },
   "outputs": [
    {
     "output_type": "stream",
     "name": "stdout",
     "output_type": "stream",
     "text": [
      "== Parsed Logical Plan ==\n'Project [*]\n+- Filter (DEST_COUNTRY_NAME#2175 = United States)\n   +- Relation [DEST_COUNTRY_NAME#2175,ORIGIN_COUNTRY_NAME#2176,count#2177] csv\n\n== Analyzed Logical Plan ==\nDEST_COUNTRY_NAME: string, ORIGIN_COUNTRY_NAME: string, count: string\nProject [DEST_COUNTRY_NAME#2175, ORIGIN_COUNTRY_NAME#2176, count#2177]\n+- Filter (DEST_COUNTRY_NAME#2175 = United States)\n   +- Relation [DEST_COUNTRY_NAME#2175,ORIGIN_COUNTRY_NAME#2176,count#2177] csv\n\n== Optimized Logical Plan ==\nFilter (isnotnull(DEST_COUNTRY_NAME#2175) AND (DEST_COUNTRY_NAME#2175 = United States))\n+- Relation [DEST_COUNTRY_NAME#2175,ORIGIN_COUNTRY_NAME#2176,count#2177] csv\n\n== Physical Plan ==\n*(1) Filter (isnotnull(DEST_COUNTRY_NAME#2175) AND (DEST_COUNTRY_NAME#2175 = United States))\n+- FileScan csv [DEST_COUNTRY_NAME#2175,ORIGIN_COUNTRY_NAME#2176,count#2177] Batched: false, DataFilters: [isnotnull(DEST_COUNTRY_NAME#2175), (DEST_COUNTRY_NAME#2175 = United States)], Format: CSV, Location: InMemoryFileIndex(1 paths)[dbfs:/FileStore/shared_uploads/ajayacme04@gmail.com/2015_summary.csv], PartitionFilters: [], PushedFilters: [IsNotNull(DEST_COUNTRY_NAME), EqualTo(DEST_COUNTRY_NAME,United States)], ReadSchema: struct<DEST_COUNTRY_NAME:string,ORIGIN_COUNTRY_NAME:string,count:string>\n\n"
     ]
    }
   ],
   "source": [
    "flight2.select('*').explain(True)"
   ]
  },
  {
   "cell_type": "markdown",
   "metadata": {
    "application/vnd.databricks.v1+cell": {
     "cellMetadata": {
      "byteLimit": 2048000,
      "rowLimit": 10000
     },
     "inputWidgets": {},
     "nuid": "110c6de3-d9e0-42bb-9148-9437a180526e",
     "showTitle": false,
     "title": ""
    }
   },
   "source": [
    "<span style=\"color:blue\">\n",
    "Display Tables and Display Databases"
   ]
  },
  {
   "cell_type": "code",
   "execution_count": 0,
   "metadata": {
    "application/vnd.databricks.v1+cell": {
     "cellMetadata": {
      "byteLimit": 2048000,
      "implicitDf": true,
      "rowLimit": 10000
     },
     "inputWidgets": {},
     "nuid": "1cafe863-d7b8-484c-b054-89cc281113a9",
     "showTitle": false,
     "title": ""
    }
   },
   "outputs": [
    {
     "output_type": "display_data",
     "data": {
      "text/html": [
       "<style scoped>\n",
       "  .table-result-container {\n",
       "    max-height: 300px;\n",
       "    overflow: auto;\n",
       "  }\n",
       "  table, th, td {\n",
       "    border: 1px solid black;\n",
       "    border-collapse: collapse;\n",
       "  }\n",
       "  th, td {\n",
       "    padding: 5px;\n",
       "  }\n",
       "  th {\n",
       "    text-align: left;\n",
       "  }\n",
       "</style><div class='table-result-container'><table class='table-result'><thead style='background-color: white'><tr><th>database</th><th>tableName</th><th>isTemporary</th></tr></thead><tbody><tr><td>default</td><td>flights_csv1</td><td>false</td></tr><tr><td>default</td><td>flights_csv2</td><td>false</td></tr><tr><td>default</td><td>flights_from_select1</td><td>false</td></tr><tr><td>default</td><td>flights_json1</td><td>false</td></tr><tr><td>default</td><td>hive_flights</td><td>false</td></tr><tr><td>default</td><td>hive_flights1</td><td>false</td></tr><tr><td>default</td><td>hive_flights_2</td><td>false</td></tr><tr><td>default</td><td>just_usa_view</td><td>false</td></tr><tr><td>default</td><td>just_usa_view1</td><td>false</td></tr><tr><td>default</td><td>nested_data</td><td>false</td></tr><tr><td></td><td>flight_json_view</td><td>true</td></tr><tr><td></td><td>flight_view</td><td>true</td></tr><tr><td></td><td>just_usa_view_temp</td><td>true</td></tr><tr><td></td><td>just_usa_view_temp1</td><td>true</td></tr></tbody></table></div>"
      ]
     },
     "metadata": {
      "application/vnd.databricks.v1+output": {
       "addedWidgets": {},
       "aggData": [],
       "aggError": "",
       "aggOverflow": false,
       "aggSchema": [],
       "aggSeriesLimitReached": false,
       "aggType": "",
       "arguments": {},
       "columnCustomDisplayInfos": {},
       "data": [
        [
         "default",
         "flights_csv1",
         false
        ],
        [
         "default",
         "flights_csv2",
         false
        ],
        [
         "default",
         "flights_from_select1",
         false
        ],
        [
         "default",
         "flights_json1",
         false
        ],
        [
         "default",
         "hive_flights",
         false
        ],
        [
         "default",
         "hive_flights1",
         false
        ],
        [
         "default",
         "hive_flights_2",
         false
        ],
        [
         "default",
         "just_usa_view",
         false
        ],
        [
         "default",
         "just_usa_view1",
         false
        ],
        [
         "default",
         "nested_data",
         false
        ],
        [
         "",
         "flight_json_view",
         true
        ],
        [
         "",
         "flight_view",
         true
        ],
        [
         "",
         "just_usa_view_temp",
         true
        ],
        [
         "",
         "just_usa_view_temp1",
         true
        ]
       ],
       "datasetInfos": [],
       "dbfsResultPath": null,
       "isJsonSchema": true,
       "metadata": {},
       "overflow": false,
       "plotOptions": {
        "customPlotOptions": {},
        "displayType": "table",
        "pivotAggregation": null,
        "pivotColumns": null,
        "xColumns": null,
        "yColumns": null
       },
       "removedWidgets": [],
       "schema": [
        {
         "metadata": "{}",
         "name": "database",
         "type": "\"string\""
        },
        {
         "metadata": "{}",
         "name": "tableName",
         "type": "\"string\""
        },
        {
         "metadata": "{}",
         "name": "isTemporary",
         "type": "\"boolean\""
        }
       ],
       "type": "table"
      }
     },
     "output_type": "display_data"
    }
   ],
   "source": [
    "%sql\n",
    "SHOW DATABASES;\n",
    "SHOW TABLES;"
   ]
  },
  {
   "cell_type": "markdown",
   "metadata": {
    "application/vnd.databricks.v1+cell": {
     "cellMetadata": {
      "byteLimit": 2048000,
      "rowLimit": 10000
     },
     "inputWidgets": {},
     "nuid": "d0c642fc-22fa-4fbb-8a12-e624b1ed3a45",
     "showTitle": false,
     "title": ""
    }
   },
   "source": [
    "<span style=\"color:blue\">\n",
    "Get Detail of Current Database"
   ]
  },
  {
   "cell_type": "code",
   "execution_count": 0,
   "metadata": {
    "application/vnd.databricks.v1+cell": {
     "cellMetadata": {
      "byteLimit": 2048000,
      "implicitDf": true,
      "rowLimit": 10000
     },
     "inputWidgets": {},
     "nuid": "add5ed9e-6c20-4fe6-bc48-b4bf96d71e30",
     "showTitle": false,
     "title": ""
    }
   },
   "outputs": [
    {
     "output_type": "display_data",
     "data": {
      "text/html": [
       "<style scoped>\n",
       "  .table-result-container {\n",
       "    max-height: 300px;\n",
       "    overflow: auto;\n",
       "  }\n",
       "  table, th, td {\n",
       "    border: 1px solid black;\n",
       "    border-collapse: collapse;\n",
       "  }\n",
       "  th, td {\n",
       "    padding: 5px;\n",
       "  }\n",
       "  th {\n",
       "    text-align: left;\n",
       "  }\n",
       "</style><div class='table-result-container'><table class='table-result'><thead style='background-color: white'><tr><th>current_database()</th></tr></thead><tbody><tr><td>default</td></tr></tbody></table></div>"
      ]
     },
     "metadata": {
      "application/vnd.databricks.v1+output": {
       "addedWidgets": {},
       "aggData": [],
       "aggError": "",
       "aggOverflow": false,
       "aggSchema": [],
       "aggSeriesLimitReached": false,
       "aggType": "",
       "arguments": {},
       "columnCustomDisplayInfos": {},
       "data": [
        [
         "default"
        ]
       ],
       "datasetInfos": [],
       "dbfsResultPath": null,
       "isJsonSchema": true,
       "metadata": {},
       "overflow": false,
       "plotOptions": {
        "customPlotOptions": {},
        "displayType": "table",
        "pivotAggregation": null,
        "pivotColumns": null,
        "xColumns": null,
        "yColumns": null
       },
       "removedWidgets": [],
       "schema": [
        {
         "metadata": "{\"__autoGeneratedAlias\":\"true\"}",
         "name": "current_database()",
         "type": "\"string\""
        }
       ],
       "type": "table"
      }
     },
     "output_type": "display_data"
    }
   ],
   "source": [
    "%sql\n",
    "\n",
    "SHOW tables;\n",
    "SELECT\n",
    "  current_database()"
   ]
  },
  {
   "cell_type": "code",
   "execution_count": 0,
   "metadata": {
    "application/vnd.databricks.v1+cell": {
     "cellMetadata": {
      "byteLimit": 2048000,
      "implicitDf": true,
      "rowLimit": 10000
     },
     "inputWidgets": {},
     "nuid": "309c6589-3342-4e13-a0ae-5b6ddf45acc3",
     "showTitle": false,
     "title": ""
    }
   },
   "outputs": [
    {
     "output_type": "display_data",
     "data": {
      "text/html": [
       "<style scoped>\n",
       "  .table-result-container {\n",
       "    max-height: 300px;\n",
       "    overflow: auto;\n",
       "  }\n",
       "  table, th, td {\n",
       "    border: 1px solid black;\n",
       "    border-collapse: collapse;\n",
       "  }\n",
       "  th, td {\n",
       "    padding: 5px;\n",
       "  }\n",
       "  th {\n",
       "    text-align: left;\n",
       "  }\n",
       "</style><div class='table-result-container'><table class='table-result'><thead style='background-color: white'><tr></tr></thead><tbody></tbody></table></div>"
      ]
     },
     "metadata": {
      "application/vnd.databricks.v1+output": {
       "addedWidgets": {},
       "aggData": [],
       "aggError": "",
       "aggOverflow": false,
       "aggSchema": [],
       "aggSeriesLimitReached": false,
       "aggType": "",
       "arguments": {},
       "columnCustomDisplayInfos": {},
       "data": [],
       "datasetInfos": [],
       "dbfsResultPath": null,
       "isJsonSchema": true,
       "metadata": {},
       "overflow": false,
       "plotOptions": {
        "customPlotOptions": {},
        "displayType": "table",
        "pivotAggregation": null,
        "pivotColumns": null,
        "xColumns": null,
        "yColumns": null
       },
       "removedWidgets": [],
       "schema": [],
       "type": "table"
      }
     },
     "output_type": "display_data"
    }
   ],
   "source": [
    "%sql\n",
    "USE default;"
   ]
  },
  {
   "cell_type": "markdown",
   "metadata": {
    "application/vnd.databricks.v1+cell": {
     "cellMetadata": {
      "byteLimit": 2048000,
      "rowLimit": 10000
     },
     "inputWidgets": {},
     "nuid": "da49c69c-cab2-4b8e-a897-ab3844f59689",
     "showTitle": false,
     "title": ""
    }
   },
   "source": [
    "<span style=\"color:blue\">\n",
    "Create View from Nested Data of Table"
   ]
  },
  {
   "cell_type": "code",
   "execution_count": 0,
   "metadata": {
    "application/vnd.databricks.v1+cell": {
     "cellMetadata": {
      "byteLimit": 2048000,
      "implicitDf": true,
      "rowLimit": 10000
     },
     "inputWidgets": {},
     "nuid": "06b45782-02e7-482b-81c9-196caf683c2f",
     "showTitle": false,
     "title": ""
    }
   },
   "outputs": [
    {
     "output_type": "display_data",
     "data": {
      "text/html": [
       "<style scoped>\n",
       "  .table-result-container {\n",
       "    max-height: 300px;\n",
       "    overflow: auto;\n",
       "  }\n",
       "  table, th, td {\n",
       "    border: 1px solid black;\n",
       "    border-collapse: collapse;\n",
       "  }\n",
       "  th, td {\n",
       "    padding: 5px;\n",
       "  }\n",
       "  th {\n",
       "    text-align: left;\n",
       "  }\n",
       "</style><div class='table-result-container'><table class='table-result'><thead style='background-color: white'><tr></tr></thead><tbody></tbody></table></div>"
      ]
     },
     "metadata": {
      "application/vnd.databricks.v1+output": {
       "addedWidgets": {},
       "aggData": [],
       "aggError": "",
       "aggOverflow": false,
       "aggSchema": [],
       "aggSeriesLimitReached": false,
       "aggType": "",
       "arguments": {},
       "columnCustomDisplayInfos": {},
       "data": [],
       "datasetInfos": [],
       "dbfsResultPath": null,
       "isJsonSchema": true,
       "metadata": {},
       "overflow": false,
       "plotOptions": {
        "customPlotOptions": {},
        "displayType": "table",
        "pivotAggregation": null,
        "pivotColumns": null,
        "xColumns": null,
        "yColumns": null
       },
       "removedWidgets": [],
       "schema": [],
       "type": "table"
      }
     },
     "output_type": "display_data"
    }
   ],
   "source": [
    "%sql\n",
    "CREATE VIEW IF NOT EXISTS nested_data AS\n",
    "SELECT\n",
    "  (DEST_COUNTRY_NAME, ORIGIN_COUNTRY_NAME) as country,\n",
    "  count\n",
    "FROM\n",
    "  flights_csv1"
   ]
  },
  {
   "cell_type": "code",
   "execution_count": 0,
   "metadata": {
    "application/vnd.databricks.v1+cell": {
     "cellMetadata": {
      "byteLimit": 2048000,
      "implicitDf": true,
      "rowLimit": 10000
     },
     "inputWidgets": {},
     "nuid": "1c1e2556-ea61-4e32-9c32-ce35ec94e356",
     "showTitle": false,
     "title": ""
    }
   },
   "outputs": [
    {
     "output_type": "display_data",
     "data": {
      "text/html": [
       "<style scoped>\n",
       "  .table-result-container {\n",
       "    max-height: 300px;\n",
       "    overflow: auto;\n",
       "  }\n",
       "  table, th, td {\n",
       "    border: 1px solid black;\n",
       "    border-collapse: collapse;\n",
       "  }\n",
       "  th, td {\n",
       "    padding: 5px;\n",
       "  }\n",
       "  th {\n",
       "    text-align: left;\n",
       "  }\n",
       "</style><div class='table-result-container'><table class='table-result'><thead style='background-color: white'><tr><th>country</th><th>count</th></tr></thead><tbody><tr><td>List(United States, Romania)</td><td>15</td></tr><tr><td>List(United States, Croatia)</td><td>1</td></tr><tr><td>List(United States, Ireland)</td><td>344</td></tr><tr><td>List(Egypt, United States)</td><td>15</td></tr><tr><td>List(United States, India)</td><td>62</td></tr><tr><td>List(United States, Singapore)</td><td>1</td></tr><tr><td>List(United States, Grenada)</td><td>62</td></tr><tr><td>List(Costa Rica, United States)</td><td>588</td></tr><tr><td>List(Senegal, United States)</td><td>40</td></tr><tr><td>List(Moldova, United States)</td><td>1</td></tr><tr><td>List(United States, Sint Maarten)</td><td>325</td></tr><tr><td>List(United States, Marshall Islands)</td><td>39</td></tr><tr><td>List(Guyana, United States)</td><td>64</td></tr><tr><td>List(Malta, United States)</td><td>1</td></tr><tr><td>List(Anguilla, United States)</td><td>41</td></tr><tr><td>List(Bolivia, United States)</td><td>30</td></tr><tr><td>List(United States, Paraguay)</td><td>6</td></tr><tr><td>List(Algeria, United States)</td><td>4</td></tr><tr><td>List(Turks and Caicos Islands, United States)</td><td>230</td></tr><tr><td>List(United States, Gibraltar)</td><td>1</td></tr><tr><td>List(Saint Vincent and the Grenadines, United States)</td><td>1</td></tr><tr><td>List(Italy, United States)</td><td>382</td></tr><tr><td>List(United States, Federated States of Micronesia)</td><td>69</td></tr><tr><td>List(United States, Russia)</td><td>161</td></tr><tr><td>List(Pakistan, United States)</td><td>12</td></tr><tr><td>List(United States, Netherlands)</td><td>660</td></tr><tr><td>List(Iceland, United States)</td><td>181</td></tr><tr><td>List(Marshall Islands, United States)</td><td>42</td></tr><tr><td>List(Luxembourg, United States)</td><td>155</td></tr><tr><td>List(Honduras, United States)</td><td>362</td></tr><tr><td>List(The Bahamas, United States)</td><td>955</td></tr><tr><td>List(United States, Senegal)</td><td>42</td></tr><tr><td>List(El Salvador, United States)</td><td>561</td></tr><tr><td>List(Samoa, United States)</td><td>25</td></tr><tr><td>List(United States, Angola)</td><td>13</td></tr><tr><td>List(Switzerland, United States)</td><td>294</td></tr><tr><td>List(United States, Anguilla)</td><td>38</td></tr><tr><td>List(Sint Maarten, United States)</td><td>325</td></tr><tr><td>List(Hong Kong, United States)</td><td>332</td></tr><tr><td>List(Trinidad and Tobago, United States)</td><td>211</td></tr><tr><td>List(Latvia, United States)</td><td>19</td></tr><tr><td>List(United States, Ecuador)</td><td>300</td></tr><tr><td>List(Suriname, United States)</td><td>1</td></tr><tr><td>List(Mexico, United States)</td><td>7140</td></tr><tr><td>List(United States, Cyprus)</td><td>1</td></tr><tr><td>List(Ecuador, United States)</td><td>268</td></tr><tr><td>List(United States, Portugal)</td><td>134</td></tr><tr><td>List(United States, Costa Rica)</td><td>608</td></tr><tr><td>List(United States, Guatemala)</td><td>318</td></tr><tr><td>List(United States, Suriname)</td><td>34</td></tr><tr><td>List(Colombia, United States)</td><td>873</td></tr><tr><td>List(United States, Cape Verde)</td><td>14</td></tr><tr><td>List(United States, Jamaica)</td><td>712</td></tr><tr><td>List(Norway, United States)</td><td>121</td></tr><tr><td>List(United States, Malaysia)</td><td>3</td></tr><tr><td>List(United States, Morocco)</td><td>19</td></tr><tr><td>List(Thailand, United States)</td><td>3</td></tr><tr><td>List(United States, Samoa)</td><td>25</td></tr><tr><td>List(Venezuela, United States)</td><td>290</td></tr><tr><td>List(United States, Palau)</td><td>31</td></tr><tr><td>List(United States, Venezuela)</td><td>246</td></tr><tr><td>List(Panama, United States)</td><td>510</td></tr><tr><td>List(Antigua and Barbuda, United States)</td><td>126</td></tr><tr><td>List(United States, Chile)</td><td>185</td></tr><tr><td>List(Morocco, United States)</td><td>15</td></tr><tr><td>List(United States, Finland)</td><td>28</td></tr><tr><td>List(Azerbaijan, United States)</td><td>21</td></tr><tr><td>List(United States, Greece)</td><td>23</td></tr><tr><td>List(United States, The Bahamas)</td><td>986</td></tr><tr><td>List(New Zealand, United States)</td><td>111</td></tr><tr><td>List(Liberia, United States)</td><td>2</td></tr><tr><td>List(United States, Hong Kong)</td><td>414</td></tr><tr><td>List(Hungary, United States)</td><td>2</td></tr><tr><td>List(United States, China)</td><td>920</td></tr><tr><td>List(United States, Vietnam)</td><td>2</td></tr><tr><td>List(Burkina Faso, United States)</td><td>1</td></tr><tr><td>List(Sweden, United States)</td><td>118</td></tr><tr><td>List(United States, Kuwait)</td><td>28</td></tr><tr><td>List(United States, Dominican Republic)</td><td>1420</td></tr><tr><td>List(United States, Egypt)</td><td>12</td></tr><tr><td>List(Israel, United States)</td><td>134</td></tr><tr><td>List(United States, United States)</td><td>370002</td></tr><tr><td>List(Ethiopia, United States)</td><td>13</td></tr><tr><td>List(United States, Luxembourg)</td><td>134</td></tr><tr><td>List(United States, Poland)</td><td>33</td></tr><tr><td>List(Martinique, United States)</td><td>44</td></tr><tr><td>List(United States, Saint Barthelemy)</td><td>41</td></tr><tr><td>List(Saint Barthelemy, United States)</td><td>39</td></tr><tr><td>List(Barbados, United States)</td><td>154</td></tr><tr><td>List(United States, Turkey)</td><td>129</td></tr><tr><td>List(Djibouti, United States)</td><td>1</td></tr><tr><td>List(United States, Azerbaijan)</td><td>21</td></tr><tr><td>List(United States, Estonia)</td><td>1</td></tr><tr><td>List(Germany, United States)</td><td>1468</td></tr><tr><td>List(United States, South Korea)</td><td>827</td></tr><tr><td>List(United States, El Salvador)</td><td>508</td></tr><tr><td>List(Ireland, United States)</td><td>335</td></tr><tr><td>List(United States, Hungary)</td><td>3</td></tr><tr><td>List(Zambia, United States)</td><td>1</td></tr><tr><td>List(Malaysia, United States)</td><td>2</td></tr><tr><td>List(United States, Ethiopia)</td><td>12</td></tr><tr><td>List(United States, Panama)</td><td>465</td></tr><tr><td>List(United States, Aruba)</td><td>342</td></tr><tr><td>List(United States, Thailand)</td><td>4</td></tr><tr><td>List(United States, Turks and Caicos Islands)</td><td>236</td></tr><tr><td>List(Croatia, United States)</td><td>2</td></tr><tr><td>List(United States, Pakistan)</td><td>12</td></tr><tr><td>List(Cyprus, United States)</td><td>1</td></tr><tr><td>List(United States, Honduras)</td><td>407</td></tr><tr><td>List(Fiji, United States)</td><td>24</td></tr><tr><td>List(Qatar, United States)</td><td>108</td></tr><tr><td>List(Saint Kitts and Nevis, United States)</td><td>139</td></tr><tr><td>List(Kuwait, United States)</td><td>32</td></tr><tr><td>List(Taiwan, United States)</td><td>266</td></tr><tr><td>List(Haiti, United States)</td><td>226</td></tr><tr><td>List(Canada, United States)</td><td>8399</td></tr><tr><td>List(Federated States of Micronesia, United States)</td><td>69</td></tr><tr><td>List(United States, Liberia)</td><td>2</td></tr><tr><td>List(Jamaica, United States)</td><td>666</td></tr><tr><td>List(United States, Malta)</td><td>2</td></tr><tr><td>List(Dominican Republic, United States)</td><td>1353</td></tr><tr><td>List(Japan, United States)</td><td>1548</td></tr><tr><td>List(United States, Lithuania)</td><td>1</td></tr><tr><td>List(Finland, United States)</td><td>26</td></tr><tr><td>List(United States, Guadeloupe)</td><td>59</td></tr><tr><td>List(United States, Ukraine)</td><td>13</td></tr><tr><td>List(United States, France)</td><td>952</td></tr><tr><td>List(United States, Norway)</td><td>115</td></tr><tr><td>List(Aruba, United States)</td><td>346</td></tr><tr><td>List(French Guiana, United States)</td><td>5</td></tr><tr><td>List(United States, Kiribati)</td><td>35</td></tr><tr><td>List(India, United States)</td><td>61</td></tr><tr><td>List(British Virgin Islands, United States)</td><td>107</td></tr><tr><td>List(Brazil, United States)</td><td>853</td></tr><tr><td>List(United States, Germany)</td><td>1336</td></tr><tr><td>List(United States, New Zealand)</td><td>74</td></tr><tr><td>List(French Polynesia, United States)</td><td>43</td></tr><tr><td>List(United Arab Emirates, United States)</td><td>320</td></tr><tr><td>List(Singapore, United States)</td><td>3</td></tr><tr><td>List(United States, Mexico)</td><td>7187</td></tr><tr><td>List(United States, Sweden)</td><td>119</td></tr><tr><td>List(Netherlands, United States)</td><td>776</td></tr><tr><td>List(United States, Martinique)</td><td>43</td></tr><tr><td>List(United States, United Arab Emirates)</td><td>313</td></tr><tr><td>List(United States, Bulgaria)</td><td>1</td></tr><tr><td>List(Denmark, United States)</td><td>153</td></tr><tr><td>List(China, United States)</td><td>772</td></tr><tr><td>List(United States, Nicaragua)</td><td>201</td></tr><tr><td>List(United States, Philippines)</td><td>126</td></tr><tr><td>List(United States, Georgia)</td><td>1</td></tr><tr><td>List(United States, Belgium)</td><td>228</td></tr><tr><td>List(Cayman Islands, United States)</td><td>314</td></tr><tr><td>List(Argentina, United States)</td><td>180</td></tr><tr><td>List(Peru, United States)</td><td>279</td></tr><tr><td>List(South Africa, United States)</td><td>36</td></tr><tr><td>List(United States, Iceland)</td><td>202</td></tr><tr><td>List(United States, Argentina)</td><td>141</td></tr><tr><td>List(Spain, United States)</td><td>420</td></tr><tr><td>List(Bermuda, United States)</td><td>183</td></tr><tr><td>List(United States, Nigeria)</td><td>50</td></tr><tr><td>List(United States, Austria)</td><td>63</td></tr><tr><td>List(United States, Bonaire, Sint Eustatius, and Saba)</td><td>59</td></tr><tr><td>List(Kiribati, United States)</td><td>26</td></tr><tr><td>List(Saudi Arabia, United States)</td><td>83</td></tr><tr><td>List(Czech Republic, United States)</td><td>13</td></tr><tr><td>List(United States, Israel)</td><td>127</td></tr><tr><td>List(Belgium, United States)</td><td>259</td></tr><tr><td>List(United States, Saint Lucia)</td><td>136</td></tr><tr><td>List(United States, Bahrain)</td><td>1</td></tr><tr><td>List(United States, British Virgin Islands)</td><td>80</td></tr><tr><td>List(Curacao, United States)</td><td>90</td></tr><tr><td>List(Georgia, United States)</td><td>2</td></tr><tr><td>List(United States, Denmark)</td><td>152</td></tr><tr><td>List(United States, Guyana)</td><td>63</td></tr><tr><td>List(Philippines, United States)</td><td>134</td></tr><tr><td>List(Grenada, United States)</td><td>53</td></tr><tr><td>List(Cape Verde, United States)</td><td>20</td></tr><tr><td>List(Cote d'Ivoire, United States)</td><td>1</td></tr><tr><td>List(Ukraine, United States)</td><td>14</td></tr><tr><td>List(United States, Papua New Guinea)</td><td>1</td></tr><tr><td>List(Russia, United States)</td><td>176</td></tr><tr><td>List(United States, Saudi Arabia)</td><td>70</td></tr><tr><td>List(Guatemala, United States)</td><td>397</td></tr><tr><td>List(Saint Lucia, United States)</td><td>123</td></tr><tr><td>List(Paraguay, United States)</td><td>60</td></tr><tr><td>List(United States, Curacao)</td><td>83</td></tr><tr><td>List(Kosovo, United States)</td><td>1</td></tr><tr><td>List(United States, Taiwan)</td><td>235</td></tr><tr><td>List(Tunisia, United States)</td><td>3</td></tr><tr><td>List(United States, South Africa)</td><td>40</td></tr><tr><td>List(Niger, United States)</td><td>2</td></tr><tr><td>List(Turkey, United States)</td><td>138</td></tr><tr><td>List(United Kingdom, United States)</td><td>2025</td></tr><tr><td>List(Romania, United States)</td><td>14</td></tr><tr><td>List(United States, Greenland)</td><td>4</td></tr><tr><td>List(Papua New Guinea, United States)</td><td>3</td></tr><tr><td>List(United States, Spain)</td><td>442</td></tr><tr><td>List(Iraq, United States)</td><td>1</td></tr><tr><td>List(United States, Italy)</td><td>438</td></tr><tr><td>List(Cuba, United States)</td><td>466</td></tr><tr><td>List(United States, Switzerland)</td><td>305</td></tr><tr><td>List(Dominica, United States)</td><td>20</td></tr><tr><td>List(United States, Japan)</td><td>1496</td></tr><tr><td>List(Portugal, United States)</td><td>127</td></tr><tr><td>List(United States, Brazil)</td><td>619</td></tr><tr><td>List(Bahrain, United States)</td><td>19</td></tr><tr><td>List(United States, Peru)</td><td>337</td></tr><tr><td>List(Indonesia, United States)</td><td>1</td></tr><tr><td>List(United States, Belize)</td><td>193</td></tr><tr><td>List(United States, United Kingdom)</td><td>1970</td></tr><tr><td>List(Belize, United States)</td><td>188</td></tr><tr><td>List(United States, Ghana)</td><td>20</td></tr><tr><td>List(United States, Indonesia)</td><td>2</td></tr><tr><td>List(United States, Fiji)</td><td>25</td></tr><tr><td>List(United States, Canada)</td><td>8483</td></tr><tr><td>List(United States, Antigua and Barbuda)</td><td>117</td></tr><tr><td>List(United States, French Polynesia)</td><td>40</td></tr><tr><td>List(Nicaragua, United States)</td><td>179</td></tr><tr><td>List(United States, Latvia)</td><td>15</td></tr><tr><td>List(United States, Dominica)</td><td>27</td></tr><tr><td>List(United States, Czech Republic)</td><td>12</td></tr><tr><td>List(United States, Australia)</td><td>258</td></tr><tr><td>List(United States, Cook Islands)</td><td>13</td></tr><tr><td>List(Austria, United States)</td><td>62</td></tr><tr><td>List(Jordan, United States)</td><td>44</td></tr><tr><td>List(Palau, United States)</td><td>30</td></tr><tr><td>List(South Korea, United States)</td><td>1048</td></tr><tr><td>List(Angola, United States)</td><td>15</td></tr><tr><td>List(Ghana, United States)</td><td>18</td></tr><tr><td>List(New Caledonia, United States)</td><td>1</td></tr><tr><td>List(Guadeloupe, United States)</td><td>56</td></tr><tr><td>List(France, United States)</td><td>935</td></tr><tr><td>List(Poland, United States)</td><td>32</td></tr><tr><td>List(Nigeria, United States)</td><td>59</td></tr><tr><td>List(United States, Uruguay)</td><td>13</td></tr><tr><td>List(Greenland, United States)</td><td>2</td></tr><tr><td>List(United States, Bermuda)</td><td>193</td></tr><tr><td>List(Chile, United States)</td><td>174</td></tr><tr><td>List(United States, Cuba)</td><td>478</td></tr><tr><td>List(United States, Montenegro)</td><td>1</td></tr><tr><td>List(United States, Colombia)</td><td>867</td></tr><tr><td>List(United States, Barbados)</td><td>130</td></tr><tr><td>List(United States, Qatar)</td><td>109</td></tr><tr><td>List(Australia, United States)</td><td>329</td></tr><tr><td>List(United States, Cayman Islands)</td><td>310</td></tr><tr><td>List(United States, Jordan)</td><td>44</td></tr><tr><td>List(United States, Namibia)</td><td>1</td></tr><tr><td>List(United States, Trinidad and Tobago)</td><td>217</td></tr><tr><td>List(United States, Bolivia)</td><td>13</td></tr><tr><td>List(Cook Islands, United States)</td><td>13</td></tr><tr><td>List(Bulgaria, United States)</td><td>3</td></tr><tr><td>List(United States, Saint Kitts and Nevis)</td><td>145</td></tr><tr><td>List(Uruguay, United States)</td><td>43</td></tr><tr><td>List(United States, Haiti)</td><td>225</td></tr><tr><td>List(Bonaire, Sint Eustatius, and Saba, United States)</td><td>58</td></tr><tr><td>List(Greece, United States)</td><td>30</td></tr></tbody></table></div>"
      ]
     },
     "metadata": {
      "application/vnd.databricks.v1+output": {
       "addedWidgets": {},
       "aggData": [],
       "aggError": "",
       "aggOverflow": false,
       "aggSchema": [],
       "aggSeriesLimitReached": false,
       "aggType": "",
       "arguments": {},
       "columnCustomDisplayInfos": {},
       "data": [
        [
         [
          "United States",
          "Romania"
         ],
         15
        ],
        [
         [
          "United States",
          "Croatia"
         ],
         1
        ],
        [
         [
          "United States",
          "Ireland"
         ],
         344
        ],
        [
         [
          "Egypt",
          "United States"
         ],
         15
        ],
        [
         [
          "United States",
          "India"
         ],
         62
        ],
        [
         [
          "United States",
          "Singapore"
         ],
         1
        ],
        [
         [
          "United States",
          "Grenada"
         ],
         62
        ],
        [
         [
          "Costa Rica",
          "United States"
         ],
         588
        ],
        [
         [
          "Senegal",
          "United States"
         ],
         40
        ],
        [
         [
          "Moldova",
          "United States"
         ],
         1
        ],
        [
         [
          "United States",
          "Sint Maarten"
         ],
         325
        ],
        [
         [
          "United States",
          "Marshall Islands"
         ],
         39
        ],
        [
         [
          "Guyana",
          "United States"
         ],
         64
        ],
        [
         [
          "Malta",
          "United States"
         ],
         1
        ],
        [
         [
          "Anguilla",
          "United States"
         ],
         41
        ],
        [
         [
          "Bolivia",
          "United States"
         ],
         30
        ],
        [
         [
          "United States",
          "Paraguay"
         ],
         6
        ],
        [
         [
          "Algeria",
          "United States"
         ],
         4
        ],
        [
         [
          "Turks and Caicos Islands",
          "United States"
         ],
         230
        ],
        [
         [
          "United States",
          "Gibraltar"
         ],
         1
        ],
        [
         [
          "Saint Vincent and the Grenadines",
          "United States"
         ],
         1
        ],
        [
         [
          "Italy",
          "United States"
         ],
         382
        ],
        [
         [
          "United States",
          "Federated States of Micronesia"
         ],
         69
        ],
        [
         [
          "United States",
          "Russia"
         ],
         161
        ],
        [
         [
          "Pakistan",
          "United States"
         ],
         12
        ],
        [
         [
          "United States",
          "Netherlands"
         ],
         660
        ],
        [
         [
          "Iceland",
          "United States"
         ],
         181
        ],
        [
         [
          "Marshall Islands",
          "United States"
         ],
         42
        ],
        [
         [
          "Luxembourg",
          "United States"
         ],
         155
        ],
        [
         [
          "Honduras",
          "United States"
         ],
         362
        ],
        [
         [
          "The Bahamas",
          "United States"
         ],
         955
        ],
        [
         [
          "United States",
          "Senegal"
         ],
         42
        ],
        [
         [
          "El Salvador",
          "United States"
         ],
         561
        ],
        [
         [
          "Samoa",
          "United States"
         ],
         25
        ],
        [
         [
          "United States",
          "Angola"
         ],
         13
        ],
        [
         [
          "Switzerland",
          "United States"
         ],
         294
        ],
        [
         [
          "United States",
          "Anguilla"
         ],
         38
        ],
        [
         [
          "Sint Maarten",
          "United States"
         ],
         325
        ],
        [
         [
          "Hong Kong",
          "United States"
         ],
         332
        ],
        [
         [
          "Trinidad and Tobago",
          "United States"
         ],
         211
        ],
        [
         [
          "Latvia",
          "United States"
         ],
         19
        ],
        [
         [
          "United States",
          "Ecuador"
         ],
         300
        ],
        [
         [
          "Suriname",
          "United States"
         ],
         1
        ],
        [
         [
          "Mexico",
          "United States"
         ],
         7140
        ],
        [
         [
          "United States",
          "Cyprus"
         ],
         1
        ],
        [
         [
          "Ecuador",
          "United States"
         ],
         268
        ],
        [
         [
          "United States",
          "Portugal"
         ],
         134
        ],
        [
         [
          "United States",
          "Costa Rica"
         ],
         608
        ],
        [
         [
          "United States",
          "Guatemala"
         ],
         318
        ],
        [
         [
          "United States",
          "Suriname"
         ],
         34
        ],
        [
         [
          "Colombia",
          "United States"
         ],
         873
        ],
        [
         [
          "United States",
          "Cape Verde"
         ],
         14
        ],
        [
         [
          "United States",
          "Jamaica"
         ],
         712
        ],
        [
         [
          "Norway",
          "United States"
         ],
         121
        ],
        [
         [
          "United States",
          "Malaysia"
         ],
         3
        ],
        [
         [
          "United States",
          "Morocco"
         ],
         19
        ],
        [
         [
          "Thailand",
          "United States"
         ],
         3
        ],
        [
         [
          "United States",
          "Samoa"
         ],
         25
        ],
        [
         [
          "Venezuela",
          "United States"
         ],
         290
        ],
        [
         [
          "United States",
          "Palau"
         ],
         31
        ],
        [
         [
          "United States",
          "Venezuela"
         ],
         246
        ],
        [
         [
          "Panama",
          "United States"
         ],
         510
        ],
        [
         [
          "Antigua and Barbuda",
          "United States"
         ],
         126
        ],
        [
         [
          "United States",
          "Chile"
         ],
         185
        ],
        [
         [
          "Morocco",
          "United States"
         ],
         15
        ],
        [
         [
          "United States",
          "Finland"
         ],
         28
        ],
        [
         [
          "Azerbaijan",
          "United States"
         ],
         21
        ],
        [
         [
          "United States",
          "Greece"
         ],
         23
        ],
        [
         [
          "United States",
          "The Bahamas"
         ],
         986
        ],
        [
         [
          "New Zealand",
          "United States"
         ],
         111
        ],
        [
         [
          "Liberia",
          "United States"
         ],
         2
        ],
        [
         [
          "United States",
          "Hong Kong"
         ],
         414
        ],
        [
         [
          "Hungary",
          "United States"
         ],
         2
        ],
        [
         [
          "United States",
          "China"
         ],
         920
        ],
        [
         [
          "United States",
          "Vietnam"
         ],
         2
        ],
        [
         [
          "Burkina Faso",
          "United States"
         ],
         1
        ],
        [
         [
          "Sweden",
          "United States"
         ],
         118
        ],
        [
         [
          "United States",
          "Kuwait"
         ],
         28
        ],
        [
         [
          "United States",
          "Dominican Republic"
         ],
         1420
        ],
        [
         [
          "United States",
          "Egypt"
         ],
         12
        ],
        [
         [
          "Israel",
          "United States"
         ],
         134
        ],
        [
         [
          "United States",
          "United States"
         ],
         370002
        ],
        [
         [
          "Ethiopia",
          "United States"
         ],
         13
        ],
        [
         [
          "United States",
          "Luxembourg"
         ],
         134
        ],
        [
         [
          "United States",
          "Poland"
         ],
         33
        ],
        [
         [
          "Martinique",
          "United States"
         ],
         44
        ],
        [
         [
          "United States",
          "Saint Barthelemy"
         ],
         41
        ],
        [
         [
          "Saint Barthelemy",
          "United States"
         ],
         39
        ],
        [
         [
          "Barbados",
          "United States"
         ],
         154
        ],
        [
         [
          "United States",
          "Turkey"
         ],
         129
        ],
        [
         [
          "Djibouti",
          "United States"
         ],
         1
        ],
        [
         [
          "United States",
          "Azerbaijan"
         ],
         21
        ],
        [
         [
          "United States",
          "Estonia"
         ],
         1
        ],
        [
         [
          "Germany",
          "United States"
         ],
         1468
        ],
        [
         [
          "United States",
          "South Korea"
         ],
         827
        ],
        [
         [
          "United States",
          "El Salvador"
         ],
         508
        ],
        [
         [
          "Ireland",
          "United States"
         ],
         335
        ],
        [
         [
          "United States",
          "Hungary"
         ],
         3
        ],
        [
         [
          "Zambia",
          "United States"
         ],
         1
        ],
        [
         [
          "Malaysia",
          "United States"
         ],
         2
        ],
        [
         [
          "United States",
          "Ethiopia"
         ],
         12
        ],
        [
         [
          "United States",
          "Panama"
         ],
         465
        ],
        [
         [
          "United States",
          "Aruba"
         ],
         342
        ],
        [
         [
          "United States",
          "Thailand"
         ],
         4
        ],
        [
         [
          "United States",
          "Turks and Caicos Islands"
         ],
         236
        ],
        [
         [
          "Croatia",
          "United States"
         ],
         2
        ],
        [
         [
          "United States",
          "Pakistan"
         ],
         12
        ],
        [
         [
          "Cyprus",
          "United States"
         ],
         1
        ],
        [
         [
          "United States",
          "Honduras"
         ],
         407
        ],
        [
         [
          "Fiji",
          "United States"
         ],
         24
        ],
        [
         [
          "Qatar",
          "United States"
         ],
         108
        ],
        [
         [
          "Saint Kitts and Nevis",
          "United States"
         ],
         139
        ],
        [
         [
          "Kuwait",
          "United States"
         ],
         32
        ],
        [
         [
          "Taiwan",
          "United States"
         ],
         266
        ],
        [
         [
          "Haiti",
          "United States"
         ],
         226
        ],
        [
         [
          "Canada",
          "United States"
         ],
         8399
        ],
        [
         [
          "Federated States of Micronesia",
          "United States"
         ],
         69
        ],
        [
         [
          "United States",
          "Liberia"
         ],
         2
        ],
        [
         [
          "Jamaica",
          "United States"
         ],
         666
        ],
        [
         [
          "United States",
          "Malta"
         ],
         2
        ],
        [
         [
          "Dominican Republic",
          "United States"
         ],
         1353
        ],
        [
         [
          "Japan",
          "United States"
         ],
         1548
        ],
        [
         [
          "United States",
          "Lithuania"
         ],
         1
        ],
        [
         [
          "Finland",
          "United States"
         ],
         26
        ],
        [
         [
          "United States",
          "Guadeloupe"
         ],
         59
        ],
        [
         [
          "United States",
          "Ukraine"
         ],
         13
        ],
        [
         [
          "United States",
          "France"
         ],
         952
        ],
        [
         [
          "United States",
          "Norway"
         ],
         115
        ],
        [
         [
          "Aruba",
          "United States"
         ],
         346
        ],
        [
         [
          "French Guiana",
          "United States"
         ],
         5
        ],
        [
         [
          "United States",
          "Kiribati"
         ],
         35
        ],
        [
         [
          "India",
          "United States"
         ],
         61
        ],
        [
         [
          "British Virgin Islands",
          "United States"
         ],
         107
        ],
        [
         [
          "Brazil",
          "United States"
         ],
         853
        ],
        [
         [
          "United States",
          "Germany"
         ],
         1336
        ],
        [
         [
          "United States",
          "New Zealand"
         ],
         74
        ],
        [
         [
          "French Polynesia",
          "United States"
         ],
         43
        ],
        [
         [
          "United Arab Emirates",
          "United States"
         ],
         320
        ],
        [
         [
          "Singapore",
          "United States"
         ],
         3
        ],
        [
         [
          "United States",
          "Mexico"
         ],
         7187
        ],
        [
         [
          "United States",
          "Sweden"
         ],
         119
        ],
        [
         [
          "Netherlands",
          "United States"
         ],
         776
        ],
        [
         [
          "United States",
          "Martinique"
         ],
         43
        ],
        [
         [
          "United States",
          "United Arab Emirates"
         ],
         313
        ],
        [
         [
          "United States",
          "Bulgaria"
         ],
         1
        ],
        [
         [
          "Denmark",
          "United States"
         ],
         153
        ],
        [
         [
          "China",
          "United States"
         ],
         772
        ],
        [
         [
          "United States",
          "Nicaragua"
         ],
         201
        ],
        [
         [
          "United States",
          "Philippines"
         ],
         126
        ],
        [
         [
          "United States",
          "Georgia"
         ],
         1
        ],
        [
         [
          "United States",
          "Belgium"
         ],
         228
        ],
        [
         [
          "Cayman Islands",
          "United States"
         ],
         314
        ],
        [
         [
          "Argentina",
          "United States"
         ],
         180
        ],
        [
         [
          "Peru",
          "United States"
         ],
         279
        ],
        [
         [
          "South Africa",
          "United States"
         ],
         36
        ],
        [
         [
          "United States",
          "Iceland"
         ],
         202
        ],
        [
         [
          "United States",
          "Argentina"
         ],
         141
        ],
        [
         [
          "Spain",
          "United States"
         ],
         420
        ],
        [
         [
          "Bermuda",
          "United States"
         ],
         183
        ],
        [
         [
          "United States",
          "Nigeria"
         ],
         50
        ],
        [
         [
          "United States",
          "Austria"
         ],
         63
        ],
        [
         [
          "United States",
          "Bonaire, Sint Eustatius, and Saba"
         ],
         59
        ],
        [
         [
          "Kiribati",
          "United States"
         ],
         26
        ],
        [
         [
          "Saudi Arabia",
          "United States"
         ],
         83
        ],
        [
         [
          "Czech Republic",
          "United States"
         ],
         13
        ],
        [
         [
          "United States",
          "Israel"
         ],
         127
        ],
        [
         [
          "Belgium",
          "United States"
         ],
         259
        ],
        [
         [
          "United States",
          "Saint Lucia"
         ],
         136
        ],
        [
         [
          "United States",
          "Bahrain"
         ],
         1
        ],
        [
         [
          "United States",
          "British Virgin Islands"
         ],
         80
        ],
        [
         [
          "Curacao",
          "United States"
         ],
         90
        ],
        [
         [
          "Georgia",
          "United States"
         ],
         2
        ],
        [
         [
          "United States",
          "Denmark"
         ],
         152
        ],
        [
         [
          "United States",
          "Guyana"
         ],
         63
        ],
        [
         [
          "Philippines",
          "United States"
         ],
         134
        ],
        [
         [
          "Grenada",
          "United States"
         ],
         53
        ],
        [
         [
          "Cape Verde",
          "United States"
         ],
         20
        ],
        [
         [
          "Cote d'Ivoire",
          "United States"
         ],
         1
        ],
        [
         [
          "Ukraine",
          "United States"
         ],
         14
        ],
        [
         [
          "United States",
          "Papua New Guinea"
         ],
         1
        ],
        [
         [
          "Russia",
          "United States"
         ],
         176
        ],
        [
         [
          "United States",
          "Saudi Arabia"
         ],
         70
        ],
        [
         [
          "Guatemala",
          "United States"
         ],
         397
        ],
        [
         [
          "Saint Lucia",
          "United States"
         ],
         123
        ],
        [
         [
          "Paraguay",
          "United States"
         ],
         60
        ],
        [
         [
          "United States",
          "Curacao"
         ],
         83
        ],
        [
         [
          "Kosovo",
          "United States"
         ],
         1
        ],
        [
         [
          "United States",
          "Taiwan"
         ],
         235
        ],
        [
         [
          "Tunisia",
          "United States"
         ],
         3
        ],
        [
         [
          "United States",
          "South Africa"
         ],
         40
        ],
        [
         [
          "Niger",
          "United States"
         ],
         2
        ],
        [
         [
          "Turkey",
          "United States"
         ],
         138
        ],
        [
         [
          "United Kingdom",
          "United States"
         ],
         2025
        ],
        [
         [
          "Romania",
          "United States"
         ],
         14
        ],
        [
         [
          "United States",
          "Greenland"
         ],
         4
        ],
        [
         [
          "Papua New Guinea",
          "United States"
         ],
         3
        ],
        [
         [
          "United States",
          "Spain"
         ],
         442
        ],
        [
         [
          "Iraq",
          "United States"
         ],
         1
        ],
        [
         [
          "United States",
          "Italy"
         ],
         438
        ],
        [
         [
          "Cuba",
          "United States"
         ],
         466
        ],
        [
         [
          "United States",
          "Switzerland"
         ],
         305
        ],
        [
         [
          "Dominica",
          "United States"
         ],
         20
        ],
        [
         [
          "United States",
          "Japan"
         ],
         1496
        ],
        [
         [
          "Portugal",
          "United States"
         ],
         127
        ],
        [
         [
          "United States",
          "Brazil"
         ],
         619
        ],
        [
         [
          "Bahrain",
          "United States"
         ],
         19
        ],
        [
         [
          "United States",
          "Peru"
         ],
         337
        ],
        [
         [
          "Indonesia",
          "United States"
         ],
         1
        ],
        [
         [
          "United States",
          "Belize"
         ],
         193
        ],
        [
         [
          "United States",
          "United Kingdom"
         ],
         1970
        ],
        [
         [
          "Belize",
          "United States"
         ],
         188
        ],
        [
         [
          "United States",
          "Ghana"
         ],
         20
        ],
        [
         [
          "United States",
          "Indonesia"
         ],
         2
        ],
        [
         [
          "United States",
          "Fiji"
         ],
         25
        ],
        [
         [
          "United States",
          "Canada"
         ],
         8483
        ],
        [
         [
          "United States",
          "Antigua and Barbuda"
         ],
         117
        ],
        [
         [
          "United States",
          "French Polynesia"
         ],
         40
        ],
        [
         [
          "Nicaragua",
          "United States"
         ],
         179
        ],
        [
         [
          "United States",
          "Latvia"
         ],
         15
        ],
        [
         [
          "United States",
          "Dominica"
         ],
         27
        ],
        [
         [
          "United States",
          "Czech Republic"
         ],
         12
        ],
        [
         [
          "United States",
          "Australia"
         ],
         258
        ],
        [
         [
          "United States",
          "Cook Islands"
         ],
         13
        ],
        [
         [
          "Austria",
          "United States"
         ],
         62
        ],
        [
         [
          "Jordan",
          "United States"
         ],
         44
        ],
        [
         [
          "Palau",
          "United States"
         ],
         30
        ],
        [
         [
          "South Korea",
          "United States"
         ],
         1048
        ],
        [
         [
          "Angola",
          "United States"
         ],
         15
        ],
        [
         [
          "Ghana",
          "United States"
         ],
         18
        ],
        [
         [
          "New Caledonia",
          "United States"
         ],
         1
        ],
        [
         [
          "Guadeloupe",
          "United States"
         ],
         56
        ],
        [
         [
          "France",
          "United States"
         ],
         935
        ],
        [
         [
          "Poland",
          "United States"
         ],
         32
        ],
        [
         [
          "Nigeria",
          "United States"
         ],
         59
        ],
        [
         [
          "United States",
          "Uruguay"
         ],
         13
        ],
        [
         [
          "Greenland",
          "United States"
         ],
         2
        ],
        [
         [
          "United States",
          "Bermuda"
         ],
         193
        ],
        [
         [
          "Chile",
          "United States"
         ],
         174
        ],
        [
         [
          "United States",
          "Cuba"
         ],
         478
        ],
        [
         [
          "United States",
          "Montenegro"
         ],
         1
        ],
        [
         [
          "United States",
          "Colombia"
         ],
         867
        ],
        [
         [
          "United States",
          "Barbados"
         ],
         130
        ],
        [
         [
          "United States",
          "Qatar"
         ],
         109
        ],
        [
         [
          "Australia",
          "United States"
         ],
         329
        ],
        [
         [
          "United States",
          "Cayman Islands"
         ],
         310
        ],
        [
         [
          "United States",
          "Jordan"
         ],
         44
        ],
        [
         [
          "United States",
          "Namibia"
         ],
         1
        ],
        [
         [
          "United States",
          "Trinidad and Tobago"
         ],
         217
        ],
        [
         [
          "United States",
          "Bolivia"
         ],
         13
        ],
        [
         [
          "Cook Islands",
          "United States"
         ],
         13
        ],
        [
         [
          "Bulgaria",
          "United States"
         ],
         3
        ],
        [
         [
          "United States",
          "Saint Kitts and Nevis"
         ],
         145
        ],
        [
         [
          "Uruguay",
          "United States"
         ],
         43
        ],
        [
         [
          "United States",
          "Haiti"
         ],
         225
        ],
        [
         [
          "Bonaire, Sint Eustatius, and Saba",
          "United States"
         ],
         58
        ],
        [
         [
          "Greece",
          "United States"
         ],
         30
        ]
       ],
       "datasetInfos": [],
       "dbfsResultPath": null,
       "isJsonSchema": true,
       "metadata": {},
       "overflow": false,
       "plotOptions": {
        "customPlotOptions": {},
        "displayType": "table",
        "pivotAggregation": null,
        "pivotColumns": null,
        "xColumns": null,
        "yColumns": null
       },
       "removedWidgets": [],
       "schema": [
        {
         "metadata": "{}",
         "name": "country",
         "type": "{\"type\":\"struct\",\"fields\":[{\"name\":\"DEST_COUNTRY_NAME\",\"type\":\"string\",\"nullable\":true,\"metadata\":{}},{\"name\":\"ORIGIN_COUNTRY_NAME\",\"type\":\"string\",\"nullable\":true,\"metadata\":{\"comment\":\"remember, the US will be most prevalent\"}}]}"
        },
        {
         "metadata": "{}",
         "name": "count",
         "type": "\"long\""
        }
       ],
       "type": "table"
      }
     },
     "output_type": "display_data"
    }
   ],
   "source": [
    "%sql\n",
    "select\n",
    "  *\n",
    "from\n",
    "  nested_data"
   ]
  },
  {
   "cell_type": "code",
   "execution_count": 0,
   "metadata": {
    "application/vnd.databricks.v1+cell": {
     "cellMetadata": {
      "byteLimit": 2048000,
      "implicitDf": true,
      "rowLimit": 10000
     },
     "inputWidgets": {},
     "nuid": "a4a3ea0b-4f78-4250-a813-83be9ec41c8b",
     "showTitle": false,
     "title": ""
    }
   },
   "outputs": [
    {
     "output_type": "display_data",
     "data": {
      "text/html": [
       "<style scoped>\n",
       "  .table-result-container {\n",
       "    max-height: 300px;\n",
       "    overflow: auto;\n",
       "  }\n",
       "  table, th, td {\n",
       "    border: 1px solid black;\n",
       "    border-collapse: collapse;\n",
       "  }\n",
       "  th, td {\n",
       "    padding: 5px;\n",
       "  }\n",
       "  th {\n",
       "    text-align: left;\n",
       "  }\n",
       "</style><div class='table-result-container'><table class='table-result'><thead style='background-color: white'><tr><th>DEST_COUNTRY_NAME</th><th>count</th></tr></thead><tbody><tr><td>United States</td><td>15</td></tr><tr><td>United States</td><td>1</td></tr><tr><td>United States</td><td>344</td></tr><tr><td>Egypt</td><td>15</td></tr><tr><td>United States</td><td>62</td></tr><tr><td>United States</td><td>1</td></tr><tr><td>United States</td><td>62</td></tr><tr><td>Costa Rica</td><td>588</td></tr><tr><td>Senegal</td><td>40</td></tr><tr><td>Moldova</td><td>1</td></tr><tr><td>United States</td><td>325</td></tr><tr><td>United States</td><td>39</td></tr><tr><td>Guyana</td><td>64</td></tr><tr><td>Malta</td><td>1</td></tr><tr><td>Anguilla</td><td>41</td></tr><tr><td>Bolivia</td><td>30</td></tr><tr><td>United States</td><td>6</td></tr><tr><td>Algeria</td><td>4</td></tr><tr><td>Turks and Caicos Islands</td><td>230</td></tr><tr><td>United States</td><td>1</td></tr><tr><td>Saint Vincent and the Grenadines</td><td>1</td></tr><tr><td>Italy</td><td>382</td></tr><tr><td>United States</td><td>69</td></tr><tr><td>United States</td><td>161</td></tr><tr><td>Pakistan</td><td>12</td></tr><tr><td>United States</td><td>660</td></tr><tr><td>Iceland</td><td>181</td></tr><tr><td>Marshall Islands</td><td>42</td></tr><tr><td>Luxembourg</td><td>155</td></tr><tr><td>Honduras</td><td>362</td></tr><tr><td>The Bahamas</td><td>955</td></tr><tr><td>United States</td><td>42</td></tr><tr><td>El Salvador</td><td>561</td></tr><tr><td>Samoa</td><td>25</td></tr><tr><td>United States</td><td>13</td></tr><tr><td>Switzerland</td><td>294</td></tr><tr><td>United States</td><td>38</td></tr><tr><td>Sint Maarten</td><td>325</td></tr><tr><td>Hong Kong</td><td>332</td></tr><tr><td>Trinidad and Tobago</td><td>211</td></tr><tr><td>Latvia</td><td>19</td></tr><tr><td>United States</td><td>300</td></tr><tr><td>Suriname</td><td>1</td></tr><tr><td>Mexico</td><td>7140</td></tr><tr><td>United States</td><td>1</td></tr><tr><td>Ecuador</td><td>268</td></tr><tr><td>United States</td><td>134</td></tr><tr><td>United States</td><td>608</td></tr><tr><td>United States</td><td>318</td></tr><tr><td>United States</td><td>34</td></tr><tr><td>Colombia</td><td>873</td></tr><tr><td>United States</td><td>14</td></tr><tr><td>United States</td><td>712</td></tr><tr><td>Norway</td><td>121</td></tr><tr><td>United States</td><td>3</td></tr><tr><td>United States</td><td>19</td></tr><tr><td>Thailand</td><td>3</td></tr><tr><td>United States</td><td>25</td></tr><tr><td>Venezuela</td><td>290</td></tr><tr><td>United States</td><td>31</td></tr><tr><td>United States</td><td>246</td></tr><tr><td>Panama</td><td>510</td></tr><tr><td>Antigua and Barbuda</td><td>126</td></tr><tr><td>United States</td><td>185</td></tr><tr><td>Morocco</td><td>15</td></tr><tr><td>United States</td><td>28</td></tr><tr><td>Azerbaijan</td><td>21</td></tr><tr><td>United States</td><td>23</td></tr><tr><td>United States</td><td>986</td></tr><tr><td>New Zealand</td><td>111</td></tr><tr><td>Liberia</td><td>2</td></tr><tr><td>United States</td><td>414</td></tr><tr><td>Hungary</td><td>2</td></tr><tr><td>United States</td><td>920</td></tr><tr><td>United States</td><td>2</td></tr><tr><td>Burkina Faso</td><td>1</td></tr><tr><td>Sweden</td><td>118</td></tr><tr><td>United States</td><td>28</td></tr><tr><td>United States</td><td>1420</td></tr><tr><td>United States</td><td>12</td></tr><tr><td>Israel</td><td>134</td></tr><tr><td>United States</td><td>370002</td></tr><tr><td>Ethiopia</td><td>13</td></tr><tr><td>United States</td><td>134</td></tr><tr><td>United States</td><td>33</td></tr><tr><td>Martinique</td><td>44</td></tr><tr><td>United States</td><td>41</td></tr><tr><td>Saint Barthelemy</td><td>39</td></tr><tr><td>Barbados</td><td>154</td></tr><tr><td>United States</td><td>129</td></tr><tr><td>Djibouti</td><td>1</td></tr><tr><td>United States</td><td>21</td></tr><tr><td>United States</td><td>1</td></tr><tr><td>Germany</td><td>1468</td></tr><tr><td>United States</td><td>827</td></tr><tr><td>United States</td><td>508</td></tr><tr><td>Ireland</td><td>335</td></tr><tr><td>United States</td><td>3</td></tr><tr><td>Zambia</td><td>1</td></tr><tr><td>Malaysia</td><td>2</td></tr><tr><td>United States</td><td>12</td></tr><tr><td>United States</td><td>465</td></tr><tr><td>United States</td><td>342</td></tr><tr><td>United States</td><td>4</td></tr><tr><td>United States</td><td>236</td></tr><tr><td>Croatia</td><td>2</td></tr><tr><td>United States</td><td>12</td></tr><tr><td>Cyprus</td><td>1</td></tr><tr><td>United States</td><td>407</td></tr><tr><td>Fiji</td><td>24</td></tr><tr><td>Qatar</td><td>108</td></tr><tr><td>Saint Kitts and Nevis</td><td>139</td></tr><tr><td>Kuwait</td><td>32</td></tr><tr><td>Taiwan</td><td>266</td></tr><tr><td>Haiti</td><td>226</td></tr><tr><td>Canada</td><td>8399</td></tr><tr><td>Federated States of Micronesia</td><td>69</td></tr><tr><td>United States</td><td>2</td></tr><tr><td>Jamaica</td><td>666</td></tr><tr><td>United States</td><td>2</td></tr><tr><td>Dominican Republic</td><td>1353</td></tr><tr><td>Japan</td><td>1548</td></tr><tr><td>United States</td><td>1</td></tr><tr><td>Finland</td><td>26</td></tr><tr><td>United States</td><td>59</td></tr><tr><td>United States</td><td>13</td></tr><tr><td>United States</td><td>952</td></tr><tr><td>United States</td><td>115</td></tr><tr><td>Aruba</td><td>346</td></tr><tr><td>French Guiana</td><td>5</td></tr><tr><td>United States</td><td>35</td></tr><tr><td>India</td><td>61</td></tr><tr><td>British Virgin Islands</td><td>107</td></tr><tr><td>Brazil</td><td>853</td></tr><tr><td>United States</td><td>1336</td></tr><tr><td>United States</td><td>74</td></tr><tr><td>French Polynesia</td><td>43</td></tr><tr><td>United Arab Emirates</td><td>320</td></tr><tr><td>Singapore</td><td>3</td></tr><tr><td>United States</td><td>7187</td></tr><tr><td>United States</td><td>119</td></tr><tr><td>Netherlands</td><td>776</td></tr><tr><td>United States</td><td>43</td></tr><tr><td>United States</td><td>313</td></tr><tr><td>United States</td><td>1</td></tr><tr><td>Denmark</td><td>153</td></tr><tr><td>China</td><td>772</td></tr><tr><td>United States</td><td>201</td></tr><tr><td>United States</td><td>126</td></tr><tr><td>United States</td><td>1</td></tr><tr><td>United States</td><td>228</td></tr><tr><td>Cayman Islands</td><td>314</td></tr><tr><td>Argentina</td><td>180</td></tr><tr><td>Peru</td><td>279</td></tr><tr><td>South Africa</td><td>36</td></tr><tr><td>United States</td><td>202</td></tr><tr><td>United States</td><td>141</td></tr><tr><td>Spain</td><td>420</td></tr><tr><td>Bermuda</td><td>183</td></tr><tr><td>United States</td><td>50</td></tr><tr><td>United States</td><td>63</td></tr><tr><td>United States</td><td>59</td></tr><tr><td>Kiribati</td><td>26</td></tr><tr><td>Saudi Arabia</td><td>83</td></tr><tr><td>Czech Republic</td><td>13</td></tr><tr><td>United States</td><td>127</td></tr><tr><td>Belgium</td><td>259</td></tr><tr><td>United States</td><td>136</td></tr><tr><td>United States</td><td>1</td></tr><tr><td>United States</td><td>80</td></tr><tr><td>Curacao</td><td>90</td></tr><tr><td>Georgia</td><td>2</td></tr><tr><td>United States</td><td>152</td></tr><tr><td>United States</td><td>63</td></tr><tr><td>Philippines</td><td>134</td></tr><tr><td>Grenada</td><td>53</td></tr><tr><td>Cape Verde</td><td>20</td></tr><tr><td>Cote d'Ivoire</td><td>1</td></tr><tr><td>Ukraine</td><td>14</td></tr><tr><td>United States</td><td>1</td></tr><tr><td>Russia</td><td>176</td></tr><tr><td>United States</td><td>70</td></tr><tr><td>Guatemala</td><td>397</td></tr><tr><td>Saint Lucia</td><td>123</td></tr><tr><td>Paraguay</td><td>60</td></tr><tr><td>United States</td><td>83</td></tr><tr><td>Kosovo</td><td>1</td></tr><tr><td>United States</td><td>235</td></tr><tr><td>Tunisia</td><td>3</td></tr><tr><td>United States</td><td>40</td></tr><tr><td>Niger</td><td>2</td></tr><tr><td>Turkey</td><td>138</td></tr><tr><td>United Kingdom</td><td>2025</td></tr><tr><td>Romania</td><td>14</td></tr><tr><td>United States</td><td>4</td></tr><tr><td>Papua New Guinea</td><td>3</td></tr><tr><td>United States</td><td>442</td></tr><tr><td>Iraq</td><td>1</td></tr><tr><td>United States</td><td>438</td></tr><tr><td>Cuba</td><td>466</td></tr><tr><td>United States</td><td>305</td></tr><tr><td>Dominica</td><td>20</td></tr><tr><td>United States</td><td>1496</td></tr><tr><td>Portugal</td><td>127</td></tr><tr><td>United States</td><td>619</td></tr><tr><td>Bahrain</td><td>19</td></tr><tr><td>United States</td><td>337</td></tr><tr><td>Indonesia</td><td>1</td></tr><tr><td>United States</td><td>193</td></tr><tr><td>United States</td><td>1970</td></tr><tr><td>Belize</td><td>188</td></tr><tr><td>United States</td><td>20</td></tr><tr><td>United States</td><td>2</td></tr><tr><td>United States</td><td>25</td></tr><tr><td>United States</td><td>8483</td></tr><tr><td>United States</td><td>117</td></tr><tr><td>United States</td><td>40</td></tr><tr><td>Nicaragua</td><td>179</td></tr><tr><td>United States</td><td>15</td></tr><tr><td>United States</td><td>27</td></tr><tr><td>United States</td><td>12</td></tr><tr><td>United States</td><td>258</td></tr><tr><td>United States</td><td>13</td></tr><tr><td>Austria</td><td>62</td></tr><tr><td>Jordan</td><td>44</td></tr><tr><td>Palau</td><td>30</td></tr><tr><td>South Korea</td><td>1048</td></tr><tr><td>Angola</td><td>15</td></tr><tr><td>Ghana</td><td>18</td></tr><tr><td>New Caledonia</td><td>1</td></tr><tr><td>Guadeloupe</td><td>56</td></tr><tr><td>France</td><td>935</td></tr><tr><td>Poland</td><td>32</td></tr><tr><td>Nigeria</td><td>59</td></tr><tr><td>United States</td><td>13</td></tr><tr><td>Greenland</td><td>2</td></tr><tr><td>United States</td><td>193</td></tr><tr><td>Chile</td><td>174</td></tr><tr><td>United States</td><td>478</td></tr><tr><td>United States</td><td>1</td></tr><tr><td>United States</td><td>867</td></tr><tr><td>United States</td><td>130</td></tr><tr><td>United States</td><td>109</td></tr><tr><td>Australia</td><td>329</td></tr><tr><td>United States</td><td>310</td></tr><tr><td>United States</td><td>44</td></tr><tr><td>United States</td><td>1</td></tr><tr><td>United States</td><td>217</td></tr><tr><td>United States</td><td>13</td></tr><tr><td>Cook Islands</td><td>13</td></tr><tr><td>Bulgaria</td><td>3</td></tr><tr><td>United States</td><td>145</td></tr><tr><td>Uruguay</td><td>43</td></tr><tr><td>United States</td><td>225</td></tr><tr><td>Bonaire, Sint Eustatius, and Saba</td><td>58</td></tr><tr><td>Greece</td><td>30</td></tr></tbody></table></div>"
      ]
     },
     "metadata": {
      "application/vnd.databricks.v1+output": {
       "addedWidgets": {},
       "aggData": [],
       "aggError": "",
       "aggOverflow": false,
       "aggSchema": [],
       "aggSeriesLimitReached": false,
       "aggType": "",
       "arguments": {},
       "columnCustomDisplayInfos": {},
       "data": [
        [
         "United States",
         15
        ],
        [
         "United States",
         1
        ],
        [
         "United States",
         344
        ],
        [
         "Egypt",
         15
        ],
        [
         "United States",
         62
        ],
        [
         "United States",
         1
        ],
        [
         "United States",
         62
        ],
        [
         "Costa Rica",
         588
        ],
        [
         "Senegal",
         40
        ],
        [
         "Moldova",
         1
        ],
        [
         "United States",
         325
        ],
        [
         "United States",
         39
        ],
        [
         "Guyana",
         64
        ],
        [
         "Malta",
         1
        ],
        [
         "Anguilla",
         41
        ],
        [
         "Bolivia",
         30
        ],
        [
         "United States",
         6
        ],
        [
         "Algeria",
         4
        ],
        [
         "Turks and Caicos Islands",
         230
        ],
        [
         "United States",
         1
        ],
        [
         "Saint Vincent and the Grenadines",
         1
        ],
        [
         "Italy",
         382
        ],
        [
         "United States",
         69
        ],
        [
         "United States",
         161
        ],
        [
         "Pakistan",
         12
        ],
        [
         "United States",
         660
        ],
        [
         "Iceland",
         181
        ],
        [
         "Marshall Islands",
         42
        ],
        [
         "Luxembourg",
         155
        ],
        [
         "Honduras",
         362
        ],
        [
         "The Bahamas",
         955
        ],
        [
         "United States",
         42
        ],
        [
         "El Salvador",
         561
        ],
        [
         "Samoa",
         25
        ],
        [
         "United States",
         13
        ],
        [
         "Switzerland",
         294
        ],
        [
         "United States",
         38
        ],
        [
         "Sint Maarten",
         325
        ],
        [
         "Hong Kong",
         332
        ],
        [
         "Trinidad and Tobago",
         211
        ],
        [
         "Latvia",
         19
        ],
        [
         "United States",
         300
        ],
        [
         "Suriname",
         1
        ],
        [
         "Mexico",
         7140
        ],
        [
         "United States",
         1
        ],
        [
         "Ecuador",
         268
        ],
        [
         "United States",
         134
        ],
        [
         "United States",
         608
        ],
        [
         "United States",
         318
        ],
        [
         "United States",
         34
        ],
        [
         "Colombia",
         873
        ],
        [
         "United States",
         14
        ],
        [
         "United States",
         712
        ],
        [
         "Norway",
         121
        ],
        [
         "United States",
         3
        ],
        [
         "United States",
         19
        ],
        [
         "Thailand",
         3
        ],
        [
         "United States",
         25
        ],
        [
         "Venezuela",
         290
        ],
        [
         "United States",
         31
        ],
        [
         "United States",
         246
        ],
        [
         "Panama",
         510
        ],
        [
         "Antigua and Barbuda",
         126
        ],
        [
         "United States",
         185
        ],
        [
         "Morocco",
         15
        ],
        [
         "United States",
         28
        ],
        [
         "Azerbaijan",
         21
        ],
        [
         "United States",
         23
        ],
        [
         "United States",
         986
        ],
        [
         "New Zealand",
         111
        ],
        [
         "Liberia",
         2
        ],
        [
         "United States",
         414
        ],
        [
         "Hungary",
         2
        ],
        [
         "United States",
         920
        ],
        [
         "United States",
         2
        ],
        [
         "Burkina Faso",
         1
        ],
        [
         "Sweden",
         118
        ],
        [
         "United States",
         28
        ],
        [
         "United States",
         1420
        ],
        [
         "United States",
         12
        ],
        [
         "Israel",
         134
        ],
        [
         "United States",
         370002
        ],
        [
         "Ethiopia",
         13
        ],
        [
         "United States",
         134
        ],
        [
         "United States",
         33
        ],
        [
         "Martinique",
         44
        ],
        [
         "United States",
         41
        ],
        [
         "Saint Barthelemy",
         39
        ],
        [
         "Barbados",
         154
        ],
        [
         "United States",
         129
        ],
        [
         "Djibouti",
         1
        ],
        [
         "United States",
         21
        ],
        [
         "United States",
         1
        ],
        [
         "Germany",
         1468
        ],
        [
         "United States",
         827
        ],
        [
         "United States",
         508
        ],
        [
         "Ireland",
         335
        ],
        [
         "United States",
         3
        ],
        [
         "Zambia",
         1
        ],
        [
         "Malaysia",
         2
        ],
        [
         "United States",
         12
        ],
        [
         "United States",
         465
        ],
        [
         "United States",
         342
        ],
        [
         "United States",
         4
        ],
        [
         "United States",
         236
        ],
        [
         "Croatia",
         2
        ],
        [
         "United States",
         12
        ],
        [
         "Cyprus",
         1
        ],
        [
         "United States",
         407
        ],
        [
         "Fiji",
         24
        ],
        [
         "Qatar",
         108
        ],
        [
         "Saint Kitts and Nevis",
         139
        ],
        [
         "Kuwait",
         32
        ],
        [
         "Taiwan",
         266
        ],
        [
         "Haiti",
         226
        ],
        [
         "Canada",
         8399
        ],
        [
         "Federated States of Micronesia",
         69
        ],
        [
         "United States",
         2
        ],
        [
         "Jamaica",
         666
        ],
        [
         "United States",
         2
        ],
        [
         "Dominican Republic",
         1353
        ],
        [
         "Japan",
         1548
        ],
        [
         "United States",
         1
        ],
        [
         "Finland",
         26
        ],
        [
         "United States",
         59
        ],
        [
         "United States",
         13
        ],
        [
         "United States",
         952
        ],
        [
         "United States",
         115
        ],
        [
         "Aruba",
         346
        ],
        [
         "French Guiana",
         5
        ],
        [
         "United States",
         35
        ],
        [
         "India",
         61
        ],
        [
         "British Virgin Islands",
         107
        ],
        [
         "Brazil",
         853
        ],
        [
         "United States",
         1336
        ],
        [
         "United States",
         74
        ],
        [
         "French Polynesia",
         43
        ],
        [
         "United Arab Emirates",
         320
        ],
        [
         "Singapore",
         3
        ],
        [
         "United States",
         7187
        ],
        [
         "United States",
         119
        ],
        [
         "Netherlands",
         776
        ],
        [
         "United States",
         43
        ],
        [
         "United States",
         313
        ],
        [
         "United States",
         1
        ],
        [
         "Denmark",
         153
        ],
        [
         "China",
         772
        ],
        [
         "United States",
         201
        ],
        [
         "United States",
         126
        ],
        [
         "United States",
         1
        ],
        [
         "United States",
         228
        ],
        [
         "Cayman Islands",
         314
        ],
        [
         "Argentina",
         180
        ],
        [
         "Peru",
         279
        ],
        [
         "South Africa",
         36
        ],
        [
         "United States",
         202
        ],
        [
         "United States",
         141
        ],
        [
         "Spain",
         420
        ],
        [
         "Bermuda",
         183
        ],
        [
         "United States",
         50
        ],
        [
         "United States",
         63
        ],
        [
         "United States",
         59
        ],
        [
         "Kiribati",
         26
        ],
        [
         "Saudi Arabia",
         83
        ],
        [
         "Czech Republic",
         13
        ],
        [
         "United States",
         127
        ],
        [
         "Belgium",
         259
        ],
        [
         "United States",
         136
        ],
        [
         "United States",
         1
        ],
        [
         "United States",
         80
        ],
        [
         "Curacao",
         90
        ],
        [
         "Georgia",
         2
        ],
        [
         "United States",
         152
        ],
        [
         "United States",
         63
        ],
        [
         "Philippines",
         134
        ],
        [
         "Grenada",
         53
        ],
        [
         "Cape Verde",
         20
        ],
        [
         "Cote d'Ivoire",
         1
        ],
        [
         "Ukraine",
         14
        ],
        [
         "United States",
         1
        ],
        [
         "Russia",
         176
        ],
        [
         "United States",
         70
        ],
        [
         "Guatemala",
         397
        ],
        [
         "Saint Lucia",
         123
        ],
        [
         "Paraguay",
         60
        ],
        [
         "United States",
         83
        ],
        [
         "Kosovo",
         1
        ],
        [
         "United States",
         235
        ],
        [
         "Tunisia",
         3
        ],
        [
         "United States",
         40
        ],
        [
         "Niger",
         2
        ],
        [
         "Turkey",
         138
        ],
        [
         "United Kingdom",
         2025
        ],
        [
         "Romania",
         14
        ],
        [
         "United States",
         4
        ],
        [
         "Papua New Guinea",
         3
        ],
        [
         "United States",
         442
        ],
        [
         "Iraq",
         1
        ],
        [
         "United States",
         438
        ],
        [
         "Cuba",
         466
        ],
        [
         "United States",
         305
        ],
        [
         "Dominica",
         20
        ],
        [
         "United States",
         1496
        ],
        [
         "Portugal",
         127
        ],
        [
         "United States",
         619
        ],
        [
         "Bahrain",
         19
        ],
        [
         "United States",
         337
        ],
        [
         "Indonesia",
         1
        ],
        [
         "United States",
         193
        ],
        [
         "United States",
         1970
        ],
        [
         "Belize",
         188
        ],
        [
         "United States",
         20
        ],
        [
         "United States",
         2
        ],
        [
         "United States",
         25
        ],
        [
         "United States",
         8483
        ],
        [
         "United States",
         117
        ],
        [
         "United States",
         40
        ],
        [
         "Nicaragua",
         179
        ],
        [
         "United States",
         15
        ],
        [
         "United States",
         27
        ],
        [
         "United States",
         12
        ],
        [
         "United States",
         258
        ],
        [
         "United States",
         13
        ],
        [
         "Austria",
         62
        ],
        [
         "Jordan",
         44
        ],
        [
         "Palau",
         30
        ],
        [
         "South Korea",
         1048
        ],
        [
         "Angola",
         15
        ],
        [
         "Ghana",
         18
        ],
        [
         "New Caledonia",
         1
        ],
        [
         "Guadeloupe",
         56
        ],
        [
         "France",
         935
        ],
        [
         "Poland",
         32
        ],
        [
         "Nigeria",
         59
        ],
        [
         "United States",
         13
        ],
        [
         "Greenland",
         2
        ],
        [
         "United States",
         193
        ],
        [
         "Chile",
         174
        ],
        [
         "United States",
         478
        ],
        [
         "United States",
         1
        ],
        [
         "United States",
         867
        ],
        [
         "United States",
         130
        ],
        [
         "United States",
         109
        ],
        [
         "Australia",
         329
        ],
        [
         "United States",
         310
        ],
        [
         "United States",
         44
        ],
        [
         "United States",
         1
        ],
        [
         "United States",
         217
        ],
        [
         "United States",
         13
        ],
        [
         "Cook Islands",
         13
        ],
        [
         "Bulgaria",
         3
        ],
        [
         "United States",
         145
        ],
        [
         "Uruguay",
         43
        ],
        [
         "United States",
         225
        ],
        [
         "Bonaire, Sint Eustatius, and Saba",
         58
        ],
        [
         "Greece",
         30
        ]
       ],
       "datasetInfos": [],
       "dbfsResultPath": null,
       "isJsonSchema": true,
       "metadata": {},
       "overflow": false,
       "plotOptions": {
        "customPlotOptions": {},
        "displayType": "table",
        "pivotAggregation": null,
        "pivotColumns": null,
        "xColumns": null,
        "yColumns": null
       },
       "removedWidgets": [],
       "schema": [
        {
         "metadata": "{}",
         "name": "DEST_COUNTRY_NAME",
         "type": "\"string\""
        },
        {
         "metadata": "{}",
         "name": "count",
         "type": "\"long\""
        }
       ],
       "type": "table"
      }
     },
     "output_type": "display_data"
    }
   ],
   "source": [
    "%sql\n",
    "SELECT\n",
    "  country.DEST_COUNTRY_NAME,\n",
    "  count\n",
    "FROM\n",
    "  nested_data"
   ]
  },
  {
   "cell_type": "code",
   "execution_count": 0,
   "metadata": {
    "application/vnd.databricks.v1+cell": {
     "cellMetadata": {
      "byteLimit": 2048000,
      "implicitDf": true,
      "rowLimit": 10000
     },
     "inputWidgets": {},
     "nuid": "2c5fcda4-d6bc-471b-9b70-c8eef419afcf",
     "showTitle": false,
     "title": ""
    }
   },
   "outputs": [
    {
     "output_type": "display_data",
     "data": {
      "text/html": [
       "<style scoped>\n",
       "  .table-result-container {\n",
       "    max-height: 300px;\n",
       "    overflow: auto;\n",
       "  }\n",
       "  table, th, td {\n",
       "    border: 1px solid black;\n",
       "    border-collapse: collapse;\n",
       "  }\n",
       "  th, td {\n",
       "    padding: 5px;\n",
       "  }\n",
       "  th {\n",
       "    text-align: left;\n",
       "  }\n",
       "</style><div class='table-result-container'><table class='table-result'><thead style='background-color: white'><tr><th>DEST_COUNTRY_NAME</th><th>ORIGIN_COUNTRY_NAME</th><th>count</th></tr></thead><tbody><tr><td>United States</td><td>Romania</td><td>15</td></tr><tr><td>United States</td><td>Croatia</td><td>1</td></tr><tr><td>United States</td><td>Ireland</td><td>344</td></tr><tr><td>Egypt</td><td>United States</td><td>15</td></tr><tr><td>United States</td><td>India</td><td>62</td></tr><tr><td>United States</td><td>Singapore</td><td>1</td></tr><tr><td>United States</td><td>Grenada</td><td>62</td></tr><tr><td>Costa Rica</td><td>United States</td><td>588</td></tr><tr><td>Senegal</td><td>United States</td><td>40</td></tr><tr><td>Moldova</td><td>United States</td><td>1</td></tr><tr><td>United States</td><td>Sint Maarten</td><td>325</td></tr><tr><td>United States</td><td>Marshall Islands</td><td>39</td></tr><tr><td>Guyana</td><td>United States</td><td>64</td></tr><tr><td>Malta</td><td>United States</td><td>1</td></tr><tr><td>Anguilla</td><td>United States</td><td>41</td></tr><tr><td>Bolivia</td><td>United States</td><td>30</td></tr><tr><td>United States</td><td>Paraguay</td><td>6</td></tr><tr><td>Algeria</td><td>United States</td><td>4</td></tr><tr><td>Turks and Caicos Islands</td><td>United States</td><td>230</td></tr><tr><td>United States</td><td>Gibraltar</td><td>1</td></tr><tr><td>Saint Vincent and the Grenadines</td><td>United States</td><td>1</td></tr><tr><td>Italy</td><td>United States</td><td>382</td></tr><tr><td>United States</td><td>Federated States of Micronesia</td><td>69</td></tr><tr><td>United States</td><td>Russia</td><td>161</td></tr><tr><td>Pakistan</td><td>United States</td><td>12</td></tr><tr><td>United States</td><td>Netherlands</td><td>660</td></tr><tr><td>Iceland</td><td>United States</td><td>181</td></tr><tr><td>Marshall Islands</td><td>United States</td><td>42</td></tr><tr><td>Luxembourg</td><td>United States</td><td>155</td></tr><tr><td>Honduras</td><td>United States</td><td>362</td></tr><tr><td>The Bahamas</td><td>United States</td><td>955</td></tr><tr><td>United States</td><td>Senegal</td><td>42</td></tr><tr><td>El Salvador</td><td>United States</td><td>561</td></tr><tr><td>Samoa</td><td>United States</td><td>25</td></tr><tr><td>United States</td><td>Angola</td><td>13</td></tr><tr><td>Switzerland</td><td>United States</td><td>294</td></tr><tr><td>United States</td><td>Anguilla</td><td>38</td></tr><tr><td>Sint Maarten</td><td>United States</td><td>325</td></tr><tr><td>Hong Kong</td><td>United States</td><td>332</td></tr><tr><td>Trinidad and Tobago</td><td>United States</td><td>211</td></tr><tr><td>Latvia</td><td>United States</td><td>19</td></tr><tr><td>United States</td><td>Ecuador</td><td>300</td></tr><tr><td>Suriname</td><td>United States</td><td>1</td></tr><tr><td>Mexico</td><td>United States</td><td>7140</td></tr><tr><td>United States</td><td>Cyprus</td><td>1</td></tr><tr><td>Ecuador</td><td>United States</td><td>268</td></tr><tr><td>United States</td><td>Portugal</td><td>134</td></tr><tr><td>United States</td><td>Costa Rica</td><td>608</td></tr><tr><td>United States</td><td>Guatemala</td><td>318</td></tr><tr><td>United States</td><td>Suriname</td><td>34</td></tr><tr><td>Colombia</td><td>United States</td><td>873</td></tr><tr><td>United States</td><td>Cape Verde</td><td>14</td></tr><tr><td>United States</td><td>Jamaica</td><td>712</td></tr><tr><td>Norway</td><td>United States</td><td>121</td></tr><tr><td>United States</td><td>Malaysia</td><td>3</td></tr><tr><td>United States</td><td>Morocco</td><td>19</td></tr><tr><td>Thailand</td><td>United States</td><td>3</td></tr><tr><td>United States</td><td>Samoa</td><td>25</td></tr><tr><td>Venezuela</td><td>United States</td><td>290</td></tr><tr><td>United States</td><td>Palau</td><td>31</td></tr><tr><td>United States</td><td>Venezuela</td><td>246</td></tr><tr><td>Panama</td><td>United States</td><td>510</td></tr><tr><td>Antigua and Barbuda</td><td>United States</td><td>126</td></tr><tr><td>United States</td><td>Chile</td><td>185</td></tr><tr><td>Morocco</td><td>United States</td><td>15</td></tr><tr><td>United States</td><td>Finland</td><td>28</td></tr><tr><td>Azerbaijan</td><td>United States</td><td>21</td></tr><tr><td>United States</td><td>Greece</td><td>23</td></tr><tr><td>United States</td><td>The Bahamas</td><td>986</td></tr><tr><td>New Zealand</td><td>United States</td><td>111</td></tr><tr><td>Liberia</td><td>United States</td><td>2</td></tr><tr><td>United States</td><td>Hong Kong</td><td>414</td></tr><tr><td>Hungary</td><td>United States</td><td>2</td></tr><tr><td>United States</td><td>China</td><td>920</td></tr><tr><td>United States</td><td>Vietnam</td><td>2</td></tr><tr><td>Burkina Faso</td><td>United States</td><td>1</td></tr><tr><td>Sweden</td><td>United States</td><td>118</td></tr><tr><td>United States</td><td>Kuwait</td><td>28</td></tr><tr><td>United States</td><td>Dominican Republic</td><td>1420</td></tr><tr><td>United States</td><td>Egypt</td><td>12</td></tr><tr><td>Israel</td><td>United States</td><td>134</td></tr><tr><td>United States</td><td>United States</td><td>370002</td></tr><tr><td>Ethiopia</td><td>United States</td><td>13</td></tr><tr><td>United States</td><td>Luxembourg</td><td>134</td></tr><tr><td>United States</td><td>Poland</td><td>33</td></tr><tr><td>Martinique</td><td>United States</td><td>44</td></tr><tr><td>United States</td><td>Saint Barthelemy</td><td>41</td></tr><tr><td>Saint Barthelemy</td><td>United States</td><td>39</td></tr><tr><td>Barbados</td><td>United States</td><td>154</td></tr><tr><td>United States</td><td>Turkey</td><td>129</td></tr><tr><td>Djibouti</td><td>United States</td><td>1</td></tr><tr><td>United States</td><td>Azerbaijan</td><td>21</td></tr><tr><td>United States</td><td>Estonia</td><td>1</td></tr><tr><td>Germany</td><td>United States</td><td>1468</td></tr><tr><td>United States</td><td>South Korea</td><td>827</td></tr><tr><td>United States</td><td>El Salvador</td><td>508</td></tr><tr><td>Ireland</td><td>United States</td><td>335</td></tr><tr><td>United States</td><td>Hungary</td><td>3</td></tr><tr><td>Zambia</td><td>United States</td><td>1</td></tr><tr><td>Malaysia</td><td>United States</td><td>2</td></tr><tr><td>United States</td><td>Ethiopia</td><td>12</td></tr><tr><td>United States</td><td>Panama</td><td>465</td></tr><tr><td>United States</td><td>Aruba</td><td>342</td></tr><tr><td>United States</td><td>Thailand</td><td>4</td></tr><tr><td>United States</td><td>Turks and Caicos Islands</td><td>236</td></tr><tr><td>Croatia</td><td>United States</td><td>2</td></tr><tr><td>United States</td><td>Pakistan</td><td>12</td></tr><tr><td>Cyprus</td><td>United States</td><td>1</td></tr><tr><td>United States</td><td>Honduras</td><td>407</td></tr><tr><td>Fiji</td><td>United States</td><td>24</td></tr><tr><td>Qatar</td><td>United States</td><td>108</td></tr><tr><td>Saint Kitts and Nevis</td><td>United States</td><td>139</td></tr><tr><td>Kuwait</td><td>United States</td><td>32</td></tr><tr><td>Taiwan</td><td>United States</td><td>266</td></tr><tr><td>Haiti</td><td>United States</td><td>226</td></tr><tr><td>Canada</td><td>United States</td><td>8399</td></tr><tr><td>Federated States of Micronesia</td><td>United States</td><td>69</td></tr><tr><td>United States</td><td>Liberia</td><td>2</td></tr><tr><td>Jamaica</td><td>United States</td><td>666</td></tr><tr><td>United States</td><td>Malta</td><td>2</td></tr><tr><td>Dominican Republic</td><td>United States</td><td>1353</td></tr><tr><td>Japan</td><td>United States</td><td>1548</td></tr><tr><td>United States</td><td>Lithuania</td><td>1</td></tr><tr><td>Finland</td><td>United States</td><td>26</td></tr><tr><td>United States</td><td>Guadeloupe</td><td>59</td></tr><tr><td>United States</td><td>Ukraine</td><td>13</td></tr><tr><td>United States</td><td>France</td><td>952</td></tr><tr><td>United States</td><td>Norway</td><td>115</td></tr><tr><td>Aruba</td><td>United States</td><td>346</td></tr><tr><td>French Guiana</td><td>United States</td><td>5</td></tr><tr><td>United States</td><td>Kiribati</td><td>35</td></tr><tr><td>India</td><td>United States</td><td>61</td></tr><tr><td>British Virgin Islands</td><td>United States</td><td>107</td></tr><tr><td>Brazil</td><td>United States</td><td>853</td></tr><tr><td>United States</td><td>Germany</td><td>1336</td></tr><tr><td>United States</td><td>New Zealand</td><td>74</td></tr><tr><td>French Polynesia</td><td>United States</td><td>43</td></tr><tr><td>United Arab Emirates</td><td>United States</td><td>320</td></tr><tr><td>Singapore</td><td>United States</td><td>3</td></tr><tr><td>United States</td><td>Mexico</td><td>7187</td></tr><tr><td>United States</td><td>Sweden</td><td>119</td></tr><tr><td>Netherlands</td><td>United States</td><td>776</td></tr><tr><td>United States</td><td>Martinique</td><td>43</td></tr><tr><td>United States</td><td>United Arab Emirates</td><td>313</td></tr><tr><td>United States</td><td>Bulgaria</td><td>1</td></tr><tr><td>Denmark</td><td>United States</td><td>153</td></tr><tr><td>China</td><td>United States</td><td>772</td></tr><tr><td>United States</td><td>Nicaragua</td><td>201</td></tr><tr><td>United States</td><td>Philippines</td><td>126</td></tr><tr><td>United States</td><td>Georgia</td><td>1</td></tr><tr><td>United States</td><td>Belgium</td><td>228</td></tr><tr><td>Cayman Islands</td><td>United States</td><td>314</td></tr><tr><td>Argentina</td><td>United States</td><td>180</td></tr><tr><td>Peru</td><td>United States</td><td>279</td></tr><tr><td>South Africa</td><td>United States</td><td>36</td></tr><tr><td>United States</td><td>Iceland</td><td>202</td></tr><tr><td>United States</td><td>Argentina</td><td>141</td></tr><tr><td>Spain</td><td>United States</td><td>420</td></tr><tr><td>Bermuda</td><td>United States</td><td>183</td></tr><tr><td>United States</td><td>Nigeria</td><td>50</td></tr><tr><td>United States</td><td>Austria</td><td>63</td></tr><tr><td>United States</td><td>Bonaire, Sint Eustatius, and Saba</td><td>59</td></tr><tr><td>Kiribati</td><td>United States</td><td>26</td></tr><tr><td>Saudi Arabia</td><td>United States</td><td>83</td></tr><tr><td>Czech Republic</td><td>United States</td><td>13</td></tr><tr><td>United States</td><td>Israel</td><td>127</td></tr><tr><td>Belgium</td><td>United States</td><td>259</td></tr><tr><td>United States</td><td>Saint Lucia</td><td>136</td></tr><tr><td>United States</td><td>Bahrain</td><td>1</td></tr><tr><td>United States</td><td>British Virgin Islands</td><td>80</td></tr><tr><td>Curacao</td><td>United States</td><td>90</td></tr><tr><td>Georgia</td><td>United States</td><td>2</td></tr><tr><td>United States</td><td>Denmark</td><td>152</td></tr><tr><td>United States</td><td>Guyana</td><td>63</td></tr><tr><td>Philippines</td><td>United States</td><td>134</td></tr><tr><td>Grenada</td><td>United States</td><td>53</td></tr><tr><td>Cape Verde</td><td>United States</td><td>20</td></tr><tr><td>Cote d'Ivoire</td><td>United States</td><td>1</td></tr><tr><td>Ukraine</td><td>United States</td><td>14</td></tr><tr><td>United States</td><td>Papua New Guinea</td><td>1</td></tr><tr><td>Russia</td><td>United States</td><td>176</td></tr><tr><td>United States</td><td>Saudi Arabia</td><td>70</td></tr><tr><td>Guatemala</td><td>United States</td><td>397</td></tr><tr><td>Saint Lucia</td><td>United States</td><td>123</td></tr><tr><td>Paraguay</td><td>United States</td><td>60</td></tr><tr><td>United States</td><td>Curacao</td><td>83</td></tr><tr><td>Kosovo</td><td>United States</td><td>1</td></tr><tr><td>United States</td><td>Taiwan</td><td>235</td></tr><tr><td>Tunisia</td><td>United States</td><td>3</td></tr><tr><td>United States</td><td>South Africa</td><td>40</td></tr><tr><td>Niger</td><td>United States</td><td>2</td></tr><tr><td>Turkey</td><td>United States</td><td>138</td></tr><tr><td>United Kingdom</td><td>United States</td><td>2025</td></tr><tr><td>Romania</td><td>United States</td><td>14</td></tr><tr><td>United States</td><td>Greenland</td><td>4</td></tr><tr><td>Papua New Guinea</td><td>United States</td><td>3</td></tr><tr><td>United States</td><td>Spain</td><td>442</td></tr><tr><td>Iraq</td><td>United States</td><td>1</td></tr><tr><td>United States</td><td>Italy</td><td>438</td></tr><tr><td>Cuba</td><td>United States</td><td>466</td></tr><tr><td>United States</td><td>Switzerland</td><td>305</td></tr><tr><td>Dominica</td><td>United States</td><td>20</td></tr><tr><td>United States</td><td>Japan</td><td>1496</td></tr><tr><td>Portugal</td><td>United States</td><td>127</td></tr><tr><td>United States</td><td>Brazil</td><td>619</td></tr><tr><td>Bahrain</td><td>United States</td><td>19</td></tr><tr><td>United States</td><td>Peru</td><td>337</td></tr><tr><td>Indonesia</td><td>United States</td><td>1</td></tr><tr><td>United States</td><td>Belize</td><td>193</td></tr><tr><td>United States</td><td>United Kingdom</td><td>1970</td></tr><tr><td>Belize</td><td>United States</td><td>188</td></tr><tr><td>United States</td><td>Ghana</td><td>20</td></tr><tr><td>United States</td><td>Indonesia</td><td>2</td></tr><tr><td>United States</td><td>Fiji</td><td>25</td></tr><tr><td>United States</td><td>Canada</td><td>8483</td></tr><tr><td>United States</td><td>Antigua and Barbuda</td><td>117</td></tr><tr><td>United States</td><td>French Polynesia</td><td>40</td></tr><tr><td>Nicaragua</td><td>United States</td><td>179</td></tr><tr><td>United States</td><td>Latvia</td><td>15</td></tr><tr><td>United States</td><td>Dominica</td><td>27</td></tr><tr><td>United States</td><td>Czech Republic</td><td>12</td></tr><tr><td>United States</td><td>Australia</td><td>258</td></tr><tr><td>United States</td><td>Cook Islands</td><td>13</td></tr><tr><td>Austria</td><td>United States</td><td>62</td></tr><tr><td>Jordan</td><td>United States</td><td>44</td></tr><tr><td>Palau</td><td>United States</td><td>30</td></tr><tr><td>South Korea</td><td>United States</td><td>1048</td></tr><tr><td>Angola</td><td>United States</td><td>15</td></tr><tr><td>Ghana</td><td>United States</td><td>18</td></tr><tr><td>New Caledonia</td><td>United States</td><td>1</td></tr><tr><td>Guadeloupe</td><td>United States</td><td>56</td></tr><tr><td>France</td><td>United States</td><td>935</td></tr><tr><td>Poland</td><td>United States</td><td>32</td></tr><tr><td>Nigeria</td><td>United States</td><td>59</td></tr><tr><td>United States</td><td>Uruguay</td><td>13</td></tr><tr><td>Greenland</td><td>United States</td><td>2</td></tr><tr><td>United States</td><td>Bermuda</td><td>193</td></tr><tr><td>Chile</td><td>United States</td><td>174</td></tr><tr><td>United States</td><td>Cuba</td><td>478</td></tr><tr><td>United States</td><td>Montenegro</td><td>1</td></tr><tr><td>United States</td><td>Colombia</td><td>867</td></tr><tr><td>United States</td><td>Barbados</td><td>130</td></tr><tr><td>United States</td><td>Qatar</td><td>109</td></tr><tr><td>Australia</td><td>United States</td><td>329</td></tr><tr><td>United States</td><td>Cayman Islands</td><td>310</td></tr><tr><td>United States</td><td>Jordan</td><td>44</td></tr><tr><td>United States</td><td>Namibia</td><td>1</td></tr><tr><td>United States</td><td>Trinidad and Tobago</td><td>217</td></tr><tr><td>United States</td><td>Bolivia</td><td>13</td></tr><tr><td>Cook Islands</td><td>United States</td><td>13</td></tr><tr><td>Bulgaria</td><td>United States</td><td>3</td></tr><tr><td>United States</td><td>Saint Kitts and Nevis</td><td>145</td></tr><tr><td>Uruguay</td><td>United States</td><td>43</td></tr><tr><td>United States</td><td>Haiti</td><td>225</td></tr><tr><td>Bonaire, Sint Eustatius, and Saba</td><td>United States</td><td>58</td></tr><tr><td>Greece</td><td>United States</td><td>30</td></tr></tbody></table></div>"
      ]
     },
     "metadata": {
      "application/vnd.databricks.v1+output": {
       "addedWidgets": {},
       "aggData": [],
       "aggError": "",
       "aggOverflow": false,
       "aggSchema": [],
       "aggSeriesLimitReached": false,
       "aggType": "",
       "arguments": {},
       "columnCustomDisplayInfos": {},
       "data": [
        [
         "United States",
         "Romania",
         15
        ],
        [
         "United States",
         "Croatia",
         1
        ],
        [
         "United States",
         "Ireland",
         344
        ],
        [
         "Egypt",
         "United States",
         15
        ],
        [
         "United States",
         "India",
         62
        ],
        [
         "United States",
         "Singapore",
         1
        ],
        [
         "United States",
         "Grenada",
         62
        ],
        [
         "Costa Rica",
         "United States",
         588
        ],
        [
         "Senegal",
         "United States",
         40
        ],
        [
         "Moldova",
         "United States",
         1
        ],
        [
         "United States",
         "Sint Maarten",
         325
        ],
        [
         "United States",
         "Marshall Islands",
         39
        ],
        [
         "Guyana",
         "United States",
         64
        ],
        [
         "Malta",
         "United States",
         1
        ],
        [
         "Anguilla",
         "United States",
         41
        ],
        [
         "Bolivia",
         "United States",
         30
        ],
        [
         "United States",
         "Paraguay",
         6
        ],
        [
         "Algeria",
         "United States",
         4
        ],
        [
         "Turks and Caicos Islands",
         "United States",
         230
        ],
        [
         "United States",
         "Gibraltar",
         1
        ],
        [
         "Saint Vincent and the Grenadines",
         "United States",
         1
        ],
        [
         "Italy",
         "United States",
         382
        ],
        [
         "United States",
         "Federated States of Micronesia",
         69
        ],
        [
         "United States",
         "Russia",
         161
        ],
        [
         "Pakistan",
         "United States",
         12
        ],
        [
         "United States",
         "Netherlands",
         660
        ],
        [
         "Iceland",
         "United States",
         181
        ],
        [
         "Marshall Islands",
         "United States",
         42
        ],
        [
         "Luxembourg",
         "United States",
         155
        ],
        [
         "Honduras",
         "United States",
         362
        ],
        [
         "The Bahamas",
         "United States",
         955
        ],
        [
         "United States",
         "Senegal",
         42
        ],
        [
         "El Salvador",
         "United States",
         561
        ],
        [
         "Samoa",
         "United States",
         25
        ],
        [
         "United States",
         "Angola",
         13
        ],
        [
         "Switzerland",
         "United States",
         294
        ],
        [
         "United States",
         "Anguilla",
         38
        ],
        [
         "Sint Maarten",
         "United States",
         325
        ],
        [
         "Hong Kong",
         "United States",
         332
        ],
        [
         "Trinidad and Tobago",
         "United States",
         211
        ],
        [
         "Latvia",
         "United States",
         19
        ],
        [
         "United States",
         "Ecuador",
         300
        ],
        [
         "Suriname",
         "United States",
         1
        ],
        [
         "Mexico",
         "United States",
         7140
        ],
        [
         "United States",
         "Cyprus",
         1
        ],
        [
         "Ecuador",
         "United States",
         268
        ],
        [
         "United States",
         "Portugal",
         134
        ],
        [
         "United States",
         "Costa Rica",
         608
        ],
        [
         "United States",
         "Guatemala",
         318
        ],
        [
         "United States",
         "Suriname",
         34
        ],
        [
         "Colombia",
         "United States",
         873
        ],
        [
         "United States",
         "Cape Verde",
         14
        ],
        [
         "United States",
         "Jamaica",
         712
        ],
        [
         "Norway",
         "United States",
         121
        ],
        [
         "United States",
         "Malaysia",
         3
        ],
        [
         "United States",
         "Morocco",
         19
        ],
        [
         "Thailand",
         "United States",
         3
        ],
        [
         "United States",
         "Samoa",
         25
        ],
        [
         "Venezuela",
         "United States",
         290
        ],
        [
         "United States",
         "Palau",
         31
        ],
        [
         "United States",
         "Venezuela",
         246
        ],
        [
         "Panama",
         "United States",
         510
        ],
        [
         "Antigua and Barbuda",
         "United States",
         126
        ],
        [
         "United States",
         "Chile",
         185
        ],
        [
         "Morocco",
         "United States",
         15
        ],
        [
         "United States",
         "Finland",
         28
        ],
        [
         "Azerbaijan",
         "United States",
         21
        ],
        [
         "United States",
         "Greece",
         23
        ],
        [
         "United States",
         "The Bahamas",
         986
        ],
        [
         "New Zealand",
         "United States",
         111
        ],
        [
         "Liberia",
         "United States",
         2
        ],
        [
         "United States",
         "Hong Kong",
         414
        ],
        [
         "Hungary",
         "United States",
         2
        ],
        [
         "United States",
         "China",
         920
        ],
        [
         "United States",
         "Vietnam",
         2
        ],
        [
         "Burkina Faso",
         "United States",
         1
        ],
        [
         "Sweden",
         "United States",
         118
        ],
        [
         "United States",
         "Kuwait",
         28
        ],
        [
         "United States",
         "Dominican Republic",
         1420
        ],
        [
         "United States",
         "Egypt",
         12
        ],
        [
         "Israel",
         "United States",
         134
        ],
        [
         "United States",
         "United States",
         370002
        ],
        [
         "Ethiopia",
         "United States",
         13
        ],
        [
         "United States",
         "Luxembourg",
         134
        ],
        [
         "United States",
         "Poland",
         33
        ],
        [
         "Martinique",
         "United States",
         44
        ],
        [
         "United States",
         "Saint Barthelemy",
         41
        ],
        [
         "Saint Barthelemy",
         "United States",
         39
        ],
        [
         "Barbados",
         "United States",
         154
        ],
        [
         "United States",
         "Turkey",
         129
        ],
        [
         "Djibouti",
         "United States",
         1
        ],
        [
         "United States",
         "Azerbaijan",
         21
        ],
        [
         "United States",
         "Estonia",
         1
        ],
        [
         "Germany",
         "United States",
         1468
        ],
        [
         "United States",
         "South Korea",
         827
        ],
        [
         "United States",
         "El Salvador",
         508
        ],
        [
         "Ireland",
         "United States",
         335
        ],
        [
         "United States",
         "Hungary",
         3
        ],
        [
         "Zambia",
         "United States",
         1
        ],
        [
         "Malaysia",
         "United States",
         2
        ],
        [
         "United States",
         "Ethiopia",
         12
        ],
        [
         "United States",
         "Panama",
         465
        ],
        [
         "United States",
         "Aruba",
         342
        ],
        [
         "United States",
         "Thailand",
         4
        ],
        [
         "United States",
         "Turks and Caicos Islands",
         236
        ],
        [
         "Croatia",
         "United States",
         2
        ],
        [
         "United States",
         "Pakistan",
         12
        ],
        [
         "Cyprus",
         "United States",
         1
        ],
        [
         "United States",
         "Honduras",
         407
        ],
        [
         "Fiji",
         "United States",
         24
        ],
        [
         "Qatar",
         "United States",
         108
        ],
        [
         "Saint Kitts and Nevis",
         "United States",
         139
        ],
        [
         "Kuwait",
         "United States",
         32
        ],
        [
         "Taiwan",
         "United States",
         266
        ],
        [
         "Haiti",
         "United States",
         226
        ],
        [
         "Canada",
         "United States",
         8399
        ],
        [
         "Federated States of Micronesia",
         "United States",
         69
        ],
        [
         "United States",
         "Liberia",
         2
        ],
        [
         "Jamaica",
         "United States",
         666
        ],
        [
         "United States",
         "Malta",
         2
        ],
        [
         "Dominican Republic",
         "United States",
         1353
        ],
        [
         "Japan",
         "United States",
         1548
        ],
        [
         "United States",
         "Lithuania",
         1
        ],
        [
         "Finland",
         "United States",
         26
        ],
        [
         "United States",
         "Guadeloupe",
         59
        ],
        [
         "United States",
         "Ukraine",
         13
        ],
        [
         "United States",
         "France",
         952
        ],
        [
         "United States",
         "Norway",
         115
        ],
        [
         "Aruba",
         "United States",
         346
        ],
        [
         "French Guiana",
         "United States",
         5
        ],
        [
         "United States",
         "Kiribati",
         35
        ],
        [
         "India",
         "United States",
         61
        ],
        [
         "British Virgin Islands",
         "United States",
         107
        ],
        [
         "Brazil",
         "United States",
         853
        ],
        [
         "United States",
         "Germany",
         1336
        ],
        [
         "United States",
         "New Zealand",
         74
        ],
        [
         "French Polynesia",
         "United States",
         43
        ],
        [
         "United Arab Emirates",
         "United States",
         320
        ],
        [
         "Singapore",
         "United States",
         3
        ],
        [
         "United States",
         "Mexico",
         7187
        ],
        [
         "United States",
         "Sweden",
         119
        ],
        [
         "Netherlands",
         "United States",
         776
        ],
        [
         "United States",
         "Martinique",
         43
        ],
        [
         "United States",
         "United Arab Emirates",
         313
        ],
        [
         "United States",
         "Bulgaria",
         1
        ],
        [
         "Denmark",
         "United States",
         153
        ],
        [
         "China",
         "United States",
         772
        ],
        [
         "United States",
         "Nicaragua",
         201
        ],
        [
         "United States",
         "Philippines",
         126
        ],
        [
         "United States",
         "Georgia",
         1
        ],
        [
         "United States",
         "Belgium",
         228
        ],
        [
         "Cayman Islands",
         "United States",
         314
        ],
        [
         "Argentina",
         "United States",
         180
        ],
        [
         "Peru",
         "United States",
         279
        ],
        [
         "South Africa",
         "United States",
         36
        ],
        [
         "United States",
         "Iceland",
         202
        ],
        [
         "United States",
         "Argentina",
         141
        ],
        [
         "Spain",
         "United States",
         420
        ],
        [
         "Bermuda",
         "United States",
         183
        ],
        [
         "United States",
         "Nigeria",
         50
        ],
        [
         "United States",
         "Austria",
         63
        ],
        [
         "United States",
         "Bonaire, Sint Eustatius, and Saba",
         59
        ],
        [
         "Kiribati",
         "United States",
         26
        ],
        [
         "Saudi Arabia",
         "United States",
         83
        ],
        [
         "Czech Republic",
         "United States",
         13
        ],
        [
         "United States",
         "Israel",
         127
        ],
        [
         "Belgium",
         "United States",
         259
        ],
        [
         "United States",
         "Saint Lucia",
         136
        ],
        [
         "United States",
         "Bahrain",
         1
        ],
        [
         "United States",
         "British Virgin Islands",
         80
        ],
        [
         "Curacao",
         "United States",
         90
        ],
        [
         "Georgia",
         "United States",
         2
        ],
        [
         "United States",
         "Denmark",
         152
        ],
        [
         "United States",
         "Guyana",
         63
        ],
        [
         "Philippines",
         "United States",
         134
        ],
        [
         "Grenada",
         "United States",
         53
        ],
        [
         "Cape Verde",
         "United States",
         20
        ],
        [
         "Cote d'Ivoire",
         "United States",
         1
        ],
        [
         "Ukraine",
         "United States",
         14
        ],
        [
         "United States",
         "Papua New Guinea",
         1
        ],
        [
         "Russia",
         "United States",
         176
        ],
        [
         "United States",
         "Saudi Arabia",
         70
        ],
        [
         "Guatemala",
         "United States",
         397
        ],
        [
         "Saint Lucia",
         "United States",
         123
        ],
        [
         "Paraguay",
         "United States",
         60
        ],
        [
         "United States",
         "Curacao",
         83
        ],
        [
         "Kosovo",
         "United States",
         1
        ],
        [
         "United States",
         "Taiwan",
         235
        ],
        [
         "Tunisia",
         "United States",
         3
        ],
        [
         "United States",
         "South Africa",
         40
        ],
        [
         "Niger",
         "United States",
         2
        ],
        [
         "Turkey",
         "United States",
         138
        ],
        [
         "United Kingdom",
         "United States",
         2025
        ],
        [
         "Romania",
         "United States",
         14
        ],
        [
         "United States",
         "Greenland",
         4
        ],
        [
         "Papua New Guinea",
         "United States",
         3
        ],
        [
         "United States",
         "Spain",
         442
        ],
        [
         "Iraq",
         "United States",
         1
        ],
        [
         "United States",
         "Italy",
         438
        ],
        [
         "Cuba",
         "United States",
         466
        ],
        [
         "United States",
         "Switzerland",
         305
        ],
        [
         "Dominica",
         "United States",
         20
        ],
        [
         "United States",
         "Japan",
         1496
        ],
        [
         "Portugal",
         "United States",
         127
        ],
        [
         "United States",
         "Brazil",
         619
        ],
        [
         "Bahrain",
         "United States",
         19
        ],
        [
         "United States",
         "Peru",
         337
        ],
        [
         "Indonesia",
         "United States",
         1
        ],
        [
         "United States",
         "Belize",
         193
        ],
        [
         "United States",
         "United Kingdom",
         1970
        ],
        [
         "Belize",
         "United States",
         188
        ],
        [
         "United States",
         "Ghana",
         20
        ],
        [
         "United States",
         "Indonesia",
         2
        ],
        [
         "United States",
         "Fiji",
         25
        ],
        [
         "United States",
         "Canada",
         8483
        ],
        [
         "United States",
         "Antigua and Barbuda",
         117
        ],
        [
         "United States",
         "French Polynesia",
         40
        ],
        [
         "Nicaragua",
         "United States",
         179
        ],
        [
         "United States",
         "Latvia",
         15
        ],
        [
         "United States",
         "Dominica",
         27
        ],
        [
         "United States",
         "Czech Republic",
         12
        ],
        [
         "United States",
         "Australia",
         258
        ],
        [
         "United States",
         "Cook Islands",
         13
        ],
        [
         "Austria",
         "United States",
         62
        ],
        [
         "Jordan",
         "United States",
         44
        ],
        [
         "Palau",
         "United States",
         30
        ],
        [
         "South Korea",
         "United States",
         1048
        ],
        [
         "Angola",
         "United States",
         15
        ],
        [
         "Ghana",
         "United States",
         18
        ],
        [
         "New Caledonia",
         "United States",
         1
        ],
        [
         "Guadeloupe",
         "United States",
         56
        ],
        [
         "France",
         "United States",
         935
        ],
        [
         "Poland",
         "United States",
         32
        ],
        [
         "Nigeria",
         "United States",
         59
        ],
        [
         "United States",
         "Uruguay",
         13
        ],
        [
         "Greenland",
         "United States",
         2
        ],
        [
         "United States",
         "Bermuda",
         193
        ],
        [
         "Chile",
         "United States",
         174
        ],
        [
         "United States",
         "Cuba",
         478
        ],
        [
         "United States",
         "Montenegro",
         1
        ],
        [
         "United States",
         "Colombia",
         867
        ],
        [
         "United States",
         "Barbados",
         130
        ],
        [
         "United States",
         "Qatar",
         109
        ],
        [
         "Australia",
         "United States",
         329
        ],
        [
         "United States",
         "Cayman Islands",
         310
        ],
        [
         "United States",
         "Jordan",
         44
        ],
        [
         "United States",
         "Namibia",
         1
        ],
        [
         "United States",
         "Trinidad and Tobago",
         217
        ],
        [
         "United States",
         "Bolivia",
         13
        ],
        [
         "Cook Islands",
         "United States",
         13
        ],
        [
         "Bulgaria",
         "United States",
         3
        ],
        [
         "United States",
         "Saint Kitts and Nevis",
         145
        ],
        [
         "Uruguay",
         "United States",
         43
        ],
        [
         "United States",
         "Haiti",
         225
        ],
        [
         "Bonaire, Sint Eustatius, and Saba",
         "United States",
         58
        ],
        [
         "Greece",
         "United States",
         30
        ]
       ],
       "datasetInfos": [],
       "dbfsResultPath": null,
       "isJsonSchema": true,
       "metadata": {},
       "overflow": false,
       "plotOptions": {
        "customPlotOptions": {},
        "displayType": "table",
        "pivotAggregation": null,
        "pivotColumns": null,
        "xColumns": null,
        "yColumns": null
       },
       "removedWidgets": [],
       "schema": [
        {
         "metadata": "{}",
         "name": "DEST_COUNTRY_NAME",
         "type": "\"string\""
        },
        {
         "metadata": "{\"comment\":\"remember, the US will be most prevalent\"}",
         "name": "ORIGIN_COUNTRY_NAME",
         "type": "\"string\""
        },
        {
         "metadata": "{}",
         "name": "count",
         "type": "\"long\""
        }
       ],
       "type": "table"
      }
     },
     "output_type": "display_data"
    }
   ],
   "source": [
    "%sql\n",
    "SELECT\n",
    "  country.*,\n",
    "  count\n",
    "FROM\n",
    "  nested_data"
   ]
  },
  {
   "cell_type": "markdown",
   "metadata": {
    "application/vnd.databricks.v1+cell": {
     "cellMetadata": {
      "byteLimit": 2048000,
      "rowLimit": 10000
     },
     "inputWidgets": {},
     "nuid": "4b4c101f-801b-43df-9358-df6c5c51a125",
     "showTitle": false,
     "title": ""
    }
   },
   "source": [
    "<span style=\"color:blue\">\n",
    "List Starts from Here "
   ]
  },
  {
   "cell_type": "code",
   "execution_count": 0,
   "metadata": {
    "application/vnd.databricks.v1+cell": {
     "cellMetadata": {
      "byteLimit": 2048000,
      "implicitDf": true,
      "rowLimit": 10000
     },
     "inputWidgets": {},
     "nuid": "6cf3792a-f8e6-49f0-bcc4-d0375b08459e",
     "showTitle": false,
     "title": ""
    }
   },
   "outputs": [
    {
     "output_type": "display_data",
     "data": {
      "text/html": [
       "<style scoped>\n",
       "  .table-result-container {\n",
       "    max-height: 300px;\n",
       "    overflow: auto;\n",
       "  }\n",
       "  table, th, td {\n",
       "    border: 1px solid black;\n",
       "    border-collapse: collapse;\n",
       "  }\n",
       "  th, td {\n",
       "    padding: 5px;\n",
       "  }\n",
       "  th {\n",
       "    text-align: left;\n",
       "  }\n",
       "</style><div class='table-result-container'><table class='table-result'><thead style='background-color: white'><tr><th>new_name</th><th>flight_counts</th><th>origin_set</th></tr></thead><tbody><tr><td>Algeria</td><td>List(4)</td><td>List(United States)</td></tr><tr><td>Angola</td><td>List(15)</td><td>List(United States)</td></tr><tr><td>Anguilla</td><td>List(41)</td><td>List(United States)</td></tr><tr><td>Antigua and Barbuda</td><td>List(126)</td><td>List(United States)</td></tr><tr><td>Argentina</td><td>List(180)</td><td>List(United States)</td></tr><tr><td>Aruba</td><td>List(346)</td><td>List(United States)</td></tr><tr><td>Australia</td><td>List(329)</td><td>List(United States)</td></tr><tr><td>Austria</td><td>List(62)</td><td>List(United States)</td></tr><tr><td>Azerbaijan</td><td>List(21)</td><td>List(United States)</td></tr><tr><td>Bahrain</td><td>List(19)</td><td>List(United States)</td></tr><tr><td>Barbados</td><td>List(154)</td><td>List(United States)</td></tr><tr><td>Belgium</td><td>List(259)</td><td>List(United States)</td></tr><tr><td>Belize</td><td>List(188)</td><td>List(United States)</td></tr><tr><td>Bermuda</td><td>List(183)</td><td>List(United States)</td></tr><tr><td>Bolivia</td><td>List(30)</td><td>List(United States)</td></tr><tr><td>Bonaire, Sint Eustatius, and Saba</td><td>List(58)</td><td>List(United States)</td></tr><tr><td>Brazil</td><td>List(853)</td><td>List(United States)</td></tr><tr><td>British Virgin Islands</td><td>List(107)</td><td>List(United States)</td></tr><tr><td>Bulgaria</td><td>List(3)</td><td>List(United States)</td></tr><tr><td>Burkina Faso</td><td>List(1)</td><td>List(United States)</td></tr><tr><td>Canada</td><td>List(8399)</td><td>List(United States)</td></tr><tr><td>Cape Verde</td><td>List(20)</td><td>List(United States)</td></tr><tr><td>Cayman Islands</td><td>List(314)</td><td>List(United States)</td></tr><tr><td>Chile</td><td>List(174)</td><td>List(United States)</td></tr><tr><td>China</td><td>List(772)</td><td>List(United States)</td></tr><tr><td>Colombia</td><td>List(873)</td><td>List(United States)</td></tr><tr><td>Cook Islands</td><td>List(13)</td><td>List(United States)</td></tr><tr><td>Costa Rica</td><td>List(588)</td><td>List(United States)</td></tr><tr><td>Cote d'Ivoire</td><td>List(1)</td><td>List(United States)</td></tr><tr><td>Croatia</td><td>List(2)</td><td>List(United States)</td></tr><tr><td>Cuba</td><td>List(466)</td><td>List(United States)</td></tr><tr><td>Curacao</td><td>List(90)</td><td>List(United States)</td></tr><tr><td>Cyprus</td><td>List(1)</td><td>List(United States)</td></tr><tr><td>Czech Republic</td><td>List(13)</td><td>List(United States)</td></tr><tr><td>Denmark</td><td>List(153)</td><td>List(United States)</td></tr><tr><td>Djibouti</td><td>List(1)</td><td>List(United States)</td></tr><tr><td>Dominica</td><td>List(20)</td><td>List(United States)</td></tr><tr><td>Dominican Republic</td><td>List(1353)</td><td>List(United States)</td></tr><tr><td>Ecuador</td><td>List(268)</td><td>List(United States)</td></tr><tr><td>Egypt</td><td>List(15)</td><td>List(United States)</td></tr><tr><td>El Salvador</td><td>List(561)</td><td>List(United States)</td></tr><tr><td>Ethiopia</td><td>List(13)</td><td>List(United States)</td></tr><tr><td>Federated States of Micronesia</td><td>List(69)</td><td>List(United States)</td></tr><tr><td>Fiji</td><td>List(24)</td><td>List(United States)</td></tr><tr><td>Finland</td><td>List(26)</td><td>List(United States)</td></tr><tr><td>France</td><td>List(935)</td><td>List(United States)</td></tr><tr><td>French Guiana</td><td>List(5)</td><td>List(United States)</td></tr><tr><td>French Polynesia</td><td>List(43)</td><td>List(United States)</td></tr><tr><td>Georgia</td><td>List(2)</td><td>List(United States)</td></tr><tr><td>Germany</td><td>List(1468)</td><td>List(United States)</td></tr><tr><td>Ghana</td><td>List(18)</td><td>List(United States)</td></tr><tr><td>Greece</td><td>List(30)</td><td>List(United States)</td></tr><tr><td>Greenland</td><td>List(2)</td><td>List(United States)</td></tr><tr><td>Grenada</td><td>List(53)</td><td>List(United States)</td></tr><tr><td>Guadeloupe</td><td>List(56)</td><td>List(United States)</td></tr><tr><td>Guatemala</td><td>List(397)</td><td>List(United States)</td></tr><tr><td>Guyana</td><td>List(64)</td><td>List(United States)</td></tr><tr><td>Haiti</td><td>List(226)</td><td>List(United States)</td></tr><tr><td>Honduras</td><td>List(362)</td><td>List(United States)</td></tr><tr><td>Hong Kong</td><td>List(332)</td><td>List(United States)</td></tr><tr><td>Hungary</td><td>List(2)</td><td>List(United States)</td></tr><tr><td>Iceland</td><td>List(181)</td><td>List(United States)</td></tr><tr><td>India</td><td>List(61)</td><td>List(United States)</td></tr><tr><td>Indonesia</td><td>List(1)</td><td>List(United States)</td></tr><tr><td>Iraq</td><td>List(1)</td><td>List(United States)</td></tr><tr><td>Ireland</td><td>List(335)</td><td>List(United States)</td></tr><tr><td>Israel</td><td>List(134)</td><td>List(United States)</td></tr><tr><td>Italy</td><td>List(382)</td><td>List(United States)</td></tr><tr><td>Jamaica</td><td>List(666)</td><td>List(United States)</td></tr><tr><td>Japan</td><td>List(1548)</td><td>List(United States)</td></tr><tr><td>Jordan</td><td>List(44)</td><td>List(United States)</td></tr><tr><td>Kiribati</td><td>List(26)</td><td>List(United States)</td></tr><tr><td>Kosovo</td><td>List(1)</td><td>List(United States)</td></tr><tr><td>Kuwait</td><td>List(32)</td><td>List(United States)</td></tr><tr><td>Latvia</td><td>List(19)</td><td>List(United States)</td></tr><tr><td>Liberia</td><td>List(2)</td><td>List(United States)</td></tr><tr><td>Luxembourg</td><td>List(155)</td><td>List(United States)</td></tr><tr><td>Malaysia</td><td>List(2)</td><td>List(United States)</td></tr><tr><td>Malta</td><td>List(1)</td><td>List(United States)</td></tr><tr><td>Marshall Islands</td><td>List(42)</td><td>List(United States)</td></tr><tr><td>Martinique</td><td>List(44)</td><td>List(United States)</td></tr><tr><td>Mexico</td><td>List(7140)</td><td>List(United States)</td></tr><tr><td>Moldova</td><td>List(1)</td><td>List(United States)</td></tr><tr><td>Morocco</td><td>List(15)</td><td>List(United States)</td></tr><tr><td>Netherlands</td><td>List(776)</td><td>List(United States)</td></tr><tr><td>New Caledonia</td><td>List(1)</td><td>List(United States)</td></tr><tr><td>New Zealand</td><td>List(111)</td><td>List(United States)</td></tr><tr><td>Nicaragua</td><td>List(179)</td><td>List(United States)</td></tr><tr><td>Niger</td><td>List(2)</td><td>List(United States)</td></tr><tr><td>Nigeria</td><td>List(59)</td><td>List(United States)</td></tr><tr><td>Norway</td><td>List(121)</td><td>List(United States)</td></tr><tr><td>Pakistan</td><td>List(12)</td><td>List(United States)</td></tr><tr><td>Palau</td><td>List(30)</td><td>List(United States)</td></tr><tr><td>Panama</td><td>List(510)</td><td>List(United States)</td></tr><tr><td>Papua New Guinea</td><td>List(3)</td><td>List(United States)</td></tr><tr><td>Paraguay</td><td>List(60)</td><td>List(United States)</td></tr><tr><td>Peru</td><td>List(279)</td><td>List(United States)</td></tr><tr><td>Philippines</td><td>List(134)</td><td>List(United States)</td></tr><tr><td>Poland</td><td>List(32)</td><td>List(United States)</td></tr><tr><td>Portugal</td><td>List(127)</td><td>List(United States)</td></tr><tr><td>Qatar</td><td>List(108)</td><td>List(United States)</td></tr><tr><td>Romania</td><td>List(14)</td><td>List(United States)</td></tr><tr><td>Russia</td><td>List(176)</td><td>List(United States)</td></tr><tr><td>Saint Barthelemy</td><td>List(39)</td><td>List(United States)</td></tr><tr><td>Saint Kitts and Nevis</td><td>List(139)</td><td>List(United States)</td></tr><tr><td>Saint Lucia</td><td>List(123)</td><td>List(United States)</td></tr><tr><td>Saint Vincent and the Grenadines</td><td>List(1)</td><td>List(United States)</td></tr><tr><td>Samoa</td><td>List(25)</td><td>List(United States)</td></tr><tr><td>Saudi Arabia</td><td>List(83)</td><td>List(United States)</td></tr><tr><td>Senegal</td><td>List(40)</td><td>List(United States)</td></tr><tr><td>Singapore</td><td>List(3)</td><td>List(United States)</td></tr><tr><td>Sint Maarten</td><td>List(325)</td><td>List(United States)</td></tr><tr><td>South Africa</td><td>List(36)</td><td>List(United States)</td></tr><tr><td>South Korea</td><td>List(1048)</td><td>List(United States)</td></tr><tr><td>Spain</td><td>List(420)</td><td>List(United States)</td></tr><tr><td>Suriname</td><td>List(1)</td><td>List(United States)</td></tr><tr><td>Sweden</td><td>List(118)</td><td>List(United States)</td></tr><tr><td>Switzerland</td><td>List(294)</td><td>List(United States)</td></tr><tr><td>Taiwan</td><td>List(266)</td><td>List(United States)</td></tr><tr><td>Thailand</td><td>List(3)</td><td>List(United States)</td></tr><tr><td>The Bahamas</td><td>List(955)</td><td>List(United States)</td></tr><tr><td>Trinidad and Tobago</td><td>List(211)</td><td>List(United States)</td></tr><tr><td>Tunisia</td><td>List(3)</td><td>List(United States)</td></tr><tr><td>Turkey</td><td>List(138)</td><td>List(United States)</td></tr><tr><td>Turks and Caicos Islands</td><td>List(230)</td><td>List(United States)</td></tr><tr><td>Ukraine</td><td>List(14)</td><td>List(United States)</td></tr><tr><td>United Arab Emirates</td><td>List(320)</td><td>List(United States)</td></tr><tr><td>United Kingdom</td><td>List(2025)</td><td>List(United States)</td></tr><tr><td>United States</td><td>List(15, 1, 344, 62, 1, 62, 325, 39, 6, 1, 69, 161, 660, 42, 13, 38, 300, 1, 134, 608, 318, 34, 14, 712, 3, 19, 25, 31, 246, 185, 28, 23, 986, 414, 920, 2, 28, 1420, 12, 370002, 134, 33, 41, 129, 21, 1, 827, 508, 3, 12, 465, 342, 4, 236, 12, 407, 2, 2, 1, 59, 13, 952, 115, 35, 1336, 74, 7187, 119, 43, 313, 1, 201, 126, 1, 228, 202, 141, 50, 63, 59, 127, 136, 1, 80, 152, 63, 1, 70, 83, 235, 40, 4, 442, 438, 305, 1496, 619, 337, 193, 1970, 20, 2, 25, 8483, 117, 40, 15, 27, 12, 258, 13, 13, 193, 478, 1, 867, 130, 109, 310, 44, 1, 217, 13, 145, 225)</td><td>List(Italy, Martinique, Finland, Liberia, Germany, Kiribati, Dominica, Sweden, Angola, Ethiopia, Belgium, United Arab Emirates, Australia, Cook Islands, Venezuela, Russia, Japan, Federated States of Micronesia, Namibia, Guadeloupe, Bulgaria, Saint Kitts and Nevis, Malta, Aruba, South Africa, New Zealand, Kuwait, Azerbaijan, Jamaica, Turks and Caicos Islands, British Virgin Islands, Turkey, Uruguay, Marshall Islands, Czech Republic, Pakistan, Saint Lucia, The Bahamas, Bermuda, Greece, Taiwan, Spain, Luxembourg, Dominican Republic, Suriname, Honduras, Cape Verde, Argentina, Montenegro, Jordan, Vietnam, Austria, Ireland, Colombia, Romania, Saudi Arabia, Latvia, Fiji, Indonesia, Nicaragua, Greenland, Costa Rica, Peru, South Korea, Portugal, Thailand, Belize, French Polynesia, Ghana, Palau, Hungary, Paraguay, Saint Barthelemy, Antigua and Barbuda, Barbados, Senegal, United Kingdom, Nigeria, Guyana, Iceland, Cayman Islands, Lithuania, Bahrain, Panama, Ukraine, Guatemala, Morocco, Netherlands, Trinidad and Tobago, Malaysia, Anguilla, Norway, Bolivia, Croatia, Samoa, Israel, Sint Maarten, Gibraltar, Papua New Guinea, Canada, Grenada, Ecuador, Switzerland, Singapore, Hong Kong, El Salvador, Cuba, Georgia, Cyprus, United States, India, Denmark, Estonia, China, Bonaire, Sint Eustatius, and Saba, Philippines, Mexico, Haiti, Poland, Brazil, Chile, France, Egypt, Curacao, Qatar)</td></tr><tr><td>Uruguay</td><td>List(43)</td><td>List(United States)</td></tr><tr><td>Venezuela</td><td>List(290)</td><td>List(United States)</td></tr><tr><td>Zambia</td><td>List(1)</td><td>List(United States)</td></tr></tbody></table></div>"
      ]
     },
     "metadata": {
      "application/vnd.databricks.v1+output": {
       "addedWidgets": {},
       "aggData": [],
       "aggError": "",
       "aggOverflow": false,
       "aggSchema": [],
       "aggSeriesLimitReached": false,
       "aggType": "",
       "arguments": {},
       "columnCustomDisplayInfos": {},
       "data": [
        [
         "Algeria",
         [
          4
         ],
         [
          "United States"
         ]
        ],
        [
         "Angola",
         [
          15
         ],
         [
          "United States"
         ]
        ],
        [
         "Anguilla",
         [
          41
         ],
         [
          "United States"
         ]
        ],
        [
         "Antigua and Barbuda",
         [
          126
         ],
         [
          "United States"
         ]
        ],
        [
         "Argentina",
         [
          180
         ],
         [
          "United States"
         ]
        ],
        [
         "Aruba",
         [
          346
         ],
         [
          "United States"
         ]
        ],
        [
         "Australia",
         [
          329
         ],
         [
          "United States"
         ]
        ],
        [
         "Austria",
         [
          62
         ],
         [
          "United States"
         ]
        ],
        [
         "Azerbaijan",
         [
          21
         ],
         [
          "United States"
         ]
        ],
        [
         "Bahrain",
         [
          19
         ],
         [
          "United States"
         ]
        ],
        [
         "Barbados",
         [
          154
         ],
         [
          "United States"
         ]
        ],
        [
         "Belgium",
         [
          259
         ],
         [
          "United States"
         ]
        ],
        [
         "Belize",
         [
          188
         ],
         [
          "United States"
         ]
        ],
        [
         "Bermuda",
         [
          183
         ],
         [
          "United States"
         ]
        ],
        [
         "Bolivia",
         [
          30
         ],
         [
          "United States"
         ]
        ],
        [
         "Bonaire, Sint Eustatius, and Saba",
         [
          58
         ],
         [
          "United States"
         ]
        ],
        [
         "Brazil",
         [
          853
         ],
         [
          "United States"
         ]
        ],
        [
         "British Virgin Islands",
         [
          107
         ],
         [
          "United States"
         ]
        ],
        [
         "Bulgaria",
         [
          3
         ],
         [
          "United States"
         ]
        ],
        [
         "Burkina Faso",
         [
          1
         ],
         [
          "United States"
         ]
        ],
        [
         "Canada",
         [
          8399
         ],
         [
          "United States"
         ]
        ],
        [
         "Cape Verde",
         [
          20
         ],
         [
          "United States"
         ]
        ],
        [
         "Cayman Islands",
         [
          314
         ],
         [
          "United States"
         ]
        ],
        [
         "Chile",
         [
          174
         ],
         [
          "United States"
         ]
        ],
        [
         "China",
         [
          772
         ],
         [
          "United States"
         ]
        ],
        [
         "Colombia",
         [
          873
         ],
         [
          "United States"
         ]
        ],
        [
         "Cook Islands",
         [
          13
         ],
         [
          "United States"
         ]
        ],
        [
         "Costa Rica",
         [
          588
         ],
         [
          "United States"
         ]
        ],
        [
         "Cote d'Ivoire",
         [
          1
         ],
         [
          "United States"
         ]
        ],
        [
         "Croatia",
         [
          2
         ],
         [
          "United States"
         ]
        ],
        [
         "Cuba",
         [
          466
         ],
         [
          "United States"
         ]
        ],
        [
         "Curacao",
         [
          90
         ],
         [
          "United States"
         ]
        ],
        [
         "Cyprus",
         [
          1
         ],
         [
          "United States"
         ]
        ],
        [
         "Czech Republic",
         [
          13
         ],
         [
          "United States"
         ]
        ],
        [
         "Denmark",
         [
          153
         ],
         [
          "United States"
         ]
        ],
        [
         "Djibouti",
         [
          1
         ],
         [
          "United States"
         ]
        ],
        [
         "Dominica",
         [
          20
         ],
         [
          "United States"
         ]
        ],
        [
         "Dominican Republic",
         [
          1353
         ],
         [
          "United States"
         ]
        ],
        [
         "Ecuador",
         [
          268
         ],
         [
          "United States"
         ]
        ],
        [
         "Egypt",
         [
          15
         ],
         [
          "United States"
         ]
        ],
        [
         "El Salvador",
         [
          561
         ],
         [
          "United States"
         ]
        ],
        [
         "Ethiopia",
         [
          13
         ],
         [
          "United States"
         ]
        ],
        [
         "Federated States of Micronesia",
         [
          69
         ],
         [
          "United States"
         ]
        ],
        [
         "Fiji",
         [
          24
         ],
         [
          "United States"
         ]
        ],
        [
         "Finland",
         [
          26
         ],
         [
          "United States"
         ]
        ],
        [
         "France",
         [
          935
         ],
         [
          "United States"
         ]
        ],
        [
         "French Guiana",
         [
          5
         ],
         [
          "United States"
         ]
        ],
        [
         "French Polynesia",
         [
          43
         ],
         [
          "United States"
         ]
        ],
        [
         "Georgia",
         [
          2
         ],
         [
          "United States"
         ]
        ],
        [
         "Germany",
         [
          1468
         ],
         [
          "United States"
         ]
        ],
        [
         "Ghana",
         [
          18
         ],
         [
          "United States"
         ]
        ],
        [
         "Greece",
         [
          30
         ],
         [
          "United States"
         ]
        ],
        [
         "Greenland",
         [
          2
         ],
         [
          "United States"
         ]
        ],
        [
         "Grenada",
         [
          53
         ],
         [
          "United States"
         ]
        ],
        [
         "Guadeloupe",
         [
          56
         ],
         [
          "United States"
         ]
        ],
        [
         "Guatemala",
         [
          397
         ],
         [
          "United States"
         ]
        ],
        [
         "Guyana",
         [
          64
         ],
         [
          "United States"
         ]
        ],
        [
         "Haiti",
         [
          226
         ],
         [
          "United States"
         ]
        ],
        [
         "Honduras",
         [
          362
         ],
         [
          "United States"
         ]
        ],
        [
         "Hong Kong",
         [
          332
         ],
         [
          "United States"
         ]
        ],
        [
         "Hungary",
         [
          2
         ],
         [
          "United States"
         ]
        ],
        [
         "Iceland",
         [
          181
         ],
         [
          "United States"
         ]
        ],
        [
         "India",
         [
          61
         ],
         [
          "United States"
         ]
        ],
        [
         "Indonesia",
         [
          1
         ],
         [
          "United States"
         ]
        ],
        [
         "Iraq",
         [
          1
         ],
         [
          "United States"
         ]
        ],
        [
         "Ireland",
         [
          335
         ],
         [
          "United States"
         ]
        ],
        [
         "Israel",
         [
          134
         ],
         [
          "United States"
         ]
        ],
        [
         "Italy",
         [
          382
         ],
         [
          "United States"
         ]
        ],
        [
         "Jamaica",
         [
          666
         ],
         [
          "United States"
         ]
        ],
        [
         "Japan",
         [
          1548
         ],
         [
          "United States"
         ]
        ],
        [
         "Jordan",
         [
          44
         ],
         [
          "United States"
         ]
        ],
        [
         "Kiribati",
         [
          26
         ],
         [
          "United States"
         ]
        ],
        [
         "Kosovo",
         [
          1
         ],
         [
          "United States"
         ]
        ],
        [
         "Kuwait",
         [
          32
         ],
         [
          "United States"
         ]
        ],
        [
         "Latvia",
         [
          19
         ],
         [
          "United States"
         ]
        ],
        [
         "Liberia",
         [
          2
         ],
         [
          "United States"
         ]
        ],
        [
         "Luxembourg",
         [
          155
         ],
         [
          "United States"
         ]
        ],
        [
         "Malaysia",
         [
          2
         ],
         [
          "United States"
         ]
        ],
        [
         "Malta",
         [
          1
         ],
         [
          "United States"
         ]
        ],
        [
         "Marshall Islands",
         [
          42
         ],
         [
          "United States"
         ]
        ],
        [
         "Martinique",
         [
          44
         ],
         [
          "United States"
         ]
        ],
        [
         "Mexico",
         [
          7140
         ],
         [
          "United States"
         ]
        ],
        [
         "Moldova",
         [
          1
         ],
         [
          "United States"
         ]
        ],
        [
         "Morocco",
         [
          15
         ],
         [
          "United States"
         ]
        ],
        [
         "Netherlands",
         [
          776
         ],
         [
          "United States"
         ]
        ],
        [
         "New Caledonia",
         [
          1
         ],
         [
          "United States"
         ]
        ],
        [
         "New Zealand",
         [
          111
         ],
         [
          "United States"
         ]
        ],
        [
         "Nicaragua",
         [
          179
         ],
         [
          "United States"
         ]
        ],
        [
         "Niger",
         [
          2
         ],
         [
          "United States"
         ]
        ],
        [
         "Nigeria",
         [
          59
         ],
         [
          "United States"
         ]
        ],
        [
         "Norway",
         [
          121
         ],
         [
          "United States"
         ]
        ],
        [
         "Pakistan",
         [
          12
         ],
         [
          "United States"
         ]
        ],
        [
         "Palau",
         [
          30
         ],
         [
          "United States"
         ]
        ],
        [
         "Panama",
         [
          510
         ],
         [
          "United States"
         ]
        ],
        [
         "Papua New Guinea",
         [
          3
         ],
         [
          "United States"
         ]
        ],
        [
         "Paraguay",
         [
          60
         ],
         [
          "United States"
         ]
        ],
        [
         "Peru",
         [
          279
         ],
         [
          "United States"
         ]
        ],
        [
         "Philippines",
         [
          134
         ],
         [
          "United States"
         ]
        ],
        [
         "Poland",
         [
          32
         ],
         [
          "United States"
         ]
        ],
        [
         "Portugal",
         [
          127
         ],
         [
          "United States"
         ]
        ],
        [
         "Qatar",
         [
          108
         ],
         [
          "United States"
         ]
        ],
        [
         "Romania",
         [
          14
         ],
         [
          "United States"
         ]
        ],
        [
         "Russia",
         [
          176
         ],
         [
          "United States"
         ]
        ],
        [
         "Saint Barthelemy",
         [
          39
         ],
         [
          "United States"
         ]
        ],
        [
         "Saint Kitts and Nevis",
         [
          139
         ],
         [
          "United States"
         ]
        ],
        [
         "Saint Lucia",
         [
          123
         ],
         [
          "United States"
         ]
        ],
        [
         "Saint Vincent and the Grenadines",
         [
          1
         ],
         [
          "United States"
         ]
        ],
        [
         "Samoa",
         [
          25
         ],
         [
          "United States"
         ]
        ],
        [
         "Saudi Arabia",
         [
          83
         ],
         [
          "United States"
         ]
        ],
        [
         "Senegal",
         [
          40
         ],
         [
          "United States"
         ]
        ],
        [
         "Singapore",
         [
          3
         ],
         [
          "United States"
         ]
        ],
        [
         "Sint Maarten",
         [
          325
         ],
         [
          "United States"
         ]
        ],
        [
         "South Africa",
         [
          36
         ],
         [
          "United States"
         ]
        ],
        [
         "South Korea",
         [
          1048
         ],
         [
          "United States"
         ]
        ],
        [
         "Spain",
         [
          420
         ],
         [
          "United States"
         ]
        ],
        [
         "Suriname",
         [
          1
         ],
         [
          "United States"
         ]
        ],
        [
         "Sweden",
         [
          118
         ],
         [
          "United States"
         ]
        ],
        [
         "Switzerland",
         [
          294
         ],
         [
          "United States"
         ]
        ],
        [
         "Taiwan",
         [
          266
         ],
         [
          "United States"
         ]
        ],
        [
         "Thailand",
         [
          3
         ],
         [
          "United States"
         ]
        ],
        [
         "The Bahamas",
         [
          955
         ],
         [
          "United States"
         ]
        ],
        [
         "Trinidad and Tobago",
         [
          211
         ],
         [
          "United States"
         ]
        ],
        [
         "Tunisia",
         [
          3
         ],
         [
          "United States"
         ]
        ],
        [
         "Turkey",
         [
          138
         ],
         [
          "United States"
         ]
        ],
        [
         "Turks and Caicos Islands",
         [
          230
         ],
         [
          "United States"
         ]
        ],
        [
         "Ukraine",
         [
          14
         ],
         [
          "United States"
         ]
        ],
        [
         "United Arab Emirates",
         [
          320
         ],
         [
          "United States"
         ]
        ],
        [
         "United Kingdom",
         [
          2025
         ],
         [
          "United States"
         ]
        ],
        [
         "United States",
         [
          15,
          1,
          344,
          62,
          1,
          62,
          325,
          39,
          6,
          1,
          69,
          161,
          660,
          42,
          13,
          38,
          300,
          1,
          134,
          608,
          318,
          34,
          14,
          712,
          3,
          19,
          25,
          31,
          246,
          185,
          28,
          23,
          986,
          414,
          920,
          2,
          28,
          1420,
          12,
          370002,
          134,
          33,
          41,
          129,
          21,
          1,
          827,
          508,
          3,
          12,
          465,
          342,
          4,
          236,
          12,
          407,
          2,
          2,
          1,
          59,
          13,
          952,
          115,
          35,
          1336,
          74,
          7187,
          119,
          43,
          313,
          1,
          201,
          126,
          1,
          228,
          202,
          141,
          50,
          63,
          59,
          127,
          136,
          1,
          80,
          152,
          63,
          1,
          70,
          83,
          235,
          40,
          4,
          442,
          438,
          305,
          1496,
          619,
          337,
          193,
          1970,
          20,
          2,
          25,
          8483,
          117,
          40,
          15,
          27,
          12,
          258,
          13,
          13,
          193,
          478,
          1,
          867,
          130,
          109,
          310,
          44,
          1,
          217,
          13,
          145,
          225
         ],
         [
          "Italy",
          "Martinique",
          "Finland",
          "Liberia",
          "Germany",
          "Kiribati",
          "Dominica",
          "Sweden",
          "Angola",
          "Ethiopia",
          "Belgium",
          "United Arab Emirates",
          "Australia",
          "Cook Islands",
          "Venezuela",
          "Russia",
          "Japan",
          "Federated States of Micronesia",
          "Namibia",
          "Guadeloupe",
          "Bulgaria",
          "Saint Kitts and Nevis",
          "Malta",
          "Aruba",
          "South Africa",
          "New Zealand",
          "Kuwait",
          "Azerbaijan",
          "Jamaica",
          "Turks and Caicos Islands",
          "British Virgin Islands",
          "Turkey",
          "Uruguay",
          "Marshall Islands",
          "Czech Republic",
          "Pakistan",
          "Saint Lucia",
          "The Bahamas",
          "Bermuda",
          "Greece",
          "Taiwan",
          "Spain",
          "Luxembourg",
          "Dominican Republic",
          "Suriname",
          "Honduras",
          "Cape Verde",
          "Argentina",
          "Montenegro",
          "Jordan",
          "Vietnam",
          "Austria",
          "Ireland",
          "Colombia",
          "Romania",
          "Saudi Arabia",
          "Latvia",
          "Fiji",
          "Indonesia",
          "Nicaragua",
          "Greenland",
          "Costa Rica",
          "Peru",
          "South Korea",
          "Portugal",
          "Thailand",
          "Belize",
          "French Polynesia",
          "Ghana",
          "Palau",
          "Hungary",
          "Paraguay",
          "Saint Barthelemy",
          "Antigua and Barbuda",
          "Barbados",
          "Senegal",
          "United Kingdom",
          "Nigeria",
          "Guyana",
          "Iceland",
          "Cayman Islands",
          "Lithuania",
          "Bahrain",
          "Panama",
          "Ukraine",
          "Guatemala",
          "Morocco",
          "Netherlands",
          "Trinidad and Tobago",
          "Malaysia",
          "Anguilla",
          "Norway",
          "Bolivia",
          "Croatia",
          "Samoa",
          "Israel",
          "Sint Maarten",
          "Gibraltar",
          "Papua New Guinea",
          "Canada",
          "Grenada",
          "Ecuador",
          "Switzerland",
          "Singapore",
          "Hong Kong",
          "El Salvador",
          "Cuba",
          "Georgia",
          "Cyprus",
          "United States",
          "India",
          "Denmark",
          "Estonia",
          "China",
          "Bonaire, Sint Eustatius, and Saba",
          "Philippines",
          "Mexico",
          "Haiti",
          "Poland",
          "Brazil",
          "Chile",
          "France",
          "Egypt",
          "Curacao",
          "Qatar"
         ]
        ],
        [
         "Uruguay",
         [
          43
         ],
         [
          "United States"
         ]
        ],
        [
         "Venezuela",
         [
          290
         ],
         [
          "United States"
         ]
        ],
        [
         "Zambia",
         [
          1
         ],
         [
          "United States"
         ]
        ]
       ],
       "datasetInfos": [],
       "dbfsResultPath": null,
       "isJsonSchema": true,
       "metadata": {},
       "overflow": false,
       "plotOptions": {
        "customPlotOptions": {},
        "displayType": "table",
        "pivotAggregation": null,
        "pivotColumns": null,
        "xColumns": null,
        "yColumns": null
       },
       "removedWidgets": [],
       "schema": [
        {
         "metadata": "{}",
         "name": "new_name",
         "type": "\"string\""
        },
        {
         "metadata": "{}",
         "name": "flight_counts",
         "type": "{\"type\":\"array\",\"elementType\":\"long\",\"containsNull\":false}"
        },
        {
         "metadata": "{}",
         "name": "origin_set",
         "type": "{\"type\":\"array\",\"elementType\":\"string\",\"containsNull\":false}"
        }
       ],
       "type": "table"
      }
     },
     "output_type": "display_data"
    }
   ],
   "source": [
    "%sql\n",
    "SELECT\n",
    "  DEST_COUNTRY_NAME as new_name,\n",
    "  collect_list(count) as flight_counts,\n",
    "  collect_set(ORIGIN_COUNTRY_NAME) as origin_set\n",
    "FROM\n",
    "  flights_csv1\n",
    "GROUP BY\n",
    "  DEST_COUNTRY_NAME"
   ]
  },
  {
   "cell_type": "markdown",
   "metadata": {
    "application/vnd.databricks.v1+cell": {
     "cellMetadata": {
      "byteLimit": 2048000,
      "rowLimit": 10000
     },
     "inputWidgets": {},
     "nuid": "55fa09e8-31e4-4a50-b1b0-11a986d65b44",
     "showTitle": false,
     "title": ""
    }
   },
   "source": [
    "<span style=\"color:blue\">\n",
    "Display Country Name with Array"
   ]
  },
  {
   "cell_type": "code",
   "execution_count": 0,
   "metadata": {
    "application/vnd.databricks.v1+cell": {
     "cellMetadata": {
      "byteLimit": 2048000,
      "implicitDf": true,
      "rowLimit": 10000
     },
     "inputWidgets": {},
     "nuid": "5ae8df3b-b707-4139-8a89-d768ad488f7b",
     "showTitle": false,
     "title": ""
    }
   },
   "outputs": [
    {
     "output_type": "display_data",
     "data": {
      "text/html": [
       "<style scoped>\n",
       "  .table-result-container {\n",
       "    max-height: 300px;\n",
       "    overflow: auto;\n",
       "  }\n",
       "  table, th, td {\n",
       "    border: 1px solid black;\n",
       "    border-collapse: collapse;\n",
       "  }\n",
       "  th, td {\n",
       "    padding: 5px;\n",
       "  }\n",
       "  th {\n",
       "    text-align: left;\n",
       "  }\n",
       "</style><div class='table-result-container'><table class='table-result'><thead style='background-color: white'><tr><th>DEST_COUNTRY_NAME</th><th>array(1, 2, 3)</th></tr></thead><tbody><tr><td>United States</td><td>List(1, 2, 3)</td></tr><tr><td>United States</td><td>List(1, 2, 3)</td></tr><tr><td>United States</td><td>List(1, 2, 3)</td></tr><tr><td>Egypt</td><td>List(1, 2, 3)</td></tr><tr><td>United States</td><td>List(1, 2, 3)</td></tr><tr><td>United States</td><td>List(1, 2, 3)</td></tr><tr><td>United States</td><td>List(1, 2, 3)</td></tr><tr><td>Costa Rica</td><td>List(1, 2, 3)</td></tr><tr><td>Senegal</td><td>List(1, 2, 3)</td></tr><tr><td>Moldova</td><td>List(1, 2, 3)</td></tr><tr><td>United States</td><td>List(1, 2, 3)</td></tr><tr><td>United States</td><td>List(1, 2, 3)</td></tr><tr><td>Guyana</td><td>List(1, 2, 3)</td></tr><tr><td>Malta</td><td>List(1, 2, 3)</td></tr><tr><td>Anguilla</td><td>List(1, 2, 3)</td></tr><tr><td>Bolivia</td><td>List(1, 2, 3)</td></tr><tr><td>United States</td><td>List(1, 2, 3)</td></tr><tr><td>Algeria</td><td>List(1, 2, 3)</td></tr><tr><td>Turks and Caicos Islands</td><td>List(1, 2, 3)</td></tr><tr><td>United States</td><td>List(1, 2, 3)</td></tr><tr><td>Saint Vincent and the Grenadines</td><td>List(1, 2, 3)</td></tr><tr><td>Italy</td><td>List(1, 2, 3)</td></tr><tr><td>United States</td><td>List(1, 2, 3)</td></tr><tr><td>United States</td><td>List(1, 2, 3)</td></tr><tr><td>Pakistan</td><td>List(1, 2, 3)</td></tr><tr><td>United States</td><td>List(1, 2, 3)</td></tr><tr><td>Iceland</td><td>List(1, 2, 3)</td></tr><tr><td>Marshall Islands</td><td>List(1, 2, 3)</td></tr><tr><td>Luxembourg</td><td>List(1, 2, 3)</td></tr><tr><td>Honduras</td><td>List(1, 2, 3)</td></tr><tr><td>The Bahamas</td><td>List(1, 2, 3)</td></tr><tr><td>United States</td><td>List(1, 2, 3)</td></tr><tr><td>El Salvador</td><td>List(1, 2, 3)</td></tr><tr><td>Samoa</td><td>List(1, 2, 3)</td></tr><tr><td>United States</td><td>List(1, 2, 3)</td></tr><tr><td>Switzerland</td><td>List(1, 2, 3)</td></tr><tr><td>United States</td><td>List(1, 2, 3)</td></tr><tr><td>Sint Maarten</td><td>List(1, 2, 3)</td></tr><tr><td>Hong Kong</td><td>List(1, 2, 3)</td></tr><tr><td>Trinidad and Tobago</td><td>List(1, 2, 3)</td></tr><tr><td>Latvia</td><td>List(1, 2, 3)</td></tr><tr><td>United States</td><td>List(1, 2, 3)</td></tr><tr><td>Suriname</td><td>List(1, 2, 3)</td></tr><tr><td>Mexico</td><td>List(1, 2, 3)</td></tr><tr><td>United States</td><td>List(1, 2, 3)</td></tr><tr><td>Ecuador</td><td>List(1, 2, 3)</td></tr><tr><td>United States</td><td>List(1, 2, 3)</td></tr><tr><td>United States</td><td>List(1, 2, 3)</td></tr><tr><td>United States</td><td>List(1, 2, 3)</td></tr><tr><td>United States</td><td>List(1, 2, 3)</td></tr><tr><td>Colombia</td><td>List(1, 2, 3)</td></tr><tr><td>United States</td><td>List(1, 2, 3)</td></tr><tr><td>United States</td><td>List(1, 2, 3)</td></tr><tr><td>Norway</td><td>List(1, 2, 3)</td></tr><tr><td>United States</td><td>List(1, 2, 3)</td></tr><tr><td>United States</td><td>List(1, 2, 3)</td></tr><tr><td>Thailand</td><td>List(1, 2, 3)</td></tr><tr><td>United States</td><td>List(1, 2, 3)</td></tr><tr><td>Venezuela</td><td>List(1, 2, 3)</td></tr><tr><td>United States</td><td>List(1, 2, 3)</td></tr><tr><td>United States</td><td>List(1, 2, 3)</td></tr><tr><td>Panama</td><td>List(1, 2, 3)</td></tr><tr><td>Antigua and Barbuda</td><td>List(1, 2, 3)</td></tr><tr><td>United States</td><td>List(1, 2, 3)</td></tr><tr><td>Morocco</td><td>List(1, 2, 3)</td></tr><tr><td>United States</td><td>List(1, 2, 3)</td></tr><tr><td>Azerbaijan</td><td>List(1, 2, 3)</td></tr><tr><td>United States</td><td>List(1, 2, 3)</td></tr><tr><td>United States</td><td>List(1, 2, 3)</td></tr><tr><td>New Zealand</td><td>List(1, 2, 3)</td></tr><tr><td>Liberia</td><td>List(1, 2, 3)</td></tr><tr><td>United States</td><td>List(1, 2, 3)</td></tr><tr><td>Hungary</td><td>List(1, 2, 3)</td></tr><tr><td>United States</td><td>List(1, 2, 3)</td></tr><tr><td>United States</td><td>List(1, 2, 3)</td></tr><tr><td>Burkina Faso</td><td>List(1, 2, 3)</td></tr><tr><td>Sweden</td><td>List(1, 2, 3)</td></tr><tr><td>United States</td><td>List(1, 2, 3)</td></tr><tr><td>United States</td><td>List(1, 2, 3)</td></tr><tr><td>United States</td><td>List(1, 2, 3)</td></tr><tr><td>Israel</td><td>List(1, 2, 3)</td></tr><tr><td>United States</td><td>List(1, 2, 3)</td></tr><tr><td>Ethiopia</td><td>List(1, 2, 3)</td></tr><tr><td>United States</td><td>List(1, 2, 3)</td></tr><tr><td>United States</td><td>List(1, 2, 3)</td></tr><tr><td>Martinique</td><td>List(1, 2, 3)</td></tr><tr><td>United States</td><td>List(1, 2, 3)</td></tr><tr><td>Saint Barthelemy</td><td>List(1, 2, 3)</td></tr><tr><td>Barbados</td><td>List(1, 2, 3)</td></tr><tr><td>United States</td><td>List(1, 2, 3)</td></tr><tr><td>Djibouti</td><td>List(1, 2, 3)</td></tr><tr><td>United States</td><td>List(1, 2, 3)</td></tr><tr><td>United States</td><td>List(1, 2, 3)</td></tr><tr><td>Germany</td><td>List(1, 2, 3)</td></tr><tr><td>United States</td><td>List(1, 2, 3)</td></tr><tr><td>United States</td><td>List(1, 2, 3)</td></tr><tr><td>Ireland</td><td>List(1, 2, 3)</td></tr><tr><td>United States</td><td>List(1, 2, 3)</td></tr><tr><td>Zambia</td><td>List(1, 2, 3)</td></tr><tr><td>Malaysia</td><td>List(1, 2, 3)</td></tr><tr><td>United States</td><td>List(1, 2, 3)</td></tr><tr><td>United States</td><td>List(1, 2, 3)</td></tr><tr><td>United States</td><td>List(1, 2, 3)</td></tr><tr><td>United States</td><td>List(1, 2, 3)</td></tr><tr><td>United States</td><td>List(1, 2, 3)</td></tr><tr><td>Croatia</td><td>List(1, 2, 3)</td></tr><tr><td>United States</td><td>List(1, 2, 3)</td></tr><tr><td>Cyprus</td><td>List(1, 2, 3)</td></tr><tr><td>United States</td><td>List(1, 2, 3)</td></tr><tr><td>Fiji</td><td>List(1, 2, 3)</td></tr><tr><td>Qatar</td><td>List(1, 2, 3)</td></tr><tr><td>Saint Kitts and Nevis</td><td>List(1, 2, 3)</td></tr><tr><td>Kuwait</td><td>List(1, 2, 3)</td></tr><tr><td>Taiwan</td><td>List(1, 2, 3)</td></tr><tr><td>Haiti</td><td>List(1, 2, 3)</td></tr><tr><td>Canada</td><td>List(1, 2, 3)</td></tr><tr><td>Federated States of Micronesia</td><td>List(1, 2, 3)</td></tr><tr><td>United States</td><td>List(1, 2, 3)</td></tr><tr><td>Jamaica</td><td>List(1, 2, 3)</td></tr><tr><td>United States</td><td>List(1, 2, 3)</td></tr><tr><td>Dominican Republic</td><td>List(1, 2, 3)</td></tr><tr><td>Japan</td><td>List(1, 2, 3)</td></tr><tr><td>United States</td><td>List(1, 2, 3)</td></tr><tr><td>Finland</td><td>List(1, 2, 3)</td></tr><tr><td>United States</td><td>List(1, 2, 3)</td></tr><tr><td>United States</td><td>List(1, 2, 3)</td></tr><tr><td>United States</td><td>List(1, 2, 3)</td></tr><tr><td>United States</td><td>List(1, 2, 3)</td></tr><tr><td>Aruba</td><td>List(1, 2, 3)</td></tr><tr><td>French Guiana</td><td>List(1, 2, 3)</td></tr><tr><td>United States</td><td>List(1, 2, 3)</td></tr><tr><td>India</td><td>List(1, 2, 3)</td></tr><tr><td>British Virgin Islands</td><td>List(1, 2, 3)</td></tr><tr><td>Brazil</td><td>List(1, 2, 3)</td></tr><tr><td>United States</td><td>List(1, 2, 3)</td></tr><tr><td>United States</td><td>List(1, 2, 3)</td></tr><tr><td>French Polynesia</td><td>List(1, 2, 3)</td></tr><tr><td>United Arab Emirates</td><td>List(1, 2, 3)</td></tr><tr><td>Singapore</td><td>List(1, 2, 3)</td></tr><tr><td>United States</td><td>List(1, 2, 3)</td></tr><tr><td>United States</td><td>List(1, 2, 3)</td></tr><tr><td>Netherlands</td><td>List(1, 2, 3)</td></tr><tr><td>United States</td><td>List(1, 2, 3)</td></tr><tr><td>United States</td><td>List(1, 2, 3)</td></tr><tr><td>United States</td><td>List(1, 2, 3)</td></tr><tr><td>Denmark</td><td>List(1, 2, 3)</td></tr><tr><td>China</td><td>List(1, 2, 3)</td></tr><tr><td>United States</td><td>List(1, 2, 3)</td></tr><tr><td>United States</td><td>List(1, 2, 3)</td></tr><tr><td>United States</td><td>List(1, 2, 3)</td></tr><tr><td>United States</td><td>List(1, 2, 3)</td></tr><tr><td>Cayman Islands</td><td>List(1, 2, 3)</td></tr><tr><td>Argentina</td><td>List(1, 2, 3)</td></tr><tr><td>Peru</td><td>List(1, 2, 3)</td></tr><tr><td>South Africa</td><td>List(1, 2, 3)</td></tr><tr><td>United States</td><td>List(1, 2, 3)</td></tr><tr><td>United States</td><td>List(1, 2, 3)</td></tr><tr><td>Spain</td><td>List(1, 2, 3)</td></tr><tr><td>Bermuda</td><td>List(1, 2, 3)</td></tr><tr><td>United States</td><td>List(1, 2, 3)</td></tr><tr><td>United States</td><td>List(1, 2, 3)</td></tr><tr><td>United States</td><td>List(1, 2, 3)</td></tr><tr><td>Kiribati</td><td>List(1, 2, 3)</td></tr><tr><td>Saudi Arabia</td><td>List(1, 2, 3)</td></tr><tr><td>Czech Republic</td><td>List(1, 2, 3)</td></tr><tr><td>United States</td><td>List(1, 2, 3)</td></tr><tr><td>Belgium</td><td>List(1, 2, 3)</td></tr><tr><td>United States</td><td>List(1, 2, 3)</td></tr><tr><td>United States</td><td>List(1, 2, 3)</td></tr><tr><td>United States</td><td>List(1, 2, 3)</td></tr><tr><td>Curacao</td><td>List(1, 2, 3)</td></tr><tr><td>Georgia</td><td>List(1, 2, 3)</td></tr><tr><td>United States</td><td>List(1, 2, 3)</td></tr><tr><td>United States</td><td>List(1, 2, 3)</td></tr><tr><td>Philippines</td><td>List(1, 2, 3)</td></tr><tr><td>Grenada</td><td>List(1, 2, 3)</td></tr><tr><td>Cape Verde</td><td>List(1, 2, 3)</td></tr><tr><td>Cote d'Ivoire</td><td>List(1, 2, 3)</td></tr><tr><td>Ukraine</td><td>List(1, 2, 3)</td></tr><tr><td>United States</td><td>List(1, 2, 3)</td></tr><tr><td>Russia</td><td>List(1, 2, 3)</td></tr><tr><td>United States</td><td>List(1, 2, 3)</td></tr><tr><td>Guatemala</td><td>List(1, 2, 3)</td></tr><tr><td>Saint Lucia</td><td>List(1, 2, 3)</td></tr><tr><td>Paraguay</td><td>List(1, 2, 3)</td></tr><tr><td>United States</td><td>List(1, 2, 3)</td></tr><tr><td>Kosovo</td><td>List(1, 2, 3)</td></tr><tr><td>United States</td><td>List(1, 2, 3)</td></tr><tr><td>Tunisia</td><td>List(1, 2, 3)</td></tr><tr><td>United States</td><td>List(1, 2, 3)</td></tr><tr><td>Niger</td><td>List(1, 2, 3)</td></tr><tr><td>Turkey</td><td>List(1, 2, 3)</td></tr><tr><td>United Kingdom</td><td>List(1, 2, 3)</td></tr><tr><td>Romania</td><td>List(1, 2, 3)</td></tr><tr><td>United States</td><td>List(1, 2, 3)</td></tr><tr><td>Papua New Guinea</td><td>List(1, 2, 3)</td></tr><tr><td>United States</td><td>List(1, 2, 3)</td></tr><tr><td>Iraq</td><td>List(1, 2, 3)</td></tr><tr><td>United States</td><td>List(1, 2, 3)</td></tr><tr><td>Cuba</td><td>List(1, 2, 3)</td></tr><tr><td>United States</td><td>List(1, 2, 3)</td></tr><tr><td>Dominica</td><td>List(1, 2, 3)</td></tr><tr><td>United States</td><td>List(1, 2, 3)</td></tr><tr><td>Portugal</td><td>List(1, 2, 3)</td></tr><tr><td>United States</td><td>List(1, 2, 3)</td></tr><tr><td>Bahrain</td><td>List(1, 2, 3)</td></tr><tr><td>United States</td><td>List(1, 2, 3)</td></tr><tr><td>Indonesia</td><td>List(1, 2, 3)</td></tr><tr><td>United States</td><td>List(1, 2, 3)</td></tr><tr><td>United States</td><td>List(1, 2, 3)</td></tr><tr><td>Belize</td><td>List(1, 2, 3)</td></tr><tr><td>United States</td><td>List(1, 2, 3)</td></tr><tr><td>United States</td><td>List(1, 2, 3)</td></tr><tr><td>United States</td><td>List(1, 2, 3)</td></tr><tr><td>United States</td><td>List(1, 2, 3)</td></tr><tr><td>United States</td><td>List(1, 2, 3)</td></tr><tr><td>United States</td><td>List(1, 2, 3)</td></tr><tr><td>Nicaragua</td><td>List(1, 2, 3)</td></tr><tr><td>United States</td><td>List(1, 2, 3)</td></tr><tr><td>United States</td><td>List(1, 2, 3)</td></tr><tr><td>United States</td><td>List(1, 2, 3)</td></tr><tr><td>United States</td><td>List(1, 2, 3)</td></tr><tr><td>United States</td><td>List(1, 2, 3)</td></tr><tr><td>Austria</td><td>List(1, 2, 3)</td></tr><tr><td>Jordan</td><td>List(1, 2, 3)</td></tr><tr><td>Palau</td><td>List(1, 2, 3)</td></tr><tr><td>South Korea</td><td>List(1, 2, 3)</td></tr><tr><td>Angola</td><td>List(1, 2, 3)</td></tr><tr><td>Ghana</td><td>List(1, 2, 3)</td></tr><tr><td>New Caledonia</td><td>List(1, 2, 3)</td></tr><tr><td>Guadeloupe</td><td>List(1, 2, 3)</td></tr><tr><td>France</td><td>List(1, 2, 3)</td></tr><tr><td>Poland</td><td>List(1, 2, 3)</td></tr><tr><td>Nigeria</td><td>List(1, 2, 3)</td></tr><tr><td>United States</td><td>List(1, 2, 3)</td></tr><tr><td>Greenland</td><td>List(1, 2, 3)</td></tr><tr><td>United States</td><td>List(1, 2, 3)</td></tr><tr><td>Chile</td><td>List(1, 2, 3)</td></tr><tr><td>United States</td><td>List(1, 2, 3)</td></tr><tr><td>United States</td><td>List(1, 2, 3)</td></tr><tr><td>United States</td><td>List(1, 2, 3)</td></tr><tr><td>United States</td><td>List(1, 2, 3)</td></tr><tr><td>United States</td><td>List(1, 2, 3)</td></tr><tr><td>Australia</td><td>List(1, 2, 3)</td></tr><tr><td>United States</td><td>List(1, 2, 3)</td></tr><tr><td>United States</td><td>List(1, 2, 3)</td></tr><tr><td>United States</td><td>List(1, 2, 3)</td></tr><tr><td>United States</td><td>List(1, 2, 3)</td></tr><tr><td>United States</td><td>List(1, 2, 3)</td></tr><tr><td>Cook Islands</td><td>List(1, 2, 3)</td></tr><tr><td>Bulgaria</td><td>List(1, 2, 3)</td></tr><tr><td>United States</td><td>List(1, 2, 3)</td></tr><tr><td>Uruguay</td><td>List(1, 2, 3)</td></tr><tr><td>United States</td><td>List(1, 2, 3)</td></tr><tr><td>Bonaire, Sint Eustatius, and Saba</td><td>List(1, 2, 3)</td></tr><tr><td>Greece</td><td>List(1, 2, 3)</td></tr></tbody></table></div>"
      ]
     },
     "metadata": {
      "application/vnd.databricks.v1+output": {
       "addedWidgets": {},
       "aggData": [],
       "aggError": "",
       "aggOverflow": false,
       "aggSchema": [],
       "aggSeriesLimitReached": false,
       "aggType": "",
       "arguments": {},
       "columnCustomDisplayInfos": {},
       "data": [
        [
         "United States",
         [
          1,
          2,
          3
         ]
        ],
        [
         "United States",
         [
          1,
          2,
          3
         ]
        ],
        [
         "United States",
         [
          1,
          2,
          3
         ]
        ],
        [
         "Egypt",
         [
          1,
          2,
          3
         ]
        ],
        [
         "United States",
         [
          1,
          2,
          3
         ]
        ],
        [
         "United States",
         [
          1,
          2,
          3
         ]
        ],
        [
         "United States",
         [
          1,
          2,
          3
         ]
        ],
        [
         "Costa Rica",
         [
          1,
          2,
          3
         ]
        ],
        [
         "Senegal",
         [
          1,
          2,
          3
         ]
        ],
        [
         "Moldova",
         [
          1,
          2,
          3
         ]
        ],
        [
         "United States",
         [
          1,
          2,
          3
         ]
        ],
        [
         "United States",
         [
          1,
          2,
          3
         ]
        ],
        [
         "Guyana",
         [
          1,
          2,
          3
         ]
        ],
        [
         "Malta",
         [
          1,
          2,
          3
         ]
        ],
        [
         "Anguilla",
         [
          1,
          2,
          3
         ]
        ],
        [
         "Bolivia",
         [
          1,
          2,
          3
         ]
        ],
        [
         "United States",
         [
          1,
          2,
          3
         ]
        ],
        [
         "Algeria",
         [
          1,
          2,
          3
         ]
        ],
        [
         "Turks and Caicos Islands",
         [
          1,
          2,
          3
         ]
        ],
        [
         "United States",
         [
          1,
          2,
          3
         ]
        ],
        [
         "Saint Vincent and the Grenadines",
         [
          1,
          2,
          3
         ]
        ],
        [
         "Italy",
         [
          1,
          2,
          3
         ]
        ],
        [
         "United States",
         [
          1,
          2,
          3
         ]
        ],
        [
         "United States",
         [
          1,
          2,
          3
         ]
        ],
        [
         "Pakistan",
         [
          1,
          2,
          3
         ]
        ],
        [
         "United States",
         [
          1,
          2,
          3
         ]
        ],
        [
         "Iceland",
         [
          1,
          2,
          3
         ]
        ],
        [
         "Marshall Islands",
         [
          1,
          2,
          3
         ]
        ],
        [
         "Luxembourg",
         [
          1,
          2,
          3
         ]
        ],
        [
         "Honduras",
         [
          1,
          2,
          3
         ]
        ],
        [
         "The Bahamas",
         [
          1,
          2,
          3
         ]
        ],
        [
         "United States",
         [
          1,
          2,
          3
         ]
        ],
        [
         "El Salvador",
         [
          1,
          2,
          3
         ]
        ],
        [
         "Samoa",
         [
          1,
          2,
          3
         ]
        ],
        [
         "United States",
         [
          1,
          2,
          3
         ]
        ],
        [
         "Switzerland",
         [
          1,
          2,
          3
         ]
        ],
        [
         "United States",
         [
          1,
          2,
          3
         ]
        ],
        [
         "Sint Maarten",
         [
          1,
          2,
          3
         ]
        ],
        [
         "Hong Kong",
         [
          1,
          2,
          3
         ]
        ],
        [
         "Trinidad and Tobago",
         [
          1,
          2,
          3
         ]
        ],
        [
         "Latvia",
         [
          1,
          2,
          3
         ]
        ],
        [
         "United States",
         [
          1,
          2,
          3
         ]
        ],
        [
         "Suriname",
         [
          1,
          2,
          3
         ]
        ],
        [
         "Mexico",
         [
          1,
          2,
          3
         ]
        ],
        [
         "United States",
         [
          1,
          2,
          3
         ]
        ],
        [
         "Ecuador",
         [
          1,
          2,
          3
         ]
        ],
        [
         "United States",
         [
          1,
          2,
          3
         ]
        ],
        [
         "United States",
         [
          1,
          2,
          3
         ]
        ],
        [
         "United States",
         [
          1,
          2,
          3
         ]
        ],
        [
         "United States",
         [
          1,
          2,
          3
         ]
        ],
        [
         "Colombia",
         [
          1,
          2,
          3
         ]
        ],
        [
         "United States",
         [
          1,
          2,
          3
         ]
        ],
        [
         "United States",
         [
          1,
          2,
          3
         ]
        ],
        [
         "Norway",
         [
          1,
          2,
          3
         ]
        ],
        [
         "United States",
         [
          1,
          2,
          3
         ]
        ],
        [
         "United States",
         [
          1,
          2,
          3
         ]
        ],
        [
         "Thailand",
         [
          1,
          2,
          3
         ]
        ],
        [
         "United States",
         [
          1,
          2,
          3
         ]
        ],
        [
         "Venezuela",
         [
          1,
          2,
          3
         ]
        ],
        [
         "United States",
         [
          1,
          2,
          3
         ]
        ],
        [
         "United States",
         [
          1,
          2,
          3
         ]
        ],
        [
         "Panama",
         [
          1,
          2,
          3
         ]
        ],
        [
         "Antigua and Barbuda",
         [
          1,
          2,
          3
         ]
        ],
        [
         "United States",
         [
          1,
          2,
          3
         ]
        ],
        [
         "Morocco",
         [
          1,
          2,
          3
         ]
        ],
        [
         "United States",
         [
          1,
          2,
          3
         ]
        ],
        [
         "Azerbaijan",
         [
          1,
          2,
          3
         ]
        ],
        [
         "United States",
         [
          1,
          2,
          3
         ]
        ],
        [
         "United States",
         [
          1,
          2,
          3
         ]
        ],
        [
         "New Zealand",
         [
          1,
          2,
          3
         ]
        ],
        [
         "Liberia",
         [
          1,
          2,
          3
         ]
        ],
        [
         "United States",
         [
          1,
          2,
          3
         ]
        ],
        [
         "Hungary",
         [
          1,
          2,
          3
         ]
        ],
        [
         "United States",
         [
          1,
          2,
          3
         ]
        ],
        [
         "United States",
         [
          1,
          2,
          3
         ]
        ],
        [
         "Burkina Faso",
         [
          1,
          2,
          3
         ]
        ],
        [
         "Sweden",
         [
          1,
          2,
          3
         ]
        ],
        [
         "United States",
         [
          1,
          2,
          3
         ]
        ],
        [
         "United States",
         [
          1,
          2,
          3
         ]
        ],
        [
         "United States",
         [
          1,
          2,
          3
         ]
        ],
        [
         "Israel",
         [
          1,
          2,
          3
         ]
        ],
        [
         "United States",
         [
          1,
          2,
          3
         ]
        ],
        [
         "Ethiopia",
         [
          1,
          2,
          3
         ]
        ],
        [
         "United States",
         [
          1,
          2,
          3
         ]
        ],
        [
         "United States",
         [
          1,
          2,
          3
         ]
        ],
        [
         "Martinique",
         [
          1,
          2,
          3
         ]
        ],
        [
         "United States",
         [
          1,
          2,
          3
         ]
        ],
        [
         "Saint Barthelemy",
         [
          1,
          2,
          3
         ]
        ],
        [
         "Barbados",
         [
          1,
          2,
          3
         ]
        ],
        [
         "United States",
         [
          1,
          2,
          3
         ]
        ],
        [
         "Djibouti",
         [
          1,
          2,
          3
         ]
        ],
        [
         "United States",
         [
          1,
          2,
          3
         ]
        ],
        [
         "United States",
         [
          1,
          2,
          3
         ]
        ],
        [
         "Germany",
         [
          1,
          2,
          3
         ]
        ],
        [
         "United States",
         [
          1,
          2,
          3
         ]
        ],
        [
         "United States",
         [
          1,
          2,
          3
         ]
        ],
        [
         "Ireland",
         [
          1,
          2,
          3
         ]
        ],
        [
         "United States",
         [
          1,
          2,
          3
         ]
        ],
        [
         "Zambia",
         [
          1,
          2,
          3
         ]
        ],
        [
         "Malaysia",
         [
          1,
          2,
          3
         ]
        ],
        [
         "United States",
         [
          1,
          2,
          3
         ]
        ],
        [
         "United States",
         [
          1,
          2,
          3
         ]
        ],
        [
         "United States",
         [
          1,
          2,
          3
         ]
        ],
        [
         "United States",
         [
          1,
          2,
          3
         ]
        ],
        [
         "United States",
         [
          1,
          2,
          3
         ]
        ],
        [
         "Croatia",
         [
          1,
          2,
          3
         ]
        ],
        [
         "United States",
         [
          1,
          2,
          3
         ]
        ],
        [
         "Cyprus",
         [
          1,
          2,
          3
         ]
        ],
        [
         "United States",
         [
          1,
          2,
          3
         ]
        ],
        [
         "Fiji",
         [
          1,
          2,
          3
         ]
        ],
        [
         "Qatar",
         [
          1,
          2,
          3
         ]
        ],
        [
         "Saint Kitts and Nevis",
         [
          1,
          2,
          3
         ]
        ],
        [
         "Kuwait",
         [
          1,
          2,
          3
         ]
        ],
        [
         "Taiwan",
         [
          1,
          2,
          3
         ]
        ],
        [
         "Haiti",
         [
          1,
          2,
          3
         ]
        ],
        [
         "Canada",
         [
          1,
          2,
          3
         ]
        ],
        [
         "Federated States of Micronesia",
         [
          1,
          2,
          3
         ]
        ],
        [
         "United States",
         [
          1,
          2,
          3
         ]
        ],
        [
         "Jamaica",
         [
          1,
          2,
          3
         ]
        ],
        [
         "United States",
         [
          1,
          2,
          3
         ]
        ],
        [
         "Dominican Republic",
         [
          1,
          2,
          3
         ]
        ],
        [
         "Japan",
         [
          1,
          2,
          3
         ]
        ],
        [
         "United States",
         [
          1,
          2,
          3
         ]
        ],
        [
         "Finland",
         [
          1,
          2,
          3
         ]
        ],
        [
         "United States",
         [
          1,
          2,
          3
         ]
        ],
        [
         "United States",
         [
          1,
          2,
          3
         ]
        ],
        [
         "United States",
         [
          1,
          2,
          3
         ]
        ],
        [
         "United States",
         [
          1,
          2,
          3
         ]
        ],
        [
         "Aruba",
         [
          1,
          2,
          3
         ]
        ],
        [
         "French Guiana",
         [
          1,
          2,
          3
         ]
        ],
        [
         "United States",
         [
          1,
          2,
          3
         ]
        ],
        [
         "India",
         [
          1,
          2,
          3
         ]
        ],
        [
         "British Virgin Islands",
         [
          1,
          2,
          3
         ]
        ],
        [
         "Brazil",
         [
          1,
          2,
          3
         ]
        ],
        [
         "United States",
         [
          1,
          2,
          3
         ]
        ],
        [
         "United States",
         [
          1,
          2,
          3
         ]
        ],
        [
         "French Polynesia",
         [
          1,
          2,
          3
         ]
        ],
        [
         "United Arab Emirates",
         [
          1,
          2,
          3
         ]
        ],
        [
         "Singapore",
         [
          1,
          2,
          3
         ]
        ],
        [
         "United States",
         [
          1,
          2,
          3
         ]
        ],
        [
         "United States",
         [
          1,
          2,
          3
         ]
        ],
        [
         "Netherlands",
         [
          1,
          2,
          3
         ]
        ],
        [
         "United States",
         [
          1,
          2,
          3
         ]
        ],
        [
         "United States",
         [
          1,
          2,
          3
         ]
        ],
        [
         "United States",
         [
          1,
          2,
          3
         ]
        ],
        [
         "Denmark",
         [
          1,
          2,
          3
         ]
        ],
        [
         "China",
         [
          1,
          2,
          3
         ]
        ],
        [
         "United States",
         [
          1,
          2,
          3
         ]
        ],
        [
         "United States",
         [
          1,
          2,
          3
         ]
        ],
        [
         "United States",
         [
          1,
          2,
          3
         ]
        ],
        [
         "United States",
         [
          1,
          2,
          3
         ]
        ],
        [
         "Cayman Islands",
         [
          1,
          2,
          3
         ]
        ],
        [
         "Argentina",
         [
          1,
          2,
          3
         ]
        ],
        [
         "Peru",
         [
          1,
          2,
          3
         ]
        ],
        [
         "South Africa",
         [
          1,
          2,
          3
         ]
        ],
        [
         "United States",
         [
          1,
          2,
          3
         ]
        ],
        [
         "United States",
         [
          1,
          2,
          3
         ]
        ],
        [
         "Spain",
         [
          1,
          2,
          3
         ]
        ],
        [
         "Bermuda",
         [
          1,
          2,
          3
         ]
        ],
        [
         "United States",
         [
          1,
          2,
          3
         ]
        ],
        [
         "United States",
         [
          1,
          2,
          3
         ]
        ],
        [
         "United States",
         [
          1,
          2,
          3
         ]
        ],
        [
         "Kiribati",
         [
          1,
          2,
          3
         ]
        ],
        [
         "Saudi Arabia",
         [
          1,
          2,
          3
         ]
        ],
        [
         "Czech Republic",
         [
          1,
          2,
          3
         ]
        ],
        [
         "United States",
         [
          1,
          2,
          3
         ]
        ],
        [
         "Belgium",
         [
          1,
          2,
          3
         ]
        ],
        [
         "United States",
         [
          1,
          2,
          3
         ]
        ],
        [
         "United States",
         [
          1,
          2,
          3
         ]
        ],
        [
         "United States",
         [
          1,
          2,
          3
         ]
        ],
        [
         "Curacao",
         [
          1,
          2,
          3
         ]
        ],
        [
         "Georgia",
         [
          1,
          2,
          3
         ]
        ],
        [
         "United States",
         [
          1,
          2,
          3
         ]
        ],
        [
         "United States",
         [
          1,
          2,
          3
         ]
        ],
        [
         "Philippines",
         [
          1,
          2,
          3
         ]
        ],
        [
         "Grenada",
         [
          1,
          2,
          3
         ]
        ],
        [
         "Cape Verde",
         [
          1,
          2,
          3
         ]
        ],
        [
         "Cote d'Ivoire",
         [
          1,
          2,
          3
         ]
        ],
        [
         "Ukraine",
         [
          1,
          2,
          3
         ]
        ],
        [
         "United States",
         [
          1,
          2,
          3
         ]
        ],
        [
         "Russia",
         [
          1,
          2,
          3
         ]
        ],
        [
         "United States",
         [
          1,
          2,
          3
         ]
        ],
        [
         "Guatemala",
         [
          1,
          2,
          3
         ]
        ],
        [
         "Saint Lucia",
         [
          1,
          2,
          3
         ]
        ],
        [
         "Paraguay",
         [
          1,
          2,
          3
         ]
        ],
        [
         "United States",
         [
          1,
          2,
          3
         ]
        ],
        [
         "Kosovo",
         [
          1,
          2,
          3
         ]
        ],
        [
         "United States",
         [
          1,
          2,
          3
         ]
        ],
        [
         "Tunisia",
         [
          1,
          2,
          3
         ]
        ],
        [
         "United States",
         [
          1,
          2,
          3
         ]
        ],
        [
         "Niger",
         [
          1,
          2,
          3
         ]
        ],
        [
         "Turkey",
         [
          1,
          2,
          3
         ]
        ],
        [
         "United Kingdom",
         [
          1,
          2,
          3
         ]
        ],
        [
         "Romania",
         [
          1,
          2,
          3
         ]
        ],
        [
         "United States",
         [
          1,
          2,
          3
         ]
        ],
        [
         "Papua New Guinea",
         [
          1,
          2,
          3
         ]
        ],
        [
         "United States",
         [
          1,
          2,
          3
         ]
        ],
        [
         "Iraq",
         [
          1,
          2,
          3
         ]
        ],
        [
         "United States",
         [
          1,
          2,
          3
         ]
        ],
        [
         "Cuba",
         [
          1,
          2,
          3
         ]
        ],
        [
         "United States",
         [
          1,
          2,
          3
         ]
        ],
        [
         "Dominica",
         [
          1,
          2,
          3
         ]
        ],
        [
         "United States",
         [
          1,
          2,
          3
         ]
        ],
        [
         "Portugal",
         [
          1,
          2,
          3
         ]
        ],
        [
         "United States",
         [
          1,
          2,
          3
         ]
        ],
        [
         "Bahrain",
         [
          1,
          2,
          3
         ]
        ],
        [
         "United States",
         [
          1,
          2,
          3
         ]
        ],
        [
         "Indonesia",
         [
          1,
          2,
          3
         ]
        ],
        [
         "United States",
         [
          1,
          2,
          3
         ]
        ],
        [
         "United States",
         [
          1,
          2,
          3
         ]
        ],
        [
         "Belize",
         [
          1,
          2,
          3
         ]
        ],
        [
         "United States",
         [
          1,
          2,
          3
         ]
        ],
        [
         "United States",
         [
          1,
          2,
          3
         ]
        ],
        [
         "United States",
         [
          1,
          2,
          3
         ]
        ],
        [
         "United States",
         [
          1,
          2,
          3
         ]
        ],
        [
         "United States",
         [
          1,
          2,
          3
         ]
        ],
        [
         "United States",
         [
          1,
          2,
          3
         ]
        ],
        [
         "Nicaragua",
         [
          1,
          2,
          3
         ]
        ],
        [
         "United States",
         [
          1,
          2,
          3
         ]
        ],
        [
         "United States",
         [
          1,
          2,
          3
         ]
        ],
        [
         "United States",
         [
          1,
          2,
          3
         ]
        ],
        [
         "United States",
         [
          1,
          2,
          3
         ]
        ],
        [
         "United States",
         [
          1,
          2,
          3
         ]
        ],
        [
         "Austria",
         [
          1,
          2,
          3
         ]
        ],
        [
         "Jordan",
         [
          1,
          2,
          3
         ]
        ],
        [
         "Palau",
         [
          1,
          2,
          3
         ]
        ],
        [
         "South Korea",
         [
          1,
          2,
          3
         ]
        ],
        [
         "Angola",
         [
          1,
          2,
          3
         ]
        ],
        [
         "Ghana",
         [
          1,
          2,
          3
         ]
        ],
        [
         "New Caledonia",
         [
          1,
          2,
          3
         ]
        ],
        [
         "Guadeloupe",
         [
          1,
          2,
          3
         ]
        ],
        [
         "France",
         [
          1,
          2,
          3
         ]
        ],
        [
         "Poland",
         [
          1,
          2,
          3
         ]
        ],
        [
         "Nigeria",
         [
          1,
          2,
          3
         ]
        ],
        [
         "United States",
         [
          1,
          2,
          3
         ]
        ],
        [
         "Greenland",
         [
          1,
          2,
          3
         ]
        ],
        [
         "United States",
         [
          1,
          2,
          3
         ]
        ],
        [
         "Chile",
         [
          1,
          2,
          3
         ]
        ],
        [
         "United States",
         [
          1,
          2,
          3
         ]
        ],
        [
         "United States",
         [
          1,
          2,
          3
         ]
        ],
        [
         "United States",
         [
          1,
          2,
          3
         ]
        ],
        [
         "United States",
         [
          1,
          2,
          3
         ]
        ],
        [
         "United States",
         [
          1,
          2,
          3
         ]
        ],
        [
         "Australia",
         [
          1,
          2,
          3
         ]
        ],
        [
         "United States",
         [
          1,
          2,
          3
         ]
        ],
        [
         "United States",
         [
          1,
          2,
          3
         ]
        ],
        [
         "United States",
         [
          1,
          2,
          3
         ]
        ],
        [
         "United States",
         [
          1,
          2,
          3
         ]
        ],
        [
         "United States",
         [
          1,
          2,
          3
         ]
        ],
        [
         "Cook Islands",
         [
          1,
          2,
          3
         ]
        ],
        [
         "Bulgaria",
         [
          1,
          2,
          3
         ]
        ],
        [
         "United States",
         [
          1,
          2,
          3
         ]
        ],
        [
         "Uruguay",
         [
          1,
          2,
          3
         ]
        ],
        [
         "United States",
         [
          1,
          2,
          3
         ]
        ],
        [
         "Bonaire, Sint Eustatius, and Saba",
         [
          1,
          2,
          3
         ]
        ],
        [
         "Greece",
         [
          1,
          2,
          3
         ]
        ]
       ],
       "datasetInfos": [],
       "dbfsResultPath": null,
       "isJsonSchema": true,
       "metadata": {},
       "overflow": false,
       "plotOptions": {
        "customPlotOptions": {},
        "displayType": "table",
        "pivotAggregation": null,
        "pivotColumns": null,
        "xColumns": null,
        "yColumns": null
       },
       "removedWidgets": [],
       "schema": [
        {
         "metadata": "{}",
         "name": "DEST_COUNTRY_NAME",
         "type": "\"string\""
        },
        {
         "metadata": "{\"__autoGeneratedAlias\":\"true\"}",
         "name": "array(1, 2, 3)",
         "type": "{\"type\":\"array\",\"elementType\":\"integer\",\"containsNull\":false}"
        }
       ],
       "type": "table"
      }
     },
     "output_type": "display_data"
    }
   ],
   "source": [
    "%sql\n",
    "SELECT\n",
    "  DEST_COUNTRY_NAME,\n",
    "  ARRAY(1, 2, 3)\n",
    "FROM\n",
    "  flights_csv1"
   ]
  },
  {
   "cell_type": "code",
   "execution_count": 0,
   "metadata": {
    "application/vnd.databricks.v1+cell": {
     "cellMetadata": {
      "byteLimit": 2048000,
      "implicitDf": true,
      "rowLimit": 10000
     },
     "inputWidgets": {},
     "nuid": "34a14244-bed8-489e-829c-b26d00bd12e1",
     "showTitle": false,
     "title": ""
    }
   },
   "outputs": [
    {
     "output_type": "display_data",
     "data": {
      "text/html": [
       "<style scoped>\n",
       "  .table-result-container {\n",
       "    max-height: 300px;\n",
       "    overflow: auto;\n",
       "  }\n",
       "  table, th, td {\n",
       "    border: 1px solid black;\n",
       "    border-collapse: collapse;\n",
       "  }\n",
       "  th, td {\n",
       "    padding: 5px;\n",
       "  }\n",
       "  th {\n",
       "    text-align: left;\n",
       "  }\n",
       "</style><div class='table-result-container'><table class='table-result'><thead style='background-color: white'><tr><th>database</th><th>tableName</th><th>isTemporary</th></tr></thead><tbody><tr><td>default</td><td>flights_csv1</td><td>false</td></tr><tr><td>default</td><td>flights_csv2</td><td>false</td></tr><tr><td>default</td><td>flights_from_select1</td><td>false</td></tr><tr><td>default</td><td>flights_json1</td><td>false</td></tr><tr><td>default</td><td>hive_flights</td><td>false</td></tr><tr><td>default</td><td>hive_flights1</td><td>false</td></tr><tr><td>default</td><td>hive_flights_2</td><td>false</td></tr><tr><td>default</td><td>just_usa_view</td><td>false</td></tr><tr><td>default</td><td>just_usa_view1</td><td>false</td></tr><tr><td>default</td><td>nested_data</td><td>false</td></tr><tr><td></td><td>flight_json_view</td><td>true</td></tr><tr><td></td><td>flight_view</td><td>true</td></tr><tr><td></td><td>just_usa_view_temp</td><td>true</td></tr><tr><td></td><td>just_usa_view_temp1</td><td>true</td></tr></tbody></table></div>"
      ]
     },
     "metadata": {
      "application/vnd.databricks.v1+output": {
       "addedWidgets": {},
       "aggData": [],
       "aggError": "",
       "aggOverflow": false,
       "aggSchema": [],
       "aggSeriesLimitReached": false,
       "aggType": "",
       "arguments": {},
       "columnCustomDisplayInfos": {},
       "data": [
        [
         "default",
         "flights_csv1",
         false
        ],
        [
         "default",
         "flights_csv2",
         false
        ],
        [
         "default",
         "flights_from_select1",
         false
        ],
        [
         "default",
         "flights_json1",
         false
        ],
        [
         "default",
         "hive_flights",
         false
        ],
        [
         "default",
         "hive_flights1",
         false
        ],
        [
         "default",
         "hive_flights_2",
         false
        ],
        [
         "default",
         "just_usa_view",
         false
        ],
        [
         "default",
         "just_usa_view1",
         false
        ],
        [
         "default",
         "nested_data",
         false
        ],
        [
         "",
         "flight_json_view",
         true
        ],
        [
         "",
         "flight_view",
         true
        ],
        [
         "",
         "just_usa_view_temp",
         true
        ],
        [
         "",
         "just_usa_view_temp1",
         true
        ]
       ],
       "datasetInfos": [],
       "dbfsResultPath": null,
       "isJsonSchema": true,
       "metadata": {},
       "overflow": false,
       "plotOptions": {
        "customPlotOptions": {},
        "displayType": "table",
        "pivotAggregation": null,
        "pivotColumns": null,
        "xColumns": null,
        "yColumns": null
       },
       "removedWidgets": [],
       "schema": [
        {
         "metadata": "{}",
         "name": "database",
         "type": "\"string\""
        },
        {
         "metadata": "{}",
         "name": "tableName",
         "type": "\"string\""
        },
        {
         "metadata": "{}",
         "name": "isTemporary",
         "type": "\"boolean\""
        }
       ],
       "type": "table"
      }
     },
     "output_type": "display_data"
    }
   ],
   "source": [
    "%sql\n",
    "use default;\n",
    "show tables;"
   ]
  },
  {
   "cell_type": "markdown",
   "metadata": {
    "application/vnd.databricks.v1+cell": {
     "cellMetadata": {
      "byteLimit": 2048000,
      "rowLimit": 10000
     },
     "inputWidgets": {},
     "nuid": "0723a576-3359-4bdf-a1e9-657b604b79a4",
     "showTitle": false,
     "title": ""
    }
   },
   "source": [
    "<span style=\"color:blue\">\n",
    "Display System Function in pyspark.sql"
   ]
  },
  {
   "cell_type": "code",
   "execution_count": 0,
   "metadata": {
    "application/vnd.databricks.v1+cell": {
     "cellMetadata": {
      "byteLimit": 2048000,
      "implicitDf": true,
      "rowLimit": 10000
     },
     "inputWidgets": {},
     "nuid": "a551ecbd-be9b-40d5-9153-7acf78684800",
     "showTitle": false,
     "title": ""
    }
   },
   "outputs": [
    {
     "output_type": "display_data",
     "data": {
      "text/html": [
       "<style scoped>\n",
       "  .table-result-container {\n",
       "    max-height: 300px;\n",
       "    overflow: auto;\n",
       "  }\n",
       "  table, th, td {\n",
       "    border: 1px solid black;\n",
       "    border-collapse: collapse;\n",
       "  }\n",
       "  th, td {\n",
       "    padding: 5px;\n",
       "  }\n",
       "  th {\n",
       "    text-align: left;\n",
       "  }\n",
       "</style><div class='table-result-container'><table class='table-result'><thead style='background-color: white'><tr><th>function</th></tr></thead><tbody><tr><td>!</td></tr><tr><td>!=</td></tr><tr><td>%</td></tr><tr><td>&</td></tr><tr><td>*</td></tr><tr><td>+</td></tr><tr><td>-</td></tr><tr><td>/</td></tr><tr><td><</td></tr><tr><td><=</td></tr><tr><td><=></td></tr><tr><td><></td></tr><tr><td>=</td></tr><tr><td>==</td></tr><tr><td>></td></tr><tr><td>>=</td></tr><tr><td>^</td></tr><tr><td>abs</td></tr><tr><td>acos</td></tr><tr><td>acosh</td></tr><tr><td>add_months</td></tr><tr><td>aes_decrypt</td></tr><tr><td>aes_encrypt</td></tr><tr><td>aggregate</td></tr><tr><td>and</td></tr><tr><td>any</td></tr><tr><td>any_value</td></tr><tr><td>approx_count_distinct</td></tr><tr><td>approx_percentile</td></tr><tr><td>approx_top_k</td></tr><tr><td>array</td></tr><tr><td>array_agg</td></tr><tr><td>array_append</td></tr><tr><td>array_compact</td></tr><tr><td>array_contains</td></tr><tr><td>array_distinct</td></tr><tr><td>array_except</td></tr><tr><td>array_intersect</td></tr><tr><td>array_join</td></tr><tr><td>array_max</td></tr><tr><td>array_min</td></tr><tr><td>array_position</td></tr><tr><td>array_remove</td></tr><tr><td>array_repeat</td></tr><tr><td>array_size</td></tr><tr><td>array_sort</td></tr><tr><td>array_union</td></tr><tr><td>arrays_overlap</td></tr><tr><td>arrays_zip</td></tr><tr><td>ascii</td></tr><tr><td>asin</td></tr><tr><td>asinh</td></tr><tr><td>assert_true</td></tr><tr><td>atan</td></tr><tr><td>atan2</td></tr><tr><td>atanh</td></tr><tr><td>avg</td></tr><tr><td>base64</td></tr><tr><td>between</td></tr><tr><td>bigint</td></tr><tr><td>bin</td></tr><tr><td>binary</td></tr><tr><td>bit_and</td></tr><tr><td>bit_count</td></tr><tr><td>bit_get</td></tr><tr><td>bit_length</td></tr><tr><td>bit_or</td></tr><tr><td>bit_reverse</td></tr><tr><td>bit_xor</td></tr><tr><td>bool_and</td></tr><tr><td>bool_or</td></tr><tr><td>boolean</td></tr><tr><td>bround</td></tr><tr><td>btrim</td></tr><tr><td>cardinality</td></tr><tr><td>case</td></tr><tr><td>cast</td></tr><tr><td>cbrt</td></tr><tr><td>ceil</td></tr><tr><td>ceiling</td></tr><tr><td>char</td></tr><tr><td>char_length</td></tr><tr><td>character_length</td></tr><tr><td>charindex</td></tr><tr><td>chr</td></tr><tr><td>coalesce</td></tr><tr><td>collect_list</td></tr><tr><td>collect_set</td></tr><tr><td>concat</td></tr><tr><td>concat_ws</td></tr><tr><td>contains</td></tr><tr><td>conv</td></tr><tr><td>corr</td></tr><tr><td>cos</td></tr><tr><td>cosh</td></tr><tr><td>cot</td></tr><tr><td>count</td></tr><tr><td>count_if</td></tr><tr><td>count_min_sketch</td></tr><tr><td>covar_pop</td></tr><tr><td>covar_samp</td></tr><tr><td>crc32</td></tr><tr><td>csc</td></tr><tr><td>cume_dist</td></tr><tr><td>curdate</td></tr><tr><td>current_catalog</td></tr><tr><td>current_database</td></tr><tr><td>current_date</td></tr><tr><td>current_metastore</td></tr><tr><td>current_oauth_custom_identity_claim</td></tr><tr><td>current_schema</td></tr><tr><td>current_timestamp</td></tr><tr><td>current_timezone</td></tr><tr><td>current_user</td></tr><tr><td>current_version</td></tr><tr><td>date</td></tr><tr><td>date_add</td></tr><tr><td>date_diff</td></tr><tr><td>date_format</td></tr><tr><td>date_from_unix_date</td></tr><tr><td>date_part</td></tr><tr><td>date_sub</td></tr><tr><td>date_trunc</td></tr><tr><td>dateadd</td></tr><tr><td>datediff</td></tr><tr><td>datepart</td></tr><tr><td>day</td></tr><tr><td>dayofmonth</td></tr><tr><td>dayofweek</td></tr><tr><td>dayofyear</td></tr><tr><td>decimal</td></tr><tr><td>decode</td></tr><tr><td>degrees</td></tr><tr><td>dense_rank</td></tr><tr><td>div</td></tr><tr><td>double</td></tr><tr><td>e</td></tr><tr><td>element_at</td></tr><tr><td>elt</td></tr><tr><td>encode</td></tr><tr><td>endswith</td></tr><tr><td>equal_null</td></tr><tr><td>event_log</td></tr><tr><td>every</td></tr><tr><td>exists</td></tr><tr><td>exp</td></tr><tr><td>explode</td></tr><tr><td>explode_outer</td></tr><tr><td>expm1</td></tr><tr><td>extract</td></tr><tr><td>factorial</td></tr><tr><td>filter</td></tr><tr><td>find_in_set</td></tr><tr><td>first</td></tr><tr><td>first_value</td></tr><tr><td>flatten</td></tr><tr><td>float</td></tr><tr><td>floor</td></tr><tr><td>forall</td></tr><tr><td>format_number</td></tr><tr><td>format_string</td></tr><tr><td>from_csv</td></tr><tr><td>from_json</td></tr><tr><td>from_unixtime</td></tr><tr><td>from_utc_timestamp</td></tr><tr><td>get</td></tr><tr><td>get_json_object</td></tr><tr><td>getbit</td></tr><tr><td>getdate</td></tr><tr><td>greatest</td></tr><tr><td>grouping</td></tr><tr><td>grouping_id</td></tr><tr><td>h3_boundaryasgeojson</td></tr><tr><td>h3_boundaryaswkb</td></tr><tr><td>h3_boundaryaswkt</td></tr><tr><td>h3_centerasgeojson</td></tr><tr><td>h3_centeraswkb</td></tr><tr><td>h3_centeraswkt</td></tr><tr><td>h3_compact</td></tr><tr><td>h3_distance</td></tr><tr><td>h3_getpentagoncellids</td></tr><tr><td>h3_h3tostring</td></tr><tr><td>h3_hexring</td></tr><tr><td>h3_ischildof</td></tr><tr><td>h3_ispentagon</td></tr><tr><td>h3_isvalid</td></tr><tr><td>h3_kring</td></tr><tr><td>h3_kringdistances</td></tr><tr><td>h3_longlatash3</td></tr><tr><td>h3_longlatash3string</td></tr><tr><td>h3_maxchild</td></tr><tr><td>h3_minchild</td></tr><tr><td>h3_pointash3</td></tr><tr><td>h3_pointash3string</td></tr><tr><td>h3_polyfillash3</td></tr><tr><td>h3_polyfillash3string</td></tr><tr><td>h3_resolution</td></tr><tr><td>h3_stringtoh3</td></tr><tr><td>h3_tochildren</td></tr><tr><td>h3_toparent</td></tr><tr><td>h3_try_polyfillash3</td></tr><tr><td>h3_try_polyfillash3string</td></tr><tr><td>h3_try_validate</td></tr><tr><td>h3_uncompact</td></tr><tr><td>h3_validate</td></tr><tr><td>hash</td></tr><tr><td>hex</td></tr><tr><td>histogram_numeric</td></tr><tr><td>hour</td></tr><tr><td>hypot</td></tr><tr><td>if</td></tr><tr><td>iff</td></tr><tr><td>ifnull</td></tr><tr><td>ilike</td></tr><tr><td>in</td></tr><tr><td>initcap</td></tr><tr><td>inline</td></tr><tr><td>inline_outer</td></tr><tr><td>input_file_block_length</td></tr><tr><td>input_file_block_start</td></tr><tr><td>input_file_name</td></tr><tr><td>instr</td></tr><tr><td>int</td></tr><tr><td>is_account_group_member</td></tr><tr><td>is_member</td></tr><tr><td>isnan</td></tr><tr><td>isnotnull</td></tr><tr><td>isnull</td></tr><tr><td>java_method</td></tr><tr><td>json_array_length</td></tr><tr><td>json_object_keys</td></tr><tr><td>json_tuple</td></tr><tr><td>kurtosis</td></tr><tr><td>lag</td></tr><tr><td>last</td></tr><tr><td>last_day</td></tr><tr><td>last_value</td></tr><tr><td>lcase</td></tr><tr><td>lead</td></tr><tr><td>least</td></tr><tr><td>left</td></tr><tr><td>len</td></tr><tr><td>length</td></tr><tr><td>levenshtein</td></tr><tr><td>like</td></tr><tr><td>list_secrets</td></tr><tr><td>ln</td></tr><tr><td>locate</td></tr><tr><td>log</td></tr><tr><td>log10</td></tr><tr><td>log1p</td></tr><tr><td>log2</td></tr><tr><td>lower</td></tr><tr><td>lpad</td></tr><tr><td>ltrim</td></tr><tr><td>luhn_check</td></tr><tr><td>make_date</td></tr><tr><td>make_dt_interval</td></tr><tr><td>make_interval</td></tr><tr><td>make_timestamp</td></tr><tr><td>make_ym_interval</td></tr><tr><td>map</td></tr><tr><td>map_concat</td></tr><tr><td>map_contains_key</td></tr><tr><td>map_entries</td></tr><tr><td>map_filter</td></tr><tr><td>map_from_arrays</td></tr><tr><td>map_from_entries</td></tr><tr><td>map_keys</td></tr><tr><td>map_values</td></tr><tr><td>map_zip_with</td></tr><tr><td>mask</td></tr><tr><td>max</td></tr><tr><td>max_by</td></tr><tr><td>md5</td></tr><tr><td>mean</td></tr><tr><td>median</td></tr><tr><td>min</td></tr><tr><td>min_by</td></tr><tr><td>minute</td></tr><tr><td>mod</td></tr><tr><td>mode</td></tr><tr><td>monotonically_increasing_id</td></tr><tr><td>month</td></tr><tr><td>months_between</td></tr><tr><td>named_struct</td></tr><tr><td>nanvl</td></tr><tr><td>negative</td></tr><tr><td>next_day</td></tr><tr><td>not</td></tr><tr><td>now</td></tr><tr><td>nth_value</td></tr><tr><td>ntile</td></tr><tr><td>nullif</td></tr><tr><td>nvl</td></tr><tr><td>nvl2</td></tr><tr><td>octet_length</td></tr><tr><td>or</td></tr><tr><td>overlay</td></tr><tr><td>parse_url</td></tr><tr><td>percent_rank</td></tr><tr><td>percentile</td></tr><tr><td>percentile_approx</td></tr><tr><td>pi</td></tr><tr><td>pmod</td></tr><tr><td>posexplode</td></tr><tr><td>posexplode_outer</td></tr><tr><td>position</td></tr><tr><td>positive</td></tr><tr><td>pow</td></tr><tr><td>power</td></tr><tr><td>printf</td></tr><tr><td>quarter</td></tr><tr><td>radians</td></tr><tr><td>raise_error</td></tr><tr><td>rand</td></tr><tr><td>randn</td></tr><tr><td>random</td></tr><tr><td>range</td></tr><tr><td>rank</td></tr><tr><td>read_files</td></tr><tr><td>reduce</td></tr><tr><td>reflect</td></tr><tr><td>regexp</td></tr><tr><td>regexp_count</td></tr><tr><td>regexp_extract</td></tr><tr><td>regexp_extract_all</td></tr><tr><td>regexp_instr</td></tr><tr><td>regexp_like</td></tr><tr><td>regexp_replace</td></tr><tr><td>regexp_substr</td></tr><tr><td>regr_avgx</td></tr><tr><td>regr_avgy</td></tr><tr><td>regr_count</td></tr><tr><td>regr_intercept</td></tr><tr><td>regr_r2</td></tr><tr><td>regr_slope</td></tr><tr><td>regr_sxx</td></tr><tr><td>regr_sxy</td></tr><tr><td>regr_syy</td></tr><tr><td>repeat</td></tr><tr><td>replace</td></tr><tr><td>reverse</td></tr><tr><td>right</td></tr><tr><td>rint</td></tr><tr><td>rlike</td></tr><tr><td>round</td></tr><tr><td>row_number</td></tr><tr><td>rpad</td></tr><tr><td>rtrim</td></tr><tr><td>schema_of_csv</td></tr><tr><td>schema_of_json</td></tr><tr><td>sec</td></tr><tr><td>second</td></tr><tr><td>secret</td></tr><tr><td>sentences</td></tr><tr><td>sequence</td></tr><tr><td>session_window</td></tr><tr><td>sha</td></tr><tr><td>sha1</td></tr><tr><td>sha2</td></tr><tr><td>shiftleft</td></tr><tr><td>shiftright</td></tr><tr><td>shiftrightunsigned</td></tr><tr><td>shuffle</td></tr><tr><td>sign</td></tr><tr><td>signum</td></tr><tr><td>sin</td></tr><tr><td>sinh</td></tr><tr><td>size</td></tr><tr><td>skewness</td></tr><tr><td>slice</td></tr><tr><td>smallint</td></tr><tr><td>some</td></tr><tr><td>sort_array</td></tr><tr><td>soundex</td></tr><tr><td>space</td></tr><tr><td>spark_partition_id</td></tr><tr><td>split</td></tr><tr><td>split_part</td></tr><tr><td>sqrt</td></tr><tr><td>st_area</td></tr><tr><td>st_astext</td></tr><tr><td>st_geogfromtext</td></tr><tr><td>st_geogfromwkt</td></tr><tr><td>st_geometrytype</td></tr><tr><td>st_geomfromtext</td></tr><tr><td>st_geomfromwkt</td></tr><tr><td>st_isempty</td></tr><tr><td>st_length</td></tr><tr><td>st_ndims</td></tr><tr><td>st_npoints</td></tr><tr><td>st_point</td></tr><tr><td>st_setsrid</td></tr><tr><td>st_srid</td></tr><tr><td>st_xmax</td></tr><tr><td>st_xmin</td></tr><tr><td>st_ymax</td></tr><tr><td>st_ymin</td></tr><tr><td>stack</td></tr><tr><td>startswith</td></tr><tr><td>std</td></tr><tr><td>stddev</td></tr><tr><td>stddev_pop</td></tr><tr><td>stddev_samp</td></tr><tr><td>str_to_map</td></tr><tr><td>string</td></tr><tr><td>stringdecode</td></tr><tr><td>struct</td></tr><tr><td>substr</td></tr><tr><td>substring</td></tr><tr><td>substring_index</td></tr><tr><td>sum</td></tr><tr><td>tan</td></tr><tr><td>tanh</td></tr><tr><td>timestamp</td></tr><tr><td>timestamp_micros</td></tr><tr><td>timestamp_millis</td></tr><tr><td>timestamp_seconds</td></tr><tr><td>tinyint</td></tr><tr><td>to_binary</td></tr><tr><td>to_char</td></tr><tr><td>to_csv</td></tr><tr><td>to_date</td></tr><tr><td>to_json</td></tr><tr><td>to_number</td></tr><tr><td>to_timestamp</td></tr><tr><td>to_unix_timestamp</td></tr><tr><td>to_utc_timestamp</td></tr><tr><td>transform</td></tr><tr><td>transform_keys</td></tr><tr><td>transform_values</td></tr><tr><td>translate</td></tr><tr><td>trim</td></tr><tr><td>trunc</td></tr><tr><td>try_add</td></tr><tr><td>try_avg</td></tr><tr><td>try_divide</td></tr><tr><td>try_element_at</td></tr><tr><td>try_multiply</td></tr><tr><td>try_subtract</td></tr><tr><td>try_sum</td></tr><tr><td>try_to_binary</td></tr><tr><td>try_to_number</td></tr><tr><td>try_to_timestamp</td></tr><tr><td>typeof</td></tr><tr><td>ucase</td></tr><tr><td>unbase64</td></tr><tr><td>unhex</td></tr><tr><td>unix_date</td></tr><tr><td>unix_micros</td></tr><tr><td>unix_millis</td></tr><tr><td>unix_seconds</td></tr><tr><td>unix_timestamp</td></tr><tr><td>upper</td></tr><tr><td>url_decode</td></tr><tr><td>url_encode</td></tr><tr><td>uuid</td></tr><tr><td>var_pop</td></tr><tr><td>var_samp</td></tr><tr><td>variance</td></tr><tr><td>version</td></tr><tr><td>weekday</td></tr><tr><td>weekofyear</td></tr><tr><td>when</td></tr><tr><td>width_bucket</td></tr><tr><td>window</td></tr><tr><td>window_time</td></tr><tr><td>xpath</td></tr><tr><td>xpath_boolean</td></tr><tr><td>xpath_double</td></tr><tr><td>xpath_float</td></tr><tr><td>xpath_int</td></tr><tr><td>xpath_long</td></tr><tr><td>xpath_number</td></tr><tr><td>xpath_short</td></tr><tr><td>xpath_string</td></tr><tr><td>xxhash64</td></tr><tr><td>year</td></tr><tr><td>zip_with</td></tr><tr><td>|</td></tr><tr><td>||</td></tr><tr><td>~</td></tr></tbody></table></div>"
      ]
     },
     "metadata": {
      "application/vnd.databricks.v1+output": {
       "addedWidgets": {},
       "aggData": [],
       "aggError": "",
       "aggOverflow": false,
       "aggSchema": [],
       "aggSeriesLimitReached": false,
       "aggType": "",
       "arguments": {},
       "columnCustomDisplayInfos": {},
       "data": [
        [
         "!"
        ],
        [
         "!="
        ],
        [
         "%"
        ],
        [
         "&"
        ],
        [
         "*"
        ],
        [
         "+"
        ],
        [
         "-"
        ],
        [
         "/"
        ],
        [
         "<"
        ],
        [
         "<="
        ],
        [
         "<=>"
        ],
        [
         "<>"
        ],
        [
         "="
        ],
        [
         "=="
        ],
        [
         ">"
        ],
        [
         ">="
        ],
        [
         "^"
        ],
        [
         "abs"
        ],
        [
         "acos"
        ],
        [
         "acosh"
        ],
        [
         "add_months"
        ],
        [
         "aes_decrypt"
        ],
        [
         "aes_encrypt"
        ],
        [
         "aggregate"
        ],
        [
         "and"
        ],
        [
         "any"
        ],
        [
         "any_value"
        ],
        [
         "approx_count_distinct"
        ],
        [
         "approx_percentile"
        ],
        [
         "approx_top_k"
        ],
        [
         "array"
        ],
        [
         "array_agg"
        ],
        [
         "array_append"
        ],
        [
         "array_compact"
        ],
        [
         "array_contains"
        ],
        [
         "array_distinct"
        ],
        [
         "array_except"
        ],
        [
         "array_intersect"
        ],
        [
         "array_join"
        ],
        [
         "array_max"
        ],
        [
         "array_min"
        ],
        [
         "array_position"
        ],
        [
         "array_remove"
        ],
        [
         "array_repeat"
        ],
        [
         "array_size"
        ],
        [
         "array_sort"
        ],
        [
         "array_union"
        ],
        [
         "arrays_overlap"
        ],
        [
         "arrays_zip"
        ],
        [
         "ascii"
        ],
        [
         "asin"
        ],
        [
         "asinh"
        ],
        [
         "assert_true"
        ],
        [
         "atan"
        ],
        [
         "atan2"
        ],
        [
         "atanh"
        ],
        [
         "avg"
        ],
        [
         "base64"
        ],
        [
         "between"
        ],
        [
         "bigint"
        ],
        [
         "bin"
        ],
        [
         "binary"
        ],
        [
         "bit_and"
        ],
        [
         "bit_count"
        ],
        [
         "bit_get"
        ],
        [
         "bit_length"
        ],
        [
         "bit_or"
        ],
        [
         "bit_reverse"
        ],
        [
         "bit_xor"
        ],
        [
         "bool_and"
        ],
        [
         "bool_or"
        ],
        [
         "boolean"
        ],
        [
         "bround"
        ],
        [
         "btrim"
        ],
        [
         "cardinality"
        ],
        [
         "case"
        ],
        [
         "cast"
        ],
        [
         "cbrt"
        ],
        [
         "ceil"
        ],
        [
         "ceiling"
        ],
        [
         "char"
        ],
        [
         "char_length"
        ],
        [
         "character_length"
        ],
        [
         "charindex"
        ],
        [
         "chr"
        ],
        [
         "coalesce"
        ],
        [
         "collect_list"
        ],
        [
         "collect_set"
        ],
        [
         "concat"
        ],
        [
         "concat_ws"
        ],
        [
         "contains"
        ],
        [
         "conv"
        ],
        [
         "corr"
        ],
        [
         "cos"
        ],
        [
         "cosh"
        ],
        [
         "cot"
        ],
        [
         "count"
        ],
        [
         "count_if"
        ],
        [
         "count_min_sketch"
        ],
        [
         "covar_pop"
        ],
        [
         "covar_samp"
        ],
        [
         "crc32"
        ],
        [
         "csc"
        ],
        [
         "cume_dist"
        ],
        [
         "curdate"
        ],
        [
         "current_catalog"
        ],
        [
         "current_database"
        ],
        [
         "current_date"
        ],
        [
         "current_metastore"
        ],
        [
         "current_oauth_custom_identity_claim"
        ],
        [
         "current_schema"
        ],
        [
         "current_timestamp"
        ],
        [
         "current_timezone"
        ],
        [
         "current_user"
        ],
        [
         "current_version"
        ],
        [
         "date"
        ],
        [
         "date_add"
        ],
        [
         "date_diff"
        ],
        [
         "date_format"
        ],
        [
         "date_from_unix_date"
        ],
        [
         "date_part"
        ],
        [
         "date_sub"
        ],
        [
         "date_trunc"
        ],
        [
         "dateadd"
        ],
        [
         "datediff"
        ],
        [
         "datepart"
        ],
        [
         "day"
        ],
        [
         "dayofmonth"
        ],
        [
         "dayofweek"
        ],
        [
         "dayofyear"
        ],
        [
         "decimal"
        ],
        [
         "decode"
        ],
        [
         "degrees"
        ],
        [
         "dense_rank"
        ],
        [
         "div"
        ],
        [
         "double"
        ],
        [
         "e"
        ],
        [
         "element_at"
        ],
        [
         "elt"
        ],
        [
         "encode"
        ],
        [
         "endswith"
        ],
        [
         "equal_null"
        ],
        [
         "event_log"
        ],
        [
         "every"
        ],
        [
         "exists"
        ],
        [
         "exp"
        ],
        [
         "explode"
        ],
        [
         "explode_outer"
        ],
        [
         "expm1"
        ],
        [
         "extract"
        ],
        [
         "factorial"
        ],
        [
         "filter"
        ],
        [
         "find_in_set"
        ],
        [
         "first"
        ],
        [
         "first_value"
        ],
        [
         "flatten"
        ],
        [
         "float"
        ],
        [
         "floor"
        ],
        [
         "forall"
        ],
        [
         "format_number"
        ],
        [
         "format_string"
        ],
        [
         "from_csv"
        ],
        [
         "from_json"
        ],
        [
         "from_unixtime"
        ],
        [
         "from_utc_timestamp"
        ],
        [
         "get"
        ],
        [
         "get_json_object"
        ],
        [
         "getbit"
        ],
        [
         "getdate"
        ],
        [
         "greatest"
        ],
        [
         "grouping"
        ],
        [
         "grouping_id"
        ],
        [
         "h3_boundaryasgeojson"
        ],
        [
         "h3_boundaryaswkb"
        ],
        [
         "h3_boundaryaswkt"
        ],
        [
         "h3_centerasgeojson"
        ],
        [
         "h3_centeraswkb"
        ],
        [
         "h3_centeraswkt"
        ],
        [
         "h3_compact"
        ],
        [
         "h3_distance"
        ],
        [
         "h3_getpentagoncellids"
        ],
        [
         "h3_h3tostring"
        ],
        [
         "h3_hexring"
        ],
        [
         "h3_ischildof"
        ],
        [
         "h3_ispentagon"
        ],
        [
         "h3_isvalid"
        ],
        [
         "h3_kring"
        ],
        [
         "h3_kringdistances"
        ],
        [
         "h3_longlatash3"
        ],
        [
         "h3_longlatash3string"
        ],
        [
         "h3_maxchild"
        ],
        [
         "h3_minchild"
        ],
        [
         "h3_pointash3"
        ],
        [
         "h3_pointash3string"
        ],
        [
         "h3_polyfillash3"
        ],
        [
         "h3_polyfillash3string"
        ],
        [
         "h3_resolution"
        ],
        [
         "h3_stringtoh3"
        ],
        [
         "h3_tochildren"
        ],
        [
         "h3_toparent"
        ],
        [
         "h3_try_polyfillash3"
        ],
        [
         "h3_try_polyfillash3string"
        ],
        [
         "h3_try_validate"
        ],
        [
         "h3_uncompact"
        ],
        [
         "h3_validate"
        ],
        [
         "hash"
        ],
        [
         "hex"
        ],
        [
         "histogram_numeric"
        ],
        [
         "hour"
        ],
        [
         "hypot"
        ],
        [
         "if"
        ],
        [
         "iff"
        ],
        [
         "ifnull"
        ],
        [
         "ilike"
        ],
        [
         "in"
        ],
        [
         "initcap"
        ],
        [
         "inline"
        ],
        [
         "inline_outer"
        ],
        [
         "input_file_block_length"
        ],
        [
         "input_file_block_start"
        ],
        [
         "input_file_name"
        ],
        [
         "instr"
        ],
        [
         "int"
        ],
        [
         "is_account_group_member"
        ],
        [
         "is_member"
        ],
        [
         "isnan"
        ],
        [
         "isnotnull"
        ],
        [
         "isnull"
        ],
        [
         "java_method"
        ],
        [
         "json_array_length"
        ],
        [
         "json_object_keys"
        ],
        [
         "json_tuple"
        ],
        [
         "kurtosis"
        ],
        [
         "lag"
        ],
        [
         "last"
        ],
        [
         "last_day"
        ],
        [
         "last_value"
        ],
        [
         "lcase"
        ],
        [
         "lead"
        ],
        [
         "least"
        ],
        [
         "left"
        ],
        [
         "len"
        ],
        [
         "length"
        ],
        [
         "levenshtein"
        ],
        [
         "like"
        ],
        [
         "list_secrets"
        ],
        [
         "ln"
        ],
        [
         "locate"
        ],
        [
         "log"
        ],
        [
         "log10"
        ],
        [
         "log1p"
        ],
        [
         "log2"
        ],
        [
         "lower"
        ],
        [
         "lpad"
        ],
        [
         "ltrim"
        ],
        [
         "luhn_check"
        ],
        [
         "make_date"
        ],
        [
         "make_dt_interval"
        ],
        [
         "make_interval"
        ],
        [
         "make_timestamp"
        ],
        [
         "make_ym_interval"
        ],
        [
         "map"
        ],
        [
         "map_concat"
        ],
        [
         "map_contains_key"
        ],
        [
         "map_entries"
        ],
        [
         "map_filter"
        ],
        [
         "map_from_arrays"
        ],
        [
         "map_from_entries"
        ],
        [
         "map_keys"
        ],
        [
         "map_values"
        ],
        [
         "map_zip_with"
        ],
        [
         "mask"
        ],
        [
         "max"
        ],
        [
         "max_by"
        ],
        [
         "md5"
        ],
        [
         "mean"
        ],
        [
         "median"
        ],
        [
         "min"
        ],
        [
         "min_by"
        ],
        [
         "minute"
        ],
        [
         "mod"
        ],
        [
         "mode"
        ],
        [
         "monotonically_increasing_id"
        ],
        [
         "month"
        ],
        [
         "months_between"
        ],
        [
         "named_struct"
        ],
        [
         "nanvl"
        ],
        [
         "negative"
        ],
        [
         "next_day"
        ],
        [
         "not"
        ],
        [
         "now"
        ],
        [
         "nth_value"
        ],
        [
         "ntile"
        ],
        [
         "nullif"
        ],
        [
         "nvl"
        ],
        [
         "nvl2"
        ],
        [
         "octet_length"
        ],
        [
         "or"
        ],
        [
         "overlay"
        ],
        [
         "parse_url"
        ],
        [
         "percent_rank"
        ],
        [
         "percentile"
        ],
        [
         "percentile_approx"
        ],
        [
         "pi"
        ],
        [
         "pmod"
        ],
        [
         "posexplode"
        ],
        [
         "posexplode_outer"
        ],
        [
         "position"
        ],
        [
         "positive"
        ],
        [
         "pow"
        ],
        [
         "power"
        ],
        [
         "printf"
        ],
        [
         "quarter"
        ],
        [
         "radians"
        ],
        [
         "raise_error"
        ],
        [
         "rand"
        ],
        [
         "randn"
        ],
        [
         "random"
        ],
        [
         "range"
        ],
        [
         "rank"
        ],
        [
         "read_files"
        ],
        [
         "reduce"
        ],
        [
         "reflect"
        ],
        [
         "regexp"
        ],
        [
         "regexp_count"
        ],
        [
         "regexp_extract"
        ],
        [
         "regexp_extract_all"
        ],
        [
         "regexp_instr"
        ],
        [
         "regexp_like"
        ],
        [
         "regexp_replace"
        ],
        [
         "regexp_substr"
        ],
        [
         "regr_avgx"
        ],
        [
         "regr_avgy"
        ],
        [
         "regr_count"
        ],
        [
         "regr_intercept"
        ],
        [
         "regr_r2"
        ],
        [
         "regr_slope"
        ],
        [
         "regr_sxx"
        ],
        [
         "regr_sxy"
        ],
        [
         "regr_syy"
        ],
        [
         "repeat"
        ],
        [
         "replace"
        ],
        [
         "reverse"
        ],
        [
         "right"
        ],
        [
         "rint"
        ],
        [
         "rlike"
        ],
        [
         "round"
        ],
        [
         "row_number"
        ],
        [
         "rpad"
        ],
        [
         "rtrim"
        ],
        [
         "schema_of_csv"
        ],
        [
         "schema_of_json"
        ],
        [
         "sec"
        ],
        [
         "second"
        ],
        [
         "secret"
        ],
        [
         "sentences"
        ],
        [
         "sequence"
        ],
        [
         "session_window"
        ],
        [
         "sha"
        ],
        [
         "sha1"
        ],
        [
         "sha2"
        ],
        [
         "shiftleft"
        ],
        [
         "shiftright"
        ],
        [
         "shiftrightunsigned"
        ],
        [
         "shuffle"
        ],
        [
         "sign"
        ],
        [
         "signum"
        ],
        [
         "sin"
        ],
        [
         "sinh"
        ],
        [
         "size"
        ],
        [
         "skewness"
        ],
        [
         "slice"
        ],
        [
         "smallint"
        ],
        [
         "some"
        ],
        [
         "sort_array"
        ],
        [
         "soundex"
        ],
        [
         "space"
        ],
        [
         "spark_partition_id"
        ],
        [
         "split"
        ],
        [
         "split_part"
        ],
        [
         "sqrt"
        ],
        [
         "st_area"
        ],
        [
         "st_astext"
        ],
        [
         "st_geogfromtext"
        ],
        [
         "st_geogfromwkt"
        ],
        [
         "st_geometrytype"
        ],
        [
         "st_geomfromtext"
        ],
        [
         "st_geomfromwkt"
        ],
        [
         "st_isempty"
        ],
        [
         "st_length"
        ],
        [
         "st_ndims"
        ],
        [
         "st_npoints"
        ],
        [
         "st_point"
        ],
        [
         "st_setsrid"
        ],
        [
         "st_srid"
        ],
        [
         "st_xmax"
        ],
        [
         "st_xmin"
        ],
        [
         "st_ymax"
        ],
        [
         "st_ymin"
        ],
        [
         "stack"
        ],
        [
         "startswith"
        ],
        [
         "std"
        ],
        [
         "stddev"
        ],
        [
         "stddev_pop"
        ],
        [
         "stddev_samp"
        ],
        [
         "str_to_map"
        ],
        [
         "string"
        ],
        [
         "stringdecode"
        ],
        [
         "struct"
        ],
        [
         "substr"
        ],
        [
         "substring"
        ],
        [
         "substring_index"
        ],
        [
         "sum"
        ],
        [
         "tan"
        ],
        [
         "tanh"
        ],
        [
         "timestamp"
        ],
        [
         "timestamp_micros"
        ],
        [
         "timestamp_millis"
        ],
        [
         "timestamp_seconds"
        ],
        [
         "tinyint"
        ],
        [
         "to_binary"
        ],
        [
         "to_char"
        ],
        [
         "to_csv"
        ],
        [
         "to_date"
        ],
        [
         "to_json"
        ],
        [
         "to_number"
        ],
        [
         "to_timestamp"
        ],
        [
         "to_unix_timestamp"
        ],
        [
         "to_utc_timestamp"
        ],
        [
         "transform"
        ],
        [
         "transform_keys"
        ],
        [
         "transform_values"
        ],
        [
         "translate"
        ],
        [
         "trim"
        ],
        [
         "trunc"
        ],
        [
         "try_add"
        ],
        [
         "try_avg"
        ],
        [
         "try_divide"
        ],
        [
         "try_element_at"
        ],
        [
         "try_multiply"
        ],
        [
         "try_subtract"
        ],
        [
         "try_sum"
        ],
        [
         "try_to_binary"
        ],
        [
         "try_to_number"
        ],
        [
         "try_to_timestamp"
        ],
        [
         "typeof"
        ],
        [
         "ucase"
        ],
        [
         "unbase64"
        ],
        [
         "unhex"
        ],
        [
         "unix_date"
        ],
        [
         "unix_micros"
        ],
        [
         "unix_millis"
        ],
        [
         "unix_seconds"
        ],
        [
         "unix_timestamp"
        ],
        [
         "upper"
        ],
        [
         "url_decode"
        ],
        [
         "url_encode"
        ],
        [
         "uuid"
        ],
        [
         "var_pop"
        ],
        [
         "var_samp"
        ],
        [
         "variance"
        ],
        [
         "version"
        ],
        [
         "weekday"
        ],
        [
         "weekofyear"
        ],
        [
         "when"
        ],
        [
         "width_bucket"
        ],
        [
         "window"
        ],
        [
         "window_time"
        ],
        [
         "xpath"
        ],
        [
         "xpath_boolean"
        ],
        [
         "xpath_double"
        ],
        [
         "xpath_float"
        ],
        [
         "xpath_int"
        ],
        [
         "xpath_long"
        ],
        [
         "xpath_number"
        ],
        [
         "xpath_short"
        ],
        [
         "xpath_string"
        ],
        [
         "xxhash64"
        ],
        [
         "year"
        ],
        [
         "zip_with"
        ],
        [
         "|"
        ],
        [
         "||"
        ],
        [
         "~"
        ]
       ],
       "datasetInfos": [],
       "dbfsResultPath": null,
       "isJsonSchema": true,
       "metadata": {},
       "overflow": false,
       "plotOptions": {
        "customPlotOptions": {},
        "displayType": "table",
        "pivotAggregation": null,
        "pivotColumns": null,
        "xColumns": null,
        "yColumns": null
       },
       "removedWidgets": [],
       "schema": [
        {
         "metadata": "{}",
         "name": "function",
         "type": "\"string\""
        }
       ],
       "type": "table"
      }
     },
     "output_type": "display_data"
    }
   ],
   "source": [
    "%sql\n",
    "--SHOW FUNCTIONS;\n",
    "SHOW SYSTEM FUNCTIONS;"
   ]
  },
  {
   "cell_type": "code",
   "execution_count": 0,
   "metadata": {
    "application/vnd.databricks.v1+cell": {
     "cellMetadata": {
      "byteLimit": 2048000,
      "implicitDf": true,
      "rowLimit": 10000
     },
     "inputWidgets": {},
     "nuid": "79ca9249-3abf-4bd7-9deb-70739a55a81b",
     "showTitle": false,
     "title": ""
    }
   },
   "outputs": [
    {
     "output_type": "display_data",
     "data": {
      "text/html": [
       "<style scoped>\n",
       "  .table-result-container {\n",
       "    max-height: 300px;\n",
       "    overflow: auto;\n",
       "  }\n",
       "  table, th, td {\n",
       "    border: 1px solid black;\n",
       "    border-collapse: collapse;\n",
       "  }\n",
       "  th, td {\n",
       "    padding: 5px;\n",
       "  }\n",
       "  th {\n",
       "    text-align: left;\n",
       "  }\n",
       "</style><div class='table-result-container'><table class='table-result'><thead style='background-color: white'><tr><th>function</th></tr></thead><tbody><tr><td>schema_of_csv</td></tr><tr><td>schema_of_json</td></tr><tr><td>sec</td></tr><tr><td>second</td></tr><tr><td>secret</td></tr><tr><td>sentences</td></tr><tr><td>sequence</td></tr><tr><td>session_window</td></tr><tr><td>sha</td></tr><tr><td>sha1</td></tr><tr><td>sha2</td></tr><tr><td>shiftleft</td></tr><tr><td>shiftright</td></tr><tr><td>shiftrightunsigned</td></tr><tr><td>shuffle</td></tr><tr><td>sign</td></tr><tr><td>signum</td></tr><tr><td>sin</td></tr><tr><td>sinh</td></tr><tr><td>size</td></tr><tr><td>skewness</td></tr><tr><td>slice</td></tr><tr><td>smallint</td></tr><tr><td>some</td></tr><tr><td>sort_array</td></tr><tr><td>soundex</td></tr><tr><td>space</td></tr><tr><td>spark_partition_id</td></tr><tr><td>split</td></tr><tr><td>split_part</td></tr><tr><td>sqrt</td></tr><tr><td>st_area</td></tr><tr><td>st_astext</td></tr><tr><td>st_geogfromtext</td></tr><tr><td>st_geogfromwkt</td></tr><tr><td>st_geometrytype</td></tr><tr><td>st_geomfromtext</td></tr><tr><td>st_geomfromwkt</td></tr><tr><td>st_isempty</td></tr><tr><td>st_length</td></tr><tr><td>st_ndims</td></tr><tr><td>st_npoints</td></tr><tr><td>st_point</td></tr><tr><td>st_setsrid</td></tr><tr><td>st_srid</td></tr><tr><td>st_xmax</td></tr><tr><td>st_xmin</td></tr><tr><td>st_ymax</td></tr><tr><td>st_ymin</td></tr><tr><td>stack</td></tr><tr><td>startswith</td></tr><tr><td>std</td></tr><tr><td>stddev</td></tr><tr><td>stddev_pop</td></tr><tr><td>stddev_samp</td></tr><tr><td>str_to_map</td></tr><tr><td>string</td></tr><tr><td>stringdecode</td></tr><tr><td>struct</td></tr><tr><td>substr</td></tr><tr><td>substring</td></tr><tr><td>substring_index</td></tr><tr><td>sum</td></tr></tbody></table></div>"
      ]
     },
     "metadata": {
      "application/vnd.databricks.v1+output": {
       "addedWidgets": {},
       "aggData": [],
       "aggError": "",
       "aggOverflow": false,
       "aggSchema": [],
       "aggSeriesLimitReached": false,
       "aggType": "",
       "arguments": {},
       "columnCustomDisplayInfos": {},
       "data": [
        [
         "schema_of_csv"
        ],
        [
         "schema_of_json"
        ],
        [
         "sec"
        ],
        [
         "second"
        ],
        [
         "secret"
        ],
        [
         "sentences"
        ],
        [
         "sequence"
        ],
        [
         "session_window"
        ],
        [
         "sha"
        ],
        [
         "sha1"
        ],
        [
         "sha2"
        ],
        [
         "shiftleft"
        ],
        [
         "shiftright"
        ],
        [
         "shiftrightunsigned"
        ],
        [
         "shuffle"
        ],
        [
         "sign"
        ],
        [
         "signum"
        ],
        [
         "sin"
        ],
        [
         "sinh"
        ],
        [
         "size"
        ],
        [
         "skewness"
        ],
        [
         "slice"
        ],
        [
         "smallint"
        ],
        [
         "some"
        ],
        [
         "sort_array"
        ],
        [
         "soundex"
        ],
        [
         "space"
        ],
        [
         "spark_partition_id"
        ],
        [
         "split"
        ],
        [
         "split_part"
        ],
        [
         "sqrt"
        ],
        [
         "st_area"
        ],
        [
         "st_astext"
        ],
        [
         "st_geogfromtext"
        ],
        [
         "st_geogfromwkt"
        ],
        [
         "st_geometrytype"
        ],
        [
         "st_geomfromtext"
        ],
        [
         "st_geomfromwkt"
        ],
        [
         "st_isempty"
        ],
        [
         "st_length"
        ],
        [
         "st_ndims"
        ],
        [
         "st_npoints"
        ],
        [
         "st_point"
        ],
        [
         "st_setsrid"
        ],
        [
         "st_srid"
        ],
        [
         "st_xmax"
        ],
        [
         "st_xmin"
        ],
        [
         "st_ymax"
        ],
        [
         "st_ymin"
        ],
        [
         "stack"
        ],
        [
         "startswith"
        ],
        [
         "std"
        ],
        [
         "stddev"
        ],
        [
         "stddev_pop"
        ],
        [
         "stddev_samp"
        ],
        [
         "str_to_map"
        ],
        [
         "string"
        ],
        [
         "stringdecode"
        ],
        [
         "struct"
        ],
        [
         "substr"
        ],
        [
         "substring"
        ],
        [
         "substring_index"
        ],
        [
         "sum"
        ]
       ],
       "datasetInfos": [],
       "dbfsResultPath": null,
       "isJsonSchema": true,
       "metadata": {},
       "overflow": false,
       "plotOptions": {
        "customPlotOptions": {},
        "displayType": "table",
        "pivotAggregation": null,
        "pivotColumns": null,
        "xColumns": null,
        "yColumns": null
       },
       "removedWidgets": [],
       "schema": [
        {
         "metadata": "{}",
         "name": "function",
         "type": "\"string\""
        }
       ],
       "type": "table"
      }
     },
     "output_type": "display_data"
    }
   ],
   "source": [
    "%sql\n",
    "--SHOW FUNCTIONS;\n",
    "SHOW USER FUNCTIONS;\n",
    "SHOW FUNCTIONS \"s*\";"
   ]
  },
  {
   "cell_type": "code",
   "execution_count": 0,
   "metadata": {
    "application/vnd.databricks.v1+cell": {
     "cellMetadata": {
      "byteLimit": 2048000,
      "implicitDf": true,
      "rowLimit": 10000
     },
     "inputWidgets": {},
     "nuid": "5d7725b8-855d-4f55-8906-207f016f380b",
     "showTitle": false,
     "title": ""
    }
   },
   "outputs": [
    {
     "output_type": "display_data",
     "data": {
      "text/html": [
       "<style scoped>\n",
       "  .table-result-container {\n",
       "    max-height: 300px;\n",
       "    overflow: auto;\n",
       "  }\n",
       "  table, th, td {\n",
       "    border: 1px solid black;\n",
       "    border-collapse: collapse;\n",
       "  }\n",
       "  th, td {\n",
       "    padding: 5px;\n",
       "  }\n",
       "  th {\n",
       "    text-align: left;\n",
       "  }\n",
       "</style><div class='table-result-container'><table class='table-result'><thead style='background-color: white'><tr><th>function</th></tr></thead><tbody><tr><td>collect_list</td></tr><tr><td>collect_set</td></tr></tbody></table></div>"
      ]
     },
     "metadata": {
      "application/vnd.databricks.v1+output": {
       "addedWidgets": {},
       "aggData": [],
       "aggError": "",
       "aggOverflow": false,
       "aggSchema": [],
       "aggSeriesLimitReached": false,
       "aggType": "",
       "arguments": {},
       "columnCustomDisplayInfos": {},
       "data": [
        [
         "collect_list"
        ],
        [
         "collect_set"
        ]
       ],
       "datasetInfos": [],
       "dbfsResultPath": null,
       "isJsonSchema": true,
       "metadata": {},
       "overflow": false,
       "plotOptions": {
        "customPlotOptions": {},
        "displayType": "table",
        "pivotAggregation": null,
        "pivotColumns": null,
        "xColumns": null,
        "yColumns": null
       },
       "removedWidgets": [],
       "schema": [
        {
         "metadata": "{}",
         "name": "function",
         "type": "\"string\""
        }
       ],
       "type": "table"
      }
     },
     "output_type": "display_data"
    }
   ],
   "source": [
    "%sql\n",
    "SHOW FUNCTIONS LIKE \"collect*\";"
   ]
  },
  {
   "cell_type": "code",
   "execution_count": 0,
   "metadata": {
    "application/vnd.databricks.v1+cell": {
     "cellMetadata": {
      "byteLimit": 2048000,
      "implicitDf": true,
      "rowLimit": 10000
     },
     "inputWidgets": {},
     "nuid": "72de66b3-f1f2-423b-8b70-01d3c4f98ec9",
     "showTitle": false,
     "title": ""
    }
   },
   "outputs": [
    {
     "output_type": "display_data",
     "data": {
      "text/html": [
       "<style scoped>\n",
       "  .table-result-container {\n",
       "    max-height: 300px;\n",
       "    overflow: auto;\n",
       "  }\n",
       "  table, th, td {\n",
       "    border: 1px solid black;\n",
       "    border-collapse: collapse;\n",
       "  }\n",
       "  th, td {\n",
       "    padding: 5px;\n",
       "  }\n",
       "  th {\n",
       "    text-align: left;\n",
       "  }\n",
       "</style><div class='table-result-container'><table class='table-result'><thead style='background-color: white'><tr><th>DEST_COUNTRY_NAME</th><th>ORIGIN_COUNTRY_NAME</th><th>count</th></tr></thead><tbody><tr><td>United States</td><td>Romania</td><td>15</td></tr><tr><td>United States</td><td>Croatia</td><td>1</td></tr><tr><td>United States</td><td>Ireland</td><td>344</td></tr><tr><td>Egypt</td><td>United States</td><td>15</td></tr><tr><td>United States</td><td>India</td><td>62</td></tr><tr><td>United States</td><td>Singapore</td><td>1</td></tr><tr><td>United States</td><td>Grenada</td><td>62</td></tr><tr><td>Costa Rica</td><td>United States</td><td>588</td></tr><tr><td>Senegal</td><td>United States</td><td>40</td></tr><tr><td>Moldova</td><td>United States</td><td>1</td></tr><tr><td>United States</td><td>Sint Maarten</td><td>325</td></tr><tr><td>United States</td><td>Marshall Islands</td><td>39</td></tr><tr><td>Guyana</td><td>United States</td><td>64</td></tr><tr><td>Malta</td><td>United States</td><td>1</td></tr><tr><td>Anguilla</td><td>United States</td><td>41</td></tr><tr><td>Bolivia</td><td>United States</td><td>30</td></tr><tr><td>United States</td><td>Paraguay</td><td>6</td></tr><tr><td>Algeria</td><td>United States</td><td>4</td></tr><tr><td>Turks and Caicos Islands</td><td>United States</td><td>230</td></tr><tr><td>United States</td><td>Gibraltar</td><td>1</td></tr><tr><td>Saint Vincent and the Grenadines</td><td>United States</td><td>1</td></tr><tr><td>Italy</td><td>United States</td><td>382</td></tr><tr><td>United States</td><td>Federated States of Micronesia</td><td>69</td></tr><tr><td>United States</td><td>Russia</td><td>161</td></tr><tr><td>Pakistan</td><td>United States</td><td>12</td></tr><tr><td>United States</td><td>Netherlands</td><td>660</td></tr><tr><td>Iceland</td><td>United States</td><td>181</td></tr><tr><td>Marshall Islands</td><td>United States</td><td>42</td></tr><tr><td>Luxembourg</td><td>United States</td><td>155</td></tr><tr><td>Honduras</td><td>United States</td><td>362</td></tr><tr><td>The Bahamas</td><td>United States</td><td>955</td></tr><tr><td>United States</td><td>Senegal</td><td>42</td></tr><tr><td>El Salvador</td><td>United States</td><td>561</td></tr><tr><td>Samoa</td><td>United States</td><td>25</td></tr><tr><td>United States</td><td>Angola</td><td>13</td></tr><tr><td>Switzerland</td><td>United States</td><td>294</td></tr><tr><td>United States</td><td>Anguilla</td><td>38</td></tr><tr><td>Sint Maarten</td><td>United States</td><td>325</td></tr><tr><td>Hong Kong</td><td>United States</td><td>332</td></tr><tr><td>Trinidad and Tobago</td><td>United States</td><td>211</td></tr><tr><td>Latvia</td><td>United States</td><td>19</td></tr><tr><td>United States</td><td>Ecuador</td><td>300</td></tr><tr><td>Suriname</td><td>United States</td><td>1</td></tr><tr><td>Mexico</td><td>United States</td><td>7140</td></tr><tr><td>United States</td><td>Cyprus</td><td>1</td></tr><tr><td>Ecuador</td><td>United States</td><td>268</td></tr><tr><td>United States</td><td>Portugal</td><td>134</td></tr><tr><td>United States</td><td>Costa Rica</td><td>608</td></tr><tr><td>United States</td><td>Guatemala</td><td>318</td></tr><tr><td>United States</td><td>Suriname</td><td>34</td></tr><tr><td>Colombia</td><td>United States</td><td>873</td></tr><tr><td>United States</td><td>Cape Verde</td><td>14</td></tr><tr><td>United States</td><td>Jamaica</td><td>712</td></tr><tr><td>Norway</td><td>United States</td><td>121</td></tr><tr><td>United States</td><td>Malaysia</td><td>3</td></tr><tr><td>United States</td><td>Morocco</td><td>19</td></tr><tr><td>Thailand</td><td>United States</td><td>3</td></tr><tr><td>United States</td><td>Samoa</td><td>25</td></tr><tr><td>Venezuela</td><td>United States</td><td>290</td></tr><tr><td>United States</td><td>Palau</td><td>31</td></tr><tr><td>United States</td><td>Venezuela</td><td>246</td></tr><tr><td>Panama</td><td>United States</td><td>510</td></tr><tr><td>Antigua and Barbuda</td><td>United States</td><td>126</td></tr><tr><td>United States</td><td>Chile</td><td>185</td></tr><tr><td>Morocco</td><td>United States</td><td>15</td></tr><tr><td>United States</td><td>Finland</td><td>28</td></tr><tr><td>Azerbaijan</td><td>United States</td><td>21</td></tr><tr><td>United States</td><td>Greece</td><td>23</td></tr><tr><td>United States</td><td>The Bahamas</td><td>986</td></tr><tr><td>New Zealand</td><td>United States</td><td>111</td></tr><tr><td>Liberia</td><td>United States</td><td>2</td></tr><tr><td>United States</td><td>Hong Kong</td><td>414</td></tr><tr><td>Hungary</td><td>United States</td><td>2</td></tr><tr><td>United States</td><td>China</td><td>920</td></tr><tr><td>United States</td><td>Vietnam</td><td>2</td></tr><tr><td>Burkina Faso</td><td>United States</td><td>1</td></tr><tr><td>Sweden</td><td>United States</td><td>118</td></tr><tr><td>United States</td><td>Kuwait</td><td>28</td></tr><tr><td>United States</td><td>Dominican Republic</td><td>1420</td></tr><tr><td>United States</td><td>Egypt</td><td>12</td></tr><tr><td>Israel</td><td>United States</td><td>134</td></tr><tr><td>United States</td><td>United States</td><td>370002</td></tr><tr><td>Ethiopia</td><td>United States</td><td>13</td></tr><tr><td>United States</td><td>Luxembourg</td><td>134</td></tr><tr><td>United States</td><td>Poland</td><td>33</td></tr><tr><td>Martinique</td><td>United States</td><td>44</td></tr><tr><td>United States</td><td>Saint Barthelemy</td><td>41</td></tr><tr><td>Saint Barthelemy</td><td>United States</td><td>39</td></tr><tr><td>Barbados</td><td>United States</td><td>154</td></tr><tr><td>United States</td><td>Turkey</td><td>129</td></tr><tr><td>Djibouti</td><td>United States</td><td>1</td></tr><tr><td>United States</td><td>Azerbaijan</td><td>21</td></tr><tr><td>United States</td><td>Estonia</td><td>1</td></tr><tr><td>Germany</td><td>United States</td><td>1468</td></tr><tr><td>United States</td><td>South Korea</td><td>827</td></tr><tr><td>United States</td><td>El Salvador</td><td>508</td></tr><tr><td>Ireland</td><td>United States</td><td>335</td></tr><tr><td>United States</td><td>Hungary</td><td>3</td></tr><tr><td>Zambia</td><td>United States</td><td>1</td></tr><tr><td>Malaysia</td><td>United States</td><td>2</td></tr><tr><td>United States</td><td>Ethiopia</td><td>12</td></tr><tr><td>United States</td><td>Panama</td><td>465</td></tr><tr><td>United States</td><td>Aruba</td><td>342</td></tr><tr><td>United States</td><td>Thailand</td><td>4</td></tr><tr><td>United States</td><td>Turks and Caicos Islands</td><td>236</td></tr><tr><td>Croatia</td><td>United States</td><td>2</td></tr><tr><td>United States</td><td>Pakistan</td><td>12</td></tr><tr><td>Cyprus</td><td>United States</td><td>1</td></tr><tr><td>United States</td><td>Honduras</td><td>407</td></tr><tr><td>Fiji</td><td>United States</td><td>24</td></tr><tr><td>Qatar</td><td>United States</td><td>108</td></tr><tr><td>Saint Kitts and Nevis</td><td>United States</td><td>139</td></tr><tr><td>Kuwait</td><td>United States</td><td>32</td></tr><tr><td>Taiwan</td><td>United States</td><td>266</td></tr><tr><td>Haiti</td><td>United States</td><td>226</td></tr><tr><td>Canada</td><td>United States</td><td>8399</td></tr><tr><td>Federated States of Micronesia</td><td>United States</td><td>69</td></tr><tr><td>United States</td><td>Liberia</td><td>2</td></tr><tr><td>Jamaica</td><td>United States</td><td>666</td></tr><tr><td>United States</td><td>Malta</td><td>2</td></tr><tr><td>Dominican Republic</td><td>United States</td><td>1353</td></tr><tr><td>Japan</td><td>United States</td><td>1548</td></tr><tr><td>United States</td><td>Lithuania</td><td>1</td></tr><tr><td>Finland</td><td>United States</td><td>26</td></tr><tr><td>United States</td><td>Guadeloupe</td><td>59</td></tr><tr><td>United States</td><td>Ukraine</td><td>13</td></tr><tr><td>United States</td><td>France</td><td>952</td></tr><tr><td>United States</td><td>Norway</td><td>115</td></tr><tr><td>Aruba</td><td>United States</td><td>346</td></tr><tr><td>French Guiana</td><td>United States</td><td>5</td></tr><tr><td>United States</td><td>Kiribati</td><td>35</td></tr><tr><td>India</td><td>United States</td><td>61</td></tr><tr><td>British Virgin Islands</td><td>United States</td><td>107</td></tr><tr><td>Brazil</td><td>United States</td><td>853</td></tr><tr><td>United States</td><td>Germany</td><td>1336</td></tr><tr><td>United States</td><td>New Zealand</td><td>74</td></tr><tr><td>French Polynesia</td><td>United States</td><td>43</td></tr><tr><td>United Arab Emirates</td><td>United States</td><td>320</td></tr><tr><td>Singapore</td><td>United States</td><td>3</td></tr><tr><td>United States</td><td>Mexico</td><td>7187</td></tr><tr><td>United States</td><td>Sweden</td><td>119</td></tr><tr><td>Netherlands</td><td>United States</td><td>776</td></tr><tr><td>United States</td><td>Martinique</td><td>43</td></tr><tr><td>United States</td><td>United Arab Emirates</td><td>313</td></tr><tr><td>United States</td><td>Bulgaria</td><td>1</td></tr><tr><td>Denmark</td><td>United States</td><td>153</td></tr><tr><td>China</td><td>United States</td><td>772</td></tr><tr><td>United States</td><td>Nicaragua</td><td>201</td></tr><tr><td>United States</td><td>Philippines</td><td>126</td></tr><tr><td>United States</td><td>Georgia</td><td>1</td></tr><tr><td>United States</td><td>Belgium</td><td>228</td></tr><tr><td>Cayman Islands</td><td>United States</td><td>314</td></tr><tr><td>Argentina</td><td>United States</td><td>180</td></tr><tr><td>Peru</td><td>United States</td><td>279</td></tr><tr><td>South Africa</td><td>United States</td><td>36</td></tr><tr><td>United States</td><td>Iceland</td><td>202</td></tr><tr><td>United States</td><td>Argentina</td><td>141</td></tr><tr><td>Spain</td><td>United States</td><td>420</td></tr><tr><td>Bermuda</td><td>United States</td><td>183</td></tr><tr><td>United States</td><td>Nigeria</td><td>50</td></tr><tr><td>United States</td><td>Austria</td><td>63</td></tr><tr><td>United States</td><td>Bonaire, Sint Eustatius, and Saba</td><td>59</td></tr><tr><td>Kiribati</td><td>United States</td><td>26</td></tr><tr><td>Saudi Arabia</td><td>United States</td><td>83</td></tr><tr><td>Czech Republic</td><td>United States</td><td>13</td></tr><tr><td>United States</td><td>Israel</td><td>127</td></tr><tr><td>Belgium</td><td>United States</td><td>259</td></tr><tr><td>United States</td><td>Saint Lucia</td><td>136</td></tr><tr><td>United States</td><td>Bahrain</td><td>1</td></tr><tr><td>United States</td><td>British Virgin Islands</td><td>80</td></tr><tr><td>Curacao</td><td>United States</td><td>90</td></tr><tr><td>Georgia</td><td>United States</td><td>2</td></tr><tr><td>United States</td><td>Denmark</td><td>152</td></tr><tr><td>United States</td><td>Guyana</td><td>63</td></tr><tr><td>Philippines</td><td>United States</td><td>134</td></tr><tr><td>Grenada</td><td>United States</td><td>53</td></tr><tr><td>Cape Verde</td><td>United States</td><td>20</td></tr><tr><td>Cote d'Ivoire</td><td>United States</td><td>1</td></tr><tr><td>Ukraine</td><td>United States</td><td>14</td></tr><tr><td>United States</td><td>Papua New Guinea</td><td>1</td></tr><tr><td>Russia</td><td>United States</td><td>176</td></tr><tr><td>United States</td><td>Saudi Arabia</td><td>70</td></tr><tr><td>Guatemala</td><td>United States</td><td>397</td></tr><tr><td>Saint Lucia</td><td>United States</td><td>123</td></tr><tr><td>Paraguay</td><td>United States</td><td>60</td></tr><tr><td>United States</td><td>Curacao</td><td>83</td></tr><tr><td>Kosovo</td><td>United States</td><td>1</td></tr><tr><td>United States</td><td>Taiwan</td><td>235</td></tr><tr><td>Tunisia</td><td>United States</td><td>3</td></tr><tr><td>United States</td><td>South Africa</td><td>40</td></tr><tr><td>Niger</td><td>United States</td><td>2</td></tr><tr><td>Turkey</td><td>United States</td><td>138</td></tr><tr><td>United Kingdom</td><td>United States</td><td>2025</td></tr><tr><td>Romania</td><td>United States</td><td>14</td></tr><tr><td>United States</td><td>Greenland</td><td>4</td></tr><tr><td>Papua New Guinea</td><td>United States</td><td>3</td></tr><tr><td>United States</td><td>Spain</td><td>442</td></tr><tr><td>Iraq</td><td>United States</td><td>1</td></tr><tr><td>United States</td><td>Italy</td><td>438</td></tr><tr><td>Cuba</td><td>United States</td><td>466</td></tr><tr><td>United States</td><td>Switzerland</td><td>305</td></tr><tr><td>Dominica</td><td>United States</td><td>20</td></tr><tr><td>United States</td><td>Japan</td><td>1496</td></tr><tr><td>Portugal</td><td>United States</td><td>127</td></tr><tr><td>United States</td><td>Brazil</td><td>619</td></tr><tr><td>Bahrain</td><td>United States</td><td>19</td></tr><tr><td>United States</td><td>Peru</td><td>337</td></tr><tr><td>Indonesia</td><td>United States</td><td>1</td></tr><tr><td>United States</td><td>Belize</td><td>193</td></tr><tr><td>United States</td><td>United Kingdom</td><td>1970</td></tr><tr><td>Belize</td><td>United States</td><td>188</td></tr><tr><td>United States</td><td>Ghana</td><td>20</td></tr><tr><td>United States</td><td>Indonesia</td><td>2</td></tr><tr><td>United States</td><td>Fiji</td><td>25</td></tr><tr><td>United States</td><td>Canada</td><td>8483</td></tr><tr><td>United States</td><td>Antigua and Barbuda</td><td>117</td></tr><tr><td>United States</td><td>French Polynesia</td><td>40</td></tr><tr><td>Nicaragua</td><td>United States</td><td>179</td></tr><tr><td>United States</td><td>Latvia</td><td>15</td></tr><tr><td>United States</td><td>Dominica</td><td>27</td></tr><tr><td>United States</td><td>Czech Republic</td><td>12</td></tr><tr><td>United States</td><td>Australia</td><td>258</td></tr><tr><td>United States</td><td>Cook Islands</td><td>13</td></tr><tr><td>Austria</td><td>United States</td><td>62</td></tr><tr><td>Jordan</td><td>United States</td><td>44</td></tr><tr><td>Palau</td><td>United States</td><td>30</td></tr><tr><td>South Korea</td><td>United States</td><td>1048</td></tr><tr><td>Angola</td><td>United States</td><td>15</td></tr><tr><td>Ghana</td><td>United States</td><td>18</td></tr><tr><td>New Caledonia</td><td>United States</td><td>1</td></tr><tr><td>Guadeloupe</td><td>United States</td><td>56</td></tr><tr><td>France</td><td>United States</td><td>935</td></tr><tr><td>Poland</td><td>United States</td><td>32</td></tr><tr><td>Nigeria</td><td>United States</td><td>59</td></tr><tr><td>United States</td><td>Uruguay</td><td>13</td></tr><tr><td>Greenland</td><td>United States</td><td>2</td></tr><tr><td>United States</td><td>Bermuda</td><td>193</td></tr><tr><td>Chile</td><td>United States</td><td>174</td></tr><tr><td>United States</td><td>Cuba</td><td>478</td></tr><tr><td>United States</td><td>Montenegro</td><td>1</td></tr><tr><td>United States</td><td>Colombia</td><td>867</td></tr><tr><td>United States</td><td>Barbados</td><td>130</td></tr><tr><td>United States</td><td>Qatar</td><td>109</td></tr><tr><td>Australia</td><td>United States</td><td>329</td></tr><tr><td>United States</td><td>Cayman Islands</td><td>310</td></tr><tr><td>United States</td><td>Jordan</td><td>44</td></tr><tr><td>United States</td><td>Namibia</td><td>1</td></tr><tr><td>United States</td><td>Trinidad and Tobago</td><td>217</td></tr><tr><td>United States</td><td>Bolivia</td><td>13</td></tr><tr><td>Cook Islands</td><td>United States</td><td>13</td></tr><tr><td>Bulgaria</td><td>United States</td><td>3</td></tr><tr><td>United States</td><td>Saint Kitts and Nevis</td><td>145</td></tr><tr><td>Uruguay</td><td>United States</td><td>43</td></tr><tr><td>United States</td><td>Haiti</td><td>225</td></tr><tr><td>Bonaire, Sint Eustatius, and Saba</td><td>United States</td><td>58</td></tr><tr><td>Greece</td><td>United States</td><td>30</td></tr></tbody></table></div>"
      ]
     },
     "metadata": {
      "application/vnd.databricks.v1+output": {
       "addedWidgets": {},
       "aggData": [],
       "aggError": "",
       "aggOverflow": false,
       "aggSchema": [],
       "aggSeriesLimitReached": false,
       "aggType": "",
       "arguments": {},
       "columnCustomDisplayInfos": {},
       "data": [
        [
         "United States",
         "Romania",
         15
        ],
        [
         "United States",
         "Croatia",
         1
        ],
        [
         "United States",
         "Ireland",
         344
        ],
        [
         "Egypt",
         "United States",
         15
        ],
        [
         "United States",
         "India",
         62
        ],
        [
         "United States",
         "Singapore",
         1
        ],
        [
         "United States",
         "Grenada",
         62
        ],
        [
         "Costa Rica",
         "United States",
         588
        ],
        [
         "Senegal",
         "United States",
         40
        ],
        [
         "Moldova",
         "United States",
         1
        ],
        [
         "United States",
         "Sint Maarten",
         325
        ],
        [
         "United States",
         "Marshall Islands",
         39
        ],
        [
         "Guyana",
         "United States",
         64
        ],
        [
         "Malta",
         "United States",
         1
        ],
        [
         "Anguilla",
         "United States",
         41
        ],
        [
         "Bolivia",
         "United States",
         30
        ],
        [
         "United States",
         "Paraguay",
         6
        ],
        [
         "Algeria",
         "United States",
         4
        ],
        [
         "Turks and Caicos Islands",
         "United States",
         230
        ],
        [
         "United States",
         "Gibraltar",
         1
        ],
        [
         "Saint Vincent and the Grenadines",
         "United States",
         1
        ],
        [
         "Italy",
         "United States",
         382
        ],
        [
         "United States",
         "Federated States of Micronesia",
         69
        ],
        [
         "United States",
         "Russia",
         161
        ],
        [
         "Pakistan",
         "United States",
         12
        ],
        [
         "United States",
         "Netherlands",
         660
        ],
        [
         "Iceland",
         "United States",
         181
        ],
        [
         "Marshall Islands",
         "United States",
         42
        ],
        [
         "Luxembourg",
         "United States",
         155
        ],
        [
         "Honduras",
         "United States",
         362
        ],
        [
         "The Bahamas",
         "United States",
         955
        ],
        [
         "United States",
         "Senegal",
         42
        ],
        [
         "El Salvador",
         "United States",
         561
        ],
        [
         "Samoa",
         "United States",
         25
        ],
        [
         "United States",
         "Angola",
         13
        ],
        [
         "Switzerland",
         "United States",
         294
        ],
        [
         "United States",
         "Anguilla",
         38
        ],
        [
         "Sint Maarten",
         "United States",
         325
        ],
        [
         "Hong Kong",
         "United States",
         332
        ],
        [
         "Trinidad and Tobago",
         "United States",
         211
        ],
        [
         "Latvia",
         "United States",
         19
        ],
        [
         "United States",
         "Ecuador",
         300
        ],
        [
         "Suriname",
         "United States",
         1
        ],
        [
         "Mexico",
         "United States",
         7140
        ],
        [
         "United States",
         "Cyprus",
         1
        ],
        [
         "Ecuador",
         "United States",
         268
        ],
        [
         "United States",
         "Portugal",
         134
        ],
        [
         "United States",
         "Costa Rica",
         608
        ],
        [
         "United States",
         "Guatemala",
         318
        ],
        [
         "United States",
         "Suriname",
         34
        ],
        [
         "Colombia",
         "United States",
         873
        ],
        [
         "United States",
         "Cape Verde",
         14
        ],
        [
         "United States",
         "Jamaica",
         712
        ],
        [
         "Norway",
         "United States",
         121
        ],
        [
         "United States",
         "Malaysia",
         3
        ],
        [
         "United States",
         "Morocco",
         19
        ],
        [
         "Thailand",
         "United States",
         3
        ],
        [
         "United States",
         "Samoa",
         25
        ],
        [
         "Venezuela",
         "United States",
         290
        ],
        [
         "United States",
         "Palau",
         31
        ],
        [
         "United States",
         "Venezuela",
         246
        ],
        [
         "Panama",
         "United States",
         510
        ],
        [
         "Antigua and Barbuda",
         "United States",
         126
        ],
        [
         "United States",
         "Chile",
         185
        ],
        [
         "Morocco",
         "United States",
         15
        ],
        [
         "United States",
         "Finland",
         28
        ],
        [
         "Azerbaijan",
         "United States",
         21
        ],
        [
         "United States",
         "Greece",
         23
        ],
        [
         "United States",
         "The Bahamas",
         986
        ],
        [
         "New Zealand",
         "United States",
         111
        ],
        [
         "Liberia",
         "United States",
         2
        ],
        [
         "United States",
         "Hong Kong",
         414
        ],
        [
         "Hungary",
         "United States",
         2
        ],
        [
         "United States",
         "China",
         920
        ],
        [
         "United States",
         "Vietnam",
         2
        ],
        [
         "Burkina Faso",
         "United States",
         1
        ],
        [
         "Sweden",
         "United States",
         118
        ],
        [
         "United States",
         "Kuwait",
         28
        ],
        [
         "United States",
         "Dominican Republic",
         1420
        ],
        [
         "United States",
         "Egypt",
         12
        ],
        [
         "Israel",
         "United States",
         134
        ],
        [
         "United States",
         "United States",
         370002
        ],
        [
         "Ethiopia",
         "United States",
         13
        ],
        [
         "United States",
         "Luxembourg",
         134
        ],
        [
         "United States",
         "Poland",
         33
        ],
        [
         "Martinique",
         "United States",
         44
        ],
        [
         "United States",
         "Saint Barthelemy",
         41
        ],
        [
         "Saint Barthelemy",
         "United States",
         39
        ],
        [
         "Barbados",
         "United States",
         154
        ],
        [
         "United States",
         "Turkey",
         129
        ],
        [
         "Djibouti",
         "United States",
         1
        ],
        [
         "United States",
         "Azerbaijan",
         21
        ],
        [
         "United States",
         "Estonia",
         1
        ],
        [
         "Germany",
         "United States",
         1468
        ],
        [
         "United States",
         "South Korea",
         827
        ],
        [
         "United States",
         "El Salvador",
         508
        ],
        [
         "Ireland",
         "United States",
         335
        ],
        [
         "United States",
         "Hungary",
         3
        ],
        [
         "Zambia",
         "United States",
         1
        ],
        [
         "Malaysia",
         "United States",
         2
        ],
        [
         "United States",
         "Ethiopia",
         12
        ],
        [
         "United States",
         "Panama",
         465
        ],
        [
         "United States",
         "Aruba",
         342
        ],
        [
         "United States",
         "Thailand",
         4
        ],
        [
         "United States",
         "Turks and Caicos Islands",
         236
        ],
        [
         "Croatia",
         "United States",
         2
        ],
        [
         "United States",
         "Pakistan",
         12
        ],
        [
         "Cyprus",
         "United States",
         1
        ],
        [
         "United States",
         "Honduras",
         407
        ],
        [
         "Fiji",
         "United States",
         24
        ],
        [
         "Qatar",
         "United States",
         108
        ],
        [
         "Saint Kitts and Nevis",
         "United States",
         139
        ],
        [
         "Kuwait",
         "United States",
         32
        ],
        [
         "Taiwan",
         "United States",
         266
        ],
        [
         "Haiti",
         "United States",
         226
        ],
        [
         "Canada",
         "United States",
         8399
        ],
        [
         "Federated States of Micronesia",
         "United States",
         69
        ],
        [
         "United States",
         "Liberia",
         2
        ],
        [
         "Jamaica",
         "United States",
         666
        ],
        [
         "United States",
         "Malta",
         2
        ],
        [
         "Dominican Republic",
         "United States",
         1353
        ],
        [
         "Japan",
         "United States",
         1548
        ],
        [
         "United States",
         "Lithuania",
         1
        ],
        [
         "Finland",
         "United States",
         26
        ],
        [
         "United States",
         "Guadeloupe",
         59
        ],
        [
         "United States",
         "Ukraine",
         13
        ],
        [
         "United States",
         "France",
         952
        ],
        [
         "United States",
         "Norway",
         115
        ],
        [
         "Aruba",
         "United States",
         346
        ],
        [
         "French Guiana",
         "United States",
         5
        ],
        [
         "United States",
         "Kiribati",
         35
        ],
        [
         "India",
         "United States",
         61
        ],
        [
         "British Virgin Islands",
         "United States",
         107
        ],
        [
         "Brazil",
         "United States",
         853
        ],
        [
         "United States",
         "Germany",
         1336
        ],
        [
         "United States",
         "New Zealand",
         74
        ],
        [
         "French Polynesia",
         "United States",
         43
        ],
        [
         "United Arab Emirates",
         "United States",
         320
        ],
        [
         "Singapore",
         "United States",
         3
        ],
        [
         "United States",
         "Mexico",
         7187
        ],
        [
         "United States",
         "Sweden",
         119
        ],
        [
         "Netherlands",
         "United States",
         776
        ],
        [
         "United States",
         "Martinique",
         43
        ],
        [
         "United States",
         "United Arab Emirates",
         313
        ],
        [
         "United States",
         "Bulgaria",
         1
        ],
        [
         "Denmark",
         "United States",
         153
        ],
        [
         "China",
         "United States",
         772
        ],
        [
         "United States",
         "Nicaragua",
         201
        ],
        [
         "United States",
         "Philippines",
         126
        ],
        [
         "United States",
         "Georgia",
         1
        ],
        [
         "United States",
         "Belgium",
         228
        ],
        [
         "Cayman Islands",
         "United States",
         314
        ],
        [
         "Argentina",
         "United States",
         180
        ],
        [
         "Peru",
         "United States",
         279
        ],
        [
         "South Africa",
         "United States",
         36
        ],
        [
         "United States",
         "Iceland",
         202
        ],
        [
         "United States",
         "Argentina",
         141
        ],
        [
         "Spain",
         "United States",
         420
        ],
        [
         "Bermuda",
         "United States",
         183
        ],
        [
         "United States",
         "Nigeria",
         50
        ],
        [
         "United States",
         "Austria",
         63
        ],
        [
         "United States",
         "Bonaire, Sint Eustatius, and Saba",
         59
        ],
        [
         "Kiribati",
         "United States",
         26
        ],
        [
         "Saudi Arabia",
         "United States",
         83
        ],
        [
         "Czech Republic",
         "United States",
         13
        ],
        [
         "United States",
         "Israel",
         127
        ],
        [
         "Belgium",
         "United States",
         259
        ],
        [
         "United States",
         "Saint Lucia",
         136
        ],
        [
         "United States",
         "Bahrain",
         1
        ],
        [
         "United States",
         "British Virgin Islands",
         80
        ],
        [
         "Curacao",
         "United States",
         90
        ],
        [
         "Georgia",
         "United States",
         2
        ],
        [
         "United States",
         "Denmark",
         152
        ],
        [
         "United States",
         "Guyana",
         63
        ],
        [
         "Philippines",
         "United States",
         134
        ],
        [
         "Grenada",
         "United States",
         53
        ],
        [
         "Cape Verde",
         "United States",
         20
        ],
        [
         "Cote d'Ivoire",
         "United States",
         1
        ],
        [
         "Ukraine",
         "United States",
         14
        ],
        [
         "United States",
         "Papua New Guinea",
         1
        ],
        [
         "Russia",
         "United States",
         176
        ],
        [
         "United States",
         "Saudi Arabia",
         70
        ],
        [
         "Guatemala",
         "United States",
         397
        ],
        [
         "Saint Lucia",
         "United States",
         123
        ],
        [
         "Paraguay",
         "United States",
         60
        ],
        [
         "United States",
         "Curacao",
         83
        ],
        [
         "Kosovo",
         "United States",
         1
        ],
        [
         "United States",
         "Taiwan",
         235
        ],
        [
         "Tunisia",
         "United States",
         3
        ],
        [
         "United States",
         "South Africa",
         40
        ],
        [
         "Niger",
         "United States",
         2
        ],
        [
         "Turkey",
         "United States",
         138
        ],
        [
         "United Kingdom",
         "United States",
         2025
        ],
        [
         "Romania",
         "United States",
         14
        ],
        [
         "United States",
         "Greenland",
         4
        ],
        [
         "Papua New Guinea",
         "United States",
         3
        ],
        [
         "United States",
         "Spain",
         442
        ],
        [
         "Iraq",
         "United States",
         1
        ],
        [
         "United States",
         "Italy",
         438
        ],
        [
         "Cuba",
         "United States",
         466
        ],
        [
         "United States",
         "Switzerland",
         305
        ],
        [
         "Dominica",
         "United States",
         20
        ],
        [
         "United States",
         "Japan",
         1496
        ],
        [
         "Portugal",
         "United States",
         127
        ],
        [
         "United States",
         "Brazil",
         619
        ],
        [
         "Bahrain",
         "United States",
         19
        ],
        [
         "United States",
         "Peru",
         337
        ],
        [
         "Indonesia",
         "United States",
         1
        ],
        [
         "United States",
         "Belize",
         193
        ],
        [
         "United States",
         "United Kingdom",
         1970
        ],
        [
         "Belize",
         "United States",
         188
        ],
        [
         "United States",
         "Ghana",
         20
        ],
        [
         "United States",
         "Indonesia",
         2
        ],
        [
         "United States",
         "Fiji",
         25
        ],
        [
         "United States",
         "Canada",
         8483
        ],
        [
         "United States",
         "Antigua and Barbuda",
         117
        ],
        [
         "United States",
         "French Polynesia",
         40
        ],
        [
         "Nicaragua",
         "United States",
         179
        ],
        [
         "United States",
         "Latvia",
         15
        ],
        [
         "United States",
         "Dominica",
         27
        ],
        [
         "United States",
         "Czech Republic",
         12
        ],
        [
         "United States",
         "Australia",
         258
        ],
        [
         "United States",
         "Cook Islands",
         13
        ],
        [
         "Austria",
         "United States",
         62
        ],
        [
         "Jordan",
         "United States",
         44
        ],
        [
         "Palau",
         "United States",
         30
        ],
        [
         "South Korea",
         "United States",
         1048
        ],
        [
         "Angola",
         "United States",
         15
        ],
        [
         "Ghana",
         "United States",
         18
        ],
        [
         "New Caledonia",
         "United States",
         1
        ],
        [
         "Guadeloupe",
         "United States",
         56
        ],
        [
         "France",
         "United States",
         935
        ],
        [
         "Poland",
         "United States",
         32
        ],
        [
         "Nigeria",
         "United States",
         59
        ],
        [
         "United States",
         "Uruguay",
         13
        ],
        [
         "Greenland",
         "United States",
         2
        ],
        [
         "United States",
         "Bermuda",
         193
        ],
        [
         "Chile",
         "United States",
         174
        ],
        [
         "United States",
         "Cuba",
         478
        ],
        [
         "United States",
         "Montenegro",
         1
        ],
        [
         "United States",
         "Colombia",
         867
        ],
        [
         "United States",
         "Barbados",
         130
        ],
        [
         "United States",
         "Qatar",
         109
        ],
        [
         "Australia",
         "United States",
         329
        ],
        [
         "United States",
         "Cayman Islands",
         310
        ],
        [
         "United States",
         "Jordan",
         44
        ],
        [
         "United States",
         "Namibia",
         1
        ],
        [
         "United States",
         "Trinidad and Tobago",
         217
        ],
        [
         "United States",
         "Bolivia",
         13
        ],
        [
         "Cook Islands",
         "United States",
         13
        ],
        [
         "Bulgaria",
         "United States",
         3
        ],
        [
         "United States",
         "Saint Kitts and Nevis",
         145
        ],
        [
         "Uruguay",
         "United States",
         43
        ],
        [
         "United States",
         "Haiti",
         225
        ],
        [
         "Bonaire, Sint Eustatius, and Saba",
         "United States",
         58
        ],
        [
         "Greece",
         "United States",
         30
        ]
       ],
       "datasetInfos": [],
       "dbfsResultPath": null,
       "isJsonSchema": true,
       "metadata": {},
       "overflow": false,
       "plotOptions": {
        "customPlotOptions": {},
        "displayType": "table",
        "pivotAggregation": null,
        "pivotColumns": null,
        "xColumns": null,
        "yColumns": null
       },
       "removedWidgets": [],
       "schema": [
        {
         "metadata": "{}",
         "name": "DEST_COUNTRY_NAME",
         "type": "\"string\""
        },
        {
         "metadata": "{\"comment\":\"remember, the US will be most prevalent\"}",
         "name": "ORIGIN_COUNTRY_NAME",
         "type": "\"string\""
        },
        {
         "metadata": "{}",
         "name": "count",
         "type": "\"long\""
        }
       ],
       "type": "table"
      }
     },
     "output_type": "display_data"
    }
   ],
   "source": [
    "%sql\n",
    "select\n",
    "  *\n",
    "from\n",
    "  flights_csv1"
   ]
  },
  {
   "cell_type": "markdown",
   "metadata": {
    "application/vnd.databricks.v1+cell": {
     "cellMetadata": {
      "byteLimit": 2048000,
      "rowLimit": 10000
     },
     "inputWidgets": {},
     "nuid": "de800313-02a6-4a48-b380-7cc55447ec93",
     "showTitle": false,
     "title": ""
    }
   },
   "source": [
    "<span style=\"color:blue\">\n",
    "Exploring Subqueries in pyspark.sql"
   ]
  },
  {
   "cell_type": "code",
   "execution_count": 0,
   "metadata": {
    "application/vnd.databricks.v1+cell": {
     "cellMetadata": {
      "byteLimit": 2048000,
      "implicitDf": true,
      "rowLimit": 10000
     },
     "inputWidgets": {},
     "nuid": "76794440-f7bd-4f8e-bcae-ab73b1b3537c",
     "showTitle": false,
     "title": ""
    }
   },
   "outputs": [
    {
     "output_type": "display_data",
     "data": {
      "text/html": [
       "<style scoped>\n",
       "  .table-result-container {\n",
       "    max-height: 300px;\n",
       "    overflow: auto;\n",
       "  }\n",
       "  table, th, td {\n",
       "    border: 1px solid black;\n",
       "    border-collapse: collapse;\n",
       "  }\n",
       "  th, td {\n",
       "    padding: 5px;\n",
       "  }\n",
       "  th {\n",
       "    text-align: left;\n",
       "  }\n",
       "</style><div class='table-result-container'><table class='table-result'><thead style='background-color: white'><tr><th>DEST_COUNTRY_NAME</th><th>ORIGIN_COUNTRY_NAME</th><th>count</th></tr></thead><tbody><tr><td>Egypt</td><td>United States</td><td>15</td></tr><tr><td>Costa Rica</td><td>United States</td><td>588</td></tr><tr><td>Senegal</td><td>United States</td><td>40</td></tr><tr><td>Moldova</td><td>United States</td><td>1</td></tr><tr><td>Guyana</td><td>United States</td><td>64</td></tr><tr><td>Malta</td><td>United States</td><td>1</td></tr><tr><td>Anguilla</td><td>United States</td><td>41</td></tr><tr><td>Bolivia</td><td>United States</td><td>30</td></tr><tr><td>Algeria</td><td>United States</td><td>4</td></tr><tr><td>Turks and Caicos Islands</td><td>United States</td><td>230</td></tr><tr><td>Saint Vincent and the Grenadines</td><td>United States</td><td>1</td></tr><tr><td>Italy</td><td>United States</td><td>382</td></tr><tr><td>Pakistan</td><td>United States</td><td>12</td></tr><tr><td>Iceland</td><td>United States</td><td>181</td></tr><tr><td>Marshall Islands</td><td>United States</td><td>42</td></tr><tr><td>Luxembourg</td><td>United States</td><td>155</td></tr><tr><td>Honduras</td><td>United States</td><td>362</td></tr><tr><td>The Bahamas</td><td>United States</td><td>955</td></tr><tr><td>El Salvador</td><td>United States</td><td>561</td></tr><tr><td>Samoa</td><td>United States</td><td>25</td></tr><tr><td>Switzerland</td><td>United States</td><td>294</td></tr><tr><td>Sint Maarten</td><td>United States</td><td>325</td></tr><tr><td>Hong Kong</td><td>United States</td><td>332</td></tr><tr><td>Trinidad and Tobago</td><td>United States</td><td>211</td></tr><tr><td>Latvia</td><td>United States</td><td>19</td></tr><tr><td>Suriname</td><td>United States</td><td>1</td></tr><tr><td>Mexico</td><td>United States</td><td>7140</td></tr><tr><td>Ecuador</td><td>United States</td><td>268</td></tr><tr><td>Colombia</td><td>United States</td><td>873</td></tr><tr><td>Norway</td><td>United States</td><td>121</td></tr><tr><td>Thailand</td><td>United States</td><td>3</td></tr><tr><td>Venezuela</td><td>United States</td><td>290</td></tr><tr><td>Panama</td><td>United States</td><td>510</td></tr><tr><td>Antigua and Barbuda</td><td>United States</td><td>126</td></tr><tr><td>Morocco</td><td>United States</td><td>15</td></tr><tr><td>Azerbaijan</td><td>United States</td><td>21</td></tr><tr><td>New Zealand</td><td>United States</td><td>111</td></tr><tr><td>Liberia</td><td>United States</td><td>2</td></tr><tr><td>Hungary</td><td>United States</td><td>2</td></tr><tr><td>Burkina Faso</td><td>United States</td><td>1</td></tr><tr><td>Sweden</td><td>United States</td><td>118</td></tr><tr><td>Israel</td><td>United States</td><td>134</td></tr><tr><td>United States</td><td>United States</td><td>370002</td></tr><tr><td>Ethiopia</td><td>United States</td><td>13</td></tr><tr><td>Martinique</td><td>United States</td><td>44</td></tr><tr><td>Saint Barthelemy</td><td>United States</td><td>39</td></tr><tr><td>Barbados</td><td>United States</td><td>154</td></tr><tr><td>Djibouti</td><td>United States</td><td>1</td></tr><tr><td>Germany</td><td>United States</td><td>1468</td></tr><tr><td>Ireland</td><td>United States</td><td>335</td></tr><tr><td>Zambia</td><td>United States</td><td>1</td></tr><tr><td>Malaysia</td><td>United States</td><td>2</td></tr><tr><td>Croatia</td><td>United States</td><td>2</td></tr><tr><td>Cyprus</td><td>United States</td><td>1</td></tr><tr><td>Fiji</td><td>United States</td><td>24</td></tr><tr><td>Qatar</td><td>United States</td><td>108</td></tr><tr><td>Saint Kitts and Nevis</td><td>United States</td><td>139</td></tr><tr><td>Kuwait</td><td>United States</td><td>32</td></tr><tr><td>Taiwan</td><td>United States</td><td>266</td></tr><tr><td>Haiti</td><td>United States</td><td>226</td></tr><tr><td>Canada</td><td>United States</td><td>8399</td></tr><tr><td>Federated States of Micronesia</td><td>United States</td><td>69</td></tr><tr><td>Jamaica</td><td>United States</td><td>666</td></tr><tr><td>Dominican Republic</td><td>United States</td><td>1353</td></tr><tr><td>Japan</td><td>United States</td><td>1548</td></tr><tr><td>Finland</td><td>United States</td><td>26</td></tr><tr><td>Aruba</td><td>United States</td><td>346</td></tr><tr><td>French Guiana</td><td>United States</td><td>5</td></tr><tr><td>India</td><td>United States</td><td>61</td></tr><tr><td>British Virgin Islands</td><td>United States</td><td>107</td></tr><tr><td>Brazil</td><td>United States</td><td>853</td></tr><tr><td>French Polynesia</td><td>United States</td><td>43</td></tr><tr><td>United Arab Emirates</td><td>United States</td><td>320</td></tr><tr><td>Singapore</td><td>United States</td><td>3</td></tr><tr><td>United States</td><td>Mexico</td><td>7187</td></tr><tr><td>Netherlands</td><td>United States</td><td>776</td></tr><tr><td>Denmark</td><td>United States</td><td>153</td></tr><tr><td>China</td><td>United States</td><td>772</td></tr><tr><td>Cayman Islands</td><td>United States</td><td>314</td></tr><tr><td>Argentina</td><td>United States</td><td>180</td></tr><tr><td>Peru</td><td>United States</td><td>279</td></tr><tr><td>South Africa</td><td>United States</td><td>36</td></tr><tr><td>Spain</td><td>United States</td><td>420</td></tr><tr><td>Bermuda</td><td>United States</td><td>183</td></tr><tr><td>Kiribati</td><td>United States</td><td>26</td></tr><tr><td>Saudi Arabia</td><td>United States</td><td>83</td></tr><tr><td>Czech Republic</td><td>United States</td><td>13</td></tr><tr><td>Belgium</td><td>United States</td><td>259</td></tr><tr><td>Curacao</td><td>United States</td><td>90</td></tr><tr><td>Georgia</td><td>United States</td><td>2</td></tr><tr><td>Philippines</td><td>United States</td><td>134</td></tr><tr><td>Grenada</td><td>United States</td><td>53</td></tr><tr><td>Cape Verde</td><td>United States</td><td>20</td></tr><tr><td>Cote d'Ivoire</td><td>United States</td><td>1</td></tr><tr><td>Ukraine</td><td>United States</td><td>14</td></tr><tr><td>Russia</td><td>United States</td><td>176</td></tr><tr><td>Guatemala</td><td>United States</td><td>397</td></tr><tr><td>Saint Lucia</td><td>United States</td><td>123</td></tr><tr><td>Paraguay</td><td>United States</td><td>60</td></tr><tr><td>Kosovo</td><td>United States</td><td>1</td></tr><tr><td>Tunisia</td><td>United States</td><td>3</td></tr><tr><td>Niger</td><td>United States</td><td>2</td></tr><tr><td>Turkey</td><td>United States</td><td>138</td></tr><tr><td>United Kingdom</td><td>United States</td><td>2025</td></tr><tr><td>Romania</td><td>United States</td><td>14</td></tr><tr><td>Papua New Guinea</td><td>United States</td><td>3</td></tr><tr><td>Iraq</td><td>United States</td><td>1</td></tr><tr><td>Cuba</td><td>United States</td><td>466</td></tr><tr><td>Dominica</td><td>United States</td><td>20</td></tr><tr><td>United States</td><td>Japan</td><td>1496</td></tr><tr><td>Portugal</td><td>United States</td><td>127</td></tr><tr><td>Bahrain</td><td>United States</td><td>19</td></tr><tr><td>Indonesia</td><td>United States</td><td>1</td></tr><tr><td>United States</td><td>United Kingdom</td><td>1970</td></tr><tr><td>Belize</td><td>United States</td><td>188</td></tr><tr><td>United States</td><td>Canada</td><td>8483</td></tr><tr><td>Nicaragua</td><td>United States</td><td>179</td></tr><tr><td>Austria</td><td>United States</td><td>62</td></tr><tr><td>Jordan</td><td>United States</td><td>44</td></tr><tr><td>Palau</td><td>United States</td><td>30</td></tr><tr><td>South Korea</td><td>United States</td><td>1048</td></tr><tr><td>Angola</td><td>United States</td><td>15</td></tr><tr><td>Ghana</td><td>United States</td><td>18</td></tr><tr><td>New Caledonia</td><td>United States</td><td>1</td></tr><tr><td>Guadeloupe</td><td>United States</td><td>56</td></tr><tr><td>France</td><td>United States</td><td>935</td></tr><tr><td>Poland</td><td>United States</td><td>32</td></tr><tr><td>Nigeria</td><td>United States</td><td>59</td></tr><tr><td>Greenland</td><td>United States</td><td>2</td></tr><tr><td>Chile</td><td>United States</td><td>174</td></tr><tr><td>Australia</td><td>United States</td><td>329</td></tr><tr><td>Cook Islands</td><td>United States</td><td>13</td></tr><tr><td>Bulgaria</td><td>United States</td><td>3</td></tr><tr><td>Uruguay</td><td>United States</td><td>43</td></tr><tr><td>Bonaire, Sint Eustatius, and Saba</td><td>United States</td><td>58</td></tr><tr><td>Greece</td><td>United States</td><td>30</td></tr></tbody></table></div>"
      ]
     },
     "metadata": {
      "application/vnd.databricks.v1+output": {
       "addedWidgets": {},
       "aggData": [],
       "aggError": "",
       "aggOverflow": false,
       "aggSchema": [],
       "aggSeriesLimitReached": false,
       "aggType": "",
       "arguments": {},
       "columnCustomDisplayInfos": {},
       "data": [
        [
         "Egypt",
         "United States",
         15
        ],
        [
         "Costa Rica",
         "United States",
         588
        ],
        [
         "Senegal",
         "United States",
         40
        ],
        [
         "Moldova",
         "United States",
         1
        ],
        [
         "Guyana",
         "United States",
         64
        ],
        [
         "Malta",
         "United States",
         1
        ],
        [
         "Anguilla",
         "United States",
         41
        ],
        [
         "Bolivia",
         "United States",
         30
        ],
        [
         "Algeria",
         "United States",
         4
        ],
        [
         "Turks and Caicos Islands",
         "United States",
         230
        ],
        [
         "Saint Vincent and the Grenadines",
         "United States",
         1
        ],
        [
         "Italy",
         "United States",
         382
        ],
        [
         "Pakistan",
         "United States",
         12
        ],
        [
         "Iceland",
         "United States",
         181
        ],
        [
         "Marshall Islands",
         "United States",
         42
        ],
        [
         "Luxembourg",
         "United States",
         155
        ],
        [
         "Honduras",
         "United States",
         362
        ],
        [
         "The Bahamas",
         "United States",
         955
        ],
        [
         "El Salvador",
         "United States",
         561
        ],
        [
         "Samoa",
         "United States",
         25
        ],
        [
         "Switzerland",
         "United States",
         294
        ],
        [
         "Sint Maarten",
         "United States",
         325
        ],
        [
         "Hong Kong",
         "United States",
         332
        ],
        [
         "Trinidad and Tobago",
         "United States",
         211
        ],
        [
         "Latvia",
         "United States",
         19
        ],
        [
         "Suriname",
         "United States",
         1
        ],
        [
         "Mexico",
         "United States",
         7140
        ],
        [
         "Ecuador",
         "United States",
         268
        ],
        [
         "Colombia",
         "United States",
         873
        ],
        [
         "Norway",
         "United States",
         121
        ],
        [
         "Thailand",
         "United States",
         3
        ],
        [
         "Venezuela",
         "United States",
         290
        ],
        [
         "Panama",
         "United States",
         510
        ],
        [
         "Antigua and Barbuda",
         "United States",
         126
        ],
        [
         "Morocco",
         "United States",
         15
        ],
        [
         "Azerbaijan",
         "United States",
         21
        ],
        [
         "New Zealand",
         "United States",
         111
        ],
        [
         "Liberia",
         "United States",
         2
        ],
        [
         "Hungary",
         "United States",
         2
        ],
        [
         "Burkina Faso",
         "United States",
         1
        ],
        [
         "Sweden",
         "United States",
         118
        ],
        [
         "Israel",
         "United States",
         134
        ],
        [
         "United States",
         "United States",
         370002
        ],
        [
         "Ethiopia",
         "United States",
         13
        ],
        [
         "Martinique",
         "United States",
         44
        ],
        [
         "Saint Barthelemy",
         "United States",
         39
        ],
        [
         "Barbados",
         "United States",
         154
        ],
        [
         "Djibouti",
         "United States",
         1
        ],
        [
         "Germany",
         "United States",
         1468
        ],
        [
         "Ireland",
         "United States",
         335
        ],
        [
         "Zambia",
         "United States",
         1
        ],
        [
         "Malaysia",
         "United States",
         2
        ],
        [
         "Croatia",
         "United States",
         2
        ],
        [
         "Cyprus",
         "United States",
         1
        ],
        [
         "Fiji",
         "United States",
         24
        ],
        [
         "Qatar",
         "United States",
         108
        ],
        [
         "Saint Kitts and Nevis",
         "United States",
         139
        ],
        [
         "Kuwait",
         "United States",
         32
        ],
        [
         "Taiwan",
         "United States",
         266
        ],
        [
         "Haiti",
         "United States",
         226
        ],
        [
         "Canada",
         "United States",
         8399
        ],
        [
         "Federated States of Micronesia",
         "United States",
         69
        ],
        [
         "Jamaica",
         "United States",
         666
        ],
        [
         "Dominican Republic",
         "United States",
         1353
        ],
        [
         "Japan",
         "United States",
         1548
        ],
        [
         "Finland",
         "United States",
         26
        ],
        [
         "Aruba",
         "United States",
         346
        ],
        [
         "French Guiana",
         "United States",
         5
        ],
        [
         "India",
         "United States",
         61
        ],
        [
         "British Virgin Islands",
         "United States",
         107
        ],
        [
         "Brazil",
         "United States",
         853
        ],
        [
         "French Polynesia",
         "United States",
         43
        ],
        [
         "United Arab Emirates",
         "United States",
         320
        ],
        [
         "Singapore",
         "United States",
         3
        ],
        [
         "United States",
         "Mexico",
         7187
        ],
        [
         "Netherlands",
         "United States",
         776
        ],
        [
         "Denmark",
         "United States",
         153
        ],
        [
         "China",
         "United States",
         772
        ],
        [
         "Cayman Islands",
         "United States",
         314
        ],
        [
         "Argentina",
         "United States",
         180
        ],
        [
         "Peru",
         "United States",
         279
        ],
        [
         "South Africa",
         "United States",
         36
        ],
        [
         "Spain",
         "United States",
         420
        ],
        [
         "Bermuda",
         "United States",
         183
        ],
        [
         "Kiribati",
         "United States",
         26
        ],
        [
         "Saudi Arabia",
         "United States",
         83
        ],
        [
         "Czech Republic",
         "United States",
         13
        ],
        [
         "Belgium",
         "United States",
         259
        ],
        [
         "Curacao",
         "United States",
         90
        ],
        [
         "Georgia",
         "United States",
         2
        ],
        [
         "Philippines",
         "United States",
         134
        ],
        [
         "Grenada",
         "United States",
         53
        ],
        [
         "Cape Verde",
         "United States",
         20
        ],
        [
         "Cote d'Ivoire",
         "United States",
         1
        ],
        [
         "Ukraine",
         "United States",
         14
        ],
        [
         "Russia",
         "United States",
         176
        ],
        [
         "Guatemala",
         "United States",
         397
        ],
        [
         "Saint Lucia",
         "United States",
         123
        ],
        [
         "Paraguay",
         "United States",
         60
        ],
        [
         "Kosovo",
         "United States",
         1
        ],
        [
         "Tunisia",
         "United States",
         3
        ],
        [
         "Niger",
         "United States",
         2
        ],
        [
         "Turkey",
         "United States",
         138
        ],
        [
         "United Kingdom",
         "United States",
         2025
        ],
        [
         "Romania",
         "United States",
         14
        ],
        [
         "Papua New Guinea",
         "United States",
         3
        ],
        [
         "Iraq",
         "United States",
         1
        ],
        [
         "Cuba",
         "United States",
         466
        ],
        [
         "Dominica",
         "United States",
         20
        ],
        [
         "United States",
         "Japan",
         1496
        ],
        [
         "Portugal",
         "United States",
         127
        ],
        [
         "Bahrain",
         "United States",
         19
        ],
        [
         "Indonesia",
         "United States",
         1
        ],
        [
         "United States",
         "United Kingdom",
         1970
        ],
        [
         "Belize",
         "United States",
         188
        ],
        [
         "United States",
         "Canada",
         8483
        ],
        [
         "Nicaragua",
         "United States",
         179
        ],
        [
         "Austria",
         "United States",
         62
        ],
        [
         "Jordan",
         "United States",
         44
        ],
        [
         "Palau",
         "United States",
         30
        ],
        [
         "South Korea",
         "United States",
         1048
        ],
        [
         "Angola",
         "United States",
         15
        ],
        [
         "Ghana",
         "United States",
         18
        ],
        [
         "New Caledonia",
         "United States",
         1
        ],
        [
         "Guadeloupe",
         "United States",
         56
        ],
        [
         "France",
         "United States",
         935
        ],
        [
         "Poland",
         "United States",
         32
        ],
        [
         "Nigeria",
         "United States",
         59
        ],
        [
         "Greenland",
         "United States",
         2
        ],
        [
         "Chile",
         "United States",
         174
        ],
        [
         "Australia",
         "United States",
         329
        ],
        [
         "Cook Islands",
         "United States",
         13
        ],
        [
         "Bulgaria",
         "United States",
         3
        ],
        [
         "Uruguay",
         "United States",
         43
        ],
        [
         "Bonaire, Sint Eustatius, and Saba",
         "United States",
         58
        ],
        [
         "Greece",
         "United States",
         30
        ]
       ],
       "datasetInfos": [],
       "dbfsResultPath": null,
       "isJsonSchema": true,
       "metadata": {},
       "overflow": false,
       "plotOptions": {
        "customPlotOptions": {},
        "displayType": "table",
        "pivotAggregation": null,
        "pivotColumns": null,
        "xColumns": null,
        "yColumns": null
       },
       "removedWidgets": [],
       "schema": [
        {
         "metadata": "{}",
         "name": "DEST_COUNTRY_NAME",
         "type": "\"string\""
        },
        {
         "metadata": "{\"comment\":\"remember, the US will be most prevalent\"}",
         "name": "ORIGIN_COUNTRY_NAME",
         "type": "\"string\""
        },
        {
         "metadata": "{}",
         "name": "count",
         "type": "\"long\""
        }
       ],
       "type": "table"
      }
     },
     "output_type": "display_data"
    }
   ],
   "source": [
    "%sql\n",
    "------Uncorrelated predicate subqueries-----------------\n",
    "SELECT\n",
    "  *\n",
    "FROM\n",
    "  flights_csv1\n",
    "WHERE\n",
    "  origin_country_name IN (\n",
    "    SELECT\n",
    "      dest_country_name\n",
    "    FROM\n",
    "      flights_csv1\n",
    "    GROUP BY\n",
    "      dest_country_name\n",
    "    ORDER BY\n",
    "      sum(count) DESC\n",
    "    LIMIT\n",
    "      5\n",
    "  )"
   ]
  },
  {
   "cell_type": "markdown",
   "metadata": {
    "application/vnd.databricks.v1+cell": {
     "cellMetadata": {
      "byteLimit": 2048000,
      "rowLimit": 10000
     },
     "inputWidgets": {},
     "nuid": "5ac42f7e-80fa-4bbc-81b0-4ffe24f1c1a3",
     "showTitle": false,
     "title": ""
    }
   },
   "source": [
    "<span style=\"color:blue\">\n",
    "Extracting Data from a table using Coorelated Subquery"
   ]
  },
  {
   "cell_type": "code",
   "execution_count": 0,
   "metadata": {
    "application/vnd.databricks.v1+cell": {
     "cellMetadata": {
      "byteLimit": 2048000,
      "implicitDf": true,
      "rowLimit": 10000
     },
     "inputWidgets": {},
     "nuid": "efc99c14-2103-4f8b-8110-7af523f7e43a",
     "showTitle": false,
     "title": ""
    }
   },
   "outputs": [
    {
     "output_type": "display_data",
     "data": {
      "text/html": [
       "<style scoped>\n",
       "  .table-result-container {\n",
       "    max-height: 300px;\n",
       "    overflow: auto;\n",
       "  }\n",
       "  table, th, td {\n",
       "    border: 1px solid black;\n",
       "    border-collapse: collapse;\n",
       "  }\n",
       "  th, td {\n",
       "    padding: 5px;\n",
       "  }\n",
       "  th {\n",
       "    text-align: left;\n",
       "  }\n",
       "</style><div class='table-result-container'><table class='table-result'><thead style='background-color: white'><tr><th>DEST_COUNTRY_NAME</th><th>ORIGIN_COUNTRY_NAME</th><th>count</th></tr></thead><tbody><tr><td>United States</td><td>Romania</td><td>15</td></tr><tr><td>United States</td><td>Croatia</td><td>1</td></tr><tr><td>United States</td><td>Ireland</td><td>344</td></tr><tr><td>Egypt</td><td>United States</td><td>15</td></tr><tr><td>United States</td><td>India</td><td>62</td></tr><tr><td>United States</td><td>Singapore</td><td>1</td></tr><tr><td>United States</td><td>Grenada</td><td>62</td></tr><tr><td>Costa Rica</td><td>United States</td><td>588</td></tr><tr><td>Senegal</td><td>United States</td><td>40</td></tr><tr><td>United States</td><td>Sint Maarten</td><td>325</td></tr><tr><td>United States</td><td>Marshall Islands</td><td>39</td></tr><tr><td>Guyana</td><td>United States</td><td>64</td></tr><tr><td>Malta</td><td>United States</td><td>1</td></tr><tr><td>Anguilla</td><td>United States</td><td>41</td></tr><tr><td>Bolivia</td><td>United States</td><td>30</td></tr><tr><td>United States</td><td>Paraguay</td><td>6</td></tr><tr><td>Turks and Caicos Islands</td><td>United States</td><td>230</td></tr><tr><td>Italy</td><td>United States</td><td>382</td></tr><tr><td>United States</td><td>Federated States of Micronesia</td><td>69</td></tr><tr><td>United States</td><td>Russia</td><td>161</td></tr><tr><td>Pakistan</td><td>United States</td><td>12</td></tr><tr><td>United States</td><td>Netherlands</td><td>660</td></tr><tr><td>Iceland</td><td>United States</td><td>181</td></tr><tr><td>Marshall Islands</td><td>United States</td><td>42</td></tr><tr><td>Luxembourg</td><td>United States</td><td>155</td></tr><tr><td>Honduras</td><td>United States</td><td>362</td></tr><tr><td>The Bahamas</td><td>United States</td><td>955</td></tr><tr><td>United States</td><td>Senegal</td><td>42</td></tr><tr><td>El Salvador</td><td>United States</td><td>561</td></tr><tr><td>Samoa</td><td>United States</td><td>25</td></tr><tr><td>United States</td><td>Angola</td><td>13</td></tr><tr><td>Switzerland</td><td>United States</td><td>294</td></tr><tr><td>United States</td><td>Anguilla</td><td>38</td></tr><tr><td>Sint Maarten</td><td>United States</td><td>325</td></tr><tr><td>Hong Kong</td><td>United States</td><td>332</td></tr><tr><td>Trinidad and Tobago</td><td>United States</td><td>211</td></tr><tr><td>Latvia</td><td>United States</td><td>19</td></tr><tr><td>United States</td><td>Ecuador</td><td>300</td></tr><tr><td>Suriname</td><td>United States</td><td>1</td></tr><tr><td>Mexico</td><td>United States</td><td>7140</td></tr><tr><td>United States</td><td>Cyprus</td><td>1</td></tr><tr><td>Ecuador</td><td>United States</td><td>268</td></tr><tr><td>United States</td><td>Portugal</td><td>134</td></tr><tr><td>United States</td><td>Costa Rica</td><td>608</td></tr><tr><td>United States</td><td>Guatemala</td><td>318</td></tr><tr><td>United States</td><td>Suriname</td><td>34</td></tr><tr><td>Colombia</td><td>United States</td><td>873</td></tr><tr><td>United States</td><td>Cape Verde</td><td>14</td></tr><tr><td>United States</td><td>Jamaica</td><td>712</td></tr><tr><td>Norway</td><td>United States</td><td>121</td></tr><tr><td>United States</td><td>Malaysia</td><td>3</td></tr><tr><td>United States</td><td>Morocco</td><td>19</td></tr><tr><td>Thailand</td><td>United States</td><td>3</td></tr><tr><td>United States</td><td>Samoa</td><td>25</td></tr><tr><td>Venezuela</td><td>United States</td><td>290</td></tr><tr><td>United States</td><td>Palau</td><td>31</td></tr><tr><td>United States</td><td>Venezuela</td><td>246</td></tr><tr><td>Panama</td><td>United States</td><td>510</td></tr><tr><td>Antigua and Barbuda</td><td>United States</td><td>126</td></tr><tr><td>United States</td><td>Chile</td><td>185</td></tr><tr><td>Morocco</td><td>United States</td><td>15</td></tr><tr><td>United States</td><td>Finland</td><td>28</td></tr><tr><td>Azerbaijan</td><td>United States</td><td>21</td></tr><tr><td>United States</td><td>Greece</td><td>23</td></tr><tr><td>United States</td><td>The Bahamas</td><td>986</td></tr><tr><td>New Zealand</td><td>United States</td><td>111</td></tr><tr><td>Liberia</td><td>United States</td><td>2</td></tr><tr><td>United States</td><td>Hong Kong</td><td>414</td></tr><tr><td>Hungary</td><td>United States</td><td>2</td></tr><tr><td>United States</td><td>China</td><td>920</td></tr><tr><td>Sweden</td><td>United States</td><td>118</td></tr><tr><td>United States</td><td>Kuwait</td><td>28</td></tr><tr><td>United States</td><td>Dominican Republic</td><td>1420</td></tr><tr><td>United States</td><td>Egypt</td><td>12</td></tr><tr><td>Israel</td><td>United States</td><td>134</td></tr><tr><td>United States</td><td>United States</td><td>370002</td></tr><tr><td>Ethiopia</td><td>United States</td><td>13</td></tr><tr><td>United States</td><td>Luxembourg</td><td>134</td></tr><tr><td>United States</td><td>Poland</td><td>33</td></tr><tr><td>Martinique</td><td>United States</td><td>44</td></tr><tr><td>United States</td><td>Saint Barthelemy</td><td>41</td></tr><tr><td>Saint Barthelemy</td><td>United States</td><td>39</td></tr><tr><td>Barbados</td><td>United States</td><td>154</td></tr><tr><td>United States</td><td>Turkey</td><td>129</td></tr><tr><td>United States</td><td>Azerbaijan</td><td>21</td></tr><tr><td>Germany</td><td>United States</td><td>1468</td></tr><tr><td>United States</td><td>South Korea</td><td>827</td></tr><tr><td>United States</td><td>El Salvador</td><td>508</td></tr><tr><td>Ireland</td><td>United States</td><td>335</td></tr><tr><td>United States</td><td>Hungary</td><td>3</td></tr><tr><td>Malaysia</td><td>United States</td><td>2</td></tr><tr><td>United States</td><td>Ethiopia</td><td>12</td></tr><tr><td>United States</td><td>Panama</td><td>465</td></tr><tr><td>United States</td><td>Aruba</td><td>342</td></tr><tr><td>United States</td><td>Thailand</td><td>4</td></tr><tr><td>United States</td><td>Turks and Caicos Islands</td><td>236</td></tr><tr><td>Croatia</td><td>United States</td><td>2</td></tr><tr><td>United States</td><td>Pakistan</td><td>12</td></tr><tr><td>Cyprus</td><td>United States</td><td>1</td></tr><tr><td>United States</td><td>Honduras</td><td>407</td></tr><tr><td>Fiji</td><td>United States</td><td>24</td></tr><tr><td>Qatar</td><td>United States</td><td>108</td></tr><tr><td>Saint Kitts and Nevis</td><td>United States</td><td>139</td></tr><tr><td>Kuwait</td><td>United States</td><td>32</td></tr><tr><td>Taiwan</td><td>United States</td><td>266</td></tr><tr><td>Haiti</td><td>United States</td><td>226</td></tr><tr><td>Canada</td><td>United States</td><td>8399</td></tr><tr><td>Federated States of Micronesia</td><td>United States</td><td>69</td></tr><tr><td>United States</td><td>Liberia</td><td>2</td></tr><tr><td>Jamaica</td><td>United States</td><td>666</td></tr><tr><td>United States</td><td>Malta</td><td>2</td></tr><tr><td>Dominican Republic</td><td>United States</td><td>1353</td></tr><tr><td>Japan</td><td>United States</td><td>1548</td></tr><tr><td>Finland</td><td>United States</td><td>26</td></tr><tr><td>United States</td><td>Guadeloupe</td><td>59</td></tr><tr><td>United States</td><td>Ukraine</td><td>13</td></tr><tr><td>United States</td><td>France</td><td>952</td></tr><tr><td>United States</td><td>Norway</td><td>115</td></tr><tr><td>Aruba</td><td>United States</td><td>346</td></tr><tr><td>United States</td><td>Kiribati</td><td>35</td></tr><tr><td>India</td><td>United States</td><td>61</td></tr><tr><td>British Virgin Islands</td><td>United States</td><td>107</td></tr><tr><td>Brazil</td><td>United States</td><td>853</td></tr><tr><td>United States</td><td>Germany</td><td>1336</td></tr><tr><td>United States</td><td>New Zealand</td><td>74</td></tr><tr><td>French Polynesia</td><td>United States</td><td>43</td></tr><tr><td>United Arab Emirates</td><td>United States</td><td>320</td></tr><tr><td>Singapore</td><td>United States</td><td>3</td></tr><tr><td>United States</td><td>Mexico</td><td>7187</td></tr><tr><td>United States</td><td>Sweden</td><td>119</td></tr><tr><td>Netherlands</td><td>United States</td><td>776</td></tr><tr><td>United States</td><td>Martinique</td><td>43</td></tr><tr><td>United States</td><td>United Arab Emirates</td><td>313</td></tr><tr><td>United States</td><td>Bulgaria</td><td>1</td></tr><tr><td>Denmark</td><td>United States</td><td>153</td></tr><tr><td>China</td><td>United States</td><td>772</td></tr><tr><td>United States</td><td>Nicaragua</td><td>201</td></tr><tr><td>United States</td><td>Philippines</td><td>126</td></tr><tr><td>United States</td><td>Georgia</td><td>1</td></tr><tr><td>United States</td><td>Belgium</td><td>228</td></tr><tr><td>Cayman Islands</td><td>United States</td><td>314</td></tr><tr><td>Argentina</td><td>United States</td><td>180</td></tr><tr><td>Peru</td><td>United States</td><td>279</td></tr><tr><td>South Africa</td><td>United States</td><td>36</td></tr><tr><td>United States</td><td>Iceland</td><td>202</td></tr><tr><td>United States</td><td>Argentina</td><td>141</td></tr><tr><td>Spain</td><td>United States</td><td>420</td></tr><tr><td>Bermuda</td><td>United States</td><td>183</td></tr><tr><td>United States</td><td>Nigeria</td><td>50</td></tr><tr><td>United States</td><td>Austria</td><td>63</td></tr><tr><td>United States</td><td>Bonaire, Sint Eustatius, and Saba</td><td>59</td></tr><tr><td>Kiribati</td><td>United States</td><td>26</td></tr><tr><td>Saudi Arabia</td><td>United States</td><td>83</td></tr><tr><td>Czech Republic</td><td>United States</td><td>13</td></tr><tr><td>United States</td><td>Israel</td><td>127</td></tr><tr><td>Belgium</td><td>United States</td><td>259</td></tr><tr><td>United States</td><td>Saint Lucia</td><td>136</td></tr><tr><td>United States</td><td>Bahrain</td><td>1</td></tr><tr><td>United States</td><td>British Virgin Islands</td><td>80</td></tr><tr><td>Curacao</td><td>United States</td><td>90</td></tr><tr><td>Georgia</td><td>United States</td><td>2</td></tr><tr><td>United States</td><td>Denmark</td><td>152</td></tr><tr><td>United States</td><td>Guyana</td><td>63</td></tr><tr><td>Philippines</td><td>United States</td><td>134</td></tr><tr><td>Grenada</td><td>United States</td><td>53</td></tr><tr><td>Cape Verde</td><td>United States</td><td>20</td></tr><tr><td>Ukraine</td><td>United States</td><td>14</td></tr><tr><td>United States</td><td>Papua New Guinea</td><td>1</td></tr><tr><td>Russia</td><td>United States</td><td>176</td></tr><tr><td>United States</td><td>Saudi Arabia</td><td>70</td></tr><tr><td>Guatemala</td><td>United States</td><td>397</td></tr><tr><td>Saint Lucia</td><td>United States</td><td>123</td></tr><tr><td>Paraguay</td><td>United States</td><td>60</td></tr><tr><td>United States</td><td>Curacao</td><td>83</td></tr><tr><td>United States</td><td>Taiwan</td><td>235</td></tr><tr><td>United States</td><td>South Africa</td><td>40</td></tr><tr><td>Turkey</td><td>United States</td><td>138</td></tr><tr><td>United Kingdom</td><td>United States</td><td>2025</td></tr><tr><td>Romania</td><td>United States</td><td>14</td></tr><tr><td>United States</td><td>Greenland</td><td>4</td></tr><tr><td>Papua New Guinea</td><td>United States</td><td>3</td></tr><tr><td>United States</td><td>Spain</td><td>442</td></tr><tr><td>United States</td><td>Italy</td><td>438</td></tr><tr><td>Cuba</td><td>United States</td><td>466</td></tr><tr><td>United States</td><td>Switzerland</td><td>305</td></tr><tr><td>Dominica</td><td>United States</td><td>20</td></tr><tr><td>United States</td><td>Japan</td><td>1496</td></tr><tr><td>Portugal</td><td>United States</td><td>127</td></tr><tr><td>United States</td><td>Brazil</td><td>619</td></tr><tr><td>Bahrain</td><td>United States</td><td>19</td></tr><tr><td>United States</td><td>Peru</td><td>337</td></tr><tr><td>Indonesia</td><td>United States</td><td>1</td></tr><tr><td>United States</td><td>Belize</td><td>193</td></tr><tr><td>United States</td><td>United Kingdom</td><td>1970</td></tr><tr><td>Belize</td><td>United States</td><td>188</td></tr><tr><td>United States</td><td>Ghana</td><td>20</td></tr><tr><td>United States</td><td>Indonesia</td><td>2</td></tr><tr><td>United States</td><td>Fiji</td><td>25</td></tr><tr><td>United States</td><td>Canada</td><td>8483</td></tr><tr><td>United States</td><td>Antigua and Barbuda</td><td>117</td></tr><tr><td>United States</td><td>French Polynesia</td><td>40</td></tr><tr><td>Nicaragua</td><td>United States</td><td>179</td></tr><tr><td>United States</td><td>Latvia</td><td>15</td></tr><tr><td>United States</td><td>Dominica</td><td>27</td></tr><tr><td>United States</td><td>Czech Republic</td><td>12</td></tr><tr><td>United States</td><td>Australia</td><td>258</td></tr><tr><td>United States</td><td>Cook Islands</td><td>13</td></tr><tr><td>Austria</td><td>United States</td><td>62</td></tr><tr><td>Jordan</td><td>United States</td><td>44</td></tr><tr><td>Palau</td><td>United States</td><td>30</td></tr><tr><td>South Korea</td><td>United States</td><td>1048</td></tr><tr><td>Angola</td><td>United States</td><td>15</td></tr><tr><td>Ghana</td><td>United States</td><td>18</td></tr><tr><td>Guadeloupe</td><td>United States</td><td>56</td></tr><tr><td>France</td><td>United States</td><td>935</td></tr><tr><td>Poland</td><td>United States</td><td>32</td></tr><tr><td>Nigeria</td><td>United States</td><td>59</td></tr><tr><td>United States</td><td>Uruguay</td><td>13</td></tr><tr><td>Greenland</td><td>United States</td><td>2</td></tr><tr><td>United States</td><td>Bermuda</td><td>193</td></tr><tr><td>Chile</td><td>United States</td><td>174</td></tr><tr><td>United States</td><td>Cuba</td><td>478</td></tr><tr><td>United States</td><td>Colombia</td><td>867</td></tr><tr><td>United States</td><td>Barbados</td><td>130</td></tr><tr><td>United States</td><td>Qatar</td><td>109</td></tr><tr><td>Australia</td><td>United States</td><td>329</td></tr><tr><td>United States</td><td>Cayman Islands</td><td>310</td></tr><tr><td>United States</td><td>Jordan</td><td>44</td></tr><tr><td>United States</td><td>Trinidad and Tobago</td><td>217</td></tr><tr><td>United States</td><td>Bolivia</td><td>13</td></tr><tr><td>Cook Islands</td><td>United States</td><td>13</td></tr><tr><td>Bulgaria</td><td>United States</td><td>3</td></tr><tr><td>United States</td><td>Saint Kitts and Nevis</td><td>145</td></tr><tr><td>Uruguay</td><td>United States</td><td>43</td></tr><tr><td>United States</td><td>Haiti</td><td>225</td></tr><tr><td>Bonaire, Sint Eustatius, and Saba</td><td>United States</td><td>58</td></tr><tr><td>Greece</td><td>United States</td><td>30</td></tr></tbody></table></div>"
      ]
     },
     "metadata": {
      "application/vnd.databricks.v1+output": {
       "addedWidgets": {},
       "aggData": [],
       "aggError": "",
       "aggOverflow": false,
       "aggSchema": [],
       "aggSeriesLimitReached": false,
       "aggType": "",
       "arguments": {},
       "columnCustomDisplayInfos": {},
       "data": [
        [
         "United States",
         "Romania",
         15
        ],
        [
         "United States",
         "Croatia",
         1
        ],
        [
         "United States",
         "Ireland",
         344
        ],
        [
         "Egypt",
         "United States",
         15
        ],
        [
         "United States",
         "India",
         62
        ],
        [
         "United States",
         "Singapore",
         1
        ],
        [
         "United States",
         "Grenada",
         62
        ],
        [
         "Costa Rica",
         "United States",
         588
        ],
        [
         "Senegal",
         "United States",
         40
        ],
        [
         "United States",
         "Sint Maarten",
         325
        ],
        [
         "United States",
         "Marshall Islands",
         39
        ],
        [
         "Guyana",
         "United States",
         64
        ],
        [
         "Malta",
         "United States",
         1
        ],
        [
         "Anguilla",
         "United States",
         41
        ],
        [
         "Bolivia",
         "United States",
         30
        ],
        [
         "United States",
         "Paraguay",
         6
        ],
        [
         "Turks and Caicos Islands",
         "United States",
         230
        ],
        [
         "Italy",
         "United States",
         382
        ],
        [
         "United States",
         "Federated States of Micronesia",
         69
        ],
        [
         "United States",
         "Russia",
         161
        ],
        [
         "Pakistan",
         "United States",
         12
        ],
        [
         "United States",
         "Netherlands",
         660
        ],
        [
         "Iceland",
         "United States",
         181
        ],
        [
         "Marshall Islands",
         "United States",
         42
        ],
        [
         "Luxembourg",
         "United States",
         155
        ],
        [
         "Honduras",
         "United States",
         362
        ],
        [
         "The Bahamas",
         "United States",
         955
        ],
        [
         "United States",
         "Senegal",
         42
        ],
        [
         "El Salvador",
         "United States",
         561
        ],
        [
         "Samoa",
         "United States",
         25
        ],
        [
         "United States",
         "Angola",
         13
        ],
        [
         "Switzerland",
         "United States",
         294
        ],
        [
         "United States",
         "Anguilla",
         38
        ],
        [
         "Sint Maarten",
         "United States",
         325
        ],
        [
         "Hong Kong",
         "United States",
         332
        ],
        [
         "Trinidad and Tobago",
         "United States",
         211
        ],
        [
         "Latvia",
         "United States",
         19
        ],
        [
         "United States",
         "Ecuador",
         300
        ],
        [
         "Suriname",
         "United States",
         1
        ],
        [
         "Mexico",
         "United States",
         7140
        ],
        [
         "United States",
         "Cyprus",
         1
        ],
        [
         "Ecuador",
         "United States",
         268
        ],
        [
         "United States",
         "Portugal",
         134
        ],
        [
         "United States",
         "Costa Rica",
         608
        ],
        [
         "United States",
         "Guatemala",
         318
        ],
        [
         "United States",
         "Suriname",
         34
        ],
        [
         "Colombia",
         "United States",
         873
        ],
        [
         "United States",
         "Cape Verde",
         14
        ],
        [
         "United States",
         "Jamaica",
         712
        ],
        [
         "Norway",
         "United States",
         121
        ],
        [
         "United States",
         "Malaysia",
         3
        ],
        [
         "United States",
         "Morocco",
         19
        ],
        [
         "Thailand",
         "United States",
         3
        ],
        [
         "United States",
         "Samoa",
         25
        ],
        [
         "Venezuela",
         "United States",
         290
        ],
        [
         "United States",
         "Palau",
         31
        ],
        [
         "United States",
         "Venezuela",
         246
        ],
        [
         "Panama",
         "United States",
         510
        ],
        [
         "Antigua and Barbuda",
         "United States",
         126
        ],
        [
         "United States",
         "Chile",
         185
        ],
        [
         "Morocco",
         "United States",
         15
        ],
        [
         "United States",
         "Finland",
         28
        ],
        [
         "Azerbaijan",
         "United States",
         21
        ],
        [
         "United States",
         "Greece",
         23
        ],
        [
         "United States",
         "The Bahamas",
         986
        ],
        [
         "New Zealand",
         "United States",
         111
        ],
        [
         "Liberia",
         "United States",
         2
        ],
        [
         "United States",
         "Hong Kong",
         414
        ],
        [
         "Hungary",
         "United States",
         2
        ],
        [
         "United States",
         "China",
         920
        ],
        [
         "Sweden",
         "United States",
         118
        ],
        [
         "United States",
         "Kuwait",
         28
        ],
        [
         "United States",
         "Dominican Republic",
         1420
        ],
        [
         "United States",
         "Egypt",
         12
        ],
        [
         "Israel",
         "United States",
         134
        ],
        [
         "United States",
         "United States",
         370002
        ],
        [
         "Ethiopia",
         "United States",
         13
        ],
        [
         "United States",
         "Luxembourg",
         134
        ],
        [
         "United States",
         "Poland",
         33
        ],
        [
         "Martinique",
         "United States",
         44
        ],
        [
         "United States",
         "Saint Barthelemy",
         41
        ],
        [
         "Saint Barthelemy",
         "United States",
         39
        ],
        [
         "Barbados",
         "United States",
         154
        ],
        [
         "United States",
         "Turkey",
         129
        ],
        [
         "United States",
         "Azerbaijan",
         21
        ],
        [
         "Germany",
         "United States",
         1468
        ],
        [
         "United States",
         "South Korea",
         827
        ],
        [
         "United States",
         "El Salvador",
         508
        ],
        [
         "Ireland",
         "United States",
         335
        ],
        [
         "United States",
         "Hungary",
         3
        ],
        [
         "Malaysia",
         "United States",
         2
        ],
        [
         "United States",
         "Ethiopia",
         12
        ],
        [
         "United States",
         "Panama",
         465
        ],
        [
         "United States",
         "Aruba",
         342
        ],
        [
         "United States",
         "Thailand",
         4
        ],
        [
         "United States",
         "Turks and Caicos Islands",
         236
        ],
        [
         "Croatia",
         "United States",
         2
        ],
        [
         "United States",
         "Pakistan",
         12
        ],
        [
         "Cyprus",
         "United States",
         1
        ],
        [
         "United States",
         "Honduras",
         407
        ],
        [
         "Fiji",
         "United States",
         24
        ],
        [
         "Qatar",
         "United States",
         108
        ],
        [
         "Saint Kitts and Nevis",
         "United States",
         139
        ],
        [
         "Kuwait",
         "United States",
         32
        ],
        [
         "Taiwan",
         "United States",
         266
        ],
        [
         "Haiti",
         "United States",
         226
        ],
        [
         "Canada",
         "United States",
         8399
        ],
        [
         "Federated States of Micronesia",
         "United States",
         69
        ],
        [
         "United States",
         "Liberia",
         2
        ],
        [
         "Jamaica",
         "United States",
         666
        ],
        [
         "United States",
         "Malta",
         2
        ],
        [
         "Dominican Republic",
         "United States",
         1353
        ],
        [
         "Japan",
         "United States",
         1548
        ],
        [
         "Finland",
         "United States",
         26
        ],
        [
         "United States",
         "Guadeloupe",
         59
        ],
        [
         "United States",
         "Ukraine",
         13
        ],
        [
         "United States",
         "France",
         952
        ],
        [
         "United States",
         "Norway",
         115
        ],
        [
         "Aruba",
         "United States",
         346
        ],
        [
         "United States",
         "Kiribati",
         35
        ],
        [
         "India",
         "United States",
         61
        ],
        [
         "British Virgin Islands",
         "United States",
         107
        ],
        [
         "Brazil",
         "United States",
         853
        ],
        [
         "United States",
         "Germany",
         1336
        ],
        [
         "United States",
         "New Zealand",
         74
        ],
        [
         "French Polynesia",
         "United States",
         43
        ],
        [
         "United Arab Emirates",
         "United States",
         320
        ],
        [
         "Singapore",
         "United States",
         3
        ],
        [
         "United States",
         "Mexico",
         7187
        ],
        [
         "United States",
         "Sweden",
         119
        ],
        [
         "Netherlands",
         "United States",
         776
        ],
        [
         "United States",
         "Martinique",
         43
        ],
        [
         "United States",
         "United Arab Emirates",
         313
        ],
        [
         "United States",
         "Bulgaria",
         1
        ],
        [
         "Denmark",
         "United States",
         153
        ],
        [
         "China",
         "United States",
         772
        ],
        [
         "United States",
         "Nicaragua",
         201
        ],
        [
         "United States",
         "Philippines",
         126
        ],
        [
         "United States",
         "Georgia",
         1
        ],
        [
         "United States",
         "Belgium",
         228
        ],
        [
         "Cayman Islands",
         "United States",
         314
        ],
        [
         "Argentina",
         "United States",
         180
        ],
        [
         "Peru",
         "United States",
         279
        ],
        [
         "South Africa",
         "United States",
         36
        ],
        [
         "United States",
         "Iceland",
         202
        ],
        [
         "United States",
         "Argentina",
         141
        ],
        [
         "Spain",
         "United States",
         420
        ],
        [
         "Bermuda",
         "United States",
         183
        ],
        [
         "United States",
         "Nigeria",
         50
        ],
        [
         "United States",
         "Austria",
         63
        ],
        [
         "United States",
         "Bonaire, Sint Eustatius, and Saba",
         59
        ],
        [
         "Kiribati",
         "United States",
         26
        ],
        [
         "Saudi Arabia",
         "United States",
         83
        ],
        [
         "Czech Republic",
         "United States",
         13
        ],
        [
         "United States",
         "Israel",
         127
        ],
        [
         "Belgium",
         "United States",
         259
        ],
        [
         "United States",
         "Saint Lucia",
         136
        ],
        [
         "United States",
         "Bahrain",
         1
        ],
        [
         "United States",
         "British Virgin Islands",
         80
        ],
        [
         "Curacao",
         "United States",
         90
        ],
        [
         "Georgia",
         "United States",
         2
        ],
        [
         "United States",
         "Denmark",
         152
        ],
        [
         "United States",
         "Guyana",
         63
        ],
        [
         "Philippines",
         "United States",
         134
        ],
        [
         "Grenada",
         "United States",
         53
        ],
        [
         "Cape Verde",
         "United States",
         20
        ],
        [
         "Ukraine",
         "United States",
         14
        ],
        [
         "United States",
         "Papua New Guinea",
         1
        ],
        [
         "Russia",
         "United States",
         176
        ],
        [
         "United States",
         "Saudi Arabia",
         70
        ],
        [
         "Guatemala",
         "United States",
         397
        ],
        [
         "Saint Lucia",
         "United States",
         123
        ],
        [
         "Paraguay",
         "United States",
         60
        ],
        [
         "United States",
         "Curacao",
         83
        ],
        [
         "United States",
         "Taiwan",
         235
        ],
        [
         "United States",
         "South Africa",
         40
        ],
        [
         "Turkey",
         "United States",
         138
        ],
        [
         "United Kingdom",
         "United States",
         2025
        ],
        [
         "Romania",
         "United States",
         14
        ],
        [
         "United States",
         "Greenland",
         4
        ],
        [
         "Papua New Guinea",
         "United States",
         3
        ],
        [
         "United States",
         "Spain",
         442
        ],
        [
         "United States",
         "Italy",
         438
        ],
        [
         "Cuba",
         "United States",
         466
        ],
        [
         "United States",
         "Switzerland",
         305
        ],
        [
         "Dominica",
         "United States",
         20
        ],
        [
         "United States",
         "Japan",
         1496
        ],
        [
         "Portugal",
         "United States",
         127
        ],
        [
         "United States",
         "Brazil",
         619
        ],
        [
         "Bahrain",
         "United States",
         19
        ],
        [
         "United States",
         "Peru",
         337
        ],
        [
         "Indonesia",
         "United States",
         1
        ],
        [
         "United States",
         "Belize",
         193
        ],
        [
         "United States",
         "United Kingdom",
         1970
        ],
        [
         "Belize",
         "United States",
         188
        ],
        [
         "United States",
         "Ghana",
         20
        ],
        [
         "United States",
         "Indonesia",
         2
        ],
        [
         "United States",
         "Fiji",
         25
        ],
        [
         "United States",
         "Canada",
         8483
        ],
        [
         "United States",
         "Antigua and Barbuda",
         117
        ],
        [
         "United States",
         "French Polynesia",
         40
        ],
        [
         "Nicaragua",
         "United States",
         179
        ],
        [
         "United States",
         "Latvia",
         15
        ],
        [
         "United States",
         "Dominica",
         27
        ],
        [
         "United States",
         "Czech Republic",
         12
        ],
        [
         "United States",
         "Australia",
         258
        ],
        [
         "United States",
         "Cook Islands",
         13
        ],
        [
         "Austria",
         "United States",
         62
        ],
        [
         "Jordan",
         "United States",
         44
        ],
        [
         "Palau",
         "United States",
         30
        ],
        [
         "South Korea",
         "United States",
         1048
        ],
        [
         "Angola",
         "United States",
         15
        ],
        [
         "Ghana",
         "United States",
         18
        ],
        [
         "Guadeloupe",
         "United States",
         56
        ],
        [
         "France",
         "United States",
         935
        ],
        [
         "Poland",
         "United States",
         32
        ],
        [
         "Nigeria",
         "United States",
         59
        ],
        [
         "United States",
         "Uruguay",
         13
        ],
        [
         "Greenland",
         "United States",
         2
        ],
        [
         "United States",
         "Bermuda",
         193
        ],
        [
         "Chile",
         "United States",
         174
        ],
        [
         "United States",
         "Cuba",
         478
        ],
        [
         "United States",
         "Colombia",
         867
        ],
        [
         "United States",
         "Barbados",
         130
        ],
        [
         "United States",
         "Qatar",
         109
        ],
        [
         "Australia",
         "United States",
         329
        ],
        [
         "United States",
         "Cayman Islands",
         310
        ],
        [
         "United States",
         "Jordan",
         44
        ],
        [
         "United States",
         "Trinidad and Tobago",
         217
        ],
        [
         "United States",
         "Bolivia",
         13
        ],
        [
         "Cook Islands",
         "United States",
         13
        ],
        [
         "Bulgaria",
         "United States",
         3
        ],
        [
         "United States",
         "Saint Kitts and Nevis",
         145
        ],
        [
         "Uruguay",
         "United States",
         43
        ],
        [
         "United States",
         "Haiti",
         225
        ],
        [
         "Bonaire, Sint Eustatius, and Saba",
         "United States",
         58
        ],
        [
         "Greece",
         "United States",
         30
        ]
       ],
       "datasetInfos": [],
       "dbfsResultPath": null,
       "isJsonSchema": true,
       "metadata": {},
       "overflow": false,
       "plotOptions": {
        "customPlotOptions": {},
        "displayType": "table",
        "pivotAggregation": null,
        "pivotColumns": null,
        "xColumns": null,
        "yColumns": null
       },
       "removedWidgets": [],
       "schema": [
        {
         "metadata": "{}",
         "name": "DEST_COUNTRY_NAME",
         "type": "\"string\""
        },
        {
         "metadata": "{\"comment\":\"remember, the US will be most prevalent\"}",
         "name": "ORIGIN_COUNTRY_NAME",
         "type": "\"string\""
        },
        {
         "metadata": "{}",
         "name": "count",
         "type": "\"long\""
        }
       ],
       "type": "table"
      }
     },
     "output_type": "display_data"
    }
   ],
   "source": [
    "%sql\n",
    "SELECT\n",
    "  *\n",
    "FROM\n",
    "  flights_csv1 f1\n",
    "WHERE\n",
    "  EXISTS (\n",
    "    SELECT\n",
    "      1\n",
    "    FROM\n",
    "      flights_csv1 f2\n",
    "    WHERE\n",
    "      f1.dest_country_name = f2.origin_country_name\n",
    "  )\n",
    "  AND EXISTS (\n",
    "    SELECT\n",
    "      1\n",
    "    FROM\n",
    "      flights_csv1 f2\n",
    "    WHERE\n",
    "      f2.dest_country_name = f1.origin_country_name\n",
    "  )"
   ]
  }
 ],
 "metadata": {
  "application/vnd.databricks.v1+notebook": {
   "dashboards": [],
   "language": "python",
   "notebookMetadata": {
    "mostRecentlyExecutedCommandWithImplicitDF": {
     "commandId": 4092296789887046,
     "dataframes": [
      "_sqldf"
     ]
    },
    "pythonIndentUnit": 4
   },
   "notebookName": "SparkSqlFlightDataDatabricks",
   "widgets": {}
  }
 },
 "nbformat": 4,
 "nbformat_minor": 0
}
